{
 "cells": [
  {
   "attachments": {
    "49cb3ed9-80c8-4e92-b0d9-4d153a587bbb.png": {
     "image/png": "[encoded data removed]"
    }
   },
   "cell_type": "markdown",
   "id": "e2bd6d7c-7788-4688-8b57-81bf53992656",
   "metadata": {},
   "source": [
    "![image.png](attachment:49cb3ed9-80c8-4e92-b0d9-4d153a587bbb.png) \n",
    "<div style=\"text-align: center\"> <h1>Assignment - 1</div>\n"
   ]
  },
  {
   "cell_type": "markdown",
   "id": "45b2b05f-e184-4cf8-9228-0a82b9af911f",
   "metadata": {},
   "source": [
    "<div style=\"text-align: center\"> <h3>AD699 A3 Data Mining (Spring 2024)</div>\n"
   ]
  },
  {
   "cell_type": "markdown",
   "id": "397014ec-8a7d-4567-86de-c5dab2853bbf",
   "metadata": {},
   "source": [
    "<div style=\"text-align: center\"> <h4>Submitted by: Aishwarya Malhotra (U17161095)</div>\n"
   ]
  },
  {
   "cell_type": "markdown",
   "id": "229e6d13-400a-4c3e-b9d2-effac1da9639",
   "metadata": {},
   "source": [
    "#### Solution - 1"
   ]
  },
  {
   "cell_type": "code",
   "execution_count": 1,
   "id": "b1d7f4a9-c11c-416b-8616-e7449d66b399",
   "metadata": {},
   "outputs": [
    {
     "name": "stderr",
     "output_type": "stream",
     "text": [
      "Registered S3 methods overwritten by 'ggplot2':\n",
      "  method         from \n",
      "  [.quosures     rlang\n",
      "  c.quosures     rlang\n",
      "  print.quosures rlang\n",
      "Registered S3 method overwritten by 'rvest':\n",
      "  method            from\n",
      "  read_xml.response xml2\n",
      "-- Attaching packages --------------------------------------- tidyverse 1.2.1 --\n",
      "v ggplot2 3.1.1       v purrr   0.3.2  \n",
      "v tibble  2.1.1       v dplyr   0.8.0.1\n",
      "v tidyr   0.8.3       v stringr 1.4.0  \n",
      "v readr   1.3.1       v forcats 0.4.0  \n",
      "-- Conflicts ------------------------------------------ tidyverse_conflicts() --\n",
      "x dplyr::filter() masks stats::filter()\n",
      "x dplyr::lag()    masks stats::lag()\n",
      "\n",
      "Attaching package: 'lubridate'\n",
      "\n",
      "The following object is masked from 'package:base':\n",
      "\n",
      "    date\n",
      "\n",
      "also installing the dependencies 'viridisLite', 'gridExtra', 'cli', 'norm', 'visdat', 'rlang', 'viridis', 'UpSetR', 'vctrs', 'lifecycle'\n",
      "\n",
      "Warning message:\n",
      "\"unable to access index for repository https://cran.r-project.org/bin/windows/contrib/3.6:\n",
      "  cannot open URL 'https://cran.r-project.org/bin/windows/contrib/3.6/PACKAGES'\"Packages which are only available in source form, and may need\n",
      "  compilation of C/C++/Fortran: 'cli' 'norm' 'rlang' 'vctrs'\n"
     ]
    },
    {
     "name": "stdout",
     "output_type": "stream",
     "text": [
      "  These will not be installed\n"
     ]
    },
    {
     "name": "stderr",
     "output_type": "stream",
     "text": [
      "installing the source packages 'viridisLite', 'gridExtra', 'visdat', 'viridis', 'UpSetR', 'lifecycle', 'naniar'\n",
      "\n",
      "Warning message in install.packages(\"naniar\"):\n",
      "\"installation of package 'lifecycle' had non-zero exit status\"Warning message in install.packages(\"naniar\"):\n",
      "\"installation of package 'naniar' had non-zero exit status\""
     ]
    },
    {
     "ename": "ERROR",
     "evalue": "Error in library(naniar): there is no package called 'naniar'\n",
     "output_type": "error",
     "traceback": [
      "Error in library(naniar): there is no package called 'naniar'\nTraceback:\n",
      "1. library(naniar)"
     ]
    }
   ],
   "source": [
    "library(tidyverse)\n",
    "library(dplyr)\n",
    "library(lubridate)\n",
    "install.packages(\"naniar\")\n",
    "library(naniar)"
   ]
  },
  {
   "cell_type": "markdown",
   "id": "cdc70144-886e-49fb-b773-1e47af159d2a",
   "metadata": {},
   "source": [
    "#### Solution - 2 a]"
   ]
  },
  {
   "cell_type": "code",
   "execution_count": 9,
   "id": "b6f2a1b5-f2c8-489c-ba06-57c1466fabe3",
   "metadata": {},
   "outputs": [],
   "source": [
    "df <- read.csv(\"chicago_violations.csv\")"
   ]
  },
  {
   "cell_type": "code",
   "execution_count": 10,
   "id": "d7f0cd90-b25f-4db9-8f75-cced06db406f",
   "metadata": {
    "scrolled": true
   },
   "outputs": [
    {
     "name": "stdout",
     "output_type": "stream",
     "text": [
      "'data.frame':\t784225 obs. of  22 variables:\n",
      " $ ID                   : Factor w/ 784225 levels \"00000da0351f130050dcff1d86eb41d73066e930\",..: 486179 560000 680109 782916 780628 604896 217983 442604 595273 293554 ...\n",
      " $ DOCKET.NUMBER        : Factor w/ 122012 levels \"\",\"08BN00001A\",..: 118771 76470 117663 114704 118585 118771 117101 56196 118780 118140 ...\n",
      " $ NOV.NUMBER           : Factor w/ 122054 levels \".14CO421880\",..: 116777 79974 117840 114588 117379 116777 117006 51994 117980 116738 ...\n",
      " $ ADDRESS              : Factor w/ 80639 levels \"0  UNKNOWN ST\",..: 48848 32030 37675 41871 11803 48848 64819 65932 74492 44455 ...\n",
      " $ STREET.NUMBER        : int  5006 3241 3811 4259 1614 5006 6729 6926 8155 4520 ...\n",
      " $ STREET.DIRECTION     : Factor w/ 5 levels \"\",\"E\",\"N\",\"S\",..: 5 5 5 5 5 5 4 3 4 4 ...\n",
      " $ STREET.NAME          : Factor w/ 1408 levels \"`81ST\",\"0GDEN\",..: 623 117 116 1374 125 623 533 1354 762 470 ...\n",
      " $ STREET.TYPE          : Factor w/ 30 levels \"\",\"AVE\",\"BLVD\",..: 25 25 25 25 25 25 2 2 2 3 ...\n",
      " $ WARD                 : int  45 23 23 28 15 45 20 49 8 4 ...\n",
      " $ ISSUING.DEPARTMENT   : Factor w/ 1 level \"Buildings\": 1 1 1 1 1 1 1 1 1 1 ...\n",
      " $ HEARING.DATE         : Factor w/ 4046 levels \"\",\"01/02/2013\",..: 500 2237 500 799 500 500 112 3611 500 500 ...\n",
      " $ CASE.DISPOSITION     : Factor w/ 9 levels \"\",\"Adjudication Performance / Other\",..: 4 7 8 4 8 4 4 7 4 8 ...\n",
      " $ IMPOSED.FINE         : num  2500 300 0 500 0 2500 1000 200 500 0 ...\n",
      " $ ADMIN.COSTS          : int  40 75 0 40 0 40 40 75 40 0 ...\n",
      " $ LAST.MODIFIED.DATE   : Factor w/ 78645 levels \"01/01/2017 01:17:19 PM\",..: 8768 53125 8765 8775 8750 8768 8767 8776 8753 8750 ...\n",
      " $ VIOLATION.DATE       : Factor w/ 43509 levels \"\",\"01/01/1991 09:00:00 AM\",..: 41472 18723 27736 34106 40656 41472 23145 7221 40324 34108 ...\n",
      " $ VIOLATION.CODE       : Factor w/ 1198 levels \"000001\",\"0006014\",..: 852 223 53 1068 541 426 336 1175 49 906 ...\n",
      " $ VIOLATION.DESCRIPTION: Factor w/ 1190 levels \"- Every building or part thereof which is in an unsanitary condition by reason of the basement or cellar being \"| __truncated__,..: 725 645 241 437 352 907 1073 106 1151 802 ...\n",
      " $ RESPONDENTS          : Factor w/ 108348 levels \"'D' BROTHERS INVESTMENTS INC C/O RICHARD ASH | THE BERNADETTE CORPORATION C/O MICHAEL DIFOGGIO | TR# 10-2564 NO\"| __truncated__,..: 25873 66707 90146 82549 25377 25873 77333 107459 43432 26626 ...\n",
      " $ LATITUDE             : num  42 41.8 41.8 41.9 41.8 ...\n",
      " $ LONGITUDE            : num  -87.8 -87.7 -87.7 -87.7 -87.7 ...\n",
      " $ LOCATION             : Factor w/ 80190 levels \"\",\"(41.64470194112152, -87.61515119956638)\",..: 73713 23781 24362 44939 21124 73713 20327 79196 10681 32651 ...\n"
     ]
    }
   ],
   "source": [
    "str(df)"
   ]
  },
  {
   "cell_type": "markdown",
   "id": "bf31270f-ce59-434a-a96f-931f39d9954e",
   "metadata": {},
   "source": [
    "#### Solution - 2 b]"
   ]
  },
  {
   "cell_type": "markdown",
   "id": "6b2b335a-a5e9-45d6-ad4e-d9254d34277e",
   "metadata": {},
   "source": [
    "> **💡Interpretation of Code💡-**\n",
    ">\n",
    "> Calling the 'str()' function would display the structure of the dataset, including information about the variables (columns) and observations (rows). \n",
    ">\n",
    "> It provides a concise summary of the structure of the  object. \n",
    ">\n",
    "> It displays  the data type and first few values of each variable.\n",
    ">\n",
    "> From the provided output of 'str(cv)' we can see that dataframe contains 784225 observations and 22 varaibles."
   ]
  },
  {
   "cell_type": "markdown",
   "id": "ac51b1c7-15c2-4083-ac51-2233c41596f1",
   "metadata": {},
   "source": [
    "#### Solution - 3"
   ]
  },
  {
   "cell_type": "code",
   "execution_count": 11,
   "id": "09907380-7529-4b94-89cf-75a8654bbb86",
   "metadata": {},
   "outputs": [
    {
     "name": "stdout",
     "output_type": "stream",
     "text": [
      "'data.frame':\t8234 obs. of  22 variables:\n",
      " $ ID                   : Factor w/ 784225 levels \"00000da0351f130050dcff1d86eb41d73066e930\",..: NA NA NA NA NA NA NA 595590 2712 NA ...\n",
      " $ DOCKET.NUMBER        : Factor w/ 122012 levels \"\",\"08BN00001A\",..: NA NA NA NA NA NA NA 86124 86124 NA ...\n",
      " $ NOV.NUMBER           : Factor w/ 122054 levels \".14CO421880\",..: NA NA NA NA NA NA NA 83174 83174 NA ...\n",
      " $ ADDRESS              : Factor w/ 80639 levels \"0  UNKNOWN ST\",..: NA NA NA NA NA NA NA 42165 42165 NA ...\n",
      " $ STREET.NUMBER        : int  NA NA NA NA NA NA NA 4311 4311 NA ...\n",
      " $ STREET.DIRECTION     : Factor w/ 5 levels \"\",\"E\",\"N\",\"S\",..: NA NA NA NA NA NA NA 5 5 NA ...\n",
      " $ STREET.NAME          : Factor w/ 1408 levels \"`81ST\",\"0GDEN\",..: NA NA NA NA NA NA NA 929 929 NA ...\n",
      " $ STREET.TYPE          : Factor w/ 30 levels \"\",\"AVE\",\"BLVD\",..: NA NA NA NA NA NA NA 22 22 NA ...\n",
      " $ WARD                 : int  NA NA NA NA NA NA NA 13 13 NA ...\n",
      " $ ISSUING.DEPARTMENT   : Factor w/ 1 level \"Buildings\": NA NA NA NA NA NA NA 1 1 NA ...\n",
      " $ HEARING.DATE         : Factor w/ 4046 levels \"\",\"01/02/2013\",..: NA NA NA NA NA NA NA 518 518 NA ...\n",
      " $ CASE.DISPOSITION     : Factor w/ 9 levels \"\",\"Adjudication Performance / Other\",..: NA NA NA NA NA NA NA 4 4 NA ...\n",
      " $ IMPOSED.FINE         : num  NA NA NA NA NA NA NA 1000 1000 NA ...\n",
      " $ ADMIN.COSTS          : int  NA NA NA NA NA NA NA 40 40 NA ...\n",
      " $ LAST.MODIFIED.DATE   : Factor w/ 78645 levels \"01/01/2017 01:17:19 PM\",..: NA NA NA NA NA NA NA 10125 10125 NA ...\n",
      " $ VIOLATION.DATE       : Factor w/ 43509 levels \"\",\"01/01/1991 09:00:00 AM\",..: NA NA NA NA NA NA NA 21101 21101 NA ...\n",
      " $ VIOLATION.CODE       : Factor w/ 1198 levels \"000001\",\"0006014\",..: NA NA NA NA NA NA NA 656 720 NA ...\n",
      " $ VIOLATION.DESCRIPTION: Factor w/ 1190 levels \"- Every building or part thereof which is in an unsanitary condition by reason of the basement or cellar being \"| __truncated__,..: NA NA NA NA NA NA NA 1016 1176 NA ...\n",
      " $ RESPONDENTS          : Factor w/ 108348 levels \"'D' BROTHERS INVESTMENTS INC C/O RICHARD ASH | THE BERNADETTE CORPORATION C/O MICHAEL DIFOGGIO | TR# 10-2564 NO\"| __truncated__,..: NA NA NA NA NA NA NA 69010 69010 NA ...\n",
      " $ LATITUDE             : num  NA NA NA NA NA ...\n",
      " $ LONGITUDE            : num  NA NA NA NA NA ...\n",
      " $ LOCATION             : Factor w/ 80190 levels \"\",\"(41.64470194112152, -87.61515119956638)\",..: NA NA NA NA NA NA NA 19896 19896 NA ...\n"
     ]
    }
   ],
   "source": [
    "## Filter the data with Ward 13 records\n",
    "assigned_ward <- 13\n",
    "df2 <- df[df$WARD == assigned_ward,]\n",
    "str(df2)"
   ]
  },
  {
   "cell_type": "markdown",
   "id": "edec4049-3f02-4a07-a8f5-a747591378a8",
   "metadata": {},
   "source": [
    "> **💡Interpretation of Results💡-**\n",
    ">\n",
    "> After filtering the dataframe for Ward = 13, resulting dataset contains 8234 observations and 22 variables.\n",
    "> The three interesting facts about Ward 13 in Chicago are -\n",
    ">\n",
    "> Ward 13, also known as the 'Near West Side', is home to the historic University of Illinois at Chicago (UIC) campus, which plays a significant role in shaping the cultural and educational landscape  of the area.\n",
    ">\n",
    "> Ward 13 is known for its diverse population and vibrant neighborhoods, including the bustling Greek Town, Little Italy, and the developing West Loop area, which has seen rapid growth in recent years with the emergence of trendy restaurants, art galleries, and tech startups.\n",
    ">\n",
    "> Ward 13 is also home to important cultural landmarks such as the United Center, where the Chicago Bulls and Chicago Blasckhawks play, and the historic Maxwell Street Market, known for its rich history as a vibrant marketplace for food, music, and commerce.\n"
   ]
  },
  {
   "cell_type": "markdown",
   "id": "f252d882-827e-46d2-a0a7-d15bf90202ed",
   "metadata": {},
   "source": [
    "#### Solution - 4 a]"
   ]
  },
  {
   "cell_type": "code",
   "execution_count": 13,
   "id": "1c547204-7ee7-474f-8eb3-6dc0fbf3581e",
   "metadata": {},
   "outputs": [
    {
     "data": {
      "text/html": [
       "61822"
      ],
      "text/latex": [
       "61822"
      ],
      "text/markdown": [
       "61822"
      ],
      "text/plain": [
       "[1] 61822"
      ]
     },
     "metadata": {},
     "output_type": "display_data"
    }
   ],
   "source": [
    "## Dealing with NA data\n",
    "sum(is.na(df2))"
   ]
  },
  {
   "cell_type": "markdown",
   "id": "c96eab80-ca48-40c3-b9de-fe48e7edcee0",
   "metadata": {},
   "source": [
    "> **💡Interpretation of Results💡-**\n",
    ">\n",
    "> Yes, there are NA values in my data df2. I checked this by \"View(df2)\" function in the RStudio. From the output that was delivered we can see that, there are 61822 NAs in the dataframe."
   ]
  },
  {
   "cell_type": "markdown",
   "id": "6c0fa18f-dc87-4e89-b004-9c85616be92e",
   "metadata": {},
   "source": [
    "#### Solution - 4 b]"
   ]
  },
  {
   "cell_type": "code",
   "execution_count": 14,
   "id": "53bbb65e-8515-441d-9441-58dc97d5bfbc",
   "metadata": {},
   "outputs": [
    {
     "data": {
      "text/html": [
       "65.8610638814671"
      ],
      "text/latex": [
       "65.8610638814671"
      ],
      "text/markdown": [
       "65.8610638814671"
      ],
      "text/plain": [
       "[1] 65.86106"
      ]
     },
     "metadata": {},
     "output_type": "display_data"
    }
   ],
   "source": [
    "complete_case <- sum(complete.cases(df2))\n",
    "total_rows <- nrow(df2)\n",
    "percentage_complete <- (complete_case / total_rows) * 100\n",
    "percentage_complete"
   ]
  },
  {
   "cell_type": "markdown",
   "id": "01903a54-d00d-4dd2-8d8d-db7e2d8da2c9",
   "metadata": {},
   "source": [
    "> **💡Interpretation of Results💡-**\n",
    ">\n",
    "> 65.86106% of data is complete case. A complete case in a data frame refers to a row that contains no missing values across all its variables. In other words, a complete case is a row where every variable has a non-missing (non-NA) value."
   ]
  },
  {
   "cell_type": "markdown",
   "id": "554fc1f9-8add-485f-aa6f-7558adf586dd",
   "metadata": {},
   "source": [
    "#### Solution - 4 c]"
   ]
  },
  {
   "cell_type": "code",
   "execution_count": 16,
   "id": "1876caa7-2d63-4635-97f5-0ece8b4fe602",
   "metadata": {},
   "outputs": [],
   "source": [
    "#Converting any blank cells in the data frame into NA\n",
    "df2[df2 == \"\"] <- NA"
   ]
  },
  {
   "cell_type": "markdown",
   "id": "7cf74a49-4510-4ae0-adeb-8b839b89860d",
   "metadata": {},
   "source": [
    "#### Solution - 4 d]"
   ]
  },
  {
   "cell_type": "code",
   "execution_count": 17,
   "id": "7d8d0b36-0167-4b3e-9a70-fe95d25ea0cf",
   "metadata": {},
   "outputs": [
    {
     "data": {
      "text/html": [
       "61946"
      ],
      "text/latex": [
       "61946"
      ],
      "text/markdown": [
       "61946"
      ],
      "text/plain": [
       "[1] 61946"
      ]
     },
     "metadata": {},
     "output_type": "display_data"
    }
   ],
   "source": [
    "sum(is.na(df2))"
   ]
  },
  {
   "cell_type": "markdown",
   "id": "710db636-5223-4531-874c-cc1be2def67b",
   "metadata": {},
   "source": [
    "> **💡Interpretation of Results💡-**\n",
    ">\n",
    "> The total number of NA values in my dataset are 61946 "
   ]
  },
  {
   "cell_type": "markdown",
   "id": "b36be1c2-94c2-43ef-8a9b-e247c904ab54",
   "metadata": {},
   "source": [
    "#### Solution - 4 e]"
   ]
  },
  {
   "cell_type": "code",
   "execution_count": 18,
   "id": "ce8fa847-4bf9-4493-b74a-e0dff1f50eed",
   "metadata": {},
   "outputs": [
    {
     "data": {
      "text/html": [
       "64.3672577119262"
      ],
      "text/latex": [
       "64.3672577119262"
      ],
      "text/markdown": [
       "64.3672577119262"
      ],
      "text/plain": [
       "[1] 64.36726"
      ]
     },
     "metadata": {},
     "output_type": "display_data"
    }
   ],
   "source": [
    "complete_case2 <- sum(complete.cases(df2))\n",
    "total_rows2 <- nrow(df2)\n",
    "percentage_complete2 <- (complete_case2 / total_rows2) * 100\n",
    "percentage_complete2"
   ]
  },
  {
   "cell_type": "markdown",
   "id": "98f8731c-3663-4f54-8ecf-55c0d6618f2f",
   "metadata": {},
   "source": [
    "> **💡Interpretation of Results💡-**\n",
    ">\n",
    "> 64.37% percentage of rows in the dataframe are complete cases"
   ]
  },
  {
   "cell_type": "markdown",
   "id": "1e07da4e-299b-41bd-ac00-9752ad823204",
   "metadata": {},
   "source": [
    "#### Solution - 4 f]"
   ]
  },
  {
   "cell_type": "code",
   "execution_count": 27,
   "id": "a51938e2-e51f-4b11-b905-70ca9747d898",
   "metadata": {
    "scrolled": true
   },
   "outputs": [
    {
     "name": "stdout",
     "output_type": "stream",
     "text": [
      "# A tibble: 22 x 3\n",
      "   variable         n_miss pct_miss\n",
      "   <chr>             <int>    <dbl>\n",
      " 1 CASE.DISPOSITION   2911     35.4\n",
      " 2 STREET.TYPE        2830     34.4\n",
      " 3 VIOLATION.DATE     2812     34.2\n",
      " 4 LATITUDE           2811     34.1\n",
      " 5 LONGITUDE          2811     34.1\n",
      " 6 LOCATION           2811     34.1\n",
      " 7 ID                 2810     34.1\n",
      " 8 DOCKET.NUMBER      2810     34.1\n",
      " 9 NOV.NUMBER         2810     34.1\n",
      "10 ADDRESS            2810     34.1\n",
      "# ... with 12 more rows\n"
     ]
    }
   ],
   "source": [
    "# Generate a table that shows the number of missing values and the percentage of missing values for each variable. \n",
    "missing_summary <- miss_var_summary(df2)\n",
    "print(missing_summary)"
   ]
  },
  {
   "cell_type": "markdown",
   "id": "03e21a26-6ada-478b-b706-35a508b9bb53",
   "metadata": {},
   "source": [
    "#### Solution - 5 a]"
   ]
  },
  {
   "cell_type": "code",
   "execution_count": 33,
   "id": "4f1c25a8-34c5-49ee-b8ef-e936d6113df9",
   "metadata": {},
   "outputs": [
    {
     "name": "stdout",
     "output_type": "stream",
     "text": [
      "'data.frame':\t8234 obs. of  22 variables:\n",
      " $ ID                   : Factor w/ 784225 levels \"00000da0351f130050dcff1d86eb41d73066e930\",..: NA NA NA NA NA NA NA 595590 2712 NA ...\n",
      " $ DOCKET.NUMBER        : Factor w/ 122012 levels \"\",\"08BN00001A\",..: NA NA NA NA NA NA NA 86124 86124 NA ...\n",
      " $ NOV.NUMBER           : Factor w/ 122054 levels \".14CO421880\",..: NA NA NA NA NA NA NA 83174 83174 NA ...\n",
      " $ ADDRESS              : Factor w/ 80639 levels \"0  UNKNOWN ST\",..: NA NA NA NA NA NA NA 42165 42165 NA ...\n",
      " $ STREET.NUMBER        : int  NA NA NA NA NA NA NA 4311 4311 NA ...\n",
      " $ STREET.DIRECTION     : Factor w/ 5 levels \"\",\"E\",\"N\",\"S\",..: NA NA NA NA NA NA NA 5 5 NA ...\n",
      " $ STREET.NAME          : Factor w/ 1408 levels \"`81ST\",\"0GDEN\",..: NA NA NA NA NA NA NA 929 929 NA ...\n",
      " $ STREET.TYPE          : Factor w/ 30 levels \"\",\"AVE\",\"BLVD\",..: NA NA NA NA NA NA NA 22 22 NA ...\n",
      " $ WARD                 : int  NA NA NA NA NA NA NA 13 13 NA ...\n",
      " $ ISSUING.DEPARTMENT   : Factor w/ 1 level \"Buildings\": NA NA NA NA NA NA NA 1 1 NA ...\n",
      " $ HEARING.DATE         : Date, format: NA NA ...\n",
      " $ CASE.DISPOSITION     : Factor w/ 9 levels \"\",\"Adjudication Performance / Other\",..: NA NA NA NA NA NA NA 4 4 NA ...\n",
      " $ IMPOSED.FINE         : num  NA NA NA NA NA NA NA 1000 1000 NA ...\n",
      " $ ADMIN.COSTS          : int  NA NA NA NA NA NA NA 40 40 NA ...\n",
      " $ LAST.MODIFIED.DATE   : POSIXct, format: NA NA ...\n",
      " $ VIOLATION.DATE       : Date, format: NA NA ...\n",
      " $ VIOLATION.CODE       : Factor w/ 1198 levels \"000001\",\"0006014\",..: NA NA NA NA NA NA NA 656 720 NA ...\n",
      " $ VIOLATION.DESCRIPTION: Factor w/ 1190 levels \"- Every building or part thereof which is in an unsanitary condition by reason of the basement or cellar being \"| __truncated__,..: NA NA NA NA NA NA NA 1016 1176 NA ...\n",
      " $ RESPONDENTS          : Factor w/ 108348 levels \"'D' BROTHERS INVESTMENTS INC C/O RICHARD ASH | THE BERNADETTE CORPORATION C/O MICHAEL DIFOGGIO | TR# 10-2564 NO\"| __truncated__,..: NA NA NA NA NA NA NA 69010 69010 NA ...\n",
      " $ LATITUDE             : num  NA NA NA NA NA ...\n",
      " $ LONGITUDE            : num  NA NA NA NA NA ...\n",
      " $ LOCATION             : Factor w/ 80190 levels \"\",\"(41.64470194112152, -87.61515119956638)\",..: NA NA NA NA NA NA NA 19896 19896 NA ...\n"
     ]
    }
   ],
   "source": [
    "### We have HEARING.DATE, LAST.MODIFIED.DATE & VIOLATION.DATE as date variables. They are currently seen in chr - text format.\n",
    "str(df2)"
   ]
  },
  {
   "cell_type": "markdown",
   "id": "902e3eff-4514-48e8-b05b-8e761a9581ed",
   "metadata": {},
   "source": [
    "#### Solution - 5 b]"
   ]
  },
  {
   "cell_type": "code",
   "execution_count": 44,
   "id": "1b77490b-295c-425d-82b3-b827d49b5ecc",
   "metadata": {
    "scrolled": true
   },
   "outputs": [
    {
     "name": "stdout",
     "output_type": "stream",
     "text": [
      "'data.frame':\t8234 obs. of  22 variables:\n",
      " $ ID                   : Factor w/ 784225 levels \"00000da0351f130050dcff1d86eb41d73066e930\",..: NA NA NA NA NA NA NA 595590 2712 NA ...\n",
      " $ DOCKET.NUMBER        : Factor w/ 122012 levels \"\",\"08BN00001A\",..: NA NA NA NA NA NA NA 86124 86124 NA ...\n",
      " $ NOV.NUMBER           : Factor w/ 122054 levels \".14CO421880\",..: NA NA NA NA NA NA NA 83174 83174 NA ...\n",
      " $ ADDRESS              : Factor w/ 80639 levels \"0  UNKNOWN ST\",..: NA NA NA NA NA NA NA 42165 42165 NA ...\n",
      " $ STREET.NUMBER        : int  NA NA NA NA NA NA NA 4311 4311 NA ...\n",
      " $ STREET.DIRECTION     : Factor w/ 5 levels \"\",\"E\",\"N\",\"S\",..: NA NA NA NA NA NA NA 5 5 NA ...\n",
      " $ STREET.NAME          : Factor w/ 1408 levels \"`81ST\",\"0GDEN\",..: NA NA NA NA NA NA NA 929 929 NA ...\n",
      " $ STREET.TYPE          : Factor w/ 30 levels \"\",\"AVE\",\"BLVD\",..: NA NA NA NA NA NA NA 22 22 NA ...\n",
      " $ WARD                 : int  NA NA NA NA NA NA NA 13 13 NA ...\n",
      " $ ISSUING.DEPARTMENT   : Factor w/ 1 level \"Buildings\": NA NA NA NA NA NA NA 1 1 NA ...\n",
      " $ HEARING.DATE         : Date, format: NA NA ...\n",
      " $ CASE.DISPOSITION     : Factor w/ 9 levels \"\",\"Adjudication Performance / Other\",..: NA NA NA NA NA NA NA 4 4 NA ...\n",
      " $ IMPOSED.FINE         : num  NA NA NA NA NA NA NA 1000 1000 NA ...\n",
      " $ ADMIN.COSTS          : int  NA NA NA NA NA NA NA 40 40 NA ...\n",
      " $ LAST.MODIFIED.DATE   : Date, format: NA NA ...\n",
      " $ VIOLATION.DATE       : Date, format: NA NA ...\n",
      " $ VIOLATION.CODE       : Factor w/ 1198 levels \"000001\",\"0006014\",..: NA NA NA NA NA NA NA 656 720 NA ...\n",
      " $ VIOLATION.DESCRIPTION: Factor w/ 1190 levels \"- Every building or part thereof which is in an unsanitary condition by reason of the basement or cellar being \"| __truncated__,..: NA NA NA NA NA NA NA 1016 1176 NA ...\n",
      " $ RESPONDENTS          : Factor w/ 108348 levels \"'D' BROTHERS INVESTMENTS INC C/O RICHARD ASH | THE BERNADETTE CORPORATION C/O MICHAEL DIFOGGIO | TR# 10-2564 NO\"| __truncated__,..: NA NA NA NA NA NA NA 69010 69010 NA ...\n",
      " $ LATITUDE             : num  NA NA NA NA NA ...\n",
      " $ LONGITUDE            : num  NA NA NA NA NA ...\n",
      " $ LOCATION             : Factor w/ 80190 levels \"\",\"(41.64470194112152, -87.61515119956638)\",..: NA NA NA NA NA NA NA 19896 19896 NA ...\n"
     ]
    }
   ],
   "source": [
    "df2$HEARING.DATE <- as.Date(df2$HEARING.DATE, format = \"%Y/%m/%d\")\n",
    "str(df2)\n",
    "df2$LAST.MODIFIED.DATE <- as.Date(df2$LAST.MODIFIED.DATE, format = \"%Y/%m/%d\")\n",
    "df2$VIOLATION.DATE <- as.Date(df2$VIOLATION.DATE, format = \"%Y/%m/%d\")\n",
    "\n",
    "# Sucessfully converted all the date data format"
   ]
  },
  {
   "cell_type": "markdown",
   "id": "4292169c-8b3a-451a-b92b-be3c476ffb73",
   "metadata": {},
   "source": [
    "#### Solution - 5 c]"
   ]
  },
  {
   "cell_type": "code",
   "execution_count": 46,
   "id": "8468db28-0f78-47c3-9267-1cf494c2d743",
   "metadata": {},
   "outputs": [],
   "source": [
    "# Added CityDelay as a variable\n",
    "df3 <- mutate(df2, CityDelay = HEARING.DATE - VIOLATION.DATE)"
   ]
  },
  {
   "cell_type": "markdown",
   "id": "a5491c30-d66e-4a16-a1d7-177b91b92345",
   "metadata": {},
   "source": [
    "#### Solution - 5 d]"
   ]
  },
  {
   "cell_type": "code",
   "execution_count": 48,
   "id": "0fb7588e-fe25-4f35-ac5a-96d05016161b",
   "metadata": {},
   "outputs": [
    {
     "data": {
      "text/html": [
       "32"
      ],
      "text/latex": [
       "32"
      ],
      "text/markdown": [
       "32"
      ],
      "text/plain": [
       "[1] 32"
      ]
     },
     "metadata": {},
     "output_type": "display_data"
    },
    {
     "data": {
      "text/html": [
       "Non-Suit\n",
       "<details>\n",
       "\t<summary style=display:list-item;cursor:pointer>\n",
       "\t\t<strong>Levels</strong>:\n",
       "\t</summary>\n",
       "\t<ol class=list-inline>\n",
       "\t\t<li>''</li>\n",
       "\t\t<li>'Adjudication Performance / Other'</li>\n",
       "\t\t<li>'Continuance'</li>\n",
       "\t\t<li>'Default'</li>\n",
       "\t\t<li>'Dismissed Without Prejudice'</li>\n",
       "\t\t<li>'Judgment Vacated'</li>\n",
       "\t\t<li>'Liable'</li>\n",
       "\t\t<li>'Non-Suit'</li>\n",
       "\t\t<li>'Not Liable'</li>\n",
       "\t</ol>\n",
       "</details>"
      ],
      "text/latex": [
       "Non-Suit\n",
       "\\emph{Levels}: \\begin{enumerate*}\n",
       "\\item ''\n",
       "\\item 'Adjudication Performance / Other'\n",
       "\\item 'Continuance'\n",
       "\\item 'Default'\n",
       "\\item 'Dismissed Without Prejudice'\n",
       "\\item 'Judgment Vacated'\n",
       "\\item 'Liable'\n",
       "\\item 'Non-Suit'\n",
       "\\item 'Not Liable'\n",
       "\\end{enumerate*}\n"
      ],
      "text/markdown": [
       "Non-Suit\n",
       "**Levels**: 1. ''\n",
       "2. 'Adjudication Performance / Other'\n",
       "3. 'Continuance'\n",
       "4. 'Default'\n",
       "5. 'Dismissed Without Prejudice'\n",
       "6. 'Judgment Vacated'\n",
       "7. 'Liable'\n",
       "8. 'Non-Suit'\n",
       "9. 'Not Liable'\n",
       "\n",
       "\n"
      ],
      "text/plain": [
       "[1] Non-Suit\n",
       "9 Levels:  Adjudication Performance / Other Continuance ... Not Liable"
      ]
     },
     "metadata": {},
     "output_type": "display_data"
    }
   ],
   "source": [
    "birthday_violations <- filter(df3, format(HEARING.DATE, \"%m-%d\") == \"02-25\")\n",
    "violation_count <- nrow(birthday_violations)\n",
    "most_common_disposition <- birthday_violations %>%\n",
    "  count(CASE.DISPOSITION) %>%\n",
    "  arrange(desc(n)) %>%\n",
    "  slice(1) %>%\n",
    "  pull(CASE.DISPOSITION)\n",
    "violation_count\n",
    "most_common_disposition"
   ]
  },
  {
   "cell_type": "markdown",
   "id": "1a2bfdf8-4e9f-42ee-b84b-4625bcd6488d",
   "metadata": {},
   "source": [
    "> **💡Interpretation of Results💡-**\n",
    ">\n",
    "> Ordinance violations were issued on my birthday 32; Most common Case Disposition for those ordinance violations = \"Non-Suit\""
   ]
  },
  {
   "cell_type": "markdown",
   "id": "d349362c-dcd7-45b5-921f-c4389485669b",
   "metadata": {},
   "source": [
    "#### Solution - 6 a]"
   ]
  },
  {
   "cell_type": "markdown",
   "id": "de72ba09-f6e1-4025-ba08-42e59864fdb2",
   "metadata": {},
   "source": [
    "Ward represent different sections of Chicago, which suggests that it is categorical rather than numeric. Each ward is a distinct category or group, and there is no inherent order or numerical relationship between the wards."
   ]
  },
  {
   "cell_type": "markdown",
   "id": "35c9e225-12ce-46c7-8f5d-5a4ea1a9e07d",
   "metadata": {},
   "source": [
    "#### Solution - 6 b]"
   ]
  },
  {
   "cell_type": "code",
   "execution_count": 49,
   "id": "89896cc0-1cf2-4fd7-a0af-29c197569c36",
   "metadata": {},
   "outputs": [
    {
     "name": "stdout",
     "output_type": "stream",
     "text": [
      "[1] 0.1589375\n"
     ]
    }
   ],
   "source": [
    "df4 <- na.omit(df3[, c(\"IMPOSED.FINE\", \"ADMIN.COSTS\")])\n",
    "\n",
    "correlation <- cor(df4$IMPOSED.FINE, df4$ADMIN.COSTS)\n",
    "print(correlation)"
   ]
  },
  {
   "cell_type": "markdown",
   "id": "62be199d-9463-4a7a-b7cf-0ccab51eb07d",
   "metadata": {},
   "source": [
    "> **💡Interpretation of Results💡-**\n",
    "> \n",
    "> Correlation of 0.1589375 suggests a weak positive correlation between \"imposed fine\" & \"admin costs\". This means that there is some tendency for them to increase together, but the relationship is not strong. Other factos may have a more significant influence on admin costs than imposed fines alone."
   ]
  },
  {
   "cell_type": "markdown",
   "id": "3d2fa25d-b67a-46ad-b335-ed6a5a415773",
   "metadata": {},
   "source": [
    "#### Solution - 6 c]"
   ]
  },
  {
   "cell_type": "code",
   "execution_count": 50,
   "id": "517f36fa-83eb-48c0-ad4b-6f602520b49d",
   "metadata": {
    "scrolled": true
   },
   "outputs": [
    {
     "name": "stderr",
     "output_type": "stream",
     "text": [
      "Warning message:\n",
      "\"Factor `STREET.TYPE` contains implicit NA, consider using `forcats::fct_explicit_na`\""
     ]
    },
    {
     "data": {
      "text/html": [
       "<table>\n",
       "<thead><tr><th scope=col>STREET.TYPE</th><th scope=col>n</th></tr></thead>\n",
       "<tbody>\n",
       "\t<tr><td>AVE </td><td>3250</td></tr>\n",
       "\t<tr><td>PL  </td><td> 753</td></tr>\n",
       "\t<tr><td>RD  </td><td> 189</td></tr>\n",
       "\t<tr><td>ST  </td><td>1212</td></tr>\n",
       "\t<tr><td>NA  </td><td>2830</td></tr>\n",
       "</tbody>\n",
       "</table>\n"
      ],
      "text/latex": [
       "\\begin{tabular}{r|ll}\n",
       " STREET.TYPE & n\\\\\n",
       "\\hline\n",
       "\t AVE  & 3250\\\\\n",
       "\t PL   &  753\\\\\n",
       "\t RD   &  189\\\\\n",
       "\t ST   & 1212\\\\\n",
       "\t NA   & 2830\\\\\n",
       "\\end{tabular}\n"
      ],
      "text/markdown": [
       "\n",
       "| STREET.TYPE | n |\n",
       "|---|---|\n",
       "| AVE  | 3250 |\n",
       "| PL   |  753 |\n",
       "| RD   |  189 |\n",
       "| ST   | 1212 |\n",
       "| NA   | 2830 |\n",
       "\n"
      ],
      "text/plain": [
       "  STREET.TYPE n   \n",
       "1 AVE         3250\n",
       "2 PL           753\n",
       "3 RD           189\n",
       "4 ST          1212\n",
       "5 NA          2830"
      ]
     },
     "metadata": {},
     "output_type": "display_data"
    },
    {
     "name": "stdout",
     "output_type": "stream",
     "text": [
      "[1] \"The most common street type in Ward 13 is: AVE\"\n"
     ]
    }
   ],
   "source": [
    "street_type <- df3 %>%\n",
    "count(STREET.TYPE)\n",
    "street_type\n",
    "\n",
    "most_common_street_type <- street_type %>%\n",
    "  arrange(desc(n)) %>%\n",
    "  slice(1) %>%\n",
    "  pull(STREET.TYPE)\n",
    "print(paste(\"The most common street type in Ward 13 is:\", most_common_street_type))"
   ]
  },
  {
   "cell_type": "markdown",
   "id": "b5b69d14-52e4-4d08-8f42-a2a8e86e6a41",
   "metadata": {},
   "source": [
    " > **💡Interpretation of Results💡-**\n",
    ">\n",
    "> The most common street type is Ave. Yes, it is the same street type as the one that I live on."
   ]
  },
  {
   "cell_type": "markdown",
   "id": "a8a73bf8-ce44-4083-a784-b6a4919a8fe3",
   "metadata": {},
   "source": [
    "#### Solution - 6 d]"
   ]
  },
  {
   "cell_type": "code",
   "execution_count": 51,
   "id": "24db322c-f9ae-49d5-bbec-2fb844a5cd87",
   "metadata": {},
   "outputs": [
    {
     "name": "stdout",
     "output_type": "stream",
     "text": [
      "[1] \"Number of unique Violation Code values are: 341\"\n",
      "[1] \"Number of unique violation description are: 339\"\n"
     ]
    }
   ],
   "source": [
    "vc <- length(unique(df3$VIOLATION.CODE))\n",
    "vd <- length(unique(df3$VIOLATION.DESCRIPTION))\n",
    "print(paste(\"Number of unique Violation Code values are:\", vc))\n",
    "print(paste(\"Number of unique violation description are:\", vd))"
   ]
  },
  {
   "cell_type": "markdown",
   "id": "fb384be0-8fbd-4bf2-bd17-ccec41f86aaa",
   "metadata": {},
   "source": [
    "#### Solution - 7 a]"
   ]
  },
  {
   "cell_type": "code",
   "execution_count": 52,
   "id": "bc0fb883-0318-4073-97d3-71c625d27b03",
   "metadata": {},
   "outputs": [
    {
     "data": {
      "text/html": [
       "<table>\n",
       "<thead><tr><th scope=col>Year</th><th scope=col>average_imposed_fine</th></tr></thead>\n",
       "<tbody>\n",
       "\t<tr><td>2008     </td><td>2219.2529</td></tr>\n",
       "\t<tr><td>2009     </td><td>1312.6402</td></tr>\n",
       "\t<tr><td>2010     </td><td> 746.6667</td></tr>\n",
       "\t<tr><td>2011     </td><td>3939.6176</td></tr>\n",
       "\t<tr><td>2012     </td><td>1239.3720</td></tr>\n",
       "\t<tr><td>2013     </td><td>1298.2843</td></tr>\n",
       "\t<tr><td>2014     </td><td> 507.8431</td></tr>\n",
       "\t<tr><td>2015     </td><td>1989.6907</td></tr>\n",
       "\t<tr><td>2016     </td><td> 872.6415</td></tr>\n",
       "\t<tr><td>2017     </td><td> 488.7850</td></tr>\n",
       "\t<tr><td>2018     </td><td>9182.3529</td></tr>\n",
       "\t<tr><td>2019     </td><td>3992.8571</td></tr>\n",
       "\t<tr><td>2020     </td><td>1633.3333</td></tr>\n",
       "\t<tr><td>2021     </td><td>1532.2581</td></tr>\n",
       "\t<tr><td>2022     </td><td>1482.7586</td></tr>\n",
       "\t<tr><td>2023     </td><td>1685.7143</td></tr>\n",
       "\t<tr><td>2024     </td><td> 876.4706</td></tr>\n",
       "</tbody>\n",
       "</table>\n"
      ],
      "text/latex": [
       "\\begin{tabular}{r|ll}\n",
       " Year & average\\_imposed\\_fine\\\\\n",
       "\\hline\n",
       "\t 2008      & 2219.2529\\\\\n",
       "\t 2009      & 1312.6402\\\\\n",
       "\t 2010      &  746.6667\\\\\n",
       "\t 2011      & 3939.6176\\\\\n",
       "\t 2012      & 1239.3720\\\\\n",
       "\t 2013      & 1298.2843\\\\\n",
       "\t 2014      &  507.8431\\\\\n",
       "\t 2015      & 1989.6907\\\\\n",
       "\t 2016      &  872.6415\\\\\n",
       "\t 2017      &  488.7850\\\\\n",
       "\t 2018      & 9182.3529\\\\\n",
       "\t 2019      & 3992.8571\\\\\n",
       "\t 2020      & 1633.3333\\\\\n",
       "\t 2021      & 1532.2581\\\\\n",
       "\t 2022      & 1482.7586\\\\\n",
       "\t 2023      & 1685.7143\\\\\n",
       "\t 2024      &  876.4706\\\\\n",
       "\\end{tabular}\n"
      ],
      "text/markdown": [
       "\n",
       "| Year | average_imposed_fine |\n",
       "|---|---|\n",
       "| 2008      | 2219.2529 |\n",
       "| 2009      | 1312.6402 |\n",
       "| 2010      |  746.6667 |\n",
       "| 2011      | 3939.6176 |\n",
       "| 2012      | 1239.3720 |\n",
       "| 2013      | 1298.2843 |\n",
       "| 2014      |  507.8431 |\n",
       "| 2015      | 1989.6907 |\n",
       "| 2016      |  872.6415 |\n",
       "| 2017      |  488.7850 |\n",
       "| 2018      | 9182.3529 |\n",
       "| 2019      | 3992.8571 |\n",
       "| 2020      | 1633.3333 |\n",
       "| 2021      | 1532.2581 |\n",
       "| 2022      | 1482.7586 |\n",
       "| 2023      | 1685.7143 |\n",
       "| 2024      |  876.4706 |\n",
       "\n"
      ],
      "text/plain": [
       "   Year average_imposed_fine\n",
       "1  2008 2219.2529           \n",
       "2  2009 1312.6402           \n",
       "3  2010  746.6667           \n",
       "4  2011 3939.6176           \n",
       "5  2012 1239.3720           \n",
       "6  2013 1298.2843           \n",
       "7  2014  507.8431           \n",
       "8  2015 1989.6907           \n",
       "9  2016  872.6415           \n",
       "10 2017  488.7850           \n",
       "11 2018 9182.3529           \n",
       "12 2019 3992.8571           \n",
       "13 2020 1633.3333           \n",
       "14 2021 1532.2581           \n",
       "15 2022 1482.7586           \n",
       "16 2023 1685.7143           \n",
       "17 2024  876.4706           "
      ]
     },
     "metadata": {},
     "output_type": "display_data"
    }
   ],
   "source": [
    "df3$Year <- lubridate::year(df3$HEARING.DATE)\n",
    "average_imposed_fine <- df3 %>%\n",
    "  filter(IMPOSED.FINE > 0) %>% #Filter out cases where the fine is greater than zero\n",
    "  group_by(Year) %>%\n",
    "  summarise(average_imposed_fine = mean(IMPOSED.FINE, na.rm = TRUE))\n",
    "average_imposed_fine"
   ]
  },
  {
   "cell_type": "markdown",
   "id": "f7be62a3-f7f7-48d2-a134-52fece982e18",
   "metadata": {},
   "source": [
    " > **💡Interpretation of Results💡-**\n",
    ">\n",
    "> One reason for numbers of 2024 is lower than other is because we only have 2 month data available with us."
   ]
  },
  {
   "cell_type": "markdown",
   "id": "74a2abf5-27f7-4284-a67e-c6b24cb794d9",
   "metadata": {},
   "source": [
    "#### Solution - 8"
   ]
  },
  {
   "cell_type": "code",
   "execution_count": 53,
   "id": "59085983-ec47-4cc6-9ca4-bc376b1bd9a2",
   "metadata": {},
   "outputs": [],
   "source": [
    "# Remove ID and Docket Number\n",
    "\n",
    "df5 <- df3[,-c(1,2)]"
   ]
  },
  {
   "cell_type": "markdown",
   "id": "a49d753f-7b2b-48ca-946e-ba6531d911f2",
   "metadata": {},
   "source": [
    "#### Solution - 9"
   ]
  },
  {
   "cell_type": "code",
   "execution_count": 54,
   "id": "7856c0cd-a638-4017-a63c-278bfa6d4374",
   "metadata": {
    "scrolled": true
   },
   "outputs": [
    {
     "data": {
      "text/html": [
       "<table>\n",
       "<thead><tr><th scope=col>NOV.NUMBER</th><th scope=col>ADDRESS</th><th scope=col>STREET.NUMBER</th><th scope=col>STREET.DIRECTION</th><th scope=col>STREET.NAME</th><th scope=col>STREET.TYPE</th><th scope=col>WARD</th><th scope=col>ISSUING.DEPARTMENT</th><th scope=col>HEARING.DATE</th><th scope=col>CASE.DISPOSITION</th><th scope=col>...</th><th scope=col>VIOLATION.DATE</th><th scope=col>VIOLATION.CODE</th><th scope=col>VIOLATION.DESCRIPTION</th><th scope=col>RESPONDENTS</th><th scope=col>LATITUDE</th><th scope=col>LONGITUDE</th><th scope=col>LOCATION</th><th scope=col>CityDelay</th><th scope=col>Year</th><th scope=col>season</th></tr></thead>\n",
       "<tbody>\n",
       "\t<tr><td>NA     </td><td>NA     </td><td>NA     </td><td>NA     </td><td>NA     </td><td>NA     </td><td>NA     </td><td>NA     </td><td>NA     </td><td>NA     </td><td>...    </td><td>NA     </td><td>NA     </td><td>NA     </td><td>NA     </td><td>NA     </td><td>NA     </td><td>NA     </td><td>NA days</td><td>NA     </td><td>NA     </td></tr>\n",
       "\t<tr><td>NA     </td><td>NA     </td><td>NA     </td><td>NA     </td><td>NA     </td><td>NA     </td><td>NA     </td><td>NA     </td><td>NA     </td><td>NA     </td><td>...    </td><td>NA     </td><td>NA     </td><td>NA     </td><td>NA     </td><td>NA     </td><td>NA     </td><td>NA     </td><td>NA days</td><td>NA     </td><td>NA     </td></tr>\n",
       "\t<tr><td>NA     </td><td>NA     </td><td>NA     </td><td>NA     </td><td>NA     </td><td>NA     </td><td>NA     </td><td>NA     </td><td>NA     </td><td>NA     </td><td>...    </td><td>NA     </td><td>NA     </td><td>NA     </td><td>NA     </td><td>NA     </td><td>NA     </td><td>NA     </td><td>NA days</td><td>NA     </td><td>NA     </td></tr>\n",
       "\t<tr><td>NA     </td><td>NA     </td><td>NA     </td><td>NA     </td><td>NA     </td><td>NA     </td><td>NA     </td><td>NA     </td><td>NA     </td><td>NA     </td><td>...    </td><td>NA     </td><td>NA     </td><td>NA     </td><td>NA     </td><td>NA     </td><td>NA     </td><td>NA     </td><td>NA days</td><td>NA     </td><td>NA     </td></tr>\n",
       "\t<tr><td>NA     </td><td>NA     </td><td>NA     </td><td>NA     </td><td>NA     </td><td>NA     </td><td>NA     </td><td>NA     </td><td>NA     </td><td>NA     </td><td>...    </td><td>NA     </td><td>NA     </td><td>NA     </td><td>NA     </td><td>NA     </td><td>NA     </td><td>NA     </td><td>NA days</td><td>NA     </td><td>NA     </td></tr>\n",
       "\t<tr><td>NA     </td><td>NA     </td><td>NA     </td><td>NA     </td><td>NA     </td><td>NA     </td><td>NA     </td><td>NA     </td><td>NA     </td><td>NA     </td><td>...    </td><td>NA     </td><td>NA     </td><td>NA     </td><td>NA     </td><td>NA     </td><td>NA     </td><td>NA     </td><td>NA days</td><td>NA     </td><td>NA     </td></tr>\n",
       "</tbody>\n",
       "</table>\n"
      ],
      "text/latex": [
       "\\begin{tabular}{r|lllllllllllllllllllllll}\n",
       " NOV.NUMBER & ADDRESS & STREET.NUMBER & STREET.DIRECTION & STREET.NAME & STREET.TYPE & WARD & ISSUING.DEPARTMENT & HEARING.DATE & CASE.DISPOSITION & ... & VIOLATION.DATE & VIOLATION.CODE & VIOLATION.DESCRIPTION & RESPONDENTS & LATITUDE & LONGITUDE & LOCATION & CityDelay & Year & season\\\\\n",
       "\\hline\n",
       "\t NA      & NA      & NA      & NA      & NA      & NA      & NA      & NA      & NA      & NA      & ...     & NA      & NA      & NA      & NA      & NA      & NA      & NA      & NA days & NA      & NA     \\\\\n",
       "\t NA      & NA      & NA      & NA      & NA      & NA      & NA      & NA      & NA      & NA      & ...     & NA      & NA      & NA      & NA      & NA      & NA      & NA      & NA days & NA      & NA     \\\\\n",
       "\t NA      & NA      & NA      & NA      & NA      & NA      & NA      & NA      & NA      & NA      & ...     & NA      & NA      & NA      & NA      & NA      & NA      & NA      & NA days & NA      & NA     \\\\\n",
       "\t NA      & NA      & NA      & NA      & NA      & NA      & NA      & NA      & NA      & NA      & ...     & NA      & NA      & NA      & NA      & NA      & NA      & NA      & NA days & NA      & NA     \\\\\n",
       "\t NA      & NA      & NA      & NA      & NA      & NA      & NA      & NA      & NA      & NA      & ...     & NA      & NA      & NA      & NA      & NA      & NA      & NA      & NA days & NA      & NA     \\\\\n",
       "\t NA      & NA      & NA      & NA      & NA      & NA      & NA      & NA      & NA      & NA      & ...     & NA      & NA      & NA      & NA      & NA      & NA      & NA      & NA days & NA      & NA     \\\\\n",
       "\\end{tabular}\n"
      ],
      "text/markdown": [
       "\n",
       "| NOV.NUMBER | ADDRESS | STREET.NUMBER | STREET.DIRECTION | STREET.NAME | STREET.TYPE | WARD | ISSUING.DEPARTMENT | HEARING.DATE | CASE.DISPOSITION | ... | VIOLATION.DATE | VIOLATION.CODE | VIOLATION.DESCRIPTION | RESPONDENTS | LATITUDE | LONGITUDE | LOCATION | CityDelay | Year | season |\n",
       "|---|---|---|---|---|---|---|---|---|---|---|---|---|---|---|---|---|---|---|---|---|\n",
       "| NA      | NA      | NA      | NA      | NA      | NA      | NA      | NA      | NA      | NA      | ...     | NA      | NA      | NA      | NA      | NA      | NA      | NA      | NA days | NA      | NA      |\n",
       "| NA      | NA      | NA      | NA      | NA      | NA      | NA      | NA      | NA      | NA      | ...     | NA      | NA      | NA      | NA      | NA      | NA      | NA      | NA days | NA      | NA      |\n",
       "| NA      | NA      | NA      | NA      | NA      | NA      | NA      | NA      | NA      | NA      | ...     | NA      | NA      | NA      | NA      | NA      | NA      | NA      | NA days | NA      | NA      |\n",
       "| NA      | NA      | NA      | NA      | NA      | NA      | NA      | NA      | NA      | NA      | ...     | NA      | NA      | NA      | NA      | NA      | NA      | NA      | NA days | NA      | NA      |\n",
       "| NA      | NA      | NA      | NA      | NA      | NA      | NA      | NA      | NA      | NA      | ...     | NA      | NA      | NA      | NA      | NA      | NA      | NA      | NA days | NA      | NA      |\n",
       "| NA      | NA      | NA      | NA      | NA      | NA      | NA      | NA      | NA      | NA      | ...     | NA      | NA      | NA      | NA      | NA      | NA      | NA      | NA days | NA      | NA      |\n",
       "\n"
      ],
      "text/plain": [
       "  NOV.NUMBER ADDRESS STREET.NUMBER STREET.DIRECTION STREET.NAME STREET.TYPE\n",
       "1 NA         NA      NA            NA               NA          NA         \n",
       "2 NA         NA      NA            NA               NA          NA         \n",
       "3 NA         NA      NA            NA               NA          NA         \n",
       "4 NA         NA      NA            NA               NA          NA         \n",
       "5 NA         NA      NA            NA               NA          NA         \n",
       "6 NA         NA      NA            NA               NA          NA         \n",
       "  WARD ISSUING.DEPARTMENT HEARING.DATE CASE.DISPOSITION ... VIOLATION.DATE\n",
       "1 NA   NA                 <NA>         NA               ... <NA>          \n",
       "2 NA   NA                 <NA>         NA               ... <NA>          \n",
       "3 NA   NA                 <NA>         NA               ... <NA>          \n",
       "4 NA   NA                 <NA>         NA               ... <NA>          \n",
       "5 NA   NA                 <NA>         NA               ... <NA>          \n",
       "6 NA   NA                 <NA>         NA               ... <NA>          \n",
       "  VIOLATION.CODE VIOLATION.DESCRIPTION RESPONDENTS LATITUDE LONGITUDE LOCATION\n",
       "1 NA             NA                    NA          NA       NA        NA      \n",
       "2 NA             NA                    NA          NA       NA        NA      \n",
       "3 NA             NA                    NA          NA       NA        NA      \n",
       "4 NA             NA                    NA          NA       NA        NA      \n",
       "5 NA             NA                    NA          NA       NA        NA      \n",
       "6 NA             NA                    NA          NA       NA        NA      \n",
       "  CityDelay Year season\n",
       "1 NA days   NA   NA    \n",
       "2 NA days   NA   NA    \n",
       "3 NA days   NA   NA    \n",
       "4 NA days   NA   NA    \n",
       "5 NA days   NA   NA    \n",
       "6 NA days   NA   NA    "
      ]
     },
     "metadata": {},
     "output_type": "display_data"
    }
   ],
   "source": [
    "# Create a new column called season based on the quarter of Violation Date\n",
    "df5$season <- quarter(df5$VIOLATION.DATE)\n",
    "df5$season <- factor(df5$season, levels = 1:4, labels = c(\"Winter\", \"Spring\", \"Summer\", \"Fall\"))\n",
    "head(df5)\n"
   ]
  },
  {
   "cell_type": "markdown",
   "id": "0c6ba87d-e993-48c4-808d-1fd3f3e44710",
   "metadata": {},
   "source": [
    "#### Solution - 10"
   ]
  },
  {
   "cell_type": "code",
   "execution_count": 55,
   "id": "2ce473d8-990f-4f49-800e-4dc6109f54bb",
   "metadata": {},
   "outputs": [
    {
     "data": {
      "image/png": "[encoded data removed]",
      "text/plain": [
       "plot without title"
      ]
     },
     "metadata": {},
     "output_type": "display_data"
    }
   ],
   "source": [
    "library(ggplot2)\n",
    "\n",
    "ggplot(df5, aes(x = season)) +\n",
    "  geom_bar(fill = \"pink1\", color = \"black\", width = 0.8) +\n",
    "  labs(x = \"Season\", y = \"Count of Violations\", title = \"Building Violations by Season\") +\n",
    "  theme_minimal()"
   ]
  },
  {
   "cell_type": "markdown",
   "id": "6db5064a-b92a-4817-b8bb-ea74de9c4674",
   "metadata": {},
   "source": [
    "> **💡Interpretation of Results💡-**\n",
    ">\n",
    ">  Spring has the highest count of Violations that maybe due to increase in constructional activities during that season."
   ]
  },
  {
   "cell_type": "markdown",
   "id": "abe5a7f6-108b-44b5-977b-9bd2a9ab0dce",
   "metadata": {},
   "source": [
    "#### Solution - 11 a]"
   ]
  },
  {
   "cell_type": "code",
   "execution_count": 57,
   "id": "c675aac9-c761-4d8a-b553-5571c01d7eec",
   "metadata": {
    "scrolled": true
   },
   "outputs": [
    {
     "name": "stderr",
     "output_type": "stream",
     "text": [
      "Warning message:\n",
      "\"Factor `CASE.DISPOSITION` contains implicit NA, consider using `forcats::fct_explicit_na`\""
     ]
    },
    {
     "name": "stdout",
     "output_type": "stream",
     "text": [
      "'data.frame':\t8041 obs. of  23 variables:\n",
      " $ NOV.NUMBER           : Factor w/ 122054 levels \".14CO421880\",..: NA NA NA NA NA NA NA 83174 83174 NA ...\n",
      " $ ADDRESS              : Factor w/ 80639 levels \"0  UNKNOWN ST\",..: NA NA NA NA NA NA NA 42165 42165 NA ...\n",
      " $ STREET.NUMBER        : int  NA NA NA NA NA NA NA 4311 4311 NA ...\n",
      " $ STREET.DIRECTION     : Factor w/ 5 levels \"\",\"E\",\"N\",\"S\",..: NA NA NA NA NA NA NA 5 5 NA ...\n",
      " $ STREET.NAME          : Factor w/ 1408 levels \"`81ST\",\"0GDEN\",..: NA NA NA NA NA NA NA 929 929 NA ...\n",
      " $ STREET.TYPE          : Factor w/ 30 levels \"\",\"AVE\",\"BLVD\",..: NA NA NA NA NA NA NA 22 22 NA ...\n",
      " $ WARD                 : int  NA NA NA NA NA NA NA 13 13 NA ...\n",
      " $ ISSUING.DEPARTMENT   : Factor w/ 1 level \"Buildings\": NA NA NA NA NA NA NA 1 1 NA ...\n",
      " $ HEARING.DATE         : Date, format: NA NA ...\n",
      " $ CASE.DISPOSITION     : Factor w/ 9 levels \"\",\"Adjudication Performance / Other\",..: NA NA NA NA NA NA NA 4 4 NA ...\n",
      " $ IMPOSED.FINE         : num  NA NA NA NA NA NA NA 1000 1000 NA ...\n",
      " $ ADMIN.COSTS          : int  NA NA NA NA NA NA NA 40 40 NA ...\n",
      " $ LAST.MODIFIED.DATE   : Date, format: NA NA ...\n",
      " $ VIOLATION.DATE       : Date, format: NA NA ...\n",
      " $ VIOLATION.CODE       : Factor w/ 1198 levels \"000001\",\"0006014\",..: NA NA NA NA NA NA NA 656 720 NA ...\n",
      " $ VIOLATION.DESCRIPTION: Factor w/ 1190 levels \"- Every building or part thereof which is in an unsanitary condition by reason of the basement or cellar being \"| __truncated__,..: NA NA NA NA NA NA NA 1016 1176 NA ...\n",
      " $ RESPONDENTS          : Factor w/ 108348 levels \"'D' BROTHERS INVESTMENTS INC C/O RICHARD ASH | THE BERNADETTE CORPORATION C/O MICHAEL DIFOGGIO | TR# 10-2564 NO\"| __truncated__,..: NA NA NA NA NA NA NA 69010 69010 NA ...\n",
      " $ LATITUDE             : num  NA NA NA NA NA ...\n",
      " $ LONGITUDE            : num  NA NA NA NA NA ...\n",
      " $ LOCATION             : Factor w/ 80190 levels \"\",\"(41.64470194112152, -87.61515119956638)\",..: NA NA NA NA NA NA NA 19896 19896 NA ...\n",
      " $ CityDelay            : 'difftime' num  NA NA NA NA ...\n",
      "  ..- attr(*, \"units\")= chr \"days\"\n",
      " $ Year                 : num  NA NA NA NA NA ...\n",
      " $ season               : Factor w/ 4 levels \"Winter\",\"Spring\",..: NA NA NA NA NA NA NA 2 2 NA ...\n"
     ]
    }
   ],
   "source": [
    "## Step: 1 - Calculate the frequency of each Case Disposition\n",
    "case_disposition_freq <- df5 %>%\n",
    "  count(CASE.DISPOSITION)\n",
    "## Step: 2 - Select the top 5 most common Case Dispositions \n",
    "top_5_disposition <- case_disposition_freq %>%\n",
    "  arrange(desc(n)) %>%\n",
    "  slice(1:5) %>%\n",
    "  pull(CASE.DISPOSITION)\n",
    "\n",
    "## Step: 3 Filter the dataset to keep only rows with the top 5 Case Disposition\n",
    "df5_filtered <- df5 %>%\n",
    "  filter(CASE.DISPOSITION %in% top_5_disposition)\n",
    "\n",
    "## Step: 4 \n",
    "str(df5_filtered)\n",
    "### a] The dataframe has 8041 rows."
   ]
  },
  {
   "cell_type": "markdown",
   "id": "4f48f5b9-b244-4735-8c6b-2f9378d3af5a",
   "metadata": {},
   "source": [
    "#### Solution - 11 b]"
   ]
  },
  {
   "cell_type": "code",
   "execution_count": 59,
   "id": "7f7b2d40-1f21-46eb-a37c-48e4dec8a32c",
   "metadata": {},
   "outputs": [
    {
     "name": "stderr",
     "output_type": "stream",
     "text": [
      "Don't know how to automatically pick scale for object of type difftime. Defaulting to continuous.\n",
      "Warning message:\n",
      "\"Removed 2812 rows containing non-finite values (stat_bin).\""
     ]
    },
    {
     "data": {
      "image/png": "[encoded data removed]",
      "text/plain": [
       "plot without title"
      ]
     },
     "metadata": {},
     "output_type": "display_data"
    }
   ],
   "source": [
    "ggplot(data = df5_filtered, aes(x= CityDelay, fill = CASE.DISPOSITION)) +\n",
    "  geom_histogram(binwidth = 80, color = \"black\") +\n",
    "  facet_wrap(~ CASE.DISPOSITION, scales = \"free\") +\n",
    "  labs(x = 'City Delay', y = \"Frequency\", title = \"Distribution of City Delay by Case Disposition\") +\n",
    "  theme_minimal() +\n",
    "  theme(legend.position = \"bottom\")"
   ]
  },
  {
   "cell_type": "markdown",
   "id": "b1e7d2f3-3492-4437-b21b-b33671b0403a",
   "metadata": {},
   "source": [
    "> **💡Interpretation of Graphs💡-**\n",
    ">\n",
    "> In 'Default' CASE.DISTRIBUTION most city delays fall within the range of approximately 0 to 500. This suggests that for cases with a 'Default' disposition, the time between the violation data and the hearing date tends to be relatively short, with most cases being resolved or addressed within this timeframe. \n",
    ">\n",
    "> 'Liable' CASE.DISTRIBUTION is bell-shaped with the peak occuring around a city delay of approximately 600. This indicates that for cases where the disposition is 'Liable', there is a broader range of city delays, with a signifuicant number of cases having longer delays before the hearing date compared to other dispositions.\n",
    ">\n",
    "> 'Non-Suit' CASE.DISTRIBUTION exhibit unusual pattern. Most frequencies are extreme negative values, which could imply an outlier. \n",
    ">\n",
    "> 'Not Liable' CASE.DISTRIBUTION, frequencies are concentrated between 0 and about 400 with a peak around 200. This indicates that for cases with a 'Not Liable' disposition, the city delays are generally shorter compared to 'Liable' cases, with a peak occurring around a delay of 200. This suggests that these cases tend to be resolved or adderessed relatively quickly."
   ]
  },
  {
   "cell_type": "markdown",
   "id": "76e32804-9f64-48c3-9951-f67a4e153c52",
   "metadata": {},
   "source": [
    "#### Solution - 12"
   ]
  },
  {
   "cell_type": "code",
   "execution_count": 60,
   "id": "0550d376-65bd-4891-99d2-fa31e85461e8",
   "metadata": {},
   "outputs": [
    {
     "name": "stderr",
     "output_type": "stream",
     "text": [
      "Warning message:\n",
      "\"Factor `CASE.DISPOSITION` contains implicit NA, consider using `forcats::fct_explicit_na`\""
     ]
    }
   ],
   "source": [
    "#Calculate average imposed fine for each type of case disposition\n",
    "average_imposed_fine <- df5_filtered %>%\n",
    "  group_by(CASE.DISPOSITION) %>%\n",
    "  summarise(average_imposed_fine = mean(IMPOSED.FINE, na.rm = TRUE)) %>%\n",
    "  arrange(average_imposed_fine)"
   ]
  },
  {
   "cell_type": "code",
   "execution_count": 61,
   "id": "7e9a1eab-020d-4b0d-ba1e-6e3b06fbff67",
   "metadata": {},
   "outputs": [
    {
     "data": {
      "image/png": "[encoded data removed]",
      "text/plain": [
       "plot without title"
      ]
     },
     "metadata": {},
     "output_type": "display_data"
    }
   ],
   "source": [
    "# Barplot\n",
    "ggplot(average_imposed_fine, aes(x = reorder(CASE.DISPOSITION, average_imposed_fine), y = average_imposed_fine, fill = CASE.DISPOSITION)) +\n",
    "  geom_bar(stat = 'identity', color = 'black') +\n",
    "  labs(x = \"Case disposition\", y = \"Average Imposed Fine\", title = \"Average Imposed Fine by Case Disposition\") +\n",
    "  theme_minimal() +\n",
    "  scale_fill_brewer(palette = \"Set2\")"
   ]
  },
  {
   "cell_type": "markdown",
   "id": "f7855c95-fb3d-40ae-9b59-8ce925fb930f",
   "metadata": {},
   "source": [
    "#### Solution - 13"
   ]
  },
  {
   "cell_type": "code",
   "execution_count": 62,
   "id": "26011e39-a6d6-4493-8973-5bac5d1e5073",
   "metadata": {
    "scrolled": true
   },
   "outputs": [
    {
     "name": "stderr",
     "output_type": "stream",
     "text": [
      "Warning message:\n",
      "\"Removed 2810 rows containing non-finite values (stat_bin).\""
     ]
    },
    {
     "data": {
      "image/png": "[encoded data removed]",
      "text/plain": [
       "plot without title"
      ]
     },
     "metadata": {},
     "output_type": "display_data"
    }
   ],
   "source": [
    "# Histogram\n",
    "ggplot(df5_filtered, aes(x = ADMIN.COSTS, fill = CASE.DISPOSITION)) +\n",
    "  geom_histogram(binwidth = 50, color = \"black\", position = \"dodge\") +\n",
    "  labs(x = \"Admin Costs\", y = \"Frequency\", title = \"Distribution of Admin Costs by Case Disposition\") +\n",
    "  theme_minimal() +\n",
    "  scale_fill_brewer(palette = \"Set3\")"
   ]
  },
  {
   "cell_type": "markdown",
   "id": "41ad91ae-e08d-45bc-8e5d-71e591aa7215",
   "metadata": {},
   "source": [
    "#### Solution - 14"
   ]
  },
  {
   "cell_type": "code",
   "execution_count": 96,
   "id": "b0a12932-69ae-4372-af4b-1d5e21611009",
   "metadata": {},
   "outputs": [
    {
     "name": "stderr",
     "output_type": "stream",
     "text": [
      "Warning message:\n",
      "\"Factor `VIOLATION.DESCRIPTION` contains implicit NA, consider using `forcats::fct_explicit_na`\""
     ]
    },
    {
     "name": "stdout",
     "output_type": "stream",
     "text": [
      "[1] (Missing)                                                                                                                                                                       \n",
      "[2] Description of work:                                                                                                                                                            \n",
      "[3] Submit plans prepared, signed, and sealed by a licensed architect or registered structural engineer for approval and obtain permit. (13-32-010, 13-32-040, 13-40-010, 13-40-020)\n",
      "[4] Arrange for inspection of premises. (13-12-100)                                                                                                                                 \n",
      "[5] Obtain permit before performing work. (13-32-010)                                                                                                                               \n",
      "1191 Levels: - Every building or part thereof which is in an unsanitary condition by reason of the basement or cellar being covered with stagnant water, or by reason of the presence of sewer gas, or by reason of any portion of a building being infected with disease or being unfit for human habitation, or which by reason of any other unsanitary condition, is a source of sickness, or which endangers the public health, is hereby declared to be a public nuisance. (7-28-060, 18-29-102.3) ...\n"
     ]
    }
   ],
   "source": [
    "library(dplyr)\n",
    "library(forcats)\n",
    "\n",
    "# Count occurrences of each Violation Description and identify the top 5\n",
    "top_5_violation_desc <- df5_filtered %>%\n",
    "  count(VIOLATION.DESCRIPTION) %>%\n",
    "  arrange(desc(n)) %>%\n",
    "  head(5) %>%\n",
    "  pull(VIOLATION.DESCRIPTION)\n",
    "\n",
    "# Filter the dataset to keep only rows with the top 5 Violation Descriptions\n",
    "df7 <- df5_filtered %>%\n",
    "  filter(VIOLATION.DESCRIPTION %in% top_5_violation_desc)\n",
    "\n",
    "# Convert VIOLATION.DESCRIPTION to factor with explicit NA levels\n",
    "df7$VIOLATION.DESCRIPTION <- fct_explicit_na(df7$VIOLATION.DESCRIPTION)\n",
    "\n",
    "# Print out the unique values for Violation Description\n",
    "unique_violation_desc <- unique(df7$VIOLATION.DESCRIPTION)\n",
    "print(unique_violation_desc)\n"
   ]
  },
  {
   "cell_type": "markdown",
   "id": "01bee805-8ed0-411f-8d41-877651f6b4c3",
   "metadata": {},
   "source": [
    "> **💡Interpretation of Code💡-**\n",
    ">\n",
    "> In the enviornment of R programming language, the code aims to filter the dataset `df5_filtered` to retain only rows with the top 5 most common Violation Descriptionss.\n",
    ">\n",
    "> We first pull up the library `dplyr` & `forcats`. Then we count the occurance of each Violation Description in the dataset and identify  the top 5 most common description using `count`, `arrange`, `head` and `pull` functions.\n",
    ">\n",
    "> Next, we filter the dataset `df5_filtered` to keep only rows with top 5 Violation Descriptions using `filter` functionn from `dplyr`. After filtering, we attempt to convert the `VIOLATION.DESCRIPTION` coloumn into a factor with explicit NA using `forcats::fct_explicit_na`. Howerver, still a warning messege is generated indicating that the it still contains NA values."
   ]
  },
  {
   "cell_type": "markdown",
   "id": "1f28ad4c-c15b-43b2-ac16-3ca00e499f23",
   "metadata": {},
   "source": [
    "#### Solution - 14 a]"
   ]
  },
  {
   "cell_type": "code",
   "execution_count": 98,
   "id": "a9d51feb-aa03-4569-97f1-2866e66a40fc",
   "metadata": {},
   "outputs": [
    {
     "name": "stdout",
     "output_type": "stream",
     "text": [
      "[1] Missing                Obtain Permit          Work Description      \n",
      "[4] Inspection Arrangement Public Nuisance       \n",
      "5 Levels: Inspection Arrangement Missing Obtain Permit ... Work Description\n"
     ]
    }
   ],
   "source": [
    "library(dplyr)\n",
    "library(forcats)\n",
    "\n",
    "# Count occurrences of each Violation Description and identify the top 5\n",
    "top_5_violation_desc <- df7 %>%\n",
    "  count(VIOLATION.DESCRIPTION) %>%\n",
    "  arrange(desc(n)) %>%\n",
    "  head(5) %>%\n",
    "  pull(VIOLATION.DESCRIPTION)\n",
    "\n",
    "# Filter the dataset to keep only rows with the top 5 Violation Descriptions\n",
    "df7 <- df7 %>%\n",
    "  filter(VIOLATION.DESCRIPTION %in% top_5_violation_desc)\n",
    "\n",
    "# Define shortened labels for the top 5 Violation Descriptions\n",
    "short_labels <- c(\"Missing\", \"Work Description\", \"Inspection Arrangement\", \"Obtain Permit\", \"Public Nuisance\")\n",
    "\n",
    "# Create a new column with the shortened descriptions\n",
    "df7 <- df7 %>%\n",
    "  mutate(shortened_description = case_when(\n",
    "    VIOLATION.DESCRIPTION == top_5_violation_desc[1] ~ short_labels[1],\n",
    "    VIOLATION.DESCRIPTION == top_5_violation_desc[2] ~ short_labels[2],\n",
    "    VIOLATION.DESCRIPTION == top_5_violation_desc[3] ~ short_labels[3],\n",
    "    VIOLATION.DESCRIPTION == top_5_violation_desc[4] ~ short_labels[4],\n",
    "    VIOLATION.DESCRIPTION == top_5_violation_desc[5] ~ short_labels[5]\n",
    "  ))\n",
    "\n",
    "# Convert the shortened descriptions into a factor and explicitly define NA levels\n",
    "df7$shortened_description <- fct_explicit_na(factor(df7$shortened_description))\n",
    "\n",
    "# Print out the unique values for Violation Description\n",
    "unique_violation_desc <- unique(df7$shortened_description)\n",
    "print(unique_violation_desc)\n"
   ]
  },
  {
   "cell_type": "markdown",
   "id": "c904c945-4542-4332-a816-4914df60a981",
   "metadata": {},
   "source": [
    "> **💡Interpretation of Results💡-**\n",
    "> \n",
    "> The top 5 Most Common Violation Descriptions are-\n",
    "> Missing, Obtain Permit, Work Description, Inspection Arrangement, Public Nuisance.\n",
    ">"
   ]
  },
  {
   "cell_type": "markdown",
   "id": "8010da20-1bb0-4ef7-8da7-a8ec8707ca53",
   "metadata": {},
   "source": [
    "#### Solution - 15"
   ]
  },
  {
   "cell_type": "code",
   "execution_count": 76,
   "id": "af02a900-82a3-47a7-993b-b405f217ea8b",
   "metadata": {},
   "outputs": [
    {
     "name": "stderr",
     "output_type": "stream",
     "text": [
      "also installing the dependencies 'rlang', 'Rcpp', 'htmltools', 'terra', 'htmlwidgets', 'raster'\n",
      "\n"
     ]
    },
    {
     "name": "stdout",
     "output_type": "stream",
     "text": [
      "\n",
      "  There are binary versions available but the source versions are later:\n",
      "             binary source needs_compilation\n",
      "rlang        0.4.11  1.1.3              TRUE\n",
      "Rcpp          1.0.6 1.0.12              TRUE\n",
      "htmltools   0.5.1.1  0.5.7              TRUE\n",
      "terra         1.2-5 1.7-71              TRUE\n",
      "htmlwidgets   1.5.3  1.6.4             FALSE\n",
      "raster       3.4-10 3.6-26              TRUE\n",
      "leaflet     2.0.4.1  2.2.1             FALSE\n",
      "\n",
      "  Binaries will be installed\n",
      "package 'rlang' successfully unpacked and MD5 sums checked\n",
      "package 'Rcpp' successfully unpacked and MD5 sums checked\n",
      "package 'htmltools' successfully unpacked and MD5 sums checked\n",
      "package 'terra' successfully unpacked and MD5 sums checked\n",
      "package 'raster' successfully unpacked and MD5 sums checked\n",
      "\n",
      "The downloaded binary packages are in\n",
      "\tC:\\Users\\asusw\\AppData\\Local\\Temp\\RtmpiWbHnW\\downloaded_packages\n"
     ]
    },
    {
     "name": "stderr",
     "output_type": "stream",
     "text": [
      "installing the source packages 'htmlwidgets', 'leaflet'\n",
      "\n",
      "Warning message in install.packages(\"leaflet\"):\n",
      "\"installation of package 'htmlwidgets' had non-zero exit status\"Warning message in install.packages(\"leaflet\"):\n",
      "\"installation of package 'leaflet' had non-zero exit status\""
     ]
    },
    {
     "ename": "ERROR",
     "evalue": "Error in library(leaflet): there is no package called 'leaflet'\n",
     "output_type": "error",
     "traceback": [
      "Error in library(leaflet): there is no package called 'leaflet'\nTraceback:\n",
      "1. library(leaflet)"
     ]
    }
   ],
   "source": [
    "# Install and load the leaflet package\n",
    "install.packages(\"leaflet\")\n",
    "library(leaflet)\n",
    "\n",
    "# Load necessary libraries\n",
    "library(dplyr)\n",
    "library(ggplot2)"
   ]
  },
  {
   "cell_type": "code",
   "execution_count": 99,
   "id": "3c10abae-2be8-4e30-8a66-fa7949d2fd9f",
   "metadata": {},
   "outputs": [
    {
     "name": "stderr",
     "output_type": "stream",
     "text": [
      "Warning message:\n",
      "\"Removed 1 rows containing missing values (position_stack).\""
     ]
    },
    {
     "data": {
      "image/png": "[encoded data removed]",
      "text/plain": [
       "plot without title"
      ]
     },
     "metadata": {},
     "output_type": "display_data"
    }
   ],
   "source": [
    "# Create the barplot\n",
    "mean_imposed_fine <- df7 %>%\n",
    "  group_by(shortened_description) %>%\n",
    "  summarise(mean_imposed_fine = mean(IMPOSED.FINE, na.rm = TRUE))\n",
    "\n",
    "# Arrange bars in decreasing order of mean imposed fine\n",
    "mean_imposed_fine <- mean_imposed_fine %>%\n",
    "  arrange(desc(mean_imposed_fine))\n",
    "\n",
    "# Create the barplot\n",
    "ggplot(mean_imposed_fine, aes(x = shortened_description, y = mean_imposed_fine, fill = shortened_description)) +\n",
    "  geom_bar(stat = \"identity\", color = \"black\") +\n",
    "  labs(x = \"Violation Description\", y = \"Mean Imposed Fine\", title = \"Mean Imposed Fine by Violation Description\") +\n",
    "  scale_fill_manual(values = c(\"pink1\", \"pink2\", \"pink3\", \"pink4\", \"red\")) + \n",
    "  theme_minimal()\n"
   ]
  },
  {
   "cell_type": "markdown",
   "id": "70c0ee41-9209-4f2e-a2a1-14103deecf1f",
   "metadata": {},
   "source": [
    "> **💡Interpretation of Code & Graph💡-**\n",
    ">\n",
    "> Using `leaflet`, `dplyr` and `ggplot2` this graph was generated.\n",
    ">\n",
    "> We calculate the mean imposed fine for wach if the top 5 violaiton descriptions (`shortened_description`) from the `df` dataset. Thisis achieved by grouping the data by `shortened_desccription` and summarizing the mean imposed fine for rach group using `summarise()` function.\n",
    ">\n",
    "> The resulting barplot visually represents the mean imposed fine for each of the top five violation descriptions. It helps in understanding the variations in fines imposed for different types of violations.\n",
    ">\n",
    "> We noticed that in the graph 'Inspection Arrangement' & 'Work Descrition' have higher fines ccompared to others. This could be because of multiple reasons such as:-\n",
    ">\n",
    "> 1. They tend to have more severe infractions or violations of regulations compared to other type of violations.\n",
    ">\n",
    "> 2. They occur more frequently or are more commonly reported, leading to increased scrutiny and enforcement by regulatory athorities.\n",
    ">\n",
    "> NOTE - The warning message \"Removed 1 rows containing missing values (position_stack)\" indicates that during the creation of the barplot, one row was removed due to missing values. This typically occurs when there are NA (missing) values present in the dataset used for plotting. As a result the ggplot2 removed this row from the plot to avoid errors or inconsistencies in the visualization."
   ]
  },
  {
   "cell_type": "markdown",
   "id": "c5931ca0-191f-43d6-83a9-c19aa4aa2e8b",
   "metadata": {},
   "source": [
    "#### Solution - 16"
   ]
  }
 ],
 "metadata": {
  "kernelspec": {
   "display_name": "R",
   "language": "R",
   "name": "ir"
  },
  "language_info": {
   "codemirror_mode": "r",
   "file_extension": ".r",
   "mimetype": "text/x-r-source",
   "name": "R",
   "pygments_lexer": "r",
   "version": "3.6.1"
  }
 },
 "nbformat": 4,
 "nbformat_minor": 5
}
