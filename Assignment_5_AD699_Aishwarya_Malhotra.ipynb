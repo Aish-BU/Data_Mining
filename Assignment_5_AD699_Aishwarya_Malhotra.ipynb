{
  "cells": [
    {
      "cell_type": "markdown",
      "id": "e2bd6d7c-7788-4688-8b57-81bf53992656",
      "metadata": {
        "id": "e2bd6d7c-7788-4688-8b57-81bf53992656"
      },
      "source": [
        "![boston-university-logo-9C93B75A4A-seeklogo.com.png](data:image/png;base64,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)"
      ]
    },
    {
      "cell_type": "markdown",
      "source": [
        "#**Assignment - 5**\n",
        "\n",
        "---"
      ],
      "metadata": {
        "id": "yeurAkljpLnM"
      },
      "id": "yeurAkljpLnM"
    },
    {
      "cell_type": "markdown",
      "source": [
        "<h2>AD699 A3 Data Mining (Spring 2024)</div>"
      ],
      "metadata": {
        "id": "o2FU2yNIpoxK"
      },
      "id": "o2FU2yNIpoxK"
    },
    {
      "cell_type": "markdown",
      "id": "397014ec-8a7d-4567-86de-c5dab2853bbf",
      "metadata": {
        "id": "397014ec-8a7d-4567-86de-c5dab2853bbf"
      },
      "source": [
        "<div style=\"text-align: center\"> <h4>Submitted by: Aishwarya Malhotra (U17161095)</div>\n"
      ]
    },
    {
      "cell_type": "markdown",
      "source": [
        "# **TASK I:  Hierarchical Clustering**"
      ],
      "metadata": {
        "id": "eWnw3Umjztii"
      },
      "id": "eWnw3Umjztii"
    },
    {
      "cell_type": "markdown",
      "id": "cdc70144-886e-49fb-b773-1e47af159d2a",
      "metadata": {
        "id": "cdc70144-886e-49fb-b773-1e47af159d2a"
      },
      "source": [
        "#### Solution - 1"
      ]
    },
    {
      "cell_type": "code",
      "execution_count": 3,
      "id": "b6f2a1b5-f2c8-489c-ba06-57c1466fabe3",
      "metadata": {
        "id": "b6f2a1b5-f2c8-489c-ba06-57c1466fabe3"
      },
      "outputs": [],
      "source": [
        "shipping <- read.csv(\"shipping_data.csv\")"
      ]
    },
    {
      "cell_type": "code",
      "execution_count": 4,
      "id": "d7f0cd90-b25f-4db9-8f75-cced06db406f",
      "metadata": {
        "scrolled": true,
        "id": "d7f0cd90-b25f-4db9-8f75-cced06db406f",
        "colab": {
          "base_uri": "https://localhost:8080/",
          "height": 286
        },
        "outputId": "b8f39fef-fe2c-4a37-da79-33d897d43858"
      },
      "outputs": [
        {
          "output_type": "display_data",
          "data": {
            "text/html": [
              "<table class=\"dataframe\">\n",
              "<caption>A data.frame: 6 × 8</caption>\n",
              "<thead>\n",
              "\t<tr><th></th><th scope=col>name</th><th scope=col>price....</th><th scope=col>weight..kg.</th><th scope=col>length..m.</th><th scope=col>width..m.</th><th scope=col>height..m.</th><th scope=col>shipment.date</th><th scope=col>destination.port</th></tr>\n",
              "\t<tr><th></th><th scope=col>&lt;chr&gt;</th><th scope=col>&lt;dbl&gt;</th><th scope=col>&lt;dbl&gt;</th><th scope=col>&lt;dbl&gt;</th><th scope=col>&lt;dbl&gt;</th><th scope=col>&lt;dbl&gt;</th><th scope=col>&lt;chr&gt;</th><th scope=col>&lt;chr&gt;</th></tr>\n",
              "</thead>\n",
              "<tbody>\n",
              "\t<tr><th scope=row>1</th><td>Camera Bag                 </td><td> 37.66</td><td>1.10</td><td> 0.40</td><td>0.39</td><td>0.26</td><td>2023-03-19</td><td>Port of Singapore (Singapore)</td></tr>\n",
              "\t<tr><th scope=row>2</th><td>Portable Bluetooth Keyboard</td><td>144.65</td><td>0.39</td><td> 0.11</td><td>0.06</td><td>0.03</td><td>2023-03-21</td><td>Port of Busan (South Korea)  </td></tr>\n",
              "\t<tr><th scope=row>3</th><td>Large Flat Rate Box        </td><td> 38.57</td><td>0.97</td><td> 0.79</td><td>0.55</td><td>0.35</td><td>2023-03-25</td><td>Port of Tianjin (China)      </td></tr>\n",
              "\t<tr><th scope=row>4</th><td>Ceramic Tiles              </td><td> 10.34</td><td>6.22</td><td> 0.36</td><td>0.37</td><td>0.02</td><td>2023-03-15</td><td>Port of Shanghai (China)     </td></tr>\n",
              "\t<tr><th scope=row>5</th><td>Garden Hose                </td><td> 21.63</td><td>1.18</td><td>17.77</td><td>0.27</td><td>0.13</td><td>2023-03-25</td><td>Port of Tianjin (China)      </td></tr>\n",
              "\t<tr><th scope=row>6</th><td>Cookware Set               </td><td>401.64</td><td>7.60</td><td> 0.49</td><td>0.35</td><td>0.15</td><td>2023-03-20</td><td>Port of Shanghai (China)     </td></tr>\n",
              "</tbody>\n",
              "</table>\n"
            ],
            "text/markdown": "\nA data.frame: 6 × 8\n\n| <!--/--> | name &lt;chr&gt; | price.... &lt;dbl&gt; | weight..kg. &lt;dbl&gt; | length..m. &lt;dbl&gt; | width..m. &lt;dbl&gt; | height..m. &lt;dbl&gt; | shipment.date &lt;chr&gt; | destination.port &lt;chr&gt; |\n|---|---|---|---|---|---|---|---|---|\n| 1 | Camera Bag                  |  37.66 | 1.10 |  0.40 | 0.39 | 0.26 | 2023-03-19 | Port of Singapore (Singapore) |\n| 2 | Portable Bluetooth Keyboard | 144.65 | 0.39 |  0.11 | 0.06 | 0.03 | 2023-03-21 | Port of Busan (South Korea)   |\n| 3 | Large Flat Rate Box         |  38.57 | 0.97 |  0.79 | 0.55 | 0.35 | 2023-03-25 | Port of Tianjin (China)       |\n| 4 | Ceramic Tiles               |  10.34 | 6.22 |  0.36 | 0.37 | 0.02 | 2023-03-15 | Port of Shanghai (China)      |\n| 5 | Garden Hose                 |  21.63 | 1.18 | 17.77 | 0.27 | 0.13 | 2023-03-25 | Port of Tianjin (China)       |\n| 6 | Cookware Set                | 401.64 | 7.60 |  0.49 | 0.35 | 0.15 | 2023-03-20 | Port of Shanghai (China)      |\n\n",
            "text/latex": "A data.frame: 6 × 8\n\\begin{tabular}{r|llllllll}\n  & name & price.... & weight..kg. & length..m. & width..m. & height..m. & shipment.date & destination.port\\\\\n  & <chr> & <dbl> & <dbl> & <dbl> & <dbl> & <dbl> & <chr> & <chr>\\\\\n\\hline\n\t1 & Camera Bag                  &  37.66 & 1.10 &  0.40 & 0.39 & 0.26 & 2023-03-19 & Port of Singapore (Singapore)\\\\\n\t2 & Portable Bluetooth Keyboard & 144.65 & 0.39 &  0.11 & 0.06 & 0.03 & 2023-03-21 & Port of Busan (South Korea)  \\\\\n\t3 & Large Flat Rate Box         &  38.57 & 0.97 &  0.79 & 0.55 & 0.35 & 2023-03-25 & Port of Tianjin (China)      \\\\\n\t4 & Ceramic Tiles               &  10.34 & 6.22 &  0.36 & 0.37 & 0.02 & 2023-03-15 & Port of Shanghai (China)     \\\\\n\t5 & Garden Hose                 &  21.63 & 1.18 & 17.77 & 0.27 & 0.13 & 2023-03-25 & Port of Tianjin (China)      \\\\\n\t6 & Cookware Set                & 401.64 & 7.60 &  0.49 & 0.35 & 0.15 & 2023-03-20 & Port of Shanghai (China)     \\\\\n\\end{tabular}\n",
            "text/plain": [
              "  name                        price.... weight..kg. length..m. width..m.\n",
              "1 Camera Bag                   37.66    1.10         0.40      0.39     \n",
              "2 Portable Bluetooth Keyboard 144.65    0.39         0.11      0.06     \n",
              "3 Large Flat Rate Box          38.57    0.97         0.79      0.55     \n",
              "4 Ceramic Tiles                10.34    6.22         0.36      0.37     \n",
              "5 Garden Hose                  21.63    1.18        17.77      0.27     \n",
              "6 Cookware Set                401.64    7.60         0.49      0.35     \n",
              "  height..m. shipment.date destination.port             \n",
              "1 0.26       2023-03-19    Port of Singapore (Singapore)\n",
              "2 0.03       2023-03-21    Port of Busan (South Korea)  \n",
              "3 0.35       2023-03-25    Port of Tianjin (China)      \n",
              "4 0.02       2023-03-15    Port of Shanghai (China)     \n",
              "5 0.13       2023-03-25    Port of Tianjin (China)      \n",
              "6 0.15       2023-03-20    Port of Shanghai (China)     "
            ]
          },
          "metadata": {}
        }
      ],
      "source": [
        "head(shipping)"
      ]
    },
    {
      "cell_type": "markdown",
      "source": [
        "#### Solution - 2"
      ],
      "metadata": {
        "id": "9W9_8JuVzNDc"
      },
      "id": "9W9_8JuVzNDc"
    },
    {
      "cell_type": "code",
      "source": [
        "# Dimentions of Dataset\n",
        "dim(shipping)"
      ],
      "metadata": {
        "colab": {
          "base_uri": "https://localhost:8080/",
          "height": 34
        },
        "id": "azvm3PKMi7ce",
        "outputId": "af95b736-9e30-4718-80bb-fe95ed58afd8"
      },
      "id": "azvm3PKMi7ce",
      "execution_count": 5,
      "outputs": [
        {
          "output_type": "display_data",
          "data": {
            "text/html": [
              "<style>\n",
              ".list-inline {list-style: none; margin:0; padding: 0}\n",
              ".list-inline>li {display: inline-block}\n",
              ".list-inline>li:not(:last-child)::after {content: \"\\00b7\"; padding: 0 .5ex}\n",
              "</style>\n",
              "<ol class=list-inline><li>263821</li><li>8</li></ol>\n"
            ],
            "text/markdown": "1. 263821\n2. 8\n\n\n",
            "text/latex": "\\begin{enumerate*}\n\\item 263821\n\\item 8\n\\end{enumerate*}\n",
            "text/plain": [
              "[1] 263821      8"
            ]
          },
          "metadata": {}
        }
      ]
    },
    {
      "cell_type": "markdown",
      "source": [
        "The dataset has 8 coloumns and 263821 rows"
      ],
      "metadata": {
        "id": "ClGiQYqWjYUv"
      },
      "id": "ClGiQYqWjYUv"
    },
    {
      "cell_type": "markdown",
      "id": "ac51b1c7-15c2-4083-ac51-2233c41596f1",
      "metadata": {
        "id": "ac51b1c7-15c2-4083-ac51-2233c41596f1"
      },
      "source": [
        "#### Solution - 3"
      ]
    },
    {
      "cell_type": "code",
      "source": [
        "set.seed(1131)\n",
        "sampled_rows <- sample(nrow(shipping), 20, replace = FALSE)\n",
        "sampled_data <- shipping[sampled_rows, ]\n",
        "sampled_data"
      ],
      "metadata": {
        "id": "QJf5-14w3UrX",
        "colab": {
          "base_uri": "https://localhost:8080/",
          "height": 725
        },
        "outputId": "d020e380-80d9-488e-adaf-25c2006ec4eb"
      },
      "id": "QJf5-14w3UrX",
      "execution_count": 6,
      "outputs": [
        {
          "output_type": "display_data",
          "data": {
            "text/html": [
              "<table class=\"dataframe\">\n",
              "<caption>A data.frame: 20 × 8</caption>\n",
              "<thead>\n",
              "\t<tr><th></th><th scope=col>name</th><th scope=col>price....</th><th scope=col>weight..kg.</th><th scope=col>length..m.</th><th scope=col>width..m.</th><th scope=col>height..m.</th><th scope=col>shipment.date</th><th scope=col>destination.port</th></tr>\n",
              "\t<tr><th></th><th scope=col>&lt;chr&gt;</th><th scope=col>&lt;dbl&gt;</th><th scope=col>&lt;dbl&gt;</th><th scope=col>&lt;dbl&gt;</th><th scope=col>&lt;dbl&gt;</th><th scope=col>&lt;dbl&gt;</th><th scope=col>&lt;chr&gt;</th><th scope=col>&lt;chr&gt;</th></tr>\n",
              "</thead>\n",
              "<tbody>\n",
              "\t<tr><th scope=row>114843</th><td>Laptop                     </td><td>520.25</td><td>  1.34</td><td>0.30</td><td>0.30</td><td>0.04</td><td>2023-03-18</td><td>Port of Tokyo (Japan)        </td></tr>\n",
              "\t<tr><th scope=row>219668</th><td>Spices Collection          </td><td> 33.35</td><td>  0.86</td><td>0.24</td><td>0.28</td><td>0.14</td><td>2023-03-18</td><td>Port of Tokyo (Japan)        </td></tr>\n",
              "\t<tr><th scope=row>207784</th><td>Weed Whacker               </td><td> 62.44</td><td>  3.78</td><td>0.83</td><td>0.26</td><td>0.27</td><td>2023-03-21</td><td>Port of Tokyo (Japan)        </td></tr>\n",
              "\t<tr><th scope=row>67501</th><td>Television                 </td><td>889.25</td><td> 25.13</td><td>1.03</td><td>0.30</td><td>0.15</td><td>2023-03-12</td><td>Port of Singapore (Singapore)</td></tr>\n",
              "\t<tr><th scope=row>96790</th><td>Desk Chair                 </td><td>197.52</td><td> 17.79</td><td>0.51</td><td>0.97</td><td>0.95</td><td>2023-03-22</td><td>Port of Singapore (Singapore)</td></tr>\n",
              "\t<tr><th scope=row>75522</th><td>Yoga Mat                   </td><td> 41.20</td><td>  1.93</td><td>1.48</td><td>0.60</td><td>0.01</td><td>2023-03-21</td><td>Port of Shanghai (China)     </td></tr>\n",
              "\t<tr><th scope=row>59919</th><td>Pallete of Beer Cases      </td><td>239.61</td><td>543.47</td><td>1.03</td><td>0.80</td><td>1.07</td><td>2023-03-12</td><td>Port of Busan (South Korea)  </td></tr>\n",
              "\t<tr><th scope=row>253572</th><td>Hiking Boots               </td><td> 58.37</td><td>  1.56</td><td>0.36</td><td>0.21</td><td>0.27</td><td>2023-03-14</td><td>Port of Singapore (Singapore)</td></tr>\n",
              "\t<tr><th scope=row>124660</th><td>Bookshelf                  </td><td>290.16</td><td> 33.99</td><td>0.82</td><td>0.79</td><td>1.27</td><td>2023-03-26</td><td>Port of Tokyo (Japan)        </td></tr>\n",
              "\t<tr><th scope=row>204036</th><td>Movie Night Pack           </td><td> 19.75</td><td>  3.50</td><td>0.98</td><td>0.56</td><td>0.26</td><td>2023-03-21</td><td>Port of Tokyo (Japan)        </td></tr>\n",
              "\t<tr><th scope=row>19376</th><td>Big Bag with Chemicals     </td><td>176.05</td><td>907.69</td><td>1.07</td><td>0.84</td><td>0.29</td><td>2023-03-13</td><td>Port of Singapore (Singapore)</td></tr>\n",
              "\t<tr><th scope=row>171310</th><td>Tennis Racket              </td><td>101.32</td><td>  0.40</td><td>0.67</td><td>0.26</td><td>0.01</td><td>2023-03-12</td><td>Port of Tokyo (Japan)        </td></tr>\n",
              "\t<tr><th scope=row>155251</th><td>Bicycle                    </td><td>714.57</td><td>  8.41</td><td>1.58</td><td>0.33</td><td>1.11</td><td>2023-03-17</td><td>Port of Tianjin (China)      </td></tr>\n",
              "\t<tr><th scope=row>146622</th><td>Mixed Dried Fruits         </td><td> 14.41</td><td>  0.53</td><td>0.40</td><td>0.22</td><td>0.17</td><td>2023-03-12</td><td>Port of Tianjin (China)      </td></tr>\n",
              "\t<tr><th scope=row>41413</th><td>Camera Bag                 </td><td> 39.73</td><td>  1.20</td><td>0.27</td><td>0.34</td><td>0.28</td><td>2023-03-28</td><td>Port of Tianjin (China)      </td></tr>\n",
              "\t<tr><th scope=row>65981</th><td>TV                         </td><td>906.70</td><td> 21.58</td><td>1.36</td><td>1.24</td><td>0.44</td><td>2023-03-12</td><td>Port of Tokyo (Japan)        </td></tr>\n",
              "\t<tr><th scope=row>86548</th><td>Medium Box                 </td><td> 12.36</td><td>  0.52</td><td>0.58</td><td>0.30</td><td>0.20</td><td>2023-03-27</td><td>Port of Singapore (Singapore)</td></tr>\n",
              "\t<tr><th scope=row>149055</th><td>Kitchen Timer              </td><td>  8.89</td><td>  0.11</td><td>0.14</td><td>0.20</td><td>0.12</td><td>2023-03-12</td><td>Port of Tianjin (China)      </td></tr>\n",
              "\t<tr><th scope=row>244491</th><td>Hoe                        </td><td> 24.69</td><td>  2.82</td><td>1.09</td><td>0.28</td><td>0.50</td><td>2023-03-19</td><td>Port of Shanghai (China)     </td></tr>\n",
              "\t<tr><th scope=row>150602</th><td>Pallete of Breakfast Cereal</td><td>154.76</td><td>351.97</td><td>1.11</td><td>0.99</td><td>1.24</td><td>2023-03-15</td><td>Port of Singapore (Singapore)</td></tr>\n",
              "</tbody>\n",
              "</table>\n"
            ],
            "text/markdown": "\nA data.frame: 20 × 8\n\n| <!--/--> | name &lt;chr&gt; | price.... &lt;dbl&gt; | weight..kg. &lt;dbl&gt; | length..m. &lt;dbl&gt; | width..m. &lt;dbl&gt; | height..m. &lt;dbl&gt; | shipment.date &lt;chr&gt; | destination.port &lt;chr&gt; |\n|---|---|---|---|---|---|---|---|---|\n| 114843 | Laptop                      | 520.25 |   1.34 | 0.30 | 0.30 | 0.04 | 2023-03-18 | Port of Tokyo (Japan)         |\n| 219668 | Spices Collection           |  33.35 |   0.86 | 0.24 | 0.28 | 0.14 | 2023-03-18 | Port of Tokyo (Japan)         |\n| 207784 | Weed Whacker                |  62.44 |   3.78 | 0.83 | 0.26 | 0.27 | 2023-03-21 | Port of Tokyo (Japan)         |\n| 67501 | Television                  | 889.25 |  25.13 | 1.03 | 0.30 | 0.15 | 2023-03-12 | Port of Singapore (Singapore) |\n| 96790 | Desk Chair                  | 197.52 |  17.79 | 0.51 | 0.97 | 0.95 | 2023-03-22 | Port of Singapore (Singapore) |\n| 75522 | Yoga Mat                    |  41.20 |   1.93 | 1.48 | 0.60 | 0.01 | 2023-03-21 | Port of Shanghai (China)      |\n| 59919 | Pallete of Beer Cases       | 239.61 | 543.47 | 1.03 | 0.80 | 1.07 | 2023-03-12 | Port of Busan (South Korea)   |\n| 253572 | Hiking Boots                |  58.37 |   1.56 | 0.36 | 0.21 | 0.27 | 2023-03-14 | Port of Singapore (Singapore) |\n| 124660 | Bookshelf                   | 290.16 |  33.99 | 0.82 | 0.79 | 1.27 | 2023-03-26 | Port of Tokyo (Japan)         |\n| 204036 | Movie Night Pack            |  19.75 |   3.50 | 0.98 | 0.56 | 0.26 | 2023-03-21 | Port of Tokyo (Japan)         |\n| 19376 | Big Bag with Chemicals      | 176.05 | 907.69 | 1.07 | 0.84 | 0.29 | 2023-03-13 | Port of Singapore (Singapore) |\n| 171310 | Tennis Racket               | 101.32 |   0.40 | 0.67 | 0.26 | 0.01 | 2023-03-12 | Port of Tokyo (Japan)         |\n| 155251 | Bicycle                     | 714.57 |   8.41 | 1.58 | 0.33 | 1.11 | 2023-03-17 | Port of Tianjin (China)       |\n| 146622 | Mixed Dried Fruits          |  14.41 |   0.53 | 0.40 | 0.22 | 0.17 | 2023-03-12 | Port of Tianjin (China)       |\n| 41413 | Camera Bag                  |  39.73 |   1.20 | 0.27 | 0.34 | 0.28 | 2023-03-28 | Port of Tianjin (China)       |\n| 65981 | TV                          | 906.70 |  21.58 | 1.36 | 1.24 | 0.44 | 2023-03-12 | Port of Tokyo (Japan)         |\n| 86548 | Medium Box                  |  12.36 |   0.52 | 0.58 | 0.30 | 0.20 | 2023-03-27 | Port of Singapore (Singapore) |\n| 149055 | Kitchen Timer               |   8.89 |   0.11 | 0.14 | 0.20 | 0.12 | 2023-03-12 | Port of Tianjin (China)       |\n| 244491 | Hoe                         |  24.69 |   2.82 | 1.09 | 0.28 | 0.50 | 2023-03-19 | Port of Shanghai (China)      |\n| 150602 | Pallete of Breakfast Cereal | 154.76 | 351.97 | 1.11 | 0.99 | 1.24 | 2023-03-15 | Port of Singapore (Singapore) |\n\n",
            "text/latex": "A data.frame: 20 × 8\n\\begin{tabular}{r|llllllll}\n  & name & price.... & weight..kg. & length..m. & width..m. & height..m. & shipment.date & destination.port\\\\\n  & <chr> & <dbl> & <dbl> & <dbl> & <dbl> & <dbl> & <chr> & <chr>\\\\\n\\hline\n\t114843 & Laptop                      & 520.25 &   1.34 & 0.30 & 0.30 & 0.04 & 2023-03-18 & Port of Tokyo (Japan)        \\\\\n\t219668 & Spices Collection           &  33.35 &   0.86 & 0.24 & 0.28 & 0.14 & 2023-03-18 & Port of Tokyo (Japan)        \\\\\n\t207784 & Weed Whacker                &  62.44 &   3.78 & 0.83 & 0.26 & 0.27 & 2023-03-21 & Port of Tokyo (Japan)        \\\\\n\t67501 & Television                  & 889.25 &  25.13 & 1.03 & 0.30 & 0.15 & 2023-03-12 & Port of Singapore (Singapore)\\\\\n\t96790 & Desk Chair                  & 197.52 &  17.79 & 0.51 & 0.97 & 0.95 & 2023-03-22 & Port of Singapore (Singapore)\\\\\n\t75522 & Yoga Mat                    &  41.20 &   1.93 & 1.48 & 0.60 & 0.01 & 2023-03-21 & Port of Shanghai (China)     \\\\\n\t59919 & Pallete of Beer Cases       & 239.61 & 543.47 & 1.03 & 0.80 & 1.07 & 2023-03-12 & Port of Busan (South Korea)  \\\\\n\t253572 & Hiking Boots                &  58.37 &   1.56 & 0.36 & 0.21 & 0.27 & 2023-03-14 & Port of Singapore (Singapore)\\\\\n\t124660 & Bookshelf                   & 290.16 &  33.99 & 0.82 & 0.79 & 1.27 & 2023-03-26 & Port of Tokyo (Japan)        \\\\\n\t204036 & Movie Night Pack            &  19.75 &   3.50 & 0.98 & 0.56 & 0.26 & 2023-03-21 & Port of Tokyo (Japan)        \\\\\n\t19376 & Big Bag with Chemicals      & 176.05 & 907.69 & 1.07 & 0.84 & 0.29 & 2023-03-13 & Port of Singapore (Singapore)\\\\\n\t171310 & Tennis Racket               & 101.32 &   0.40 & 0.67 & 0.26 & 0.01 & 2023-03-12 & Port of Tokyo (Japan)        \\\\\n\t155251 & Bicycle                     & 714.57 &   8.41 & 1.58 & 0.33 & 1.11 & 2023-03-17 & Port of Tianjin (China)      \\\\\n\t146622 & Mixed Dried Fruits          &  14.41 &   0.53 & 0.40 & 0.22 & 0.17 & 2023-03-12 & Port of Tianjin (China)      \\\\\n\t41413 & Camera Bag                  &  39.73 &   1.20 & 0.27 & 0.34 & 0.28 & 2023-03-28 & Port of Tianjin (China)      \\\\\n\t65981 & TV                          & 906.70 &  21.58 & 1.36 & 1.24 & 0.44 & 2023-03-12 & Port of Tokyo (Japan)        \\\\\n\t86548 & Medium Box                  &  12.36 &   0.52 & 0.58 & 0.30 & 0.20 & 2023-03-27 & Port of Singapore (Singapore)\\\\\n\t149055 & Kitchen Timer               &   8.89 &   0.11 & 0.14 & 0.20 & 0.12 & 2023-03-12 & Port of Tianjin (China)      \\\\\n\t244491 & Hoe                         &  24.69 &   2.82 & 1.09 & 0.28 & 0.50 & 2023-03-19 & Port of Shanghai (China)     \\\\\n\t150602 & Pallete of Breakfast Cereal & 154.76 & 351.97 & 1.11 & 0.99 & 1.24 & 2023-03-15 & Port of Singapore (Singapore)\\\\\n\\end{tabular}\n",
            "text/plain": [
              "       name                        price.... weight..kg. length..m. width..m.\n",
              "114843 Laptop                      520.25      1.34      0.30       0.30     \n",
              "219668 Spices Collection            33.35      0.86      0.24       0.28     \n",
              "207784 Weed Whacker                 62.44      3.78      0.83       0.26     \n",
              "67501  Television                  889.25     25.13      1.03       0.30     \n",
              "96790  Desk Chair                  197.52     17.79      0.51       0.97     \n",
              "75522  Yoga Mat                     41.20      1.93      1.48       0.60     \n",
              "59919  Pallete of Beer Cases       239.61    543.47      1.03       0.80     \n",
              "253572 Hiking Boots                 58.37      1.56      0.36       0.21     \n",
              "124660 Bookshelf                   290.16     33.99      0.82       0.79     \n",
              "204036 Movie Night Pack             19.75      3.50      0.98       0.56     \n",
              "19376  Big Bag with Chemicals      176.05    907.69      1.07       0.84     \n",
              "171310 Tennis Racket               101.32      0.40      0.67       0.26     \n",
              "155251 Bicycle                     714.57      8.41      1.58       0.33     \n",
              "146622 Mixed Dried Fruits           14.41      0.53      0.40       0.22     \n",
              "41413  Camera Bag                   39.73      1.20      0.27       0.34     \n",
              "65981  TV                          906.70     21.58      1.36       1.24     \n",
              "86548  Medium Box                   12.36      0.52      0.58       0.30     \n",
              "149055 Kitchen Timer                 8.89      0.11      0.14       0.20     \n",
              "244491 Hoe                          24.69      2.82      1.09       0.28     \n",
              "150602 Pallete of Breakfast Cereal 154.76    351.97      1.11       0.99     \n",
              "       height..m. shipment.date destination.port             \n",
              "114843 0.04       2023-03-18    Port of Tokyo (Japan)        \n",
              "219668 0.14       2023-03-18    Port of Tokyo (Japan)        \n",
              "207784 0.27       2023-03-21    Port of Tokyo (Japan)        \n",
              "67501  0.15       2023-03-12    Port of Singapore (Singapore)\n",
              "96790  0.95       2023-03-22    Port of Singapore (Singapore)\n",
              "75522  0.01       2023-03-21    Port of Shanghai (China)     \n",
              "59919  1.07       2023-03-12    Port of Busan (South Korea)  \n",
              "253572 0.27       2023-03-14    Port of Singapore (Singapore)\n",
              "124660 1.27       2023-03-26    Port of Tokyo (Japan)        \n",
              "204036 0.26       2023-03-21    Port of Tokyo (Japan)        \n",
              "19376  0.29       2023-03-13    Port of Singapore (Singapore)\n",
              "171310 0.01       2023-03-12    Port of Tokyo (Japan)        \n",
              "155251 1.11       2023-03-17    Port of Tianjin (China)      \n",
              "146622 0.17       2023-03-12    Port of Tianjin (China)      \n",
              "41413  0.28       2023-03-28    Port of Tianjin (China)      \n",
              "65981  0.44       2023-03-12    Port of Tokyo (Japan)        \n",
              "86548  0.20       2023-03-27    Port of Singapore (Singapore)\n",
              "149055 0.12       2023-03-12    Port of Tianjin (China)      \n",
              "244491 0.50       2023-03-19    Port of Shanghai (China)     \n",
              "150602 1.24       2023-03-15    Port of Singapore (Singapore)"
            ]
          },
          "metadata": {}
        }
      ]
    },
    {
      "cell_type": "markdown",
      "id": "f252d882-827e-46d2-a0a7-d15bf90202ed",
      "metadata": {
        "id": "f252d882-827e-46d2-a0a7-d15bf90202ed"
      },
      "source": [
        "#### Solution - 4"
      ]
    },
    {
      "cell_type": "code",
      "source": [
        "any(is.na(sampled_data))"
      ],
      "metadata": {
        "colab": {
          "base_uri": "https://localhost:8080/",
          "height": 34
        },
        "id": "qXq6gLDLPALm",
        "outputId": "734576f3-fcf4-42bc-ea3a-10a48dbfc68f"
      },
      "id": "qXq6gLDLPALm",
      "execution_count": 7,
      "outputs": [
        {
          "output_type": "display_data",
          "data": {
            "text/html": [
              "FALSE"
            ],
            "text/markdown": "FALSE",
            "text/latex": "FALSE",
            "text/plain": [
              "[1] FALSE"
            ]
          },
          "metadata": {}
        }
      ]
    },
    {
      "cell_type": "markdown",
      "id": "6b2b335a-a5e9-45d6-ad4e-d9254d34277e",
      "metadata": {
        "id": "6b2b335a-a5e9-45d6-ad4e-d9254d34277e"
      },
      "source": [
        " **💡Interpretation of Results💡-**\n",
        "\n",
        "There are no NA values in my sampled Data"
      ]
    },
    {
      "cell_type": "markdown",
      "id": "03e21a26-6ada-478b-b706-35a508b9bb53",
      "metadata": {
        "id": "03e21a26-6ada-478b-b706-35a508b9bb53"
      },
      "source": [
        "#### Solution - 5"
      ]
    },
    {
      "cell_type": "code",
      "source": [
        "head(sampled_data)"
      ],
      "metadata": {
        "colab": {
          "base_uri": "https://localhost:8080/",
          "height": 286
        },
        "id": "qYzkhH8VttH4",
        "outputId": "05f049ed-736a-40d7-8e7e-649a05419c1e"
      },
      "id": "qYzkhH8VttH4",
      "execution_count": 22,
      "outputs": [
        {
          "output_type": "display_data",
          "data": {
            "text/html": [
              "<table class=\"dataframe\">\n",
              "<caption>A data.frame: 6 × 8</caption>\n",
              "<thead>\n",
              "\t<tr><th></th><th scope=col>name</th><th scope=col>price....</th><th scope=col>weight..kg.</th><th scope=col>length..m.</th><th scope=col>width..m.</th><th scope=col>height..m.</th><th scope=col>shipment.date</th><th scope=col>destination.port</th></tr>\n",
              "\t<tr><th></th><th scope=col>&lt;chr&gt;</th><th scope=col>&lt;dbl&gt;</th><th scope=col>&lt;dbl&gt;</th><th scope=col>&lt;dbl&gt;</th><th scope=col>&lt;dbl&gt;</th><th scope=col>&lt;dbl&gt;</th><th scope=col>&lt;chr&gt;</th><th scope=col>&lt;chr&gt;</th></tr>\n",
              "</thead>\n",
              "<tbody>\n",
              "\t<tr><th scope=row>114843</th><td>Laptop           </td><td>520.25</td><td> 1.34</td><td>0.30</td><td>0.30</td><td>0.04</td><td>2023-03-18</td><td>Port of Tokyo (Japan)        </td></tr>\n",
              "\t<tr><th scope=row>219668</th><td>Spices Collection</td><td> 33.35</td><td> 0.86</td><td>0.24</td><td>0.28</td><td>0.14</td><td>2023-03-18</td><td>Port of Tokyo (Japan)        </td></tr>\n",
              "\t<tr><th scope=row>207784</th><td>Weed Whacker     </td><td> 62.44</td><td> 3.78</td><td>0.83</td><td>0.26</td><td>0.27</td><td>2023-03-21</td><td>Port of Tokyo (Japan)        </td></tr>\n",
              "\t<tr><th scope=row>67501</th><td>Television       </td><td>889.25</td><td>25.13</td><td>1.03</td><td>0.30</td><td>0.15</td><td>2023-03-12</td><td>Port of Singapore (Singapore)</td></tr>\n",
              "\t<tr><th scope=row>96790</th><td>Desk Chair       </td><td>197.52</td><td>17.79</td><td>0.51</td><td>0.97</td><td>0.95</td><td>2023-03-22</td><td>Port of Singapore (Singapore)</td></tr>\n",
              "\t<tr><th scope=row>75522</th><td>Yoga Mat         </td><td> 41.20</td><td> 1.93</td><td>1.48</td><td>0.60</td><td>0.01</td><td>2023-03-21</td><td>Port of Shanghai (China)     </td></tr>\n",
              "</tbody>\n",
              "</table>\n"
            ],
            "text/markdown": "\nA data.frame: 6 × 8\n\n| <!--/--> | name &lt;chr&gt; | price.... &lt;dbl&gt; | weight..kg. &lt;dbl&gt; | length..m. &lt;dbl&gt; | width..m. &lt;dbl&gt; | height..m. &lt;dbl&gt; | shipment.date &lt;chr&gt; | destination.port &lt;chr&gt; |\n|---|---|---|---|---|---|---|---|---|\n| 114843 | Laptop            | 520.25 |  1.34 | 0.30 | 0.30 | 0.04 | 2023-03-18 | Port of Tokyo (Japan)         |\n| 219668 | Spices Collection |  33.35 |  0.86 | 0.24 | 0.28 | 0.14 | 2023-03-18 | Port of Tokyo (Japan)         |\n| 207784 | Weed Whacker      |  62.44 |  3.78 | 0.83 | 0.26 | 0.27 | 2023-03-21 | Port of Tokyo (Japan)         |\n| 67501 | Television        | 889.25 | 25.13 | 1.03 | 0.30 | 0.15 | 2023-03-12 | Port of Singapore (Singapore) |\n| 96790 | Desk Chair        | 197.52 | 17.79 | 0.51 | 0.97 | 0.95 | 2023-03-22 | Port of Singapore (Singapore) |\n| 75522 | Yoga Mat          |  41.20 |  1.93 | 1.48 | 0.60 | 0.01 | 2023-03-21 | Port of Shanghai (China)      |\n\n",
            "text/latex": "A data.frame: 6 × 8\n\\begin{tabular}{r|llllllll}\n  & name & price.... & weight..kg. & length..m. & width..m. & height..m. & shipment.date & destination.port\\\\\n  & <chr> & <dbl> & <dbl> & <dbl> & <dbl> & <dbl> & <chr> & <chr>\\\\\n\\hline\n\t114843 & Laptop            & 520.25 &  1.34 & 0.30 & 0.30 & 0.04 & 2023-03-18 & Port of Tokyo (Japan)        \\\\\n\t219668 & Spices Collection &  33.35 &  0.86 & 0.24 & 0.28 & 0.14 & 2023-03-18 & Port of Tokyo (Japan)        \\\\\n\t207784 & Weed Whacker      &  62.44 &  3.78 & 0.83 & 0.26 & 0.27 & 2023-03-21 & Port of Tokyo (Japan)        \\\\\n\t67501 & Television        & 889.25 & 25.13 & 1.03 & 0.30 & 0.15 & 2023-03-12 & Port of Singapore (Singapore)\\\\\n\t96790 & Desk Chair        & 197.52 & 17.79 & 0.51 & 0.97 & 0.95 & 2023-03-22 & Port of Singapore (Singapore)\\\\\n\t75522 & Yoga Mat          &  41.20 &  1.93 & 1.48 & 0.60 & 0.01 & 2023-03-21 & Port of Shanghai (China)     \\\\\n\\end{tabular}\n",
            "text/plain": [
              "       name              price.... weight..kg. length..m. width..m. height..m.\n",
              "114843 Laptop            520.25     1.34       0.30       0.30      0.04      \n",
              "219668 Spices Collection  33.35     0.86       0.24       0.28      0.14      \n",
              "207784 Weed Whacker       62.44     3.78       0.83       0.26      0.27      \n",
              "67501  Television        889.25    25.13       1.03       0.30      0.15      \n",
              "96790  Desk Chair        197.52    17.79       0.51       0.97      0.95      \n",
              "75522  Yoga Mat           41.20     1.93       1.48       0.60      0.01      \n",
              "       shipment.date destination.port             \n",
              "114843 2023-03-18    Port of Tokyo (Japan)        \n",
              "219668 2023-03-18    Port of Tokyo (Japan)        \n",
              "207784 2023-03-21    Port of Tokyo (Japan)        \n",
              "67501  2023-03-12    Port of Singapore (Singapore)\n",
              "96790  2023-03-22    Port of Singapore (Singapore)\n",
              "75522  2023-03-21    Port of Shanghai (China)     "
            ]
          },
          "metadata": {}
        }
      ]
    },
    {
      "cell_type": "code",
      "source": [
        "summary(sampled_data)"
      ],
      "metadata": {
        "colab": {
          "base_uri": "https://localhost:8080/",
          "height": 260
        },
        "id": "1gRpOE8JODv1",
        "outputId": "ce03c57c-cc90-44d9-8c23-cb7ce33aebd0"
      },
      "id": "1gRpOE8JODv1",
      "execution_count": 21,
      "outputs": [
        {
          "output_type": "display_data",
          "data": {
            "text/plain": [
              "     name             price....       weight..kg.        length..m.    \n",
              " Length:20          Min.   :  8.89   Min.   :  0.110   Min.   :0.1400  \n",
              " Class :character   1st Qu.: 31.18   1st Qu.:  1.115   1st Qu.:0.3900  \n",
              " Mode  :character   Median : 81.88   Median :  3.160   Median :0.8250  \n",
              "                    Mean   :225.27   Mean   : 96.429   Mean   :0.7925  \n",
              "                    3rd Qu.:252.25   3rd Qu.: 22.468   3rd Qu.:1.0750  \n",
              "                    Max.   :906.70   Max.   :907.690   Max.   :1.5800  \n",
              "   width..m.        height..m.     shipment.date      destination.port  \n",
              " Min.   :0.2000   Min.   :0.0100   Length:20          Length:20         \n",
              " 1st Qu.:0.2750   1st Qu.:0.1475   Class :character   Class :character  \n",
              " Median :0.3150   Median :0.2700   Mode  :character   Mode  :character  \n",
              " Mean   :0.5035   Mean   :0.4395                                        \n",
              " 3rd Qu.:0.7925   3rd Qu.:0.6125                                        \n",
              " Max.   :1.2400   Max.   :1.2700                                        "
            ]
          },
          "metadata": {}
        }
      ]
    },
    {
      "cell_type": "code",
      "source": [
        "shipping2 <- scale(sampled_data[,2:6])"
      ],
      "metadata": {
        "id": "LMnZ3d0Tj6Ot"
      },
      "id": "LMnZ3d0Tj6Ot",
      "execution_count": 23,
      "outputs": []
    },
    {
      "cell_type": "code",
      "source": [
        "head(shipping2)"
      ],
      "metadata": {
        "colab": {
          "base_uri": "https://localhost:8080/",
          "height": 255
        },
        "id": "1x-Wc5kxj4QY",
        "outputId": "128a0416-4cbc-42ca-d3ee-28637d67d9a6"
      },
      "id": "1x-Wc5kxj4QY",
      "execution_count": 24,
      "outputs": [
        {
          "output_type": "display_data",
          "data": {
            "text/html": [
              "<table class=\"dataframe\">\n",
              "<caption>A matrix: 6 × 5 of type dbl</caption>\n",
              "<thead>\n",
              "\t<tr><th></th><th scope=col>price....</th><th scope=col>weight..kg.</th><th scope=col>length..m.</th><th scope=col>width..m.</th><th scope=col>height..m.</th></tr>\n",
              "</thead>\n",
              "<tbody>\n",
              "\t<tr><th scope=row>114843</th><td> 1.00459233</td><td>-0.4026088</td><td>-1.13794315</td><td>-0.6351130</td><td>-0.9290175</td></tr>\n",
              "\t<tr><th scope=row>219668</th><td>-0.65360262</td><td>-0.4046412</td><td>-1.27657582</td><td>-0.6975319</td><td>-0.6964725</td></tr>\n",
              "\t<tr><th scope=row>207784</th><td>-0.55453322</td><td>-0.3922778</td><td> 0.08664542</td><td>-0.7599509</td><td>-0.3941639</td></tr>\n",
              "\t<tr><th scope=row>67501</th><td> 2.26126502</td><td>-0.3018815</td><td> 0.54875431</td><td>-0.6351130</td><td>-0.6732180</td></tr>\n",
              "\t<tr><th scope=row>96790</th><td>-0.09450247</td><td>-0.3329592</td><td>-0.65272881</td><td> 1.4559224</td><td> 1.1871426</td></tr>\n",
              "\t<tr><th scope=row>75522</th><td>-0.62686853</td><td>-0.4001108</td><td> 1.58849932</td><td> 0.3011715</td><td>-0.9987811</td></tr>\n",
              "</tbody>\n",
              "</table>\n"
            ],
            "text/markdown": "\nA matrix: 6 × 5 of type dbl\n\n| <!--/--> | price.... | weight..kg. | length..m. | width..m. | height..m. |\n|---|---|---|---|---|---|\n| 114843 |  1.00459233 | -0.4026088 | -1.13794315 | -0.6351130 | -0.9290175 |\n| 219668 | -0.65360262 | -0.4046412 | -1.27657582 | -0.6975319 | -0.6964725 |\n| 207784 | -0.55453322 | -0.3922778 |  0.08664542 | -0.7599509 | -0.3941639 |\n| 67501 |  2.26126502 | -0.3018815 |  0.54875431 | -0.6351130 | -0.6732180 |\n| 96790 | -0.09450247 | -0.3329592 | -0.65272881 |  1.4559224 |  1.1871426 |\n| 75522 | -0.62686853 | -0.4001108 |  1.58849932 |  0.3011715 | -0.9987811 |\n\n",
            "text/latex": "A matrix: 6 × 5 of type dbl\n\\begin{tabular}{r|lllll}\n  & price.... & weight..kg. & length..m. & width..m. & height..m.\\\\\n\\hline\n\t114843 &  1.00459233 & -0.4026088 & -1.13794315 & -0.6351130 & -0.9290175\\\\\n\t219668 & -0.65360262 & -0.4046412 & -1.27657582 & -0.6975319 & -0.6964725\\\\\n\t207784 & -0.55453322 & -0.3922778 &  0.08664542 & -0.7599509 & -0.3941639\\\\\n\t67501 &  2.26126502 & -0.3018815 &  0.54875431 & -0.6351130 & -0.6732180\\\\\n\t96790 & -0.09450247 & -0.3329592 & -0.65272881 &  1.4559224 &  1.1871426\\\\\n\t75522 & -0.62686853 & -0.4001108 &  1.58849932 &  0.3011715 & -0.9987811\\\\\n\\end{tabular}\n",
            "text/plain": [
              "       price....   weight..kg. length..m.  width..m.  height..m.\n",
              "114843  1.00459233 -0.4026088  -1.13794315 -0.6351130 -0.9290175\n",
              "219668 -0.65360262 -0.4046412  -1.27657582 -0.6975319 -0.6964725\n",
              "207784 -0.55453322 -0.3922778   0.08664542 -0.7599509 -0.3941639\n",
              "67501   2.26126502 -0.3018815   0.54875431 -0.6351130 -0.6732180\n",
              "96790  -0.09450247 -0.3329592  -0.65272881  1.4559224  1.1871426\n",
              "75522  -0.62686853 -0.4001108   1.58849932  0.3011715 -0.9987811"
            ]
          },
          "metadata": {}
        }
      ]
    },
    {
      "cell_type": "markdown",
      "id": "c96eab80-ca48-40c3-b9de-fe48e7edcee0",
      "metadata": {
        "id": "c96eab80-ca48-40c3-b9de-fe48e7edcee0"
      },
      "source": [
        "**💡Interpretation💡-**\n",
        "\n",
        "Looking at the dataset summary, we can see that the numeric variables such as price, weight, length, width and height are on different scales. We will need to scale the dataset for clustering. Scaling these numeric variables would ensure that each variable contributes equally to analysis and prevent variables with larger scales from dominating the results."
      ]
    },
    {
      "cell_type": "markdown",
      "id": "d349362c-dcd7-45b5-921f-c4389485669b",
      "metadata": {
        "id": "d349362c-dcd7-45b5-921f-c4389485669b"
      },
      "source": [
        "#### Solution - 6"
      ]
    },
    {
      "cell_type": "code",
      "source": [
        "d <- dist(shipping2, method = \"euclidean\")"
      ],
      "metadata": {
        "id": "qlr6iX6avfTq"
      },
      "id": "qlr6iX6avfTq",
      "execution_count": 25,
      "outputs": []
    },
    {
      "cell_type": "code",
      "source": [
        "hiermodel <- hclust(d,method = \"single\")"
      ],
      "metadata": {
        "id": "viTzCGrqxV8O"
      },
      "id": "viTzCGrqxV8O",
      "execution_count": 26,
      "outputs": []
    },
    {
      "cell_type": "markdown",
      "metadata": {
        "id": "eBUHpnHZxqmp"
      },
      "source": [
        "#### Solution - 6 a."
      ],
      "id": "eBUHpnHZxqmp"
    },
    {
      "cell_type": "code",
      "source": [
        "# Dendrogram\n",
        "hiermodel$name <- sampled_data$name\n",
        "\n",
        "plot(hiermodel, hang = -20, ann=FALSE, labels = hiermodel$name)"
      ],
      "metadata": {
        "id": "JQzvOogApkr0",
        "colab": {
          "base_uri": "https://localhost:8080/",
          "height": 437
        },
        "outputId": "27500876-7e83-4d36-9116-decd51c1e60d"
      },
      "id": "JQzvOogApkr0",
      "execution_count": 28,
      "outputs": [
        {
          "output_type": "display_data",
          "data": {
            "text/plain": [
              "plot without title"
            ],
            "image/png": "[encoded data removed]"
          },
          "metadata": {
            "image/png": {
              "width": 420,
              "height": 420
            }
          }
        }
      ]
    },
    {
      "cell_type": "markdown",
      "metadata": {
        "id": "qW8xvAkn3Kuj"
      },
      "source": [
        "#### Solution - 6 b."
      ],
      "id": "qW8xvAkn3Kuj"
    },
    {
      "cell_type": "markdown",
      "source": [
        "**💡Solution💡-**\n",
        "\n",
        "I observe three distinct clusters.\n",
        "\n",
        "The first cluster includes items such as “TV,” “Bicycle,” “Television,” “Yoga Mat,” and “Movie Night Pack.”\n",
        "The second cluster consists of “Weed Whacker,” “Tennis Racket,” “Moving Box,” “Mixed Dried Fruits,” “Spice Collection,” and “Kitchen Timer.”\n",
        "The third cluster contains “Big Bag with Cheetahs,” “Plate of Breakfast Cereal,” “Desk Chair,” and “Bookshelf.”"
      ],
      "metadata": {
        "id": "rAeFhRLvYbAB"
      },
      "id": "rAeFhRLvYbAB"
    },
    {
      "cell_type": "markdown",
      "metadata": {
        "id": "hbyj1wAB3WUT"
      },
      "source": [
        "#### Solution - 6 c."
      ],
      "id": "hbyj1wAB3WUT"
    },
    {
      "cell_type": "code",
      "source": [
        "clusters <- cutree(hiermodel, k=5)\n",
        "clusters"
      ],
      "metadata": {
        "colab": {
          "base_uri": "https://localhost:8080/",
          "height": 52
        },
        "id": "JT54LI243sc6",
        "outputId": "6b01df08-ac8a-4c4e-b078-9eee1d565474"
      },
      "id": "JT54LI243sc6",
      "execution_count": 31,
      "outputs": [
        {
          "output_type": "display_data",
          "data": {
            "text/html": [
              "<style>\n",
              ".dl-inline {width: auto; margin:0; padding: 0}\n",
              ".dl-inline>dt, .dl-inline>dd {float: none; width: auto; display: inline-block}\n",
              ".dl-inline>dt::after {content: \":\\0020\"; padding-right: .5ex}\n",
              ".dl-inline>dt:not(:first-of-type) {padding-left: .5ex}\n",
              "</style><dl class=dl-inline><dt>114843</dt><dd>1</dd><dt>219668</dt><dd>1</dd><dt>207784</dt><dd>1</dd><dt>67501</dt><dd>1</dd><dt>96790</dt><dd>2</dd><dt>75522</dt><dd>1</dd><dt>59919</dt><dd>2</dd><dt>253572</dt><dd>1</dd><dt>124660</dt><dd>2</dd><dt>204036</dt><dd>1</dd><dt>19376</dt><dd>3</dd><dt>171310</dt><dd>1</dd><dt>155251</dt><dd>4</dd><dt>146622</dt><dd>1</dd><dt>41413</dt><dd>1</dd><dt>65981</dt><dd>5</dd><dt>86548</dt><dd>1</dd><dt>149055</dt><dd>1</dd><dt>244491</dt><dd>1</dd><dt>150602</dt><dd>2</dd></dl>\n"
            ],
            "text/markdown": "114843\n:   1219668\n:   1207784\n:   167501\n:   196790\n:   275522\n:   159919\n:   2253572\n:   1124660\n:   2204036\n:   119376\n:   3171310\n:   1155251\n:   4146622\n:   141413\n:   165981\n:   586548\n:   1149055\n:   1244491\n:   1150602\n:   2\n\n",
            "text/latex": "\\begin{description*}\n\\item[114843] 1\n\\item[219668] 1\n\\item[207784] 1\n\\item[67501] 1\n\\item[96790] 2\n\\item[75522] 1\n\\item[59919] 2\n\\item[253572] 1\n\\item[124660] 2\n\\item[204036] 1\n\\item[19376] 3\n\\item[171310] 1\n\\item[155251] 4\n\\item[146622] 1\n\\item[41413] 1\n\\item[65981] 5\n\\item[86548] 1\n\\item[149055] 1\n\\item[244491] 1\n\\item[150602] 2\n\\end{description*}\n",
            "text/plain": [
              "114843 219668 207784  67501  96790  75522  59919 253572 124660 204036  19376 \n",
              "     1      1      1      1      2      1      2      1      2      1      3 \n",
              "171310 155251 146622  41413  65981  86548 149055 244491 150602 \n",
              "     1      4      1      1      5      1      1      1      2 "
            ]
          },
          "metadata": {}
        }
      ]
    },
    {
      "cell_type": "code",
      "source": [
        "cbind(name = sampled_data$name, clusters)"
      ],
      "metadata": {
        "colab": {
          "base_uri": "https://localhost:8080/",
          "height": 694
        },
        "id": "EosEfDvz4Qiz",
        "outputId": "054cabc6-f99b-44a3-a2a8-774d92156c30"
      },
      "id": "EosEfDvz4Qiz",
      "execution_count": 32,
      "outputs": [
        {
          "output_type": "display_data",
          "data": {
            "text/html": [
              "<table class=\"dataframe\">\n",
              "<caption>A matrix: 20 × 2 of type chr</caption>\n",
              "<thead>\n",
              "\t<tr><th></th><th scope=col>name</th><th scope=col>clusters</th></tr>\n",
              "</thead>\n",
              "<tbody>\n",
              "\t<tr><th scope=row>114843</th><td>Laptop                     </td><td>1</td></tr>\n",
              "\t<tr><th scope=row>219668</th><td>Spices Collection          </td><td>1</td></tr>\n",
              "\t<tr><th scope=row>207784</th><td>Weed Whacker               </td><td>1</td></tr>\n",
              "\t<tr><th scope=row>67501</th><td>Television                 </td><td>1</td></tr>\n",
              "\t<tr><th scope=row>96790</th><td>Desk Chair                 </td><td>2</td></tr>\n",
              "\t<tr><th scope=row>75522</th><td>Yoga Mat                   </td><td>1</td></tr>\n",
              "\t<tr><th scope=row>59919</th><td>Pallete of Beer Cases      </td><td>2</td></tr>\n",
              "\t<tr><th scope=row>253572</th><td>Hiking Boots               </td><td>1</td></tr>\n",
              "\t<tr><th scope=row>124660</th><td>Bookshelf                  </td><td>2</td></tr>\n",
              "\t<tr><th scope=row>204036</th><td>Movie Night Pack           </td><td>1</td></tr>\n",
              "\t<tr><th scope=row>19376</th><td>Big Bag with Chemicals     </td><td>3</td></tr>\n",
              "\t<tr><th scope=row>171310</th><td>Tennis Racket              </td><td>1</td></tr>\n",
              "\t<tr><th scope=row>155251</th><td>Bicycle                    </td><td>4</td></tr>\n",
              "\t<tr><th scope=row>146622</th><td>Mixed Dried Fruits         </td><td>1</td></tr>\n",
              "\t<tr><th scope=row>41413</th><td>Camera Bag                 </td><td>1</td></tr>\n",
              "\t<tr><th scope=row>65981</th><td>TV                         </td><td>5</td></tr>\n",
              "\t<tr><th scope=row>86548</th><td>Medium Box                 </td><td>1</td></tr>\n",
              "\t<tr><th scope=row>149055</th><td>Kitchen Timer              </td><td>1</td></tr>\n",
              "\t<tr><th scope=row>244491</th><td>Hoe                        </td><td>1</td></tr>\n",
              "\t<tr><th scope=row>150602</th><td>Pallete of Breakfast Cereal</td><td>2</td></tr>\n",
              "</tbody>\n",
              "</table>\n"
            ],
            "text/markdown": "\nA matrix: 20 × 2 of type chr\n\n| <!--/--> | name | clusters |\n|---|---|---|\n| 114843 | Laptop                      | 1 |\n| 219668 | Spices Collection           | 1 |\n| 207784 | Weed Whacker                | 1 |\n| 67501 | Television                  | 1 |\n| 96790 | Desk Chair                  | 2 |\n| 75522 | Yoga Mat                    | 1 |\n| 59919 | Pallete of Beer Cases       | 2 |\n| 253572 | Hiking Boots                | 1 |\n| 124660 | Bookshelf                   | 2 |\n| 204036 | Movie Night Pack            | 1 |\n| 19376 | Big Bag with Chemicals      | 3 |\n| 171310 | Tennis Racket               | 1 |\n| 155251 | Bicycle                     | 4 |\n| 146622 | Mixed Dried Fruits          | 1 |\n| 41413 | Camera Bag                  | 1 |\n| 65981 | TV                          | 5 |\n| 86548 | Medium Box                  | 1 |\n| 149055 | Kitchen Timer               | 1 |\n| 244491 | Hoe                         | 1 |\n| 150602 | Pallete of Breakfast Cereal | 2 |\n\n",
            "text/latex": "A matrix: 20 × 2 of type chr\n\\begin{tabular}{r|ll}\n  & name & clusters\\\\\n\\hline\n\t114843 & Laptop                      & 1\\\\\n\t219668 & Spices Collection           & 1\\\\\n\t207784 & Weed Whacker                & 1\\\\\n\t67501 & Television                  & 1\\\\\n\t96790 & Desk Chair                  & 2\\\\\n\t75522 & Yoga Mat                    & 1\\\\\n\t59919 & Pallete of Beer Cases       & 2\\\\\n\t253572 & Hiking Boots                & 1\\\\\n\t124660 & Bookshelf                   & 2\\\\\n\t204036 & Movie Night Pack            & 1\\\\\n\t19376 & Big Bag with Chemicals      & 3\\\\\n\t171310 & Tennis Racket               & 1\\\\\n\t155251 & Bicycle                     & 4\\\\\n\t146622 & Mixed Dried Fruits          & 1\\\\\n\t41413 & Camera Bag                  & 1\\\\\n\t65981 & TV                          & 5\\\\\n\t86548 & Medium Box                  & 1\\\\\n\t149055 & Kitchen Timer               & 1\\\\\n\t244491 & Hoe                         & 1\\\\\n\t150602 & Pallete of Breakfast Cereal & 2\\\\\n\\end{tabular}\n",
            "text/plain": [
              "       name                        clusters\n",
              "114843 Laptop                      1       \n",
              "219668 Spices Collection           1       \n",
              "207784 Weed Whacker                1       \n",
              "67501  Television                  1       \n",
              "96790  Desk Chair                  2       \n",
              "75522  Yoga Mat                    1       \n",
              "59919  Pallete of Beer Cases       2       \n",
              "253572 Hiking Boots                1       \n",
              "124660 Bookshelf                   2       \n",
              "204036 Movie Night Pack            1       \n",
              "19376  Big Bag with Chemicals      3       \n",
              "171310 Tennis Racket               1       \n",
              "155251 Bicycle                     4       \n",
              "146622 Mixed Dried Fruits          1       \n",
              "41413  Camera Bag                  1       \n",
              "65981  TV                          5       \n",
              "86548  Medium Box                  1       \n",
              "149055 Kitchen Timer               1       \n",
              "244491 Hoe                         1       \n",
              "150602 Pallete of Breakfast Cereal 2       "
            ]
          },
          "metadata": {}
        }
      ]
    },
    {
      "cell_type": "markdown",
      "metadata": {
        "id": "-lE-gE9J4cno"
      },
      "source": [
        "#### Solution - 6 d."
      ],
      "id": "-lE-gE9J4cno"
    },
    {
      "cell_type": "code",
      "source": [
        "# Install and load the magrittr package\n",
        "install.packages(\"magrittr\")\n",
        "library(magrittr)\n",
        "\n",
        "# Install and load the dplyr package\n",
        "install.packages(\"dplyr\")\n",
        "library(dplyr)\n"
      ],
      "metadata": {
        "colab": {
          "base_uri": "https://localhost:8080/",
          "height": 0
        },
        "id": "VqKRogfO5oys",
        "outputId": "27254ce3-37f3-4345-d06f-9f294d9bfe4e"
      },
      "id": "VqKRogfO5oys",
      "execution_count": 37,
      "outputs": [
        {
          "output_type": "stream",
          "name": "stderr",
          "text": [
            "Installing package into ‘/usr/local/lib/R/site-library’\n",
            "(as ‘lib’ is unspecified)\n",
            "\n",
            "Installing package into ‘/usr/local/lib/R/site-library’\n",
            "(as ‘lib’ is unspecified)\n",
            "\n",
            "\n",
            "Attaching package: ‘dplyr’\n",
            "\n",
            "\n",
            "The following objects are masked from ‘package:stats’:\n",
            "\n",
            "    filter, lag\n",
            "\n",
            "\n",
            "The following objects are masked from ‘package:base’:\n",
            "\n",
            "    intersect, setdiff, setequal, union\n",
            "\n",
            "\n"
          ]
        }
      ]
    },
    {
      "cell_type": "code",
      "source": [
        "# Summarize data by clusters\n",
        "od<-sampled_data[,2:6]\n",
        "od$clusters <- clusters"
      ],
      "metadata": {
        "id": "TwspZwR84jE8"
      },
      "id": "TwspZwR84jE8",
      "execution_count": 33,
      "outputs": []
    },
    {
      "cell_type": "code",
      "source": [
        "grouped <-od %>%\n",
        "  group_by(clusters) %>%\n",
        "  summarize_all(list(mean=mean, sd=sd, median=median))\n",
        "grouped"
      ],
      "metadata": {
        "colab": {
          "base_uri": "https://localhost:8080/",
          "height": 275
        },
        "id": "rmMFAUdm49VT",
        "outputId": "ce53044c-63e9-49bf-d93e-4210ad8eaf40"
      },
      "id": "rmMFAUdm49VT",
      "execution_count": 39,
      "outputs": [
        {
          "output_type": "display_data",
          "data": {
            "text/html": [
              "<table class=\"dataframe\">\n",
              "<caption>A tibble: 5 × 16</caption>\n",
              "<thead>\n",
              "\t<tr><th scope=col>clusters</th><th scope=col>price...._mean</th><th scope=col>weight..kg._mean</th><th scope=col>length..m._mean</th><th scope=col>width..m._mean</th><th scope=col>height..m._mean</th><th scope=col>price...._sd</th><th scope=col>weight..kg._sd</th><th scope=col>length..m._sd</th><th scope=col>width..m._sd</th><th scope=col>height..m._sd</th><th scope=col>price...._median</th><th scope=col>weight..kg._median</th><th scope=col>length..m._median</th><th scope=col>width..m._median</th><th scope=col>height..m._median</th></tr>\n",
              "\t<tr><th scope=col>&lt;int&gt;</th><th scope=col>&lt;dbl&gt;</th><th scope=col>&lt;dbl&gt;</th><th scope=col>&lt;dbl&gt;</th><th scope=col>&lt;dbl&gt;</th><th scope=col>&lt;dbl&gt;</th><th scope=col>&lt;dbl&gt;</th><th scope=col>&lt;dbl&gt;</th><th scope=col>&lt;dbl&gt;</th><th scope=col>&lt;dbl&gt;</th><th scope=col>&lt;dbl&gt;</th><th scope=col>&lt;dbl&gt;</th><th scope=col>&lt;dbl&gt;</th><th scope=col>&lt;dbl&gt;</th><th scope=col>&lt;dbl&gt;</th><th scope=col>&lt;dbl&gt;</th></tr>\n",
              "</thead>\n",
              "<tbody>\n",
              "\t<tr><td>1</td><td>140.4623</td><td>  3.360</td><td>0.6438462</td><td>0.3161538</td><td>0.1861538</td><td>262.73225</td><td>  6.646428</td><td>0.4097466</td><td>0.1239313</td><td>0.1349406</td><td> 39.730</td><td>  1.34</td><td>0.580</td><td>0.280</td><td>0.170</td></tr>\n",
              "\t<tr><td>2</td><td>220.5125</td><td>236.805</td><td>0.8675000</td><td>0.8875000</td><td>1.1325000</td><td> 57.92966</td><td>255.869689</td><td>0.2678775</td><td>0.1071992</td><td>0.1501943</td><td>218.565</td><td>192.98</td><td>0.925</td><td>0.885</td><td>1.155</td></tr>\n",
              "\t<tr><td>3</td><td>176.0500</td><td>907.690</td><td>1.0700000</td><td>0.8400000</td><td>0.2900000</td><td>       NA</td><td>        NA</td><td>       NA</td><td>       NA</td><td>       NA</td><td>176.050</td><td>907.69</td><td>1.070</td><td>0.840</td><td>0.290</td></tr>\n",
              "\t<tr><td>4</td><td>714.5700</td><td>  8.410</td><td>1.5800000</td><td>0.3300000</td><td>1.1100000</td><td>       NA</td><td>        NA</td><td>       NA</td><td>       NA</td><td>       NA</td><td>714.570</td><td>  8.41</td><td>1.580</td><td>0.330</td><td>1.110</td></tr>\n",
              "\t<tr><td>5</td><td>906.7000</td><td> 21.580</td><td>1.3600000</td><td>1.2400000</td><td>0.4400000</td><td>       NA</td><td>        NA</td><td>       NA</td><td>       NA</td><td>       NA</td><td>906.700</td><td> 21.58</td><td>1.360</td><td>1.240</td><td>0.440</td></tr>\n",
              "</tbody>\n",
              "</table>\n"
            ],
            "text/markdown": "\nA tibble: 5 × 16\n\n| clusters &lt;int&gt; | price...._mean &lt;dbl&gt; | weight..kg._mean &lt;dbl&gt; | length..m._mean &lt;dbl&gt; | width..m._mean &lt;dbl&gt; | height..m._mean &lt;dbl&gt; | price...._sd &lt;dbl&gt; | weight..kg._sd &lt;dbl&gt; | length..m._sd &lt;dbl&gt; | width..m._sd &lt;dbl&gt; | height..m._sd &lt;dbl&gt; | price...._median &lt;dbl&gt; | weight..kg._median &lt;dbl&gt; | length..m._median &lt;dbl&gt; | width..m._median &lt;dbl&gt; | height..m._median &lt;dbl&gt; |\n|---|---|---|---|---|---|---|---|---|---|---|---|---|---|---|---|\n| 1 | 140.4623 |   3.360 | 0.6438462 | 0.3161538 | 0.1861538 | 262.73225 |   6.646428 | 0.4097466 | 0.1239313 | 0.1349406 |  39.730 |   1.34 | 0.580 | 0.280 | 0.170 |\n| 2 | 220.5125 | 236.805 | 0.8675000 | 0.8875000 | 1.1325000 |  57.92966 | 255.869689 | 0.2678775 | 0.1071992 | 0.1501943 | 218.565 | 192.98 | 0.925 | 0.885 | 1.155 |\n| 3 | 176.0500 | 907.690 | 1.0700000 | 0.8400000 | 0.2900000 |        NA |         NA |        NA |        NA |        NA | 176.050 | 907.69 | 1.070 | 0.840 | 0.290 |\n| 4 | 714.5700 |   8.410 | 1.5800000 | 0.3300000 | 1.1100000 |        NA |         NA |        NA |        NA |        NA | 714.570 |   8.41 | 1.580 | 0.330 | 1.110 |\n| 5 | 906.7000 |  21.580 | 1.3600000 | 1.2400000 | 0.4400000 |        NA |         NA |        NA |        NA |        NA | 906.700 |  21.58 | 1.360 | 1.240 | 0.440 |\n\n",
            "text/latex": "A tibble: 5 × 16\n\\begin{tabular}{llllllllllllllll}\n clusters & price....\\_mean & weight..kg.\\_mean & length..m.\\_mean & width..m.\\_mean & height..m.\\_mean & price....\\_sd & weight..kg.\\_sd & length..m.\\_sd & width..m.\\_sd & height..m.\\_sd & price....\\_median & weight..kg.\\_median & length..m.\\_median & width..m.\\_median & height..m.\\_median\\\\\n <int> & <dbl> & <dbl> & <dbl> & <dbl> & <dbl> & <dbl> & <dbl> & <dbl> & <dbl> & <dbl> & <dbl> & <dbl> & <dbl> & <dbl> & <dbl>\\\\\n\\hline\n\t 1 & 140.4623 &   3.360 & 0.6438462 & 0.3161538 & 0.1861538 & 262.73225 &   6.646428 & 0.4097466 & 0.1239313 & 0.1349406 &  39.730 &   1.34 & 0.580 & 0.280 & 0.170\\\\\n\t 2 & 220.5125 & 236.805 & 0.8675000 & 0.8875000 & 1.1325000 &  57.92966 & 255.869689 & 0.2678775 & 0.1071992 & 0.1501943 & 218.565 & 192.98 & 0.925 & 0.885 & 1.155\\\\\n\t 3 & 176.0500 & 907.690 & 1.0700000 & 0.8400000 & 0.2900000 &        NA &         NA &        NA &        NA &        NA & 176.050 & 907.69 & 1.070 & 0.840 & 0.290\\\\\n\t 4 & 714.5700 &   8.410 & 1.5800000 & 0.3300000 & 1.1100000 &        NA &         NA &        NA &        NA &        NA & 714.570 &   8.41 & 1.580 & 0.330 & 1.110\\\\\n\t 5 & 906.7000 &  21.580 & 1.3600000 & 1.2400000 & 0.4400000 &        NA &         NA &        NA &        NA &        NA & 906.700 &  21.58 & 1.360 & 1.240 & 0.440\\\\\n\\end{tabular}\n",
            "text/plain": [
              "  clusters price...._mean weight..kg._mean length..m._mean width..m._mean\n",
              "1 1        140.4623         3.360          0.6438462       0.3161538     \n",
              "2 2        220.5125       236.805          0.8675000       0.8875000     \n",
              "3 3        176.0500       907.690          1.0700000       0.8400000     \n",
              "4 4        714.5700         8.410          1.5800000       0.3300000     \n",
              "5 5        906.7000        21.580          1.3600000       1.2400000     \n",
              "  height..m._mean price...._sd weight..kg._sd length..m._sd width..m._sd\n",
              "1 0.1861538       262.73225      6.646428     0.4097466     0.1239313   \n",
              "2 1.1325000        57.92966    255.869689     0.2678775     0.1071992   \n",
              "3 0.2900000              NA            NA            NA            NA   \n",
              "4 1.1100000              NA            NA            NA            NA   \n",
              "5 0.4400000              NA            NA            NA            NA   \n",
              "  height..m._sd price...._median weight..kg._median length..m._median\n",
              "1 0.1349406      39.730            1.34             0.580            \n",
              "2 0.1501943     218.565          192.98             0.925            \n",
              "3        NA     176.050          907.69             1.070            \n",
              "4        NA     714.570            8.41             1.580            \n",
              "5        NA     906.700           21.58             1.360            \n",
              "  width..m._median height..m._median\n",
              "1 0.280            0.170            \n",
              "2 0.885            1.155            \n",
              "3 0.840            0.290            \n",
              "4 0.330            1.110            \n",
              "5 1.240            0.440            "
            ]
          },
          "metadata": {}
        }
      ]
    },
    {
      "cell_type": "markdown",
      "source": [
        "**💡Solution💡-**\n",
        "\n",
        "After adding the clusters to \"od\" and then grouped by ckusters and summarized the data to find mean, median and sd. The clustering revealed distinct categories of packages based on price, weight, and dimensions. We can identify three main clusters:\n",
        "\n",
        "**Cluster 1:**\n",
        "\n",
        "Characterized by a low mean price `($140.46)` with significant price variation `(SD = $262.73)`.\n",
        "Relatively lightweight (mean weight = 3.36 kg) and compact (average dimensions: 0.64m x 0.32m x 0.19m).\n",
        "Examples likely include items like desk chairs, bookshelves, and kitchen timers.\n",
        "\n",
        "**Cluster 2:**\n",
        "\n",
        "Significantly higher mean price `($220.51)` with lower price variability `(SD = $57.93)`.\n",
        "Considerably heavier (mean weight = 236.81 kg) and larger on average (0.87m x 0.89m x 1.13m).\n",
        "This cluster might contain items like movie night packs, pallets of beer, or breakfast cereal.\n",
        "\n",
        "\n",
        "Overall, clusters 1 & 2 appear to represent meaningful groupings of packages based on their dimensions and prices. Clusters 3, 4 and 5 may consist of singleton observations or have missing data, requiring further investigation."
      ],
      "metadata": {
        "id": "LjyDAK4F3ZDH"
      },
      "id": "LjyDAK4F3ZDH"
    },
    {
      "cell_type": "markdown",
      "metadata": {
        "id": "D0aE0oVtE5KQ"
      },
      "source": [
        "#### Solution - 6 e."
      ],
      "id": "D0aE0oVtE5KQ"
    },
    {
      "cell_type": "code",
      "source": [
        "install.packages(\"tidyverse\")\n",
        "library(\"tidyverse\")"
      ],
      "metadata": {
        "colab": {
          "base_uri": "https://localhost:8080/",
          "height": 0
        },
        "id": "Cdz623aW82we",
        "outputId": "8da1f789-4a05-4626-9f32-4c98ec73b114"
      },
      "id": "Cdz623aW82we",
      "execution_count": 41,
      "outputs": [
        {
          "output_type": "stream",
          "name": "stderr",
          "text": [
            "Installing package into ‘/usr/local/lib/R/site-library’\n",
            "(as ‘lib’ is unspecified)\n",
            "\n",
            "── \u001b[1mAttaching core tidyverse packages\u001b[22m ──────────────────────── tidyverse 2.0.0 ──\n",
            "\u001b[32m✔\u001b[39m \u001b[34mforcats  \u001b[39m 1.0.0     \u001b[32m✔\u001b[39m \u001b[34mreadr    \u001b[39m 2.1.5\n",
            "\u001b[32m✔\u001b[39m \u001b[34mggplot2  \u001b[39m 3.4.4     \u001b[32m✔\u001b[39m \u001b[34mstringr  \u001b[39m 1.5.1\n",
            "\u001b[32m✔\u001b[39m \u001b[34mlubridate\u001b[39m 1.9.3     \u001b[32m✔\u001b[39m \u001b[34mtibble   \u001b[39m 3.2.1\n",
            "\u001b[32m✔\u001b[39m \u001b[34mpurrr    \u001b[39m 1.0.2     \u001b[32m✔\u001b[39m \u001b[34mtidyr    \u001b[39m 1.3.1\n",
            "── \u001b[1mConflicts\u001b[22m ────────────────────────────────────────── tidyverse_conflicts() ──\n",
            "\u001b[31m✖\u001b[39m \u001b[34mtidyr\u001b[39m::\u001b[32mextract()\u001b[39m   masks \u001b[34mmagrittr\u001b[39m::extract()\n",
            "\u001b[31m✖\u001b[39m \u001b[34mdplyr\u001b[39m::\u001b[32mfilter()\u001b[39m    masks \u001b[34mstats\u001b[39m::filter()\n",
            "\u001b[31m✖\u001b[39m \u001b[34mdplyr\u001b[39m::\u001b[32mlag()\u001b[39m       masks \u001b[34mstats\u001b[39m::lag()\n",
            "\u001b[31m✖\u001b[39m \u001b[34mpurrr\u001b[39m::\u001b[32mset_names()\u001b[39m masks \u001b[34mmagrittr\u001b[39m::set_names()\n",
            "\u001b[36mℹ\u001b[39m Use the conflicted package (\u001b[3m\u001b[34m<http://conflicted.r-lib.org/>\u001b[39m\u001b[23m) to force all conflicts to become errors\n"
          ]
        }
      ]
    },
    {
      "cell_type": "code",
      "source": [
        "library(ggplot2)\n",
        "\n",
        "ggplot(data = od, aes(x = length..m., y = width..m., color = factor(clusters))) +\n",
        "  geom_point() +\n",
        "  xlab(\"Length\") +\n",
        "  ylab(\"Width\") +\n",
        "  ggtitle(\"Length vs Width\")\n"
      ],
      "metadata": {
        "colab": {
          "base_uri": "https://localhost:8080/",
          "height": 437
        },
        "id": "m3yeUD9i8qQj",
        "outputId": "f08ea7d8-076e-4dfe-ee20-62bdf05d143a"
      },
      "id": "m3yeUD9i8qQj",
      "execution_count": 50,
      "outputs": [
        {
          "output_type": "display_data",
          "data": {
            "text/plain": [
              "plot without title"
            ],
            "image/png": "[encoded data removed]"
          },
          "metadata": {
            "image/png": {
              "width": 420,
              "height": 420
            }
          }
        }
      ]
    },
    {
      "cell_type": "markdown",
      "source": [
        "The scatter plot which plots length and width in y axis reveals 5 clusters. Cluster 1 (orange) - affordable, lightweight, compact everyday items. Cluster 2 (green) - pricier, bulkier or heavier goods, based on the size of the package. Clusters 3, 4 & 5 have only 1 value"
      ],
      "metadata": {
        "id": "J9Zq2jKG_Cdh"
      },
      "id": "J9Zq2jKG_Cdh"
    },
    {
      "cell_type": "code",
      "source": [
        "library(ggplot2)\n",
        "\n",
        "ggplot(od, aes(x = clusters, fill = factor(clusters))) +\n",
        "  geom_histogram() +\n",
        "  xlab(\"Cluster\") +\n",
        "  ylab(\"Number of items\") +\n",
        "  ggtitle(\"Cluster vs Number of items\")\n"
      ],
      "metadata": {
        "colab": {
          "base_uri": "https://localhost:8080/",
          "height": 454
        },
        "id": "ryHqS5HM8971",
        "outputId": "85ea64e2-0cac-4ff4-844c-5a626b567e1f"
      },
      "id": "ryHqS5HM8971",
      "execution_count": 46,
      "outputs": [
        {
          "output_type": "stream",
          "name": "stderr",
          "text": [
            "\u001b[1m\u001b[22m`stat_bin()` using `bins = 30`. Pick better value with `binwidth`.\n"
          ]
        },
        {
          "output_type": "display_data",
          "data": {
            "text/plain": [
              "plot without title"
            ],
            "image/png": "[encoded data removed]"
          },
          "metadata": {
            "image/png": {
              "width": 420,
              "height": 420
            }
          }
        }
      ]
    },
    {
      "cell_type": "markdown",
      "source": [
        "The histogram reveals no. of items for all 5 clusters. Cluster 1 (orange) has the almost 13 items. Cluster 2 (green) - has 4 items. Clusters 3, 4 & 5 have 1 item each."
      ],
      "metadata": {
        "id": "JriJ97D-AEVQ"
      },
      "id": "JriJ97D-AEVQ"
    },
    {
      "cell_type": "code",
      "source": [
        "ggplot(od, aes(x = factor(clusters), y = height..m., fill = factor(clusters))) +\n",
        "  geom_violin() +\n",
        "  xlab(\"Cluster\") +\n",
        "  ylab(\"Height\") +\n",
        "  ggtitle(\"Distribution of Height by Cluster\")\n"
      ],
      "metadata": {
        "colab": {
          "base_uri": "https://localhost:8080/",
          "height": 541
        },
        "id": "pVKt3aLH8_z0",
        "outputId": "a61110a2-6872-4ed9-ea6d-83e2a09a7aac"
      },
      "id": "pVKt3aLH8_z0",
      "execution_count": 48,
      "outputs": [
        {
          "output_type": "stream",
          "name": "stderr",
          "text": [
            "Warning message:\n",
            "“\u001b[1m\u001b[22mGroups with fewer than two data points have been dropped.”\n",
            "Warning message:\n",
            "“\u001b[1m\u001b[22mGroups with fewer than two data points have been dropped.”\n",
            "Warning message:\n",
            "“\u001b[1m\u001b[22mGroups with fewer than two data points have been dropped.”\n"
          ]
        },
        {
          "output_type": "display_data",
          "data": {
            "text/plain": [
              "plot without title"
            ],
            "image/png": "[encoded data removed]"
          },
          "metadata": {
            "image/png": {
              "width": 420,
              "height": 420
            }
          }
        }
      ]
    },
    {
      "cell_type": "markdown",
      "source": [
        "Violin plot shows distribution of hieght across different cluster. Since cluster 3, 4 & 5 are singletons they are not shown in the graph. We can see that Cluster 2 has the highest density while cluster 1 has the highest range values"
      ],
      "metadata": {
        "id": "-kY4jzdFDrZ7"
      },
      "id": "-kY4jzdFDrZ7"
    },
    {
      "cell_type": "markdown",
      "metadata": {
        "id": "6dRZdokiE8an"
      },
      "source": [
        "#### Solution - 6 f."
      ],
      "id": "6dRZdokiE8an"
    },
    {
      "cell_type": "code",
      "source": [
        "sampled_data$clusters<-clusters\n",
        "View(sampled_data)"
      ],
      "metadata": {
        "colab": {
          "base_uri": "https://localhost:8080/",
          "height": 725
        },
        "id": "naihpIgDEtnI",
        "outputId": "70c53181-c16f-4f17-b98c-f1588a5fa9ad"
      },
      "id": "naihpIgDEtnI",
      "execution_count": 51,
      "outputs": [
        {
          "output_type": "display_data",
          "data": {
            "text/plain": [
              "       name                        price.... weight..kg. length..m. width..m.\n",
              "114843 Laptop                      520.25      1.34      0.30       0.30     \n",
              "219668 Spices Collection            33.35      0.86      0.24       0.28     \n",
              "207784 Weed Whacker                 62.44      3.78      0.83       0.26     \n",
              "67501  Television                  889.25     25.13      1.03       0.30     \n",
              "96790  Desk Chair                  197.52     17.79      0.51       0.97     \n",
              "75522  Yoga Mat                     41.20      1.93      1.48       0.60     \n",
              "59919  Pallete of Beer Cases       239.61    543.47      1.03       0.80     \n",
              "253572 Hiking Boots                 58.37      1.56      0.36       0.21     \n",
              "124660 Bookshelf                   290.16     33.99      0.82       0.79     \n",
              "204036 Movie Night Pack             19.75      3.50      0.98       0.56     \n",
              "19376  Big Bag with Chemicals      176.05    907.69      1.07       0.84     \n",
              "171310 Tennis Racket               101.32      0.40      0.67       0.26     \n",
              "155251 Bicycle                     714.57      8.41      1.58       0.33     \n",
              "146622 Mixed Dried Fruits           14.41      0.53      0.40       0.22     \n",
              "41413  Camera Bag                   39.73      1.20      0.27       0.34     \n",
              "65981  TV                          906.70     21.58      1.36       1.24     \n",
              "86548  Medium Box                   12.36      0.52      0.58       0.30     \n",
              "149055 Kitchen Timer                 8.89      0.11      0.14       0.20     \n",
              "244491 Hoe                          24.69      2.82      1.09       0.28     \n",
              "150602 Pallete of Breakfast Cereal 154.76    351.97      1.11       0.99     \n",
              "       height..m. shipment.date destination.port              clusters\n",
              "114843 0.04       2023-03-18    Port of Tokyo (Japan)         1       \n",
              "219668 0.14       2023-03-18    Port of Tokyo (Japan)         1       \n",
              "207784 0.27       2023-03-21    Port of Tokyo (Japan)         1       \n",
              "67501  0.15       2023-03-12    Port of Singapore (Singapore) 1       \n",
              "96790  0.95       2023-03-22    Port of Singapore (Singapore) 2       \n",
              "75522  0.01       2023-03-21    Port of Shanghai (China)      1       \n",
              "59919  1.07       2023-03-12    Port of Busan (South Korea)   2       \n",
              "253572 0.27       2023-03-14    Port of Singapore (Singapore) 1       \n",
              "124660 1.27       2023-03-26    Port of Tokyo (Japan)         2       \n",
              "204036 0.26       2023-03-21    Port of Tokyo (Japan)         1       \n",
              "19376  0.29       2023-03-13    Port of Singapore (Singapore) 3       \n",
              "171310 0.01       2023-03-12    Port of Tokyo (Japan)         1       \n",
              "155251 1.11       2023-03-17    Port of Tianjin (China)       4       \n",
              "146622 0.17       2023-03-12    Port of Tianjin (China)       1       \n",
              "41413  0.28       2023-03-28    Port of Tianjin (China)       1       \n",
              "65981  0.44       2023-03-12    Port of Tokyo (Japan)         5       \n",
              "86548  0.20       2023-03-27    Port of Singapore (Singapore) 1       \n",
              "149055 0.12       2023-03-12    Port of Tianjin (China)       1       \n",
              "244491 0.50       2023-03-19    Port of Shanghai (China)      1       \n",
              "150602 1.24       2023-03-15    Port of Singapore (Singapore) 2       "
            ],
            "text/html": [
              "<table class=\"dataframe\">\n",
              "<caption>A data.frame: 20 × 9</caption>\n",
              "<thead>\n",
              "\t<tr><th></th><th scope=col>name</th><th scope=col>price....</th><th scope=col>weight..kg.</th><th scope=col>length..m.</th><th scope=col>width..m.</th><th scope=col>height..m.</th><th scope=col>shipment.date</th><th scope=col>destination.port</th><th scope=col>clusters</th></tr>\n",
              "\t<tr><th></th><th scope=col>&lt;chr&gt;</th><th scope=col>&lt;dbl&gt;</th><th scope=col>&lt;dbl&gt;</th><th scope=col>&lt;dbl&gt;</th><th scope=col>&lt;dbl&gt;</th><th scope=col>&lt;dbl&gt;</th><th scope=col>&lt;chr&gt;</th><th scope=col>&lt;chr&gt;</th><th scope=col>&lt;int&gt;</th></tr>\n",
              "</thead>\n",
              "<tbody>\n",
              "\t<tr><th scope=row>114843</th><td>Laptop                     </td><td>520.25</td><td>  1.34</td><td>0.30</td><td>0.30</td><td>0.04</td><td>2023-03-18</td><td>Port of Tokyo (Japan)        </td><td>1</td></tr>\n",
              "\t<tr><th scope=row>219668</th><td>Spices Collection          </td><td> 33.35</td><td>  0.86</td><td>0.24</td><td>0.28</td><td>0.14</td><td>2023-03-18</td><td>Port of Tokyo (Japan)        </td><td>1</td></tr>\n",
              "\t<tr><th scope=row>207784</th><td>Weed Whacker               </td><td> 62.44</td><td>  3.78</td><td>0.83</td><td>0.26</td><td>0.27</td><td>2023-03-21</td><td>Port of Tokyo (Japan)        </td><td>1</td></tr>\n",
              "\t<tr><th scope=row>67501</th><td>Television                 </td><td>889.25</td><td> 25.13</td><td>1.03</td><td>0.30</td><td>0.15</td><td>2023-03-12</td><td>Port of Singapore (Singapore)</td><td>1</td></tr>\n",
              "\t<tr><th scope=row>96790</th><td>Desk Chair                 </td><td>197.52</td><td> 17.79</td><td>0.51</td><td>0.97</td><td>0.95</td><td>2023-03-22</td><td>Port of Singapore (Singapore)</td><td>2</td></tr>\n",
              "\t<tr><th scope=row>75522</th><td>Yoga Mat                   </td><td> 41.20</td><td>  1.93</td><td>1.48</td><td>0.60</td><td>0.01</td><td>2023-03-21</td><td>Port of Shanghai (China)     </td><td>1</td></tr>\n",
              "\t<tr><th scope=row>59919</th><td>Pallete of Beer Cases      </td><td>239.61</td><td>543.47</td><td>1.03</td><td>0.80</td><td>1.07</td><td>2023-03-12</td><td>Port of Busan (South Korea)  </td><td>2</td></tr>\n",
              "\t<tr><th scope=row>253572</th><td>Hiking Boots               </td><td> 58.37</td><td>  1.56</td><td>0.36</td><td>0.21</td><td>0.27</td><td>2023-03-14</td><td>Port of Singapore (Singapore)</td><td>1</td></tr>\n",
              "\t<tr><th scope=row>124660</th><td>Bookshelf                  </td><td>290.16</td><td> 33.99</td><td>0.82</td><td>0.79</td><td>1.27</td><td>2023-03-26</td><td>Port of Tokyo (Japan)        </td><td>2</td></tr>\n",
              "\t<tr><th scope=row>204036</th><td>Movie Night Pack           </td><td> 19.75</td><td>  3.50</td><td>0.98</td><td>0.56</td><td>0.26</td><td>2023-03-21</td><td>Port of Tokyo (Japan)        </td><td>1</td></tr>\n",
              "\t<tr><th scope=row>19376</th><td>Big Bag with Chemicals     </td><td>176.05</td><td>907.69</td><td>1.07</td><td>0.84</td><td>0.29</td><td>2023-03-13</td><td>Port of Singapore (Singapore)</td><td>3</td></tr>\n",
              "\t<tr><th scope=row>171310</th><td>Tennis Racket              </td><td>101.32</td><td>  0.40</td><td>0.67</td><td>0.26</td><td>0.01</td><td>2023-03-12</td><td>Port of Tokyo (Japan)        </td><td>1</td></tr>\n",
              "\t<tr><th scope=row>155251</th><td>Bicycle                    </td><td>714.57</td><td>  8.41</td><td>1.58</td><td>0.33</td><td>1.11</td><td>2023-03-17</td><td>Port of Tianjin (China)      </td><td>4</td></tr>\n",
              "\t<tr><th scope=row>146622</th><td>Mixed Dried Fruits         </td><td> 14.41</td><td>  0.53</td><td>0.40</td><td>0.22</td><td>0.17</td><td>2023-03-12</td><td>Port of Tianjin (China)      </td><td>1</td></tr>\n",
              "\t<tr><th scope=row>41413</th><td>Camera Bag                 </td><td> 39.73</td><td>  1.20</td><td>0.27</td><td>0.34</td><td>0.28</td><td>2023-03-28</td><td>Port of Tianjin (China)      </td><td>1</td></tr>\n",
              "\t<tr><th scope=row>65981</th><td>TV                         </td><td>906.70</td><td> 21.58</td><td>1.36</td><td>1.24</td><td>0.44</td><td>2023-03-12</td><td>Port of Tokyo (Japan)        </td><td>5</td></tr>\n",
              "\t<tr><th scope=row>86548</th><td>Medium Box                 </td><td> 12.36</td><td>  0.52</td><td>0.58</td><td>0.30</td><td>0.20</td><td>2023-03-27</td><td>Port of Singapore (Singapore)</td><td>1</td></tr>\n",
              "\t<tr><th scope=row>149055</th><td>Kitchen Timer              </td><td>  8.89</td><td>  0.11</td><td>0.14</td><td>0.20</td><td>0.12</td><td>2023-03-12</td><td>Port of Tianjin (China)      </td><td>1</td></tr>\n",
              "\t<tr><th scope=row>244491</th><td>Hoe                        </td><td> 24.69</td><td>  2.82</td><td>1.09</td><td>0.28</td><td>0.50</td><td>2023-03-19</td><td>Port of Shanghai (China)     </td><td>1</td></tr>\n",
              "\t<tr><th scope=row>150602</th><td>Pallete of Breakfast Cereal</td><td>154.76</td><td>351.97</td><td>1.11</td><td>0.99</td><td>1.24</td><td>2023-03-15</td><td>Port of Singapore (Singapore)</td><td>2</td></tr>\n",
              "</tbody>\n",
              "</table>\n"
            ],
            "text/markdown": "\nA data.frame: 20 × 9\n\n| <!--/--> | name &lt;chr&gt; | price.... &lt;dbl&gt; | weight..kg. &lt;dbl&gt; | length..m. &lt;dbl&gt; | width..m. &lt;dbl&gt; | height..m. &lt;dbl&gt; | shipment.date &lt;chr&gt; | destination.port &lt;chr&gt; | clusters &lt;int&gt; |\n|---|---|---|---|---|---|---|---|---|---|\n| 114843 | Laptop                      | 520.25 |   1.34 | 0.30 | 0.30 | 0.04 | 2023-03-18 | Port of Tokyo (Japan)         | 1 |\n| 219668 | Spices Collection           |  33.35 |   0.86 | 0.24 | 0.28 | 0.14 | 2023-03-18 | Port of Tokyo (Japan)         | 1 |\n| 207784 | Weed Whacker                |  62.44 |   3.78 | 0.83 | 0.26 | 0.27 | 2023-03-21 | Port of Tokyo (Japan)         | 1 |\n| 67501 | Television                  | 889.25 |  25.13 | 1.03 | 0.30 | 0.15 | 2023-03-12 | Port of Singapore (Singapore) | 1 |\n| 96790 | Desk Chair                  | 197.52 |  17.79 | 0.51 | 0.97 | 0.95 | 2023-03-22 | Port of Singapore (Singapore) | 2 |\n| 75522 | Yoga Mat                    |  41.20 |   1.93 | 1.48 | 0.60 | 0.01 | 2023-03-21 | Port of Shanghai (China)      | 1 |\n| 59919 | Pallete of Beer Cases       | 239.61 | 543.47 | 1.03 | 0.80 | 1.07 | 2023-03-12 | Port of Busan (South Korea)   | 2 |\n| 253572 | Hiking Boots                |  58.37 |   1.56 | 0.36 | 0.21 | 0.27 | 2023-03-14 | Port of Singapore (Singapore) | 1 |\n| 124660 | Bookshelf                   | 290.16 |  33.99 | 0.82 | 0.79 | 1.27 | 2023-03-26 | Port of Tokyo (Japan)         | 2 |\n| 204036 | Movie Night Pack            |  19.75 |   3.50 | 0.98 | 0.56 | 0.26 | 2023-03-21 | Port of Tokyo (Japan)         | 1 |\n| 19376 | Big Bag with Chemicals      | 176.05 | 907.69 | 1.07 | 0.84 | 0.29 | 2023-03-13 | Port of Singapore (Singapore) | 3 |\n| 171310 | Tennis Racket               | 101.32 |   0.40 | 0.67 | 0.26 | 0.01 | 2023-03-12 | Port of Tokyo (Japan)         | 1 |\n| 155251 | Bicycle                     | 714.57 |   8.41 | 1.58 | 0.33 | 1.11 | 2023-03-17 | Port of Tianjin (China)       | 4 |\n| 146622 | Mixed Dried Fruits          |  14.41 |   0.53 | 0.40 | 0.22 | 0.17 | 2023-03-12 | Port of Tianjin (China)       | 1 |\n| 41413 | Camera Bag                  |  39.73 |   1.20 | 0.27 | 0.34 | 0.28 | 2023-03-28 | Port of Tianjin (China)       | 1 |\n| 65981 | TV                          | 906.70 |  21.58 | 1.36 | 1.24 | 0.44 | 2023-03-12 | Port of Tokyo (Japan)         | 5 |\n| 86548 | Medium Box                  |  12.36 |   0.52 | 0.58 | 0.30 | 0.20 | 2023-03-27 | Port of Singapore (Singapore) | 1 |\n| 149055 | Kitchen Timer               |   8.89 |   0.11 | 0.14 | 0.20 | 0.12 | 2023-03-12 | Port of Tianjin (China)       | 1 |\n| 244491 | Hoe                         |  24.69 |   2.82 | 1.09 | 0.28 | 0.50 | 2023-03-19 | Port of Shanghai (China)      | 1 |\n| 150602 | Pallete of Breakfast Cereal | 154.76 | 351.97 | 1.11 | 0.99 | 1.24 | 2023-03-15 | Port of Singapore (Singapore) | 2 |\n\n",
            "text/latex": "A data.frame: 20 × 9\n\\begin{tabular}{r|lllllllll}\n  & name & price.... & weight..kg. & length..m. & width..m. & height..m. & shipment.date & destination.port & clusters\\\\\n  & <chr> & <dbl> & <dbl> & <dbl> & <dbl> & <dbl> & <chr> & <chr> & <int>\\\\\n\\hline\n\t114843 & Laptop                      & 520.25 &   1.34 & 0.30 & 0.30 & 0.04 & 2023-03-18 & Port of Tokyo (Japan)         & 1\\\\\n\t219668 & Spices Collection           &  33.35 &   0.86 & 0.24 & 0.28 & 0.14 & 2023-03-18 & Port of Tokyo (Japan)         & 1\\\\\n\t207784 & Weed Whacker                &  62.44 &   3.78 & 0.83 & 0.26 & 0.27 & 2023-03-21 & Port of Tokyo (Japan)         & 1\\\\\n\t67501 & Television                  & 889.25 &  25.13 & 1.03 & 0.30 & 0.15 & 2023-03-12 & Port of Singapore (Singapore) & 1\\\\\n\t96790 & Desk Chair                  & 197.52 &  17.79 & 0.51 & 0.97 & 0.95 & 2023-03-22 & Port of Singapore (Singapore) & 2\\\\\n\t75522 & Yoga Mat                    &  41.20 &   1.93 & 1.48 & 0.60 & 0.01 & 2023-03-21 & Port of Shanghai (China)      & 1\\\\\n\t59919 & Pallete of Beer Cases       & 239.61 & 543.47 & 1.03 & 0.80 & 1.07 & 2023-03-12 & Port of Busan (South Korea)   & 2\\\\\n\t253572 & Hiking Boots                &  58.37 &   1.56 & 0.36 & 0.21 & 0.27 & 2023-03-14 & Port of Singapore (Singapore) & 1\\\\\n\t124660 & Bookshelf                   & 290.16 &  33.99 & 0.82 & 0.79 & 1.27 & 2023-03-26 & Port of Tokyo (Japan)         & 2\\\\\n\t204036 & Movie Night Pack            &  19.75 &   3.50 & 0.98 & 0.56 & 0.26 & 2023-03-21 & Port of Tokyo (Japan)         & 1\\\\\n\t19376 & Big Bag with Chemicals      & 176.05 & 907.69 & 1.07 & 0.84 & 0.29 & 2023-03-13 & Port of Singapore (Singapore) & 3\\\\\n\t171310 & Tennis Racket               & 101.32 &   0.40 & 0.67 & 0.26 & 0.01 & 2023-03-12 & Port of Tokyo (Japan)         & 1\\\\\n\t155251 & Bicycle                     & 714.57 &   8.41 & 1.58 & 0.33 & 1.11 & 2023-03-17 & Port of Tianjin (China)       & 4\\\\\n\t146622 & Mixed Dried Fruits          &  14.41 &   0.53 & 0.40 & 0.22 & 0.17 & 2023-03-12 & Port of Tianjin (China)       & 1\\\\\n\t41413 & Camera Bag                  &  39.73 &   1.20 & 0.27 & 0.34 & 0.28 & 2023-03-28 & Port of Tianjin (China)       & 1\\\\\n\t65981 & TV                          & 906.70 &  21.58 & 1.36 & 1.24 & 0.44 & 2023-03-12 & Port of Tokyo (Japan)         & 5\\\\\n\t86548 & Medium Box                  &  12.36 &   0.52 & 0.58 & 0.30 & 0.20 & 2023-03-27 & Port of Singapore (Singapore) & 1\\\\\n\t149055 & Kitchen Timer               &   8.89 &   0.11 & 0.14 & 0.20 & 0.12 & 2023-03-12 & Port of Tianjin (China)       & 1\\\\\n\t244491 & Hoe                         &  24.69 &   2.82 & 1.09 & 0.28 & 0.50 & 2023-03-19 & Port of Shanghai (China)      & 1\\\\\n\t150602 & Pallete of Breakfast Cereal & 154.76 & 351.97 & 1.11 & 0.99 & 1.24 & 2023-03-15 & Port of Singapore (Singapore) & 2\\\\\n\\end{tabular}\n"
          },
          "metadata": {}
        }
      ]
    },
    {
      "cell_type": "markdown",
      "source": [
        "This data snippet details a single laptop in cluster 1. It's priced at $520.25, weighs only 1.34 kg, and boasts a compact size (30cm x 30cm x 4cm).  **Cluster 1 is likely groups affordable and compact items based on previous information, this laptop fits perfectly with its low price and small dimensions.**"
      ],
      "metadata": {
        "id": "bQJMitRhGsFd"
      },
      "id": "bQJMitRhGsFd"
    },
    {
      "cell_type": "markdown",
      "metadata": {
        "id": "FM7RyHSnHjZl"
      },
      "source": [
        "#### Solution - 7"
      ],
      "id": "FM7RyHSnHjZl"
    },
    {
      "cell_type": "markdown",
      "source": [
        "**💡Solution💡-**\n",
        "\n",
        "**There are two main challenges when analyzing data where variables have different measurement scales.**\n",
        "\n",
        "* **Unequal Weighting:**  Variables like price (dollars) and weight (kilograms) are measured in different units.  This can lead to variables with larger units having a stronger influence on calculations, even if they aren't necessarily more important.\n",
        "* **Outlier Sensitivity:** Standardizing variables can make the analysis more sensitive to outliers. Extreme values in one variable can have a disproportionate impact on the overall analysis, potentially distorting the results.\n",
        "\n",
        "**Additionally, it's important to consider the potential bias caused by varying variable importance.**  Some variables might inherently have a greater influence on the clustering process compared to others.\n"
      ],
      "metadata": {
        "id": "GLWvRtBkH1T7"
      },
      "id": "GLWvRtBkH1T7"
    },
    {
      "cell_type": "markdown",
      "metadata": {
        "id": "-Le5Bk-UIDOb"
      },
      "source": [
        "#### Solution - 8"
      ],
      "id": "-Le5Bk-UIDOb"
    },
    {
      "cell_type": "code",
      "source": [
        "# Creating weighting system\n",
        "weights <- c(0.2, 0.15, 0.4, 0.4,0.3)\n",
        "shipping3 <- as.data.frame(lapply(od, \"*\", weights))\n",
        "head(shipping3)"
      ],
      "metadata": {
        "colab": {
          "base_uri": "https://localhost:8080/",
          "height": 286
        },
        "id": "OSe8d6kqIBe7",
        "outputId": "e8715733-ae08-4448-f10c-702b97467452"
      },
      "id": "OSe8d6kqIBe7",
      "execution_count": 55,
      "outputs": [
        {
          "output_type": "display_data",
          "data": {
            "text/html": [
              "<table class=\"dataframe\">\n",
              "<caption>A data.frame: 6 × 6</caption>\n",
              "<thead>\n",
              "\t<tr><th></th><th scope=col>price....</th><th scope=col>weight..kg.</th><th scope=col>length..m.</th><th scope=col>width..m.</th><th scope=col>height..m.</th><th scope=col>clusters</th></tr>\n",
              "\t<tr><th></th><th scope=col>&lt;dbl&gt;</th><th scope=col>&lt;dbl&gt;</th><th scope=col>&lt;dbl&gt;</th><th scope=col>&lt;dbl&gt;</th><th scope=col>&lt;dbl&gt;</th><th scope=col>&lt;dbl&gt;</th></tr>\n",
              "</thead>\n",
              "<tbody>\n",
              "\t<tr><th scope=row>1</th><td>104.0500</td><td> 0.268</td><td>0.060</td><td>0.060</td><td>0.008</td><td>0.20</td></tr>\n",
              "\t<tr><th scope=row>2</th><td>  5.0025</td><td> 0.129</td><td>0.036</td><td>0.042</td><td>0.021</td><td>0.15</td></tr>\n",
              "\t<tr><th scope=row>3</th><td> 24.9760</td><td> 1.512</td><td>0.332</td><td>0.104</td><td>0.108</td><td>0.40</td></tr>\n",
              "\t<tr><th scope=row>4</th><td>355.7000</td><td>10.052</td><td>0.412</td><td>0.120</td><td>0.060</td><td>0.40</td></tr>\n",
              "\t<tr><th scope=row>5</th><td> 59.2560</td><td> 5.337</td><td>0.153</td><td>0.291</td><td>0.285</td><td>0.60</td></tr>\n",
              "\t<tr><th scope=row>6</th><td>  8.2400</td><td> 0.386</td><td>0.296</td><td>0.120</td><td>0.002</td><td>0.20</td></tr>\n",
              "</tbody>\n",
              "</table>\n"
            ],
            "text/markdown": "\nA data.frame: 6 × 6\n\n| <!--/--> | price.... &lt;dbl&gt; | weight..kg. &lt;dbl&gt; | length..m. &lt;dbl&gt; | width..m. &lt;dbl&gt; | height..m. &lt;dbl&gt; | clusters &lt;dbl&gt; |\n|---|---|---|---|---|---|---|\n| 1 | 104.0500 |  0.268 | 0.060 | 0.060 | 0.008 | 0.20 |\n| 2 |   5.0025 |  0.129 | 0.036 | 0.042 | 0.021 | 0.15 |\n| 3 |  24.9760 |  1.512 | 0.332 | 0.104 | 0.108 | 0.40 |\n| 4 | 355.7000 | 10.052 | 0.412 | 0.120 | 0.060 | 0.40 |\n| 5 |  59.2560 |  5.337 | 0.153 | 0.291 | 0.285 | 0.60 |\n| 6 |   8.2400 |  0.386 | 0.296 | 0.120 | 0.002 | 0.20 |\n\n",
            "text/latex": "A data.frame: 6 × 6\n\\begin{tabular}{r|llllll}\n  & price.... & weight..kg. & length..m. & width..m. & height..m. & clusters\\\\\n  & <dbl> & <dbl> & <dbl> & <dbl> & <dbl> & <dbl>\\\\\n\\hline\n\t1 & 104.0500 &  0.268 & 0.060 & 0.060 & 0.008 & 0.20\\\\\n\t2 &   5.0025 &  0.129 & 0.036 & 0.042 & 0.021 & 0.15\\\\\n\t3 &  24.9760 &  1.512 & 0.332 & 0.104 & 0.108 & 0.40\\\\\n\t4 & 355.7000 & 10.052 & 0.412 & 0.120 & 0.060 & 0.40\\\\\n\t5 &  59.2560 &  5.337 & 0.153 & 0.291 & 0.285 & 0.60\\\\\n\t6 &   8.2400 &  0.386 & 0.296 & 0.120 & 0.002 & 0.20\\\\\n\\end{tabular}\n",
            "text/plain": [
              "  price.... weight..kg. length..m. width..m. height..m. clusters\n",
              "1 104.0500   0.268      0.060      0.060     0.008      0.20    \n",
              "2   5.0025   0.129      0.036      0.042     0.021      0.15    \n",
              "3  24.9760   1.512      0.332      0.104     0.108      0.40    \n",
              "4 355.7000  10.052      0.412      0.120     0.060      0.40    \n",
              "5  59.2560   5.337      0.153      0.291     0.285      0.60    \n",
              "6   8.2400   0.386      0.296      0.120     0.002      0.20    "
            ]
          },
          "metadata": {}
        }
      ]
    },
    {
      "cell_type": "markdown",
      "source": [
        "**💡Interpretationa💡-**\n",
        "\n",
        "**Breakdown of the weights assigned:**\n",
        "\n",
        "**High Weights for Length and Width (0.4):** These dimensions are the most crucial factors influencing shipping costs. Assigning a weight of 0.4 to each ensures they have the strongest influence on the clustering process.\n",
        "\n",
        "**Moderate Weight for Height (0.3):** While height contributes to package size, it might not be as significant as length and width. A weight of 0.3 reflects this moderate importance.\n",
        "\n",
        "**Low Weight for Weight (0.15):** While weight can impact shipping costs, it's likely less influential compared to size (length, width, and height) in your specific dataset. Therefore, it receives the lowest weight (0.15).\n",
        "\n",
        "**Moderate Weight for Price (0.2):** Price might hold some importance in your analysis, but likely not as much as package size. Assigning a weight of 0.2 reflects this consideration."
      ],
      "metadata": {
        "id": "6EI5Ust_Jq2j"
      },
      "id": "6EI5Ust_Jq2j"
    },
    {
      "cell_type": "markdown",
      "metadata": {
        "id": "wJ44kze2KkZu"
      },
      "source": [
        "#### Solution - 9 a."
      ],
      "id": "wJ44kze2KkZu"
    },
    {
      "cell_type": "code",
      "source": [
        "# Creating a new dendogram with newly assigned weights\n",
        "rescaled_data<-scale(shipping3)\n",
        "d1<-dist(rescaled_data,method=\"euclidean\")\n",
        "hiermodel1 <- hclust(d1,method = \"single\")\n",
        "hiermodel1$name<-sampled_data$name\n",
        "plot(hiermodel1,hang=-20,ann=FALSE,labels=hiermodel1$name)\n"
      ],
      "metadata": {
        "colab": {
          "base_uri": "https://localhost:8080/",
          "height": 437
        },
        "id": "4OqnQL62KfQy",
        "outputId": "5be928ce-ceed-43ae-98b4-4e0b915a69e1"
      },
      "id": "4OqnQL62KfQy",
      "execution_count": 56,
      "outputs": [
        {
          "output_type": "display_data",
          "data": {
            "text/plain": [
              "plot without title"
            ],
            "image/png": "[encoded data removed]"
          },
          "metadata": {
            "image/png": {
              "width": 420,
              "height": 420
            }
          }
        }
      ]
    },
    {
      "cell_type": "markdown",
      "source": [
        "The dendrogram reveals three distinct clusters based on underlying characteristics of the items:\n",
        "\n",
        "* **Cluster 1: Unexpected Companions (\"Bicycle,\" \"Television,\" \"Big Bag with Cheetahs,\" \"Plate of Beer Glasses\")**\n",
        "   This cluster presents an intriguing mix. The \"Television\" and \"Bicycle\" could share size or price considerations. Perhaps the \"Big Bag with Cheetahs\" and \"Plate of Beer Glasses\" are linked by being party-related items.\n",
        "\n",
        "* **Cluster 2: A Blend of Function and Leisure (\"Weed Whacker,\" \"Yoga Mat,\" \"Movie Night Pack,\" \"Spice Collection,\" \"Tennis Racket,\" \"Medium Box,\" \"Mixed Dried Fruits,\" \"Kitchen Timer,\" \"Cheetah Bag\")**\n",
        "   This cluster is a diverse mix of household objects (kitchen timer, spice collection, medium box) and recreational items (yoga mat, tennis racket, movie night pack). The similarity might lie in function (kitchen & exercise) or purpose (entertainment & storage).\n",
        "\n",
        "* **Cluster 3: The Home Haven (\"Plate of Breakfast Cereal,\" \"Desk Chair,\" \"Bookshelf\")**\n",
        "   This cluster presents a clear connection –  items typically found within a home environment, potentially related to office supplies (desk chair) or domestic use (bookshelf and breakfast cereal).\n",
        "\n",
        "**Shifting Sands of Similarity:**\n",
        "\n",
        "Comparing this dendrogram to the previous one reveals some interesting differences:\n",
        "\n",
        "* **Rearranged Relationships:** The first dendrogram grouped items like \"TV\" and \"Bicycle\" together. Here, they belong to separate clusters. This suggests the underlying similarity measure (e.g., size, price) or distance metric may have changed.\n",
        "\n",
        "**The Takeaway:**\n",
        "\n",
        "By analyzing these clusters, we gain valuable insights into how different features or characteristics influence how items are grouped. This information can be used for various purposes, such as optimizing storage layouts, targeted advertising, or product recommendations.\n",
        ""
      ],
      "metadata": {
        "id": "wZc1DYN4O0TK"
      },
      "id": "wZc1DYN4O0TK"
    },
    {
      "cell_type": "markdown",
      "metadata": {
        "id": "GNRqhH8sPv6T"
      },
      "source": [
        "#### Solution - 9 b."
      ],
      "id": "GNRqhH8sPv6T"
    },
    {
      "cell_type": "code",
      "source": [
        "clusters1 <- cutree(hiermodel1, k=5)\n",
        "clusters1\n",
        "cbind(name = sampled_data$name, clusters1)"
      ],
      "metadata": {
        "colab": {
          "base_uri": "https://localhost:8080/",
          "height": 711
        },
        "id": "WVOpNEWLPVWI",
        "outputId": "2caf5ba7-6468-42ca-9e19-be7a6f496cf8"
      },
      "id": "WVOpNEWLPVWI",
      "execution_count": 59,
      "outputs": [
        {
          "output_type": "display_data",
          "data": {
            "text/html": [
              "<style>\n",
              ".list-inline {list-style: none; margin:0; padding: 0}\n",
              ".list-inline>li {display: inline-block}\n",
              ".list-inline>li:not(:last-child)::after {content: \"\\00b7\"; padding: 0 .5ex}\n",
              "</style>\n",
              "<ol class=list-inline><li>1</li><li>1</li><li>1</li><li>2</li><li>3</li><li>1</li><li>1</li><li>1</li><li>3</li><li>1</li><li>4</li><li>1</li><li>5</li><li>1</li><li>1</li><li>3</li><li>1</li><li>1</li><li>1</li><li>3</li></ol>\n"
            ],
            "text/markdown": "1. 1\n2. 1\n3. 1\n4. 2\n5. 3\n6. 1\n7. 1\n8. 1\n9. 3\n10. 1\n11. 4\n12. 1\n13. 5\n14. 1\n15. 1\n16. 3\n17. 1\n18. 1\n19. 1\n20. 3\n\n\n",
            "text/latex": "\\begin{enumerate*}\n\\item 1\n\\item 1\n\\item 1\n\\item 2\n\\item 3\n\\item 1\n\\item 1\n\\item 1\n\\item 3\n\\item 1\n\\item 4\n\\item 1\n\\item 5\n\\item 1\n\\item 1\n\\item 3\n\\item 1\n\\item 1\n\\item 1\n\\item 3\n\\end{enumerate*}\n",
            "text/plain": [
              " [1] 1 1 1 2 3 1 1 1 3 1 4 1 5 1 1 3 1 1 1 3"
            ]
          },
          "metadata": {}
        },
        {
          "output_type": "display_data",
          "data": {
            "text/html": [
              "<table class=\"dataframe\">\n",
              "<caption>A matrix: 20 × 2 of type chr</caption>\n",
              "<thead>\n",
              "\t<tr><th scope=col>name</th><th scope=col>clusters1</th></tr>\n",
              "</thead>\n",
              "<tbody>\n",
              "\t<tr><td>Laptop                     </td><td>1</td></tr>\n",
              "\t<tr><td>Spices Collection          </td><td>1</td></tr>\n",
              "\t<tr><td>Weed Whacker               </td><td>1</td></tr>\n",
              "\t<tr><td>Television                 </td><td>2</td></tr>\n",
              "\t<tr><td>Desk Chair                 </td><td>3</td></tr>\n",
              "\t<tr><td>Yoga Mat                   </td><td>1</td></tr>\n",
              "\t<tr><td>Pallete of Beer Cases      </td><td>1</td></tr>\n",
              "\t<tr><td>Hiking Boots               </td><td>1</td></tr>\n",
              "\t<tr><td>Bookshelf                  </td><td>3</td></tr>\n",
              "\t<tr><td>Movie Night Pack           </td><td>1</td></tr>\n",
              "\t<tr><td>Big Bag with Chemicals     </td><td>4</td></tr>\n",
              "\t<tr><td>Tennis Racket              </td><td>1</td></tr>\n",
              "\t<tr><td>Bicycle                    </td><td>5</td></tr>\n",
              "\t<tr><td>Mixed Dried Fruits         </td><td>1</td></tr>\n",
              "\t<tr><td>Camera Bag                 </td><td>1</td></tr>\n",
              "\t<tr><td>TV                         </td><td>3</td></tr>\n",
              "\t<tr><td>Medium Box                 </td><td>1</td></tr>\n",
              "\t<tr><td>Kitchen Timer              </td><td>1</td></tr>\n",
              "\t<tr><td>Hoe                        </td><td>1</td></tr>\n",
              "\t<tr><td>Pallete of Breakfast Cereal</td><td>3</td></tr>\n",
              "</tbody>\n",
              "</table>\n"
            ],
            "text/markdown": "\nA matrix: 20 × 2 of type chr\n\n| name | clusters1 |\n|---|---|\n| Laptop                      | 1 |\n| Spices Collection           | 1 |\n| Weed Whacker                | 1 |\n| Television                  | 2 |\n| Desk Chair                  | 3 |\n| Yoga Mat                    | 1 |\n| Pallete of Beer Cases       | 1 |\n| Hiking Boots                | 1 |\n| Bookshelf                   | 3 |\n| Movie Night Pack            | 1 |\n| Big Bag with Chemicals      | 4 |\n| Tennis Racket               | 1 |\n| Bicycle                     | 5 |\n| Mixed Dried Fruits          | 1 |\n| Camera Bag                  | 1 |\n| TV                          | 3 |\n| Medium Box                  | 1 |\n| Kitchen Timer               | 1 |\n| Hoe                         | 1 |\n| Pallete of Breakfast Cereal | 3 |\n\n",
            "text/latex": "A matrix: 20 × 2 of type chr\n\\begin{tabular}{ll}\n name & clusters1\\\\\n\\hline\n\t Laptop                      & 1\\\\\n\t Spices Collection           & 1\\\\\n\t Weed Whacker                & 1\\\\\n\t Television                  & 2\\\\\n\t Desk Chair                  & 3\\\\\n\t Yoga Mat                    & 1\\\\\n\t Pallete of Beer Cases       & 1\\\\\n\t Hiking Boots                & 1\\\\\n\t Bookshelf                   & 3\\\\\n\t Movie Night Pack            & 1\\\\\n\t Big Bag with Chemicals      & 4\\\\\n\t Tennis Racket               & 1\\\\\n\t Bicycle                     & 5\\\\\n\t Mixed Dried Fruits          & 1\\\\\n\t Camera Bag                  & 1\\\\\n\t TV                          & 3\\\\\n\t Medium Box                  & 1\\\\\n\t Kitchen Timer               & 1\\\\\n\t Hoe                         & 1\\\\\n\t Pallete of Breakfast Cereal & 3\\\\\n\\end{tabular}\n",
            "text/plain": [
              "      name                        clusters1\n",
              " [1,] Laptop                      1        \n",
              " [2,] Spices Collection           1        \n",
              " [3,] Weed Whacker                1        \n",
              " [4,] Television                  2        \n",
              " [5,] Desk Chair                  3        \n",
              " [6,] Yoga Mat                    1        \n",
              " [7,] Pallete of Beer Cases       1        \n",
              " [8,] Hiking Boots                1        \n",
              " [9,] Bookshelf                   3        \n",
              "[10,] Movie Night Pack            1        \n",
              "[11,] Big Bag with Chemicals      4        \n",
              "[12,] Tennis Racket               1        \n",
              "[13,] Bicycle                     5        \n",
              "[14,] Mixed Dried Fruits          1        \n",
              "[15,] Camera Bag                  1        \n",
              "[16,] TV                          3        \n",
              "[17,] Medium Box                  1        \n",
              "[18,] Kitchen Timer               1        \n",
              "[19,] Hoe                         1        \n",
              "[20,] Pallete of Breakfast Cereal 3        "
            ]
          },
          "metadata": {}
        }
      ]
    },
    {
      "cell_type": "markdown",
      "metadata": {
        "id": "_QzwlEuNQCWq"
      },
      "source": [
        "#### Solution - 9 c."
      ],
      "id": "_QzwlEuNQCWq"
    },
    {
      "cell_type": "code",
      "source": [
        "# Summarize data by clusters\n",
        "od1<-sampled_data[,2:6]\n",
        "od1$clusters1 <- clusters1"
      ],
      "metadata": {
        "id": "j3VybH40P_v1"
      },
      "execution_count": 60,
      "outputs": [],
      "id": "j3VybH40P_v1"
    },
    {
      "cell_type": "code",
      "source": [
        "grouped1 <-od1 %>%\n",
        "  group_by(clusters1) %>%\n",
        "  summarize_all(list(mean=mean, sd=sd, median=median))\n",
        "grouped1"
      ],
      "metadata": {
        "colab": {
          "base_uri": "https://localhost:8080/",
          "height": 275
        },
        "outputId": "0110d373-fb55-4070-ce58-c91118f5be5d",
        "id": "ipHwXfWVP_v7"
      },
      "execution_count": 62,
      "outputs": [
        {
          "output_type": "display_data",
          "data": {
            "text/html": [
              "<table class=\"dataframe\">\n",
              "<caption>A tibble: 5 × 16</caption>\n",
              "<thead>\n",
              "\t<tr><th scope=col>clusters1</th><th scope=col>price...._mean</th><th scope=col>weight..kg._mean</th><th scope=col>length..m._mean</th><th scope=col>width..m._mean</th><th scope=col>height..m._mean</th><th scope=col>price...._sd</th><th scope=col>weight..kg._sd</th><th scope=col>length..m._sd</th><th scope=col>width..m._sd</th><th scope=col>height..m._sd</th><th scope=col>price...._median</th><th scope=col>weight..kg._median</th><th scope=col>length..m._median</th><th scope=col>width..m._median</th><th scope=col>height..m._median</th></tr>\n",
              "\t<tr><th scope=col>&lt;int&gt;</th><th scope=col>&lt;dbl&gt;</th><th scope=col>&lt;dbl&gt;</th><th scope=col>&lt;dbl&gt;</th><th scope=col>&lt;dbl&gt;</th><th scope=col>&lt;dbl&gt;</th><th scope=col>&lt;dbl&gt;</th><th scope=col>&lt;dbl&gt;</th><th scope=col>&lt;dbl&gt;</th><th scope=col>&lt;dbl&gt;</th><th scope=col>&lt;dbl&gt;</th><th scope=col>&lt;dbl&gt;</th><th scope=col>&lt;dbl&gt;</th><th scope=col>&lt;dbl&gt;</th><th scope=col>&lt;dbl&gt;</th><th scope=col>&lt;dbl&gt;</th></tr>\n",
              "</thead>\n",
              "<tbody>\n",
              "\t<tr><td>1</td><td> 90.490</td><td> 43.23231</td><td>0.6438462</td><td>0.3546154</td><td>0.2569231</td><td>142.8933</td><td>150.3073</td><td>0.4097466</td><td>0.1823282</td><td>0.2788782</td><td> 39.73</td><td>  1.340</td><td>0.580</td><td>0.28</td><td>0.200</td></tr>\n",
              "\t<tr><td>2</td><td>889.250</td><td> 25.13000</td><td>1.0300000</td><td>0.3000000</td><td>0.1500000</td><td>      NA</td><td>      NA</td><td>       NA</td><td>       NA</td><td>       NA</td><td>889.25</td><td> 25.130</td><td>1.030</td><td>0.30</td><td>0.150</td></tr>\n",
              "\t<tr><td>3</td><td>387.285</td><td>106.33250</td><td>0.9500000</td><td>0.9975000</td><td>0.9750000</td><td>350.8579</td><td>163.9044</td><td>0.3670604</td><td>0.1850000</td><td>0.3847510</td><td>243.84</td><td> 27.785</td><td>0.965</td><td>0.98</td><td>1.095</td></tr>\n",
              "\t<tr><td>4</td><td>176.050</td><td>907.69000</td><td>1.0700000</td><td>0.8400000</td><td>0.2900000</td><td>      NA</td><td>      NA</td><td>       NA</td><td>       NA</td><td>       NA</td><td>176.05</td><td>907.690</td><td>1.070</td><td>0.84</td><td>0.290</td></tr>\n",
              "\t<tr><td>5</td><td>714.570</td><td>  8.41000</td><td>1.5800000</td><td>0.3300000</td><td>1.1100000</td><td>      NA</td><td>      NA</td><td>       NA</td><td>       NA</td><td>       NA</td><td>714.57</td><td>  8.410</td><td>1.580</td><td>0.33</td><td>1.110</td></tr>\n",
              "</tbody>\n",
              "</table>\n"
            ],
            "text/markdown": "\nA tibble: 5 × 16\n\n| clusters1 &lt;int&gt; | price...._mean &lt;dbl&gt; | weight..kg._mean &lt;dbl&gt; | length..m._mean &lt;dbl&gt; | width..m._mean &lt;dbl&gt; | height..m._mean &lt;dbl&gt; | price...._sd &lt;dbl&gt; | weight..kg._sd &lt;dbl&gt; | length..m._sd &lt;dbl&gt; | width..m._sd &lt;dbl&gt; | height..m._sd &lt;dbl&gt; | price...._median &lt;dbl&gt; | weight..kg._median &lt;dbl&gt; | length..m._median &lt;dbl&gt; | width..m._median &lt;dbl&gt; | height..m._median &lt;dbl&gt; |\n|---|---|---|---|---|---|---|---|---|---|---|---|---|---|---|---|\n| 1 |  90.490 |  43.23231 | 0.6438462 | 0.3546154 | 0.2569231 | 142.8933 | 150.3073 | 0.4097466 | 0.1823282 | 0.2788782 |  39.73 |   1.340 | 0.580 | 0.28 | 0.200 |\n| 2 | 889.250 |  25.13000 | 1.0300000 | 0.3000000 | 0.1500000 |       NA |       NA |        NA |        NA |        NA | 889.25 |  25.130 | 1.030 | 0.30 | 0.150 |\n| 3 | 387.285 | 106.33250 | 0.9500000 | 0.9975000 | 0.9750000 | 350.8579 | 163.9044 | 0.3670604 | 0.1850000 | 0.3847510 | 243.84 |  27.785 | 0.965 | 0.98 | 1.095 |\n| 4 | 176.050 | 907.69000 | 1.0700000 | 0.8400000 | 0.2900000 |       NA |       NA |        NA |        NA |        NA | 176.05 | 907.690 | 1.070 | 0.84 | 0.290 |\n| 5 | 714.570 |   8.41000 | 1.5800000 | 0.3300000 | 1.1100000 |       NA |       NA |        NA |        NA |        NA | 714.57 |   8.410 | 1.580 | 0.33 | 1.110 |\n\n",
            "text/latex": "A tibble: 5 × 16\n\\begin{tabular}{llllllllllllllll}\n clusters1 & price....\\_mean & weight..kg.\\_mean & length..m.\\_mean & width..m.\\_mean & height..m.\\_mean & price....\\_sd & weight..kg.\\_sd & length..m.\\_sd & width..m.\\_sd & height..m.\\_sd & price....\\_median & weight..kg.\\_median & length..m.\\_median & width..m.\\_median & height..m.\\_median\\\\\n <int> & <dbl> & <dbl> & <dbl> & <dbl> & <dbl> & <dbl> & <dbl> & <dbl> & <dbl> & <dbl> & <dbl> & <dbl> & <dbl> & <dbl> & <dbl>\\\\\n\\hline\n\t 1 &  90.490 &  43.23231 & 0.6438462 & 0.3546154 & 0.2569231 & 142.8933 & 150.3073 & 0.4097466 & 0.1823282 & 0.2788782 &  39.73 &   1.340 & 0.580 & 0.28 & 0.200\\\\\n\t 2 & 889.250 &  25.13000 & 1.0300000 & 0.3000000 & 0.1500000 &       NA &       NA &        NA &        NA &        NA & 889.25 &  25.130 & 1.030 & 0.30 & 0.150\\\\\n\t 3 & 387.285 & 106.33250 & 0.9500000 & 0.9975000 & 0.9750000 & 350.8579 & 163.9044 & 0.3670604 & 0.1850000 & 0.3847510 & 243.84 &  27.785 & 0.965 & 0.98 & 1.095\\\\\n\t 4 & 176.050 & 907.69000 & 1.0700000 & 0.8400000 & 0.2900000 &       NA &       NA &        NA &        NA &        NA & 176.05 & 907.690 & 1.070 & 0.84 & 0.290\\\\\n\t 5 & 714.570 &   8.41000 & 1.5800000 & 0.3300000 & 1.1100000 &       NA &       NA &        NA &        NA &        NA & 714.57 &   8.410 & 1.580 & 0.33 & 1.110\\\\\n\\end{tabular}\n",
            "text/plain": [
              "  clusters1 price...._mean weight..kg._mean length..m._mean width..m._mean\n",
              "1 1          90.490         43.23231        0.6438462       0.3546154     \n",
              "2 2         889.250         25.13000        1.0300000       0.3000000     \n",
              "3 3         387.285        106.33250        0.9500000       0.9975000     \n",
              "4 4         176.050        907.69000        1.0700000       0.8400000     \n",
              "5 5         714.570          8.41000        1.5800000       0.3300000     \n",
              "  height..m._mean price...._sd weight..kg._sd length..m._sd width..m._sd\n",
              "1 0.2569231       142.8933     150.3073       0.4097466     0.1823282   \n",
              "2 0.1500000             NA           NA              NA            NA   \n",
              "3 0.9750000       350.8579     163.9044       0.3670604     0.1850000   \n",
              "4 0.2900000             NA           NA              NA            NA   \n",
              "5 1.1100000             NA           NA              NA            NA   \n",
              "  height..m._sd price...._median weight..kg._median length..m._median\n",
              "1 0.2788782      39.73             1.340            0.580            \n",
              "2        NA     889.25            25.130            1.030            \n",
              "3 0.3847510     243.84            27.785            0.965            \n",
              "4        NA     176.05           907.690            1.070            \n",
              "5        NA     714.57             8.410            1.580            \n",
              "  width..m._median height..m._median\n",
              "1 0.28             0.200            \n",
              "2 0.30             0.150            \n",
              "3 0.98             1.095            \n",
              "4 0.84             0.290            \n",
              "5 0.33             1.110            "
            ]
          },
          "metadata": {}
        }
      ],
      "id": "ipHwXfWVP_v7"
    },
    {
      "cell_type": "markdown",
      "source": [
        "**Cluster Breakdown:**\n",
        "\n",
        "1. **Cluster 1: Affordable Everyday Items (Clear & Complete)**\n",
        "    * This cluster groups items with **moderate prices** and **compact dimensions**.\n",
        "    * The absence of missing values (NA) suggests complete data for this cluster.\n",
        "    * Examples likely include items like desk chairs, bookshelves, and kitchen timers.\n",
        "\n",
        "2. **Cluster 2, 3 & 5: Potential Singletons with Missing Data (Uncertain)**\n",
        "    * Both clusters 2 and 3 exhibit high average prices:\n",
        "        * **Cluster 2:** Moderate weight with missing dimension data (NA).\n",
        "        * **Cluster 3:** High weight with missing dimension data (NA).\n",
        "        * **Cluster 5:** missing dimension data\n",
        "    * The high prices and missing details suggest these might be **singletons** (single items) or have **incomplete data**.\n",
        "    \n",
        "3. **Cluster 4: The Lightweight Outlier (Unique)**\n",
        "    * This cluster appears to contain a single item with a **low price** and **low weight**.\n",
        "    * It stands out from other clusters due to its contrasting characteristics.\n",
        "    * Missing dimension data (NA) limits further understanding.\n"
      ],
      "metadata": {
        "id": "q7jj43dIRrTR"
      },
      "id": "q7jj43dIRrTR"
    },
    {
      "cell_type": "code",
      "source": [
        "sampled_data$clusters1<-clusters1\n",
        "View(sampled_data)"
      ],
      "metadata": {
        "colab": {
          "base_uri": "https://localhost:8080/",
          "height": 725
        },
        "id": "qZUdY6_7SeZ-",
        "outputId": "6deb7d26-9a38-4424-a8de-ede060ee7316"
      },
      "id": "qZUdY6_7SeZ-",
      "execution_count": 64,
      "outputs": [
        {
          "output_type": "display_data",
          "data": {
            "text/plain": [
              "       name                        price.... weight..kg. length..m. width..m.\n",
              "114843 Laptop                      520.25      1.34      0.30       0.30     \n",
              "219668 Spices Collection            33.35      0.86      0.24       0.28     \n",
              "207784 Weed Whacker                 62.44      3.78      0.83       0.26     \n",
              "67501  Television                  889.25     25.13      1.03       0.30     \n",
              "96790  Desk Chair                  197.52     17.79      0.51       0.97     \n",
              "75522  Yoga Mat                     41.20      1.93      1.48       0.60     \n",
              "59919  Pallete of Beer Cases       239.61    543.47      1.03       0.80     \n",
              "253572 Hiking Boots                 58.37      1.56      0.36       0.21     \n",
              "124660 Bookshelf                   290.16     33.99      0.82       0.79     \n",
              "204036 Movie Night Pack             19.75      3.50      0.98       0.56     \n",
              "19376  Big Bag with Chemicals      176.05    907.69      1.07       0.84     \n",
              "171310 Tennis Racket               101.32      0.40      0.67       0.26     \n",
              "155251 Bicycle                     714.57      8.41      1.58       0.33     \n",
              "146622 Mixed Dried Fruits           14.41      0.53      0.40       0.22     \n",
              "41413  Camera Bag                   39.73      1.20      0.27       0.34     \n",
              "65981  TV                          906.70     21.58      1.36       1.24     \n",
              "86548  Medium Box                   12.36      0.52      0.58       0.30     \n",
              "149055 Kitchen Timer                 8.89      0.11      0.14       0.20     \n",
              "244491 Hoe                          24.69      2.82      1.09       0.28     \n",
              "150602 Pallete of Breakfast Cereal 154.76    351.97      1.11       0.99     \n",
              "       height..m. shipment.date destination.port              clusters\n",
              "114843 0.04       2023-03-18    Port of Tokyo (Japan)         1       \n",
              "219668 0.14       2023-03-18    Port of Tokyo (Japan)         1       \n",
              "207784 0.27       2023-03-21    Port of Tokyo (Japan)         1       \n",
              "67501  0.15       2023-03-12    Port of Singapore (Singapore) 1       \n",
              "96790  0.95       2023-03-22    Port of Singapore (Singapore) 2       \n",
              "75522  0.01       2023-03-21    Port of Shanghai (China)      1       \n",
              "59919  1.07       2023-03-12    Port of Busan (South Korea)   2       \n",
              "253572 0.27       2023-03-14    Port of Singapore (Singapore) 1       \n",
              "124660 1.27       2023-03-26    Port of Tokyo (Japan)         2       \n",
              "204036 0.26       2023-03-21    Port of Tokyo (Japan)         1       \n",
              "19376  0.29       2023-03-13    Port of Singapore (Singapore) 3       \n",
              "171310 0.01       2023-03-12    Port of Tokyo (Japan)         1       \n",
              "155251 1.11       2023-03-17    Port of Tianjin (China)       4       \n",
              "146622 0.17       2023-03-12    Port of Tianjin (China)       1       \n",
              "41413  0.28       2023-03-28    Port of Tianjin (China)       1       \n",
              "65981  0.44       2023-03-12    Port of Tokyo (Japan)         5       \n",
              "86548  0.20       2023-03-27    Port of Singapore (Singapore) 1       \n",
              "149055 0.12       2023-03-12    Port of Tianjin (China)       1       \n",
              "244491 0.50       2023-03-19    Port of Shanghai (China)      1       \n",
              "150602 1.24       2023-03-15    Port of Singapore (Singapore) 2       \n",
              "       clusters1\n",
              "114843 1        \n",
              "219668 1        \n",
              "207784 1        \n",
              "67501  2        \n",
              "96790  3        \n",
              "75522  1        \n",
              "59919  1        \n",
              "253572 1        \n",
              "124660 3        \n",
              "204036 1        \n",
              "19376  4        \n",
              "171310 1        \n",
              "155251 5        \n",
              "146622 1        \n",
              "41413  1        \n",
              "65981  3        \n",
              "86548  1        \n",
              "149055 1        \n",
              "244491 1        \n",
              "150602 3        "
            ],
            "text/html": [
              "<table class=\"dataframe\">\n",
              "<caption>A data.frame: 20 × 10</caption>\n",
              "<thead>\n",
              "\t<tr><th></th><th scope=col>name</th><th scope=col>price....</th><th scope=col>weight..kg.</th><th scope=col>length..m.</th><th scope=col>width..m.</th><th scope=col>height..m.</th><th scope=col>shipment.date</th><th scope=col>destination.port</th><th scope=col>clusters</th><th scope=col>clusters1</th></tr>\n",
              "\t<tr><th></th><th scope=col>&lt;chr&gt;</th><th scope=col>&lt;dbl&gt;</th><th scope=col>&lt;dbl&gt;</th><th scope=col>&lt;dbl&gt;</th><th scope=col>&lt;dbl&gt;</th><th scope=col>&lt;dbl&gt;</th><th scope=col>&lt;chr&gt;</th><th scope=col>&lt;chr&gt;</th><th scope=col>&lt;int&gt;</th><th scope=col>&lt;int&gt;</th></tr>\n",
              "</thead>\n",
              "<tbody>\n",
              "\t<tr><th scope=row>114843</th><td>Laptop                     </td><td>520.25</td><td>  1.34</td><td>0.30</td><td>0.30</td><td>0.04</td><td>2023-03-18</td><td>Port of Tokyo (Japan)        </td><td>1</td><td>1</td></tr>\n",
              "\t<tr><th scope=row>219668</th><td>Spices Collection          </td><td> 33.35</td><td>  0.86</td><td>0.24</td><td>0.28</td><td>0.14</td><td>2023-03-18</td><td>Port of Tokyo (Japan)        </td><td>1</td><td>1</td></tr>\n",
              "\t<tr><th scope=row>207784</th><td>Weed Whacker               </td><td> 62.44</td><td>  3.78</td><td>0.83</td><td>0.26</td><td>0.27</td><td>2023-03-21</td><td>Port of Tokyo (Japan)        </td><td>1</td><td>1</td></tr>\n",
              "\t<tr><th scope=row>67501</th><td>Television                 </td><td>889.25</td><td> 25.13</td><td>1.03</td><td>0.30</td><td>0.15</td><td>2023-03-12</td><td>Port of Singapore (Singapore)</td><td>1</td><td>2</td></tr>\n",
              "\t<tr><th scope=row>96790</th><td>Desk Chair                 </td><td>197.52</td><td> 17.79</td><td>0.51</td><td>0.97</td><td>0.95</td><td>2023-03-22</td><td>Port of Singapore (Singapore)</td><td>2</td><td>3</td></tr>\n",
              "\t<tr><th scope=row>75522</th><td>Yoga Mat                   </td><td> 41.20</td><td>  1.93</td><td>1.48</td><td>0.60</td><td>0.01</td><td>2023-03-21</td><td>Port of Shanghai (China)     </td><td>1</td><td>1</td></tr>\n",
              "\t<tr><th scope=row>59919</th><td>Pallete of Beer Cases      </td><td>239.61</td><td>543.47</td><td>1.03</td><td>0.80</td><td>1.07</td><td>2023-03-12</td><td>Port of Busan (South Korea)  </td><td>2</td><td>1</td></tr>\n",
              "\t<tr><th scope=row>253572</th><td>Hiking Boots               </td><td> 58.37</td><td>  1.56</td><td>0.36</td><td>0.21</td><td>0.27</td><td>2023-03-14</td><td>Port of Singapore (Singapore)</td><td>1</td><td>1</td></tr>\n",
              "\t<tr><th scope=row>124660</th><td>Bookshelf                  </td><td>290.16</td><td> 33.99</td><td>0.82</td><td>0.79</td><td>1.27</td><td>2023-03-26</td><td>Port of Tokyo (Japan)        </td><td>2</td><td>3</td></tr>\n",
              "\t<tr><th scope=row>204036</th><td>Movie Night Pack           </td><td> 19.75</td><td>  3.50</td><td>0.98</td><td>0.56</td><td>0.26</td><td>2023-03-21</td><td>Port of Tokyo (Japan)        </td><td>1</td><td>1</td></tr>\n",
              "\t<tr><th scope=row>19376</th><td>Big Bag with Chemicals     </td><td>176.05</td><td>907.69</td><td>1.07</td><td>0.84</td><td>0.29</td><td>2023-03-13</td><td>Port of Singapore (Singapore)</td><td>3</td><td>4</td></tr>\n",
              "\t<tr><th scope=row>171310</th><td>Tennis Racket              </td><td>101.32</td><td>  0.40</td><td>0.67</td><td>0.26</td><td>0.01</td><td>2023-03-12</td><td>Port of Tokyo (Japan)        </td><td>1</td><td>1</td></tr>\n",
              "\t<tr><th scope=row>155251</th><td>Bicycle                    </td><td>714.57</td><td>  8.41</td><td>1.58</td><td>0.33</td><td>1.11</td><td>2023-03-17</td><td>Port of Tianjin (China)      </td><td>4</td><td>5</td></tr>\n",
              "\t<tr><th scope=row>146622</th><td>Mixed Dried Fruits         </td><td> 14.41</td><td>  0.53</td><td>0.40</td><td>0.22</td><td>0.17</td><td>2023-03-12</td><td>Port of Tianjin (China)      </td><td>1</td><td>1</td></tr>\n",
              "\t<tr><th scope=row>41413</th><td>Camera Bag                 </td><td> 39.73</td><td>  1.20</td><td>0.27</td><td>0.34</td><td>0.28</td><td>2023-03-28</td><td>Port of Tianjin (China)      </td><td>1</td><td>1</td></tr>\n",
              "\t<tr><th scope=row>65981</th><td>TV                         </td><td>906.70</td><td> 21.58</td><td>1.36</td><td>1.24</td><td>0.44</td><td>2023-03-12</td><td>Port of Tokyo (Japan)        </td><td>5</td><td>3</td></tr>\n",
              "\t<tr><th scope=row>86548</th><td>Medium Box                 </td><td> 12.36</td><td>  0.52</td><td>0.58</td><td>0.30</td><td>0.20</td><td>2023-03-27</td><td>Port of Singapore (Singapore)</td><td>1</td><td>1</td></tr>\n",
              "\t<tr><th scope=row>149055</th><td>Kitchen Timer              </td><td>  8.89</td><td>  0.11</td><td>0.14</td><td>0.20</td><td>0.12</td><td>2023-03-12</td><td>Port of Tianjin (China)      </td><td>1</td><td>1</td></tr>\n",
              "\t<tr><th scope=row>244491</th><td>Hoe                        </td><td> 24.69</td><td>  2.82</td><td>1.09</td><td>0.28</td><td>0.50</td><td>2023-03-19</td><td>Port of Shanghai (China)     </td><td>1</td><td>1</td></tr>\n",
              "\t<tr><th scope=row>150602</th><td>Pallete of Breakfast Cereal</td><td>154.76</td><td>351.97</td><td>1.11</td><td>0.99</td><td>1.24</td><td>2023-03-15</td><td>Port of Singapore (Singapore)</td><td>2</td><td>3</td></tr>\n",
              "</tbody>\n",
              "</table>\n"
            ],
            "text/markdown": "\nA data.frame: 20 × 10\n\n| <!--/--> | name &lt;chr&gt; | price.... &lt;dbl&gt; | weight..kg. &lt;dbl&gt; | length..m. &lt;dbl&gt; | width..m. &lt;dbl&gt; | height..m. &lt;dbl&gt; | shipment.date &lt;chr&gt; | destination.port &lt;chr&gt; | clusters &lt;int&gt; | clusters1 &lt;int&gt; |\n|---|---|---|---|---|---|---|---|---|---|---|\n| 114843 | Laptop                      | 520.25 |   1.34 | 0.30 | 0.30 | 0.04 | 2023-03-18 | Port of Tokyo (Japan)         | 1 | 1 |\n| 219668 | Spices Collection           |  33.35 |   0.86 | 0.24 | 0.28 | 0.14 | 2023-03-18 | Port of Tokyo (Japan)         | 1 | 1 |\n| 207784 | Weed Whacker                |  62.44 |   3.78 | 0.83 | 0.26 | 0.27 | 2023-03-21 | Port of Tokyo (Japan)         | 1 | 1 |\n| 67501 | Television                  | 889.25 |  25.13 | 1.03 | 0.30 | 0.15 | 2023-03-12 | Port of Singapore (Singapore) | 1 | 2 |\n| 96790 | Desk Chair                  | 197.52 |  17.79 | 0.51 | 0.97 | 0.95 | 2023-03-22 | Port of Singapore (Singapore) | 2 | 3 |\n| 75522 | Yoga Mat                    |  41.20 |   1.93 | 1.48 | 0.60 | 0.01 | 2023-03-21 | Port of Shanghai (China)      | 1 | 1 |\n| 59919 | Pallete of Beer Cases       | 239.61 | 543.47 | 1.03 | 0.80 | 1.07 | 2023-03-12 | Port of Busan (South Korea)   | 2 | 1 |\n| 253572 | Hiking Boots                |  58.37 |   1.56 | 0.36 | 0.21 | 0.27 | 2023-03-14 | Port of Singapore (Singapore) | 1 | 1 |\n| 124660 | Bookshelf                   | 290.16 |  33.99 | 0.82 | 0.79 | 1.27 | 2023-03-26 | Port of Tokyo (Japan)         | 2 | 3 |\n| 204036 | Movie Night Pack            |  19.75 |   3.50 | 0.98 | 0.56 | 0.26 | 2023-03-21 | Port of Tokyo (Japan)         | 1 | 1 |\n| 19376 | Big Bag with Chemicals      | 176.05 | 907.69 | 1.07 | 0.84 | 0.29 | 2023-03-13 | Port of Singapore (Singapore) | 3 | 4 |\n| 171310 | Tennis Racket               | 101.32 |   0.40 | 0.67 | 0.26 | 0.01 | 2023-03-12 | Port of Tokyo (Japan)         | 1 | 1 |\n| 155251 | Bicycle                     | 714.57 |   8.41 | 1.58 | 0.33 | 1.11 | 2023-03-17 | Port of Tianjin (China)       | 4 | 5 |\n| 146622 | Mixed Dried Fruits          |  14.41 |   0.53 | 0.40 | 0.22 | 0.17 | 2023-03-12 | Port of Tianjin (China)       | 1 | 1 |\n| 41413 | Camera Bag                  |  39.73 |   1.20 | 0.27 | 0.34 | 0.28 | 2023-03-28 | Port of Tianjin (China)       | 1 | 1 |\n| 65981 | TV                          | 906.70 |  21.58 | 1.36 | 1.24 | 0.44 | 2023-03-12 | Port of Tokyo (Japan)         | 5 | 3 |\n| 86548 | Medium Box                  |  12.36 |   0.52 | 0.58 | 0.30 | 0.20 | 2023-03-27 | Port of Singapore (Singapore) | 1 | 1 |\n| 149055 | Kitchen Timer               |   8.89 |   0.11 | 0.14 | 0.20 | 0.12 | 2023-03-12 | Port of Tianjin (China)       | 1 | 1 |\n| 244491 | Hoe                         |  24.69 |   2.82 | 1.09 | 0.28 | 0.50 | 2023-03-19 | Port of Shanghai (China)      | 1 | 1 |\n| 150602 | Pallete of Breakfast Cereal | 154.76 | 351.97 | 1.11 | 0.99 | 1.24 | 2023-03-15 | Port of Singapore (Singapore) | 2 | 3 |\n\n",
            "text/latex": "A data.frame: 20 × 10\n\\begin{tabular}{r|llllllllll}\n  & name & price.... & weight..kg. & length..m. & width..m. & height..m. & shipment.date & destination.port & clusters & clusters1\\\\\n  & <chr> & <dbl> & <dbl> & <dbl> & <dbl> & <dbl> & <chr> & <chr> & <int> & <int>\\\\\n\\hline\n\t114843 & Laptop                      & 520.25 &   1.34 & 0.30 & 0.30 & 0.04 & 2023-03-18 & Port of Tokyo (Japan)         & 1 & 1\\\\\n\t219668 & Spices Collection           &  33.35 &   0.86 & 0.24 & 0.28 & 0.14 & 2023-03-18 & Port of Tokyo (Japan)         & 1 & 1\\\\\n\t207784 & Weed Whacker                &  62.44 &   3.78 & 0.83 & 0.26 & 0.27 & 2023-03-21 & Port of Tokyo (Japan)         & 1 & 1\\\\\n\t67501 & Television                  & 889.25 &  25.13 & 1.03 & 0.30 & 0.15 & 2023-03-12 & Port of Singapore (Singapore) & 1 & 2\\\\\n\t96790 & Desk Chair                  & 197.52 &  17.79 & 0.51 & 0.97 & 0.95 & 2023-03-22 & Port of Singapore (Singapore) & 2 & 3\\\\\n\t75522 & Yoga Mat                    &  41.20 &   1.93 & 1.48 & 0.60 & 0.01 & 2023-03-21 & Port of Shanghai (China)      & 1 & 1\\\\\n\t59919 & Pallete of Beer Cases       & 239.61 & 543.47 & 1.03 & 0.80 & 1.07 & 2023-03-12 & Port of Busan (South Korea)   & 2 & 1\\\\\n\t253572 & Hiking Boots                &  58.37 &   1.56 & 0.36 & 0.21 & 0.27 & 2023-03-14 & Port of Singapore (Singapore) & 1 & 1\\\\\n\t124660 & Bookshelf                   & 290.16 &  33.99 & 0.82 & 0.79 & 1.27 & 2023-03-26 & Port of Tokyo (Japan)         & 2 & 3\\\\\n\t204036 & Movie Night Pack            &  19.75 &   3.50 & 0.98 & 0.56 & 0.26 & 2023-03-21 & Port of Tokyo (Japan)         & 1 & 1\\\\\n\t19376 & Big Bag with Chemicals      & 176.05 & 907.69 & 1.07 & 0.84 & 0.29 & 2023-03-13 & Port of Singapore (Singapore) & 3 & 4\\\\\n\t171310 & Tennis Racket               & 101.32 &   0.40 & 0.67 & 0.26 & 0.01 & 2023-03-12 & Port of Tokyo (Japan)         & 1 & 1\\\\\n\t155251 & Bicycle                     & 714.57 &   8.41 & 1.58 & 0.33 & 1.11 & 2023-03-17 & Port of Tianjin (China)       & 4 & 5\\\\\n\t146622 & Mixed Dried Fruits          &  14.41 &   0.53 & 0.40 & 0.22 & 0.17 & 2023-03-12 & Port of Tianjin (China)       & 1 & 1\\\\\n\t41413 & Camera Bag                  &  39.73 &   1.20 & 0.27 & 0.34 & 0.28 & 2023-03-28 & Port of Tianjin (China)       & 1 & 1\\\\\n\t65981 & TV                          & 906.70 &  21.58 & 1.36 & 1.24 & 0.44 & 2023-03-12 & Port of Tokyo (Japan)         & 5 & 3\\\\\n\t86548 & Medium Box                  &  12.36 &   0.52 & 0.58 & 0.30 & 0.20 & 2023-03-27 & Port of Singapore (Singapore) & 1 & 1\\\\\n\t149055 & Kitchen Timer               &   8.89 &   0.11 & 0.14 & 0.20 & 0.12 & 2023-03-12 & Port of Tianjin (China)       & 1 & 1\\\\\n\t244491 & Hoe                         &  24.69 &   2.82 & 1.09 & 0.28 & 0.50 & 2023-03-19 & Port of Shanghai (China)      & 1 & 1\\\\\n\t150602 & Pallete of Breakfast Cereal & 154.76 & 351.97 & 1.11 & 0.99 & 1.24 & 2023-03-15 & Port of Singapore (Singapore) & 2 & 3\\\\\n\\end{tabular}\n"
          },
          "metadata": {}
        }
      ]
    },
    {
      "cell_type": "markdown",
      "source": [
        "Laptop is still in cluster 1. Television went from cluster 1 to 2 probably because of newly assigned weights. Desk chair went from 2 to 3 cluster. Camera Box is still in the same cluster, this is because it is a compact object"
      ],
      "metadata": {
        "id": "eAzVYF2kSl_v"
      },
      "id": "eAzVYF2kSl_v"
    },
    {
      "cell_type": "markdown",
      "source": [
        "# **TASK II: Text Minnning**"
      ],
      "metadata": {
        "id": "oUy801gQzavA"
      },
      "id": "oUy801gQzavA"
    },
    {
      "cell_type": "code",
      "source": [
        "library(dplyr)\n",
        "install.packages(\"tidytext\")\n",
        "library(tidytext)"
      ],
      "metadata": {
        "colab": {
          "base_uri": "https://localhost:8080/",
          "height": 0
        },
        "id": "lqL7M3k6aBx5",
        "outputId": "13ce873a-855b-492c-e922-6e1605f4b4b3"
      },
      "id": "lqL7M3k6aBx5",
      "execution_count": 89,
      "outputs": [
        {
          "output_type": "stream",
          "name": "stderr",
          "text": [
            "Installing package into ‘/usr/local/lib/R/site-library’\n",
            "(as ‘lib’ is unspecified)\n",
            "\n",
            "also installing the dependencies ‘Rcpp’, ‘SnowballC’, ‘janeaustenr’, ‘tokenizers’\n",
            "\n",
            "\n"
          ]
        }
      ]
    },
    {
      "cell_type": "code",
      "source": [
        "install.packages(\"stopwords\")\n",
        "library(stopwords)"
      ],
      "metadata": {
        "colab": {
          "base_uri": "https://localhost:8080/",
          "height": 0
        },
        "id": "h0YODXRLa1H3",
        "outputId": "905ba0dd-1fa1-4902-e0b5-a43111c898dd"
      },
      "id": "h0YODXRLa1H3",
      "execution_count": 92,
      "outputs": [
        {
          "output_type": "stream",
          "name": "stderr",
          "text": [
            "Installing package into ‘/usr/local/lib/R/site-library’\n",
            "(as ‘lib’ is unspecified)\n",
            "\n",
            "also installing the dependency ‘ISOcodes’\n",
            "\n",
            "\n"
          ]
        }
      ]
    },
    {
      "cell_type": "markdown",
      "id": "abe5a7f6-108b-44b5-977b-9bd2a9ab0dce",
      "metadata": {
        "id": "abe5a7f6-108b-44b5-977b-9bd2a9ab0dce"
      },
      "source": [
        "#### Solution - 1"
      ]
    },
    {
      "cell_type": "code",
      "execution_count": 68,
      "id": "c675aac9-c761-4d8a-b553-5571c01d7eec",
      "metadata": {
        "scrolled": true,
        "id": "c675aac9-c761-4d8a-b553-5571c01d7eec",
        "colab": {
          "base_uri": "https://localhost:8080/",
          "height": 338
        },
        "outputId": "8dd5b88f-406f-4245-c56e-561e616651cd"
      },
      "outputs": [
        {
          "output_type": "display_data",
          "data": {
            "text/html": [
              "<table class=\"dataframe\">\n",
              "<caption>A data.frame: 6 × 7</caption>\n",
              "<thead>\n",
              "\t<tr><th></th><th scope=col>id</th><th scope=col>season</th><th scope=col>episode</th><th scope=col>scene</th><th scope=col>line_text</th><th scope=col>speaker</th><th scope=col>deleted</th></tr>\n",
              "\t<tr><th></th><th scope=col>&lt;int&gt;</th><th scope=col>&lt;int&gt;</th><th scope=col>&lt;int&gt;</th><th scope=col>&lt;int&gt;</th><th scope=col>&lt;chr&gt;</th><th scope=col>&lt;chr&gt;</th><th scope=col>&lt;lgl&gt;</th></tr>\n",
              "</thead>\n",
              "<tbody>\n",
              "\t<tr><th scope=row>1</th><td>1</td><td>1</td><td>1</td><td>1</td><td>All right Jim. Your quarterlies look very good. How are things at the library?                                                                                                                                                                                                                                                                                                                                                                                                                                     </td><td>Michael</td><td>FALSE</td></tr>\n",
              "\t<tr><th scope=row>2</th><td>2</td><td>1</td><td>1</td><td>1</td><td>Oh, I told you. I couldn't close it. So...                                                                                                                                                                                                                                                                                                                                                                                                                                                                         </td><td>Jim    </td><td>FALSE</td></tr>\n",
              "\t<tr><th scope=row>3</th><td>3</td><td>1</td><td>1</td><td>1</td><td>So you've come to the master for guidance? Is this what you're saying, grasshopper?                                                                                                                                                                                                                                                                                                                                                                                                                                </td><td>Michael</td><td>FALSE</td></tr>\n",
              "\t<tr><th scope=row>4</th><td>4</td><td>1</td><td>1</td><td>1</td><td>Actually, you called me in here, but yeah.                                                                                                                                                                                                                                                                                                                                                                                                                                                                         </td><td>Jim    </td><td>FALSE</td></tr>\n",
              "\t<tr><th scope=row>5</th><td>5</td><td>1</td><td>1</td><td>1</td><td>All right. Well, let me show you how it's done.                                                                                                                                                                                                                                                                                                                                                                                                                                                                    </td><td>Michael</td><td>FALSE</td></tr>\n",
              "\t<tr><th scope=row>6</th><td>6</td><td>1</td><td>1</td><td>2</td><td>[on the phone] Yes, I'd like to speak to your office manager, please. Yes, hello. This is Michael Scott. I am the Regional Manager of Dunder Mifflin Paper Products. Just wanted to talk to you manager-a-manger. [quick cut scene] All right. Done deal. Thank you very much, sir. You're a gentleman and a scholar. Oh, I'm sorry. OK. I'm sorry. My mistake. [hangs up] That was a woman I was talking to, so... She had a very low voice. Probably a smoker, so... [Clears throat] So that's the way it's done.</td><td>Michael</td><td>FALSE</td></tr>\n",
              "</tbody>\n",
              "</table>\n"
            ],
            "text/markdown": "\nA data.frame: 6 × 7\n\n| <!--/--> | id &lt;int&gt; | season &lt;int&gt; | episode &lt;int&gt; | scene &lt;int&gt; | line_text &lt;chr&gt; | speaker &lt;chr&gt; | deleted &lt;lgl&gt; |\n|---|---|---|---|---|---|---|---|\n| 1 | 1 | 1 | 1 | 1 | All right Jim. Your quarterlies look very good. How are things at the library?                                                                                                                                                                                                                                                                                                                                                                                                                                      | Michael | FALSE |\n| 2 | 2 | 1 | 1 | 1 | Oh, I told you. I couldn't close it. So...                                                                                                                                                                                                                                                                                                                                                                                                                                                                          | Jim     | FALSE |\n| 3 | 3 | 1 | 1 | 1 | So you've come to the master for guidance? Is this what you're saying, grasshopper?                                                                                                                                                                                                                                                                                                                                                                                                                                 | Michael | FALSE |\n| 4 | 4 | 1 | 1 | 1 | Actually, you called me in here, but yeah.                                                                                                                                                                                                                                                                                                                                                                                                                                                                          | Jim     | FALSE |\n| 5 | 5 | 1 | 1 | 1 | All right. Well, let me show you how it's done.                                                                                                                                                                                                                                                                                                                                                                                                                                                                     | Michael | FALSE |\n| 6 | 6 | 1 | 1 | 2 | [on the phone] Yes, I'd like to speak to your office manager, please. Yes, hello. This is Michael Scott. I am the Regional Manager of Dunder Mifflin Paper Products. Just wanted to talk to you manager-a-manger. [quick cut scene] All right. Done deal. Thank you very much, sir. You're a gentleman and a scholar. Oh, I'm sorry. OK. I'm sorry. My mistake. [hangs up] That was a woman I was talking to, so... She had a very low voice. Probably a smoker, so... [Clears throat] So that's the way it's done. | Michael | FALSE |\n\n",
            "text/latex": "A data.frame: 6 × 7\n\\begin{tabular}{r|lllllll}\n  & id & season & episode & scene & line\\_text & speaker & deleted\\\\\n  & <int> & <int> & <int> & <int> & <chr> & <chr> & <lgl>\\\\\n\\hline\n\t1 & 1 & 1 & 1 & 1 & All right Jim. Your quarterlies look very good. How are things at the library?                                                                                                                                                                                                                                                                                                                                                                                                                                      & Michael & FALSE\\\\\n\t2 & 2 & 1 & 1 & 1 & Oh, I told you. I couldn't close it. So...                                                                                                                                                                                                                                                                                                                                                                                                                                                                          & Jim     & FALSE\\\\\n\t3 & 3 & 1 & 1 & 1 & So you've come to the master for guidance? Is this what you're saying, grasshopper?                                                                                                                                                                                                                                                                                                                                                                                                                                 & Michael & FALSE\\\\\n\t4 & 4 & 1 & 1 & 1 & Actually, you called me in here, but yeah.                                                                                                                                                                                                                                                                                                                                                                                                                                                                          & Jim     & FALSE\\\\\n\t5 & 5 & 1 & 1 & 1 & All right. Well, let me show you how it's done.                                                                                                                                                                                                                                                                                                                                                                                                                                                                     & Michael & FALSE\\\\\n\t6 & 6 & 1 & 1 & 2 & {[}on the phone{]} Yes, I'd like to speak to your office manager, please. Yes, hello. This is Michael Scott. I am the Regional Manager of Dunder Mifflin Paper Products. Just wanted to talk to you manager-a-manger. {[}quick cut scene{]} All right. Done deal. Thank you very much, sir. You're a gentleman and a scholar. Oh, I'm sorry. OK. I'm sorry. My mistake. {[}hangs up{]} That was a woman I was talking to, so... She had a very low voice. Probably a smoker, so... {[}Clears throat{]} So that's the way it's done. & Michael & FALSE\\\\\n\\end{tabular}\n",
            "text/plain": [
              "  id season episode scene\n",
              "1 1  1      1       1    \n",
              "2 2  1      1       1    \n",
              "3 3  1      1       1    \n",
              "4 4  1      1       1    \n",
              "5 5  1      1       1    \n",
              "6 6  1      1       2    \n",
              "  line_text                                                                                                                                                                                                                                                                                                                                                                                                                                                                                                          \n",
              "1 All right Jim. Your quarterlies look very good. How are things at the library?                                                                                                                                                                                                                                                                                                                                                                                                                                     \n",
              "2 Oh, I told you. I couldn't close it. So...                                                                                                                                                                                                                                                                                                                                                                                                                                                                         \n",
              "3 So you've come to the master for guidance? Is this what you're saying, grasshopper?                                                                                                                                                                                                                                                                                                                                                                                                                                \n",
              "4 Actually, you called me in here, but yeah.                                                                                                                                                                                                                                                                                                                                                                                                                                                                         \n",
              "5 All right. Well, let me show you how it's done.                                                                                                                                                                                                                                                                                                                                                                                                                                                                    \n",
              "6 [on the phone] Yes, I'd like to speak to your office manager, please. Yes, hello. This is Michael Scott. I am the Regional Manager of Dunder Mifflin Paper Products. Just wanted to talk to you manager-a-manger. [quick cut scene] All right. Done deal. Thank you very much, sir. You're a gentleman and a scholar. Oh, I'm sorry. OK. I'm sorry. My mistake. [hangs up] That was a woman I was talking to, so... She had a very low voice. Probably a smoker, so... [Clears throat] So that's the way it's done.\n",
              "  speaker deleted\n",
              "1 Michael FALSE  \n",
              "2 Jim     FALSE  \n",
              "3 Michael FALSE  \n",
              "4 Jim     FALSE  \n",
              "5 Michael FALSE  \n",
              "6 Michael FALSE  "
            ]
          },
          "metadata": {}
        }
      ],
      "source": [
        "##Solution - 1\n",
        "#Bring \"The Office\" dataset into local environment.\n",
        "office <- read.csv(\"the_office.csv\")\n",
        "head(office)"
      ]
    },
    {
      "cell_type": "code",
      "source": [
        "my_df <- office %>% filter(season == 2 & episode == 7)\n",
        "head(my_df)"
      ],
      "metadata": {
        "id": "1Z20YnXvtz63",
        "colab": {
          "base_uri": "https://localhost:8080/",
          "height": 303
        },
        "outputId": "fe9ebe6a-18a7-4fc2-9caa-0705baa8824f"
      },
      "id": "1Z20YnXvtz63",
      "execution_count": 86,
      "outputs": [
        {
          "output_type": "display_data",
          "data": {
            "text/html": [
              "<table class=\"dataframe\">\n",
              "<caption>A data.frame: 6 × 7</caption>\n",
              "<thead>\n",
              "\t<tr><th></th><th scope=col>id</th><th scope=col>season</th><th scope=col>episode</th><th scope=col>scene</th><th scope=col>line_text</th><th scope=col>speaker</th><th scope=col>deleted</th></tr>\n",
              "\t<tr><th></th><th scope=col>&lt;int&gt;</th><th scope=col>&lt;int&gt;</th><th scope=col>&lt;int&gt;</th><th scope=col>&lt;int&gt;</th><th scope=col>&lt;chr&gt;</th><th scope=col>&lt;chr&gt;</th><th scope=col>&lt;lgl&gt;</th></tr>\n",
              "</thead>\n",
              "<tbody>\n",
              "\t<tr><th scope=row>1</th><td>4191</td><td>2</td><td>7</td><td>1</td><td>[entering office] Hey, have they left for the big meeting yet?  I've got Michael's lucky tie.                                                                                               </td><td>Ryan</td><td>FALSE</td></tr>\n",
              "\t<tr><th scope=row>2</th><td>4192</td><td>2</td><td>7</td><td>1</td><td>No.  They're in the conference room.                                                                                                                                                        </td><td>Jim </td><td>FALSE</td></tr>\n",
              "\t<tr><th scope=row>3</th><td>4193</td><td>2</td><td>7</td><td>1</td><td>Good.                                                                                                                                                                                       </td><td>Ryan</td><td>FALSE</td></tr>\n",
              "\t<tr><th scope=row>4</th><td>4194</td><td>2</td><td>7</td><td>1</td><td>Wait, are those Michael's Levis?                                                                                                                                                            </td><td>Pam </td><td>FALSE</td></tr>\n",
              "\t<tr><th scope=row>5</th><td>4195</td><td>2</td><td>7</td><td>1</td><td>Yeah, who dry-cleans jeans?                                                                                                                                                                 </td><td>Ryan</td><td>FALSE</td></tr>\n",
              "\t<tr><th scope=row>6</th><td>4196</td><td>2</td><td>7</td><td>2</td><td>Michael and his jeans.  He gets in them, and I'm not exactly sure what happens.  But I can tell you, he loves the way he looks in those jeans.  I know that's why he started casual Fridays.</td><td>Pam </td><td>FALSE</td></tr>\n",
              "</tbody>\n",
              "</table>\n"
            ],
            "text/markdown": "\nA data.frame: 6 × 7\n\n| <!--/--> | id &lt;int&gt; | season &lt;int&gt; | episode &lt;int&gt; | scene &lt;int&gt; | line_text &lt;chr&gt; | speaker &lt;chr&gt; | deleted &lt;lgl&gt; |\n|---|---|---|---|---|---|---|---|\n| 1 | 4191 | 2 | 7 | 1 | [entering office] Hey, have they left for the big meeting yet?  I've got Michael's lucky tie.                                                                                                | Ryan | FALSE |\n| 2 | 4192 | 2 | 7 | 1 | No.  They're in the conference room.                                                                                                                                                         | Jim  | FALSE |\n| 3 | 4193 | 2 | 7 | 1 | Good.                                                                                                                                                                                        | Ryan | FALSE |\n| 4 | 4194 | 2 | 7 | 1 | Wait, are those Michael's Levis?                                                                                                                                                             | Pam  | FALSE |\n| 5 | 4195 | 2 | 7 | 1 | Yeah, who dry-cleans jeans?                                                                                                                                                                  | Ryan | FALSE |\n| 6 | 4196 | 2 | 7 | 2 | Michael and his jeans.  He gets in them, and I'm not exactly sure what happens.  But I can tell you, he loves the way he looks in those jeans.  I know that's why he started casual Fridays. | Pam  | FALSE |\n\n",
            "text/latex": "A data.frame: 6 × 7\n\\begin{tabular}{r|lllllll}\n  & id & season & episode & scene & line\\_text & speaker & deleted\\\\\n  & <int> & <int> & <int> & <int> & <chr> & <chr> & <lgl>\\\\\n\\hline\n\t1 & 4191 & 2 & 7 & 1 & {[}entering office{]} Hey, have they left for the big meeting yet?  I've got Michael's lucky tie.                                                                                                & Ryan & FALSE\\\\\n\t2 & 4192 & 2 & 7 & 1 & No.  They're in the conference room.                                                                                                                                                         & Jim  & FALSE\\\\\n\t3 & 4193 & 2 & 7 & 1 & Good.                                                                                                                                                                                        & Ryan & FALSE\\\\\n\t4 & 4194 & 2 & 7 & 1 & Wait, are those Michael's Levis?                                                                                                                                                             & Pam  & FALSE\\\\\n\t5 & 4195 & 2 & 7 & 1 & Yeah, who dry-cleans jeans?                                                                                                                                                                  & Ryan & FALSE\\\\\n\t6 & 4196 & 2 & 7 & 2 & Michael and his jeans.  He gets in them, and I'm not exactly sure what happens.  But I can tell you, he loves the way he looks in those jeans.  I know that's why he started casual Fridays. & Pam  & FALSE\\\\\n\\end{tabular}\n",
            "text/plain": [
              "  id   season episode scene\n",
              "1 4191 2      7       1    \n",
              "2 4192 2      7       1    \n",
              "3 4193 2      7       1    \n",
              "4 4194 2      7       1    \n",
              "5 4195 2      7       1    \n",
              "6 4196 2      7       2    \n",
              "  line_text                                                                                                                                                                                   \n",
              "1 [entering office] Hey, have they left for the big meeting yet?  I've got Michael's lucky tie.                                                                                               \n",
              "2 No.  They're in the conference room.                                                                                                                                                        \n",
              "3 Good.                                                                                                                                                                                       \n",
              "4 Wait, are those Michael's Levis?                                                                                                                                                            \n",
              "5 Yeah, who dry-cleans jeans?                                                                                                                                                                 \n",
              "6 Michael and his jeans.  He gets in them, and I'm not exactly sure what happens.  But I can tell you, he loves the way he looks in those jeans.  I know that's why he started casual Fridays.\n",
              "  speaker deleted\n",
              "1 Ryan    FALSE  \n",
              "2 Jim     FALSE  \n",
              "3 Ryan    FALSE  \n",
              "4 Pam     FALSE  \n",
              "5 Ryan    FALSE  \n",
              "6 Pam     FALSE  "
            ]
          },
          "metadata": {}
        }
      ]
    },
    {
      "cell_type": "markdown",
      "source": [
        "#### Solution - 2"
      ],
      "metadata": {
        "id": "3EPgU-uZxqzg"
      },
      "id": "3EPgU-uZxqzg"
    },
    {
      "cell_type": "code",
      "source": [
        "# Calculate the count of lines for each character\n",
        "line_counts <- table(my_df$speaker)\n",
        "\n",
        "# Sort the counts in descending order\n",
        "line_counts <- sort(line_counts, decreasing = TRUE)\n",
        "top_10 <- head(line_counts, 10)\n",
        "top_10"
      ],
      "metadata": {
        "id": "9g_49LNHad4w",
        "colab": {
          "base_uri": "https://localhost:8080/",
          "height": 104
        },
        "outputId": "156d2d60-454e-4c1d-a59c-14ee9b5152f1"
      },
      "id": "9g_49LNHad4w",
      "execution_count": 87,
      "outputs": [
        {
          "output_type": "display_data",
          "data": {
            "text/plain": [
              "\n",
              "  Michael       Jan       Jim       Pam    Dwight Christian      Ryan   Phyllis \n",
              "       86        55        52        40        24        19         8         6 \n",
              "    Oscar     Kevin \n",
              "        5         2 "
            ]
          },
          "metadata": {}
        }
      ]
    },
    {
      "cell_type": "code",
      "source": [
        "# Create a horizontal barplot\n",
        "barplot(line_counts,\n",
        "horiz = TRUE,\n",
        "las = 1,\n",
        "main = \"Top 10 Characters with Most Lines\",\n",
        "xlab = \"Number of Lines\",\n",
        "ylab = \"Character\",\n",
        "col = \"skyblue\")"
      ],
      "metadata": {
        "id": "c4vQcuJFyYhu",
        "colab": {
          "base_uri": "https://localhost:8080/",
          "height": 437
        },
        "outputId": "51b2a6c5-d040-4874-b3ee-79ff12a8ba6a"
      },
      "id": "c4vQcuJFyYhu",
      "execution_count": 88,
      "outputs": [
        {
          "output_type": "display_data",
          "data": {
            "text/plain": [
              "Plot with title “Top 10 Characters with Most Lines”"
            ],
            "image/png": "[encoded data removed]"
          },
          "metadata": {
            "image/png": {
              "width": 420,
              "height": 420
            }
          }
        }
      ]
    },
    {
      "cell_type": "markdown",
      "source": [
        "Michael has the highest line count followed by Jan. Toby, Stanley, Roy, Kelly, Hostess, Everyone & Angela have the lowest"
      ],
      "metadata": {
        "id": "NAyeX23HZg31"
      },
      "id": "NAyeX23HZg31"
    },
    {
      "cell_type": "markdown",
      "id": "4f48f5b9-b244-4735-8c6b-2f9378d3af5a",
      "metadata": {
        "id": "4f48f5b9-b244-4735-8c6b-2f9378d3af5a"
      },
      "source": [
        "#### Solution - 3"
      ]
    },
    {
      "cell_type": "code",
      "source": [
        "# Select only the line_text column\n",
        "lines_df <- select(my_df, line_text)\n",
        "\n",
        "# Create a tidy version of the episode text\n",
        "tidy_episode <- lines_df %>%\n",
        "  unnest_tokens(word, line_text)\n",
        "head(tidy_episode)"
      ],
      "metadata": {
        "colab": {
          "base_uri": "https://localhost:8080/",
          "height": 303
        },
        "id": "JBrRPG93XCcj",
        "outputId": "8e30107f-82e9-46bd-8f2e-05700548cc7d"
      },
      "id": "JBrRPG93XCcj",
      "execution_count": 91,
      "outputs": [
        {
          "output_type": "display_data",
          "data": {
            "text/html": [
              "<table class=\"dataframe\">\n",
              "<caption>A data.frame: 6 × 1</caption>\n",
              "<thead>\n",
              "\t<tr><th></th><th scope=col>word</th></tr>\n",
              "\t<tr><th></th><th scope=col>&lt;chr&gt;</th></tr>\n",
              "</thead>\n",
              "<tbody>\n",
              "\t<tr><th scope=row>1</th><td>entering</td></tr>\n",
              "\t<tr><th scope=row>2</th><td>office  </td></tr>\n",
              "\t<tr><th scope=row>3</th><td>hey     </td></tr>\n",
              "\t<tr><th scope=row>4</th><td>have    </td></tr>\n",
              "\t<tr><th scope=row>5</th><td>they    </td></tr>\n",
              "\t<tr><th scope=row>6</th><td>left    </td></tr>\n",
              "</tbody>\n",
              "</table>\n"
            ],
            "text/markdown": "\nA data.frame: 6 × 1\n\n| <!--/--> | word &lt;chr&gt; |\n|---|---|\n| 1 | entering |\n| 2 | office   |\n| 3 | hey      |\n| 4 | have     |\n| 5 | they     |\n| 6 | left     |\n\n",
            "text/latex": "A data.frame: 6 × 1\n\\begin{tabular}{r|l}\n  & word\\\\\n  & <chr>\\\\\n\\hline\n\t1 & entering\\\\\n\t2 & office  \\\\\n\t3 & hey     \\\\\n\t4 & have    \\\\\n\t5 & they    \\\\\n\t6 & left    \\\\\n\\end{tabular}\n",
            "text/plain": [
              "  word    \n",
              "1 entering\n",
              "2 office  \n",
              "3 hey     \n",
              "4 have    \n",
              "5 they    \n",
              "6 left    "
            ]
          },
          "metadata": {}
        }
      ]
    },
    {
      "cell_type": "markdown",
      "id": "f7855c95-fb3d-40ae-9b59-8ce925fb930f",
      "metadata": {
        "id": "f7855c95-fb3d-40ae-9b59-8ce925fb930f"
      },
      "source": [
        "#### Solution - 4"
      ]
    },
    {
      "cell_type": "code",
      "source": [
        "# Find the 10 most frequently used words\n",
        "top_words <- tidy_episode %>%\n",
        "  count(word, sort = TRUE) %>%\n",
        "  head(10)\n",
        "\n",
        "# Show the results\n",
        "top_words"
      ],
      "metadata": {
        "id": "qjmhLqYC0MJr",
        "colab": {
          "base_uri": "https://localhost:8080/",
          "height": 411
        },
        "outputId": "1b9af314-659f-4be7-e515-078c9d531937"
      },
      "id": "qjmhLqYC0MJr",
      "execution_count": 93,
      "outputs": [
        {
          "output_type": "display_data",
          "data": {
            "text/html": [
              "<table class=\"dataframe\">\n",
              "<caption>A data.frame: 10 × 2</caption>\n",
              "<thead>\n",
              "\t<tr><th></th><th scope=col>word</th><th scope=col>n</th></tr>\n",
              "\t<tr><th></th><th scope=col>&lt;chr&gt;</th><th scope=col>&lt;int&gt;</th></tr>\n",
              "</thead>\n",
              "<tbody>\n",
              "\t<tr><th scope=row>1</th><td>i      </td><td>125</td></tr>\n",
              "\t<tr><th scope=row>2</th><td>you    </td><td> 95</td></tr>\n",
              "\t<tr><th scope=row>3</th><td>a      </td><td> 85</td></tr>\n",
              "\t<tr><th scope=row>4</th><td>the    </td><td> 82</td></tr>\n",
              "\t<tr><th scope=row>5</th><td>to     </td><td> 76</td></tr>\n",
              "\t<tr><th scope=row>6</th><td>and    </td><td> 54</td></tr>\n",
              "\t<tr><th scope=row>7</th><td>it     </td><td> 52</td></tr>\n",
              "\t<tr><th scope=row>8</th><td>is     </td><td> 45</td></tr>\n",
              "\t<tr><th scope=row>9</th><td>this   </td><td> 40</td></tr>\n",
              "\t<tr><th scope=row>10</th><td>michael</td><td> 37</td></tr>\n",
              "</tbody>\n",
              "</table>\n"
            ],
            "text/markdown": "\nA data.frame: 10 × 2\n\n| <!--/--> | word &lt;chr&gt; | n &lt;int&gt; |\n|---|---|---|\n| 1 | i       | 125 |\n| 2 | you     |  95 |\n| 3 | a       |  85 |\n| 4 | the     |  82 |\n| 5 | to      |  76 |\n| 6 | and     |  54 |\n| 7 | it      |  52 |\n| 8 | is      |  45 |\n| 9 | this    |  40 |\n| 10 | michael |  37 |\n\n",
            "text/latex": "A data.frame: 10 × 2\n\\begin{tabular}{r|ll}\n  & word & n\\\\\n  & <chr> & <int>\\\\\n\\hline\n\t1 & i       & 125\\\\\n\t2 & you     &  95\\\\\n\t3 & a       &  85\\\\\n\t4 & the     &  82\\\\\n\t5 & to      &  76\\\\\n\t6 & and     &  54\\\\\n\t7 & it      &  52\\\\\n\t8 & is      &  45\\\\\n\t9 & this    &  40\\\\\n\t10 & michael &  37\\\\\n\\end{tabular}\n",
            "text/plain": [
              "   word    n  \n",
              "1  i       125\n",
              "2  you      95\n",
              "3  a        85\n",
              "4  the      82\n",
              "5  to       76\n",
              "6  and      54\n",
              "7  it       52\n",
              "8  is       45\n",
              "9  this     40\n",
              "10 michael  37"
            ]
          },
          "metadata": {}
        }
      ]
    },
    {
      "cell_type": "markdown",
      "metadata": {
        "id": "ALVbPqKMbrfZ"
      },
      "source": [
        "#### Solution - 4 a."
      ],
      "id": "ALVbPqKMbrfZ"
    },
    {
      "cell_type": "markdown",
      "id": "01bee805-8ed0-411f-8d41-877651f6b4c3",
      "metadata": {
        "id": "01bee805-8ed0-411f-8d41-877651f6b4c3"
      },
      "source": [
        "**💡Interpretation💡-**\n",
        "\n",
        "Relying solely on the most frequent words in text data can be misleading. This is because common words like \"the,\" \"and,\" and \"of\" appear frequently but offer little meaning in understanding the content.\n",
        "\n",
        "To extract valuable insights from text data, we need to perform additional processing steps. One crucial step involves removing these \"stop words.\" By eliminating them, we can focus on the more informative words that truly convey the essence of the text. This allows for a more accurate analysis of the underlying themes and topics."
      ]
    },
    {
      "cell_type": "markdown",
      "metadata": {
        "id": "HpO2VK-wbuDF"
      },
      "source": [
        "#### Solution - 4 b."
      ],
      "id": "HpO2VK-wbuDF"
    },
    {
      "cell_type": "code",
      "source": [
        "stop_words <- data.frame(word = stopwords(\"en\"))"
      ],
      "metadata": {
        "id": "OHX3IcOsbwq4"
      },
      "id": "OHX3IcOsbwq4",
      "execution_count": 94,
      "outputs": []
    },
    {
      "cell_type": "code",
      "source": [
        "# Remove stop words from the word frequency table\n",
        "word_freq <- tidy_episode %>%\n",
        "  anti_join(stop_words, by = \"word\") %>%\n",
        "  count(word, sort=TRUE)\n",
        "\n",
        "top_words2 <- head(word_freq, 10)\n",
        "top_words2"
      ],
      "metadata": {
        "colab": {
          "base_uri": "https://localhost:8080/",
          "height": 411
        },
        "id": "xK0RvKiDcAfg",
        "outputId": "12266ada-9696-45bf-a3c4-21406030e0d7"
      },
      "id": "xK0RvKiDcAfg",
      "execution_count": 97,
      "outputs": [
        {
          "output_type": "display_data",
          "data": {
            "text/html": [
              "<table class=\"dataframe\">\n",
              "<caption>A data.frame: 10 × 2</caption>\n",
              "<thead>\n",
              "\t<tr><th></th><th scope=col>word</th><th scope=col>n</th></tr>\n",
              "\t<tr><th></th><th scope=col>&lt;chr&gt;</th><th scope=col>&lt;int&gt;</th></tr>\n",
              "</thead>\n",
              "<tbody>\n",
              "\t<tr><th scope=row>1</th><td>michael</td><td>37</td></tr>\n",
              "\t<tr><th scope=row>2</th><td>know   </td><td>28</td></tr>\n",
              "\t<tr><th scope=row>3</th><td>ok     </td><td>27</td></tr>\n",
              "\t<tr><th scope=row>4</th><td>just   </td><td>25</td></tr>\n",
              "\t<tr><th scope=row>5</th><td>uh     </td><td>23</td></tr>\n",
              "\t<tr><th scope=row>6</th><td>jan    </td><td>19</td></tr>\n",
              "\t<tr><th scope=row>7</th><td>oh     </td><td>16</td></tr>\n",
              "\t<tr><th scope=row>8</th><td>think  </td><td>16</td></tr>\n",
              "\t<tr><th scope=row>9</th><td>go     </td><td>15</td></tr>\n",
              "\t<tr><th scope=row>10</th><td>pam    </td><td>15</td></tr>\n",
              "</tbody>\n",
              "</table>\n"
            ],
            "text/markdown": "\nA data.frame: 10 × 2\n\n| <!--/--> | word &lt;chr&gt; | n &lt;int&gt; |\n|---|---|---|\n| 1 | michael | 37 |\n| 2 | know    | 28 |\n| 3 | ok      | 27 |\n| 4 | just    | 25 |\n| 5 | uh      | 23 |\n| 6 | jan     | 19 |\n| 7 | oh      | 16 |\n| 8 | think   | 16 |\n| 9 | go      | 15 |\n| 10 | pam     | 15 |\n\n",
            "text/latex": "A data.frame: 10 × 2\n\\begin{tabular}{r|ll}\n  & word & n\\\\\n  & <chr> & <int>\\\\\n\\hline\n\t1 & michael & 37\\\\\n\t2 & know    & 28\\\\\n\t3 & ok      & 27\\\\\n\t4 & just    & 25\\\\\n\t5 & uh      & 23\\\\\n\t6 & jan     & 19\\\\\n\t7 & oh      & 16\\\\\n\t8 & think   & 16\\\\\n\t9 & go      & 15\\\\\n\t10 & pam     & 15\\\\\n\\end{tabular}\n",
            "text/plain": [
              "   word    n \n",
              "1  michael 37\n",
              "2  know    28\n",
              "3  ok      27\n",
              "4  just    25\n",
              "5  uh      23\n",
              "6  jan     19\n",
              "7  oh      16\n",
              "8  think   16\n",
              "9  go      15\n",
              "10 pam     15"
            ]
          },
          "metadata": {}
        }
      ]
    },
    {
      "cell_type": "markdown",
      "source": [
        "The results show the ten most frequent words that are likely more meaningful for understanding the content of your text data.  Words like \"michael,\" \"know,\" \"ok,\" \"just,\" and \"uh\" appear to be prominent, suggesting a conversational tone or a back-and-forth exchange between individuals. However, without additional context about the text source (e.g., dialogue transcript, meeting notes), it's difficult to draw definitive conclusions."
      ],
      "metadata": {
        "id": "ocJS2I2AdFN9"
      },
      "id": "ocJS2I2AdFN9"
    },
    {
      "cell_type": "markdown",
      "metadata": {
        "id": "JFqn2efEdc2F"
      },
      "source": [
        "#### Solution - 4 c."
      ],
      "id": "JFqn2efEdc2F"
    },
    {
      "cell_type": "code",
      "source": [
        "my_df2 <- my_df %>%\n",
        "  select(line_text) %>%\n",
        "  unnest_tokens(bigram, line_text, token = \"ngrams\", n = 2)%>%\n",
        "  na.omit()"
      ],
      "metadata": {
        "id": "faY8xZYcde30"
      },
      "id": "faY8xZYcde30",
      "execution_count": 102,
      "outputs": []
    },
    {
      "cell_type": "code",
      "source": [
        "# Remove stop words\n",
        "my_df2 <- cross_join(my_df2, stop_words)\n"
      ],
      "metadata": {
        "id": "RnDsKeDUeHnv"
      },
      "id": "RnDsKeDUeHnv",
      "execution_count": 103,
      "outputs": []
    },
    {
      "cell_type": "code",
      "source": [
        "# Count frequency of each bigram and show top 10\n",
        "bigrams<-my_df2 %>%\n",
        "  count(bigram, sort = TRUE)"
      ],
      "metadata": {
        "id": "vJwGQMLDgxrU"
      },
      "id": "vJwGQMLDgxrU",
      "execution_count": 104,
      "outputs": []
    },
    {
      "cell_type": "code",
      "source": [
        "top_words_bigram<-head(bigrams,10)\n",
        "top_words_bigram"
      ],
      "metadata": {
        "colab": {
          "base_uri": "https://localhost:8080/",
          "height": 411
        },
        "id": "9SP8FB89gvnX",
        "outputId": "8ca47334-9e80-491c-c36b-c3958a807e43"
      },
      "id": "9SP8FB89gvnX",
      "execution_count": 106,
      "outputs": [
        {
          "output_type": "display_data",
          "data": {
            "text/html": [
              "<table class=\"dataframe\">\n",
              "<caption>A data.frame: 10 × 2</caption>\n",
              "<thead>\n",
              "\t<tr><th></th><th scope=col>bigram</th><th scope=col>n</th></tr>\n",
              "\t<tr><th></th><th scope=col>&lt;chr&gt;</th><th scope=col>&lt;int&gt;</th></tr>\n",
              "</thead>\n",
              "<tbody>\n",
              "\t<tr><th scope=row>1</th><td>this is      </td><td>2625</td></tr>\n",
              "\t<tr><th scope=row>2</th><td>do you       </td><td>2100</td></tr>\n",
              "\t<tr><th scope=row>3</th><td>i don't      </td><td>2100</td></tr>\n",
              "\t<tr><th scope=row>4</th><td>i know       </td><td>2100</td></tr>\n",
              "\t<tr><th scope=row>5</th><td>it was       </td><td>1925</td></tr>\n",
              "\t<tr><th scope=row>6</th><td>michael scarn</td><td>1925</td></tr>\n",
              "\t<tr><th scope=row>7</th><td>i have       </td><td>1750</td></tr>\n",
              "\t<tr><th scope=row>8</th><td>you know     </td><td>1750</td></tr>\n",
              "\t<tr><th scope=row>9</th><td>agent michael</td><td>1575</td></tr>\n",
              "\t<tr><th scope=row>10</th><td>is a         </td><td>1575</td></tr>\n",
              "</tbody>\n",
              "</table>\n"
            ],
            "text/markdown": "\nA data.frame: 10 × 2\n\n| <!--/--> | bigram &lt;chr&gt; | n &lt;int&gt; |\n|---|---|---|\n| 1 | this is       | 2625 |\n| 2 | do you        | 2100 |\n| 3 | i don't       | 2100 |\n| 4 | i know        | 2100 |\n| 5 | it was        | 1925 |\n| 6 | michael scarn | 1925 |\n| 7 | i have        | 1750 |\n| 8 | you know      | 1750 |\n| 9 | agent michael | 1575 |\n| 10 | is a          | 1575 |\n\n",
            "text/latex": "A data.frame: 10 × 2\n\\begin{tabular}{r|ll}\n  & bigram & n\\\\\n  & <chr> & <int>\\\\\n\\hline\n\t1 & this is       & 2625\\\\\n\t2 & do you        & 2100\\\\\n\t3 & i don't       & 2100\\\\\n\t4 & i know        & 2100\\\\\n\t5 & it was        & 1925\\\\\n\t6 & michael scarn & 1925\\\\\n\t7 & i have        & 1750\\\\\n\t8 & you know      & 1750\\\\\n\t9 & agent michael & 1575\\\\\n\t10 & is a          & 1575\\\\\n\\end{tabular}\n",
            "text/plain": [
              "   bigram        n   \n",
              "1  this is       2625\n",
              "2  do you        2100\n",
              "3  i don't       2100\n",
              "4  i know        2100\n",
              "5  it was        1925\n",
              "6  michael scarn 1925\n",
              "7  i have        1750\n",
              "8  you know      1750\n",
              "9  agent michael 1575\n",
              "10 is a          1575"
            ]
          },
          "metadata": {}
        }
      ]
    },
    {
      "cell_type": "markdown",
      "source": [
        "**Bigrams**\n",
        "\n",
        "In natural language processing (NLP), we often deal with breaking down text into its building blocks. Here's where unigrams and bigrams come in:\n",
        "\n",
        "* **Unigrams: The Single Word Soldiers:**  A unigram is simply a single word. While unigrams provide the basic units of meaning, they lack context. Words like \"new\" and \"car\" analyzed as unigrams wouldn't reveal their relationship.\n",
        "\n",
        "* **Bigrams: Capturing Word Partnerships:** A bigram takes things a step further. It analyzes **pairs of consecutive words** in a sequence. This allows us to capture the **context** in which a word appears. For example, the bigram \"new car\" reveals a more meaningful connection between the words, potentially indicating someone looking for a recent vehicle.\n",
        "\n",
        "**Benefits of Bigram Analysis:**\n",
        "\n",
        "* **Context is King:** By analyzing bigrams, we can understand the relationships between words and identify common phrases or patterns in language use. This is crucial for tasks like sentiment analysis (understanding positive or negative opinions) or machine translation (converting text from one language to another).\n",
        "\n",
        "* **Beyond Single Words:**  Bigrams go beyond the limitations of unigrams by revealing how words are used together.  This provides a richer understanding of the text compared to analyzing words in isolation.\n",
        "\n",
        "**In essence, bigram analysis unlocks a deeper level of understanding in text processing by considering the connections between words, not just the words themselves.**\n"
      ],
      "metadata": {
        "id": "ht8ktNo9hTlX"
      },
      "id": "ht8ktNo9hTlX"
    },
    {
      "cell_type": "markdown",
      "metadata": {
        "id": "WTmdu7QCh7Vj"
      },
      "source": [
        "#### Solution - 4 d."
      ],
      "id": "WTmdu7QCh7Vj"
    },
    {
      "cell_type": "markdown",
      "source": [
        "Frequent words in an episode act as clues to themes and topics. They can help analyze sentiment, compare episodes, or identify storytelling patterns. Knowing the theme lets viewers decide if an episode aligns with their interests. For instance, a high frequency of \"agent michael\" might suggest an episode centered on a specific character or a comedic subplot."
      ],
      "metadata": {
        "id": "_GwoqH4bh3cM"
      },
      "id": "_GwoqH4bh3cM"
    },
    {
      "cell_type": "markdown",
      "id": "41ad91ae-e08d-45bc-8e5d-71e591aa7215",
      "metadata": {
        "id": "41ad91ae-e08d-45bc-8e5d-71e591aa7215"
      },
      "source": [
        "#### Solution - 5"
      ]
    },
    {
      "cell_type": "code",
      "source": [
        "#Wordcloud\n",
        "install.packages(\"tm\")\n",
        "install.packages(\"slam\")\n",
        "install.packages(\"wordcloud\")\n",
        "\n",
        "library(tm)\n",
        "library(slam)\n",
        "library(wordcloud)\n"
      ],
      "metadata": {
        "id": "DSAwjWtsnX4n",
        "colab": {
          "base_uri": "https://localhost:8080/",
          "height": 0
        },
        "outputId": "877ed170-c810-443e-b64f-fcf17779cf9a"
      },
      "id": "DSAwjWtsnX4n",
      "execution_count": 107,
      "outputs": [
        {
          "output_type": "stream",
          "name": "stderr",
          "text": [
            "Installing package into ‘/usr/local/lib/R/site-library’\n",
            "(as ‘lib’ is unspecified)\n",
            "\n",
            "also installing the dependencies ‘NLP’, ‘slam’, ‘BH’\n",
            "\n",
            "\n",
            "Installing package into ‘/usr/local/lib/R/site-library’\n",
            "(as ‘lib’ is unspecified)\n",
            "\n",
            "Installing package into ‘/usr/local/lib/R/site-library’\n",
            "(as ‘lib’ is unspecified)\n",
            "\n",
            "Loading required package: NLP\n",
            "\n",
            "\n",
            "Attaching package: ‘NLP’\n",
            "\n",
            "\n",
            "The following object is masked from ‘package:ggplot2’:\n",
            "\n",
            "    annotate\n",
            "\n",
            "\n",
            "\n",
            "Attaching package: ‘tm’\n",
            "\n",
            "\n",
            "The following object is masked from ‘package:stopwords’:\n",
            "\n",
            "    stopwords\n",
            "\n",
            "\n",
            "Loading required package: RColorBrewer\n",
            "\n"
          ]
        }
      ]
    },
    {
      "cell_type": "code",
      "source": [
        "# Construct Word Cloud\n",
        "wordcloud(tidy_episode$word)"
      ],
      "metadata": {
        "id": "TX3rATFz0mAj",
        "colab": {
          "base_uri": "https://localhost:8080/",
          "height": 506
        },
        "outputId": "b3852a31-418a-490f-c3b2-c81ec7197dfb"
      },
      "id": "TX3rATFz0mAj",
      "execution_count": 108,
      "outputs": [
        {
          "output_type": "stream",
          "name": "stderr",
          "text": [
            "Warning message in tm_map.SimpleCorpus(corpus, tm::removePunctuation):\n",
            "“transformation drops documents”\n",
            "Warning message in tm_map.SimpleCorpus(corpus, function(x) tm::removeWords(x, tm::stopwords())):\n",
            "“transformation drops documents”\n"
          ]
        },
        {
          "output_type": "display_data",
          "data": {
            "text/plain": [
              "plot without title"
            ],
            "image/png": "[encoded data removed]"
          },
          "metadata": {
            "image/png": {
              "width": 420,
              "height": 420
            }
          }
        }
      ]
    },
    {
      "cell_type": "markdown",
      "source": [
        "Based on the word cloud you sent, it appears to be related to the American sitcom 'The Office'. The most prominent words are all character names from the show, including Michael, Dwight, Jim, Pam, and Creed. This suggests that the word cloud likely captures the main characters' names spoken throughout the series or a specific episode.\n",
        "Focus on Humor: If words like \"laughs\", \"funny\" are prominent, it might suggest a focus on the show's humor and workplace antics.\n",
        "Emotional Moments: Words like \"kiss,\" \"love, could indicate a scene or episode with emotional weight or character development."
      ],
      "metadata": {
        "id": "M4I9GgqLjZCb"
      },
      "id": "M4I9GgqLjZCb"
    },
    {
      "cell_type": "markdown",
      "metadata": {
        "id": "yQO-WSDK31VZ"
      },
      "source": [
        "#### Solution - 6 a."
      ],
      "id": "yQO-WSDK31VZ"
    },
    {
      "cell_type": "code",
      "source": [
        "# Sentiment Analysis\n",
        "sentiment <- tidy_episode %>%\n",
        "  inner_join(get_sentiments(\"bing\")) %>%\n",
        "  count(word, sentiment, sort = TRUE) %>%\n",
        "  ungroup()"
      ],
      "metadata": {
        "id": "ZfbZxLo066eQ",
        "colab": {
          "base_uri": "https://localhost:8080/",
          "height": 0
        },
        "outputId": "ea7280da-e1fe-4cd6-d925-7eccc378a74a"
      },
      "id": "ZfbZxLo066eQ",
      "execution_count": 109,
      "outputs": [
        {
          "output_type": "stream",
          "name": "stderr",
          "text": [
            "\u001b[1m\u001b[22mJoining with `by = join_by(word)`\n"
          ]
        }
      ]
    },
    {
      "cell_type": "code",
      "source": [
        "top_10_sentiment<-sentiment%>%\n",
        "head(10)\n",
        "top_10_sentiment"
      ],
      "metadata": {
        "colab": {
          "base_uri": "https://localhost:8080/",
          "height": 411
        },
        "id": "WqEdWIjOlF0K",
        "outputId": "553bc73a-93f0-4a95-b6fc-b696ffb4ecf3"
      },
      "id": "WqEdWIjOlF0K",
      "execution_count": 111,
      "outputs": [
        {
          "output_type": "display_data",
          "data": {
            "text/html": [
              "<table class=\"dataframe\">\n",
              "<caption>A data.frame: 10 × 3</caption>\n",
              "<thead>\n",
              "\t<tr><th></th><th scope=col>word</th><th scope=col>sentiment</th><th scope=col>n</th></tr>\n",
              "\t<tr><th></th><th scope=col>&lt;chr&gt;</th><th scope=col>&lt;chr&gt;</th><th scope=col>&lt;int&gt;</th></tr>\n",
              "</thead>\n",
              "<tbody>\n",
              "\t<tr><th scope=row>1</th><td>well   </td><td>positive</td><td>15</td></tr>\n",
              "\t<tr><th scope=row>2</th><td>like   </td><td>positive</td><td>13</td></tr>\n",
              "\t<tr><th scope=row>3</th><td>right  </td><td>positive</td><td>12</td></tr>\n",
              "\t<tr><th scope=row>4</th><td>good   </td><td>positive</td><td>10</td></tr>\n",
              "\t<tr><th scope=row>5</th><td>excuse </td><td>negative</td><td> 8</td></tr>\n",
              "\t<tr><th scope=row>6</th><td>work   </td><td>positive</td><td> 8</td></tr>\n",
              "\t<tr><th scope=row>7</th><td>awesome</td><td>positive</td><td> 6</td></tr>\n",
              "\t<tr><th scope=row>8</th><td>blossom</td><td>positive</td><td> 5</td></tr>\n",
              "\t<tr><th scope=row>9</th><td>love   </td><td>positive</td><td> 5</td></tr>\n",
              "\t<tr><th scope=row>10</th><td>thank  </td><td>positive</td><td> 5</td></tr>\n",
              "</tbody>\n",
              "</table>\n"
            ],
            "text/markdown": "\nA data.frame: 10 × 3\n\n| <!--/--> | word &lt;chr&gt; | sentiment &lt;chr&gt; | n &lt;int&gt; |\n|---|---|---|---|\n| 1 | well    | positive | 15 |\n| 2 | like    | positive | 13 |\n| 3 | right   | positive | 12 |\n| 4 | good    | positive | 10 |\n| 5 | excuse  | negative |  8 |\n| 6 | work    | positive |  8 |\n| 7 | awesome | positive |  6 |\n| 8 | blossom | positive |  5 |\n| 9 | love    | positive |  5 |\n| 10 | thank   | positive |  5 |\n\n",
            "text/latex": "A data.frame: 10 × 3\n\\begin{tabular}{r|lll}\n  & word & sentiment & n\\\\\n  & <chr> & <chr> & <int>\\\\\n\\hline\n\t1 & well    & positive & 15\\\\\n\t2 & like    & positive & 13\\\\\n\t3 & right   & positive & 12\\\\\n\t4 & good    & positive & 10\\\\\n\t5 & excuse  & negative &  8\\\\\n\t6 & work    & positive &  8\\\\\n\t7 & awesome & positive &  6\\\\\n\t8 & blossom & positive &  5\\\\\n\t9 & love    & positive &  5\\\\\n\t10 & thank   & positive &  5\\\\\n\\end{tabular}\n",
            "text/plain": [
              "   word    sentiment n \n",
              "1  well    positive  15\n",
              "2  like    positive  13\n",
              "3  right   positive  12\n",
              "4  good    positive  10\n",
              "5  excuse  negative   8\n",
              "6  work    positive   8\n",
              "7  awesome positive   6\n",
              "8  blossom positive   5\n",
              "9  love    positive   5\n",
              "10 thank   positive   5"
            ]
          },
          "metadata": {}
        }
      ]
    },
    {
      "cell_type": "markdown",
      "metadata": {
        "id": "lWTTA7UwmbdT"
      },
      "source": [
        "#### Solution - 6 b."
      ],
      "id": "lWTTA7UwmbdT"
    },
    {
      "cell_type": "markdown",
      "source": [
        "Positive Sentiment Reigns Supreme:\n",
        "\n",
        "Looking at the results, we see that all the top 10 words are classified as \"positive.\" Words like \"well,\" \"like,\" \"right,\" \"good,\" \"awesome,\" \"blossom,\" \"love,\" and \"thank\" all carry positive connotations. This suggests an overall positive sentiment within the analyzed text data. So in total 9 positive sentiments.\n",
        "\n",
        "Negative Sentiments - Only 1 negative sentiment was found \"\texcuse\" which was said 8 times"
      ],
      "metadata": {
        "id": "aPbpbB9Vlol4"
      },
      "id": "aPbpbB9Vlol4"
    },
    {
      "cell_type": "markdown",
      "metadata": {
        "id": "pL0BJ7S5mdWy"
      },
      "source": [
        "#### Solution - 6 c."
      ],
      "id": "pL0BJ7S5mdWy"
    },
    {
      "cell_type": "markdown",
      "source": [
        "Based on the overwhelming presence of positive words like \"well,\" \"like,\" \"good,\" and \"awesome,\" this list suggests a lighthearted and positive episode filled with approval, appreciation, and potentially some humorous situations (given \"excuse\" being the only negative word)."
      ],
      "metadata": {
        "id": "gp5y3kD0mXZj"
      },
      "id": "gp5y3kD0mXZj"
    },
    {
      "cell_type": "markdown",
      "id": "8010da20-1bb0-4ef7-8da7-a8ec8707ca53",
      "metadata": {
        "id": "8010da20-1bb0-4ef7-8da7-a8ec8707ca53"
      },
      "source": [
        "#### Solution - 7"
      ]
    },
    {
      "cell_type": "code",
      "source": [
        "#sentiment analysis using afinn\n",
        "install.packages(\"textdata\")\n",
        "library(textdata)"
      ],
      "metadata": {
        "colab": {
          "base_uri": "https://localhost:8080/",
          "height": 0
        },
        "id": "JrZngaKnmjba",
        "outputId": "4e1d8a3a-c528-4561-d7db-2b6b4fc9579f"
      },
      "id": "JrZngaKnmjba",
      "execution_count": 112,
      "outputs": [
        {
          "output_type": "stream",
          "name": "stderr",
          "text": [
            "Installing package into ‘/usr/local/lib/R/site-library’\n",
            "(as ‘lib’ is unspecified)\n",
            "\n"
          ]
        }
      ]
    },
    {
      "cell_type": "code",
      "source": [
        "# Get the AFINN lexicon\n",
        "afinn_lexicon <- get_sentiments(\"afinn\")"
      ],
      "metadata": {
        "colab": {
          "base_uri": "https://localhost:8080/",
          "height": 332
        },
        "id": "XJ8md1YpmqRO",
        "outputId": "45866e09-33c2-43c1-8039-b3cb3b667c2f"
      },
      "id": "XJ8md1YpmqRO",
      "execution_count": 114,
      "outputs": [
        {
          "output_type": "stream",
          "name": "stdout",
          "text": [
            "Do you want to download:\n",
            " Name: AFINN-111 \n",
            " URL: http://www2.imm.dtu.dk/pubdb/views/publication_details.php?id=6010 \n",
            " License: Open Database License (ODbL) v1.0 \n",
            " Size: 78 KB (cleaned 59 KB) \n",
            " Download mechanism: https \n"
          ]
        },
        {
          "output_type": "error",
          "ename": "ERROR",
          "evalue": "Error in menu(choices = c(\"Yes\", \"No\"), title = title): menu() cannot be used non-interactively\n",
          "traceback": [
            "Error in menu(choices = c(\"Yes\", \"No\"), title = title): menu() cannot be used non-interactively\nTraceback:\n",
            "1. get_sentiments(\"afinn\")",
            "2. textdata::lexicon_afinn()",
            "3. load_dataset(data_name = \"afinn\", name = \"afinn_111.rds\", dir = dir, \n .     delete = delete, return_path = return_path, clean = clean, \n .     manual_download = manual_download)",
            "4. printer(data_name)",
            "5. menu(choices = c(\"Yes\", \"No\"), title = title)",
            "6. stop(\"menu() cannot be used non-interactively\")"
          ]
        }
      ]
    },
    {
      "cell_type": "code",
      "source": [
        "# Read the AFINN lexicon file\n",
        "afinn <- read.table(\"AFINN-96.txt\", header = FALSE, sep = \"\\t\", col.names = c(\"word\", \"score\"))\n",
        "\n",
        "# Check the structure of the AFINN lexicon\n",
        "str(afinn)\n"
      ],
      "metadata": {
        "colab": {
          "base_uri": "https://localhost:8080/",
          "height": 0
        },
        "id": "sfK1SnEPnf9t",
        "outputId": "2080a23e-2bd6-4b5d-aca4-32fa7e9bd05c"
      },
      "id": "sfK1SnEPnf9t",
      "execution_count": 116,
      "outputs": [
        {
          "output_type": "stream",
          "name": "stderr",
          "text": [
            "Warning message in scan(file = file, what = what, sep = sep, quote = quote, dec = dec, :\n",
            "“EOF within quoted string”\n",
            "Warning message in scan(file = file, what = what, sep = sep, quote = quote, dec = dec, :\n",
            "“number of items read is not a multiple of the number of columns”\n"
          ]
        },
        {
          "output_type": "stream",
          "name": "stdout",
          "text": [
            "'data.frame':\t199 obs. of  2 variables:\n",
            " $ word : chr  \"abandon\" \"abandons\" \"abandoned\" \"absentee\" ...\n",
            " $ score: int  -2 -2 -2 -1 -1 1 -2 -2 -2 -3 ...\n"
          ]
        }
      ]
    },
    {
      "cell_type": "code",
      "source": [
        "# Join the words with the AFINN lexicon to obtain sentiment scores\n",
        "word_scores_afinn <- tidy_episode %>%\n",
        "  inner_join(afinn, by = \"word\")\n",
        "head(word_scores_afinn)"
      ],
      "metadata": {
        "colab": {
          "base_uri": "https://localhost:8080/",
          "height": 286
        },
        "id": "E_a1Ejbjnz79",
        "outputId": "5af7ce22-6d82-44c7-8e11-ea244d39f783"
      },
      "id": "E_a1Ejbjnz79",
      "execution_count": 122,
      "outputs": [
        {
          "output_type": "display_data",
          "data": {
            "text/html": [
              "<table class=\"dataframe\">\n",
              "<caption>A data.frame: 6 × 2</caption>\n",
              "<thead>\n",
              "\t<tr><th></th><th scope=col>word</th><th scope=col>score</th></tr>\n",
              "\t<tr><th></th><th scope=col>&lt;chr&gt;</th><th scope=col>&lt;int&gt;</th></tr>\n",
              "</thead>\n",
              "<tbody>\n",
              "\t<tr><th scope=row>1</th><td>big   </td><td> 1</td></tr>\n",
              "\t<tr><th scope=row>2</th><td>big   </td><td> 1</td></tr>\n",
              "\t<tr><th scope=row>3</th><td>ass   </td><td>-4</td></tr>\n",
              "\t<tr><th scope=row>4</th><td>blocks</td><td>-1</td></tr>\n",
              "\t<tr><th scope=row>5</th><td>blocks</td><td>-1</td></tr>\n",
              "\t<tr><th scope=row>6</th><td>agreed</td><td> 1</td></tr>\n",
              "</tbody>\n",
              "</table>\n"
            ],
            "text/markdown": "\nA data.frame: 6 × 2\n\n| <!--/--> | word &lt;chr&gt; | score &lt;int&gt; |\n|---|---|---|\n| 1 | big    |  1 |\n| 2 | big    |  1 |\n| 3 | ass    | -4 |\n| 4 | blocks | -1 |\n| 5 | blocks | -1 |\n| 6 | agreed |  1 |\n\n",
            "text/latex": "A data.frame: 6 × 2\n\\begin{tabular}{r|ll}\n  & word & score\\\\\n  & <chr> & <int>\\\\\n\\hline\n\t1 & big    &  1\\\\\n\t2 & big    &  1\\\\\n\t3 & ass    & -4\\\\\n\t4 & blocks & -1\\\\\n\t5 & blocks & -1\\\\\n\t6 & agreed &  1\\\\\n\\end{tabular}\n",
            "text/plain": [
              "  word   score\n",
              "1 big     1   \n",
              "2 big     1   \n",
              "3 ass    -4   \n",
              "4 blocks -1   \n",
              "5 blocks -1   \n",
              "6 agreed  1   "
            ]
          },
          "metadata": {}
        }
      ]
    },
    {
      "cell_type": "code",
      "source": [
        "# Find the worst 3 words based on the AFINN scores\n",
        "worst_words_afinn <- word_scores_afinn %>%\n",
        "  group_by(word) %>%\n",
        "  summarize(sentiment = sum(score)) %>%\n",
        "  arrange(sentiment) %>%\n",
        "  slice_head(n = 3)\n"
      ],
      "metadata": {
        "id": "eoIkmXwsoelB"
      },
      "id": "eoIkmXwsoelB",
      "execution_count": 124,
      "outputs": []
    },
    {
      "cell_type": "code",
      "source": [
        "# Find the best 3 words based on the AFINN scores\n",
        "best_words_afinn <- word_scores_afinn %>%\n",
        "  group_by(word) %>%\n",
        "  summarize(sentiment = sum(score)) %>%\n",
        "  arrange(desc(sentiment)) %>%\n",
        "  slice_head(n = 3)\n"
      ],
      "metadata": {
        "id": "XN2KrYdoo1ed"
      },
      "id": "XN2KrYdoo1ed",
      "execution_count": 125,
      "outputs": []
    },
    {
      "cell_type": "code",
      "source": [
        "cat(\"The worst 3 words in the episode based on AFINN scores:\", worst_words_afinn$word)"
      ],
      "metadata": {
        "colab": {
          "base_uri": "https://localhost:8080/",
          "height": 0
        },
        "id": "Qx4-SnByo5IP",
        "outputId": "da58458d-888a-42f6-9674-a441c62eda19"
      },
      "id": "Qx4-SnByo5IP",
      "execution_count": 128,
      "outputs": [
        {
          "output_type": "stream",
          "name": "stdout",
          "text": [
            "The worst 3 words in the episode based on AFINN scores: ass bad accident"
          ]
        }
      ]
    },
    {
      "cell_type": "code",
      "source": [
        "cat(\"The best 3 words in the episode based on AFINN scores:\", best_words_afinn$word)"
      ],
      "metadata": {
        "colab": {
          "base_uri": "https://localhost:8080/",
          "height": 0
        },
        "id": "TZXt4IFzpCZB",
        "outputId": "0a3c2c52-6dee-4b13-ab7b-5efd21173475"
      },
      "id": "TZXt4IFzpCZB",
      "execution_count": 129,
      "outputs": [
        {
          "output_type": "stream",
          "name": "stdout",
          "text": [
            "The best 3 words in the episode based on AFINN scores: awesome best big"
          ]
        }
      ]
    },
    {
      "cell_type": "code",
      "source": [
        "# Sum all the sentiment values\n",
        "total_sentiment <- sum(word_scores_afinn$score)"
      ],
      "metadata": {
        "id": "aGJ5UOx9pTzE"
      },
      "id": "aGJ5UOx9pTzE",
      "execution_count": 130,
      "outputs": []
    },
    {
      "cell_type": "code",
      "source": [
        "cat(\"The total sentiment score for the episode based on AFINN lexicon is:\", total_sentiment)"
      ],
      "metadata": {
        "colab": {
          "base_uri": "https://localhost:8080/",
          "height": 0
        },
        "id": "vV0TdaqOpZPg",
        "outputId": "f7576767-efb0-42ac-ddba-71a5c73caa02"
      },
      "id": "vV0TdaqOpZPg",
      "execution_count": 131,
      "outputs": [
        {
          "output_type": "stream",
          "name": "stdout",
          "text": [
            "The total sentiment score for the episode based on AFINN lexicon is: 19"
          ]
        }
      ]
    },
    {
      "cell_type": "markdown",
      "source": [
        "**💡Interpretation💡-**\n",
        "Positive score (19) from AFINN suggests a happy episode, but lexicons like AFINN miss context, negation, and deeper emotions.  For a fuller picture, consider analyzing sentence structure, word sequences, and genre alongside the lexicon score."
      ],
      "metadata": {
        "id": "a391hUqL-MUc"
      },
      "id": "a391hUqL-MUc"
    },
    {
      "cell_type": "code",
      "source": [],
      "metadata": {
        "id": "N5DfziyTd1Dt"
      },
      "id": "N5DfziyTd1Dt",
      "execution_count": null,
      "outputs": []
    },
    {
      "cell_type": "code",
      "source": [],
      "metadata": {
        "id": "ZTlKibWpqPwD"
      },
      "id": "ZTlKibWpqPwD",
      "execution_count": null,
      "outputs": []
    },
    {
      "cell_type": "code",
      "source": [],
      "metadata": {
        "id": "zFC4E7vzqPzL"
      },
      "id": "zFC4E7vzqPzL",
      "execution_count": null,
      "outputs": []
    },
    {
      "cell_type": "code",
      "source": [],
      "metadata": {
        "id": "hPkdBD6jqP2A"
      },
      "id": "hPkdBD6jqP2A",
      "execution_count": null,
      "outputs": []
    },
    {
      "cell_type": "code",
      "source": [],
      "metadata": {
        "id": "uiDIAHTQqP4y"
      },
      "id": "uiDIAHTQqP4y",
      "execution_count": null,
      "outputs": []
    },
    {
      "cell_type": "code",
      "source": [],
      "metadata": {
        "id": "yESvQl-jqP7e"
      },
      "id": "yESvQl-jqP7e",
      "execution_count": null,
      "outputs": []
    },
    {
      "cell_type": "code",
      "source": [],
      "metadata": {
        "id": "fW9JpjCmqP-s"
      },
      "id": "fW9JpjCmqP-s",
      "execution_count": null,
      "outputs": []
    },
    {
      "cell_type": "code",
      "source": [],
      "metadata": {
        "id": "X2TKz4e4qQCu"
      },
      "id": "X2TKz4e4qQCu",
      "execution_count": null,
      "outputs": []
    },
    {
      "cell_type": "code",
      "source": [],
      "metadata": {
        "id": "3bBadCzkqQGS"
      },
      "id": "3bBadCzkqQGS",
      "execution_count": null,
      "outputs": []
    },
    {
      "cell_type": "code",
      "source": [],
      "metadata": {
        "id": "CJ5w4YWKqQI4"
      },
      "id": "CJ5w4YWKqQI4",
      "execution_count": null,
      "outputs": []
    },
    {
      "cell_type": "code",
      "source": [],
      "metadata": {
        "id": "2N5t-hQsqQLQ"
      },
      "id": "2N5t-hQsqQLQ",
      "execution_count": null,
      "outputs": []
    },
    {
      "cell_type": "code",
      "source": [],
      "metadata": {
        "id": "w0kOgxuNqQOU"
      },
      "id": "w0kOgxuNqQOU",
      "execution_count": null,
      "outputs": []
    },
    {
      "cell_type": "code",
      "source": [],
      "metadata": {
        "id": "B__ZGj0mqQRW"
      },
      "id": "B__ZGj0mqQRW",
      "execution_count": null,
      "outputs": []
    },
    {
      "cell_type": "code",
      "source": [],
      "metadata": {
        "id": "FK_7dHx_d1KE"
      },
      "id": "FK_7dHx_d1KE",
      "execution_count": null,
      "outputs": []
    },
    {
      "cell_type": "code",
      "source": [],
      "metadata": {
        "id": "rsvKWIcBd1Qf"
      },
      "id": "rsvKWIcBd1Qf",
      "execution_count": null,
      "outputs": []
    },
    {
      "cell_type": "code",
      "source": [],
      "metadata": {
        "id": "yjn1xn5xd1Wv"
      },
      "id": "yjn1xn5xd1Wv",
      "execution_count": null,
      "outputs": []
    },
    {
      "cell_type": "code",
      "source": [],
      "metadata": {
        "id": "Lv7WzZ6Qd1c-"
      },
      "id": "Lv7WzZ6Qd1c-",
      "execution_count": null,
      "outputs": []
    },
    {
      "cell_type": "code",
      "source": [],
      "metadata": {
        "id": "3VjPE9SKd1ih"
      },
      "id": "3VjPE9SKd1ih",
      "execution_count": null,
      "outputs": []
    },
    {
      "cell_type": "code",
      "source": [],
      "metadata": {
        "id": "s-RlA4Otd1oL"
      },
      "id": "s-RlA4Otd1oL",
      "execution_count": null,
      "outputs": []
    },
    {
      "cell_type": "code",
      "source": [],
      "metadata": {
        "id": "Gjyh2uSId1t5"
      },
      "id": "Gjyh2uSId1t5",
      "execution_count": null,
      "outputs": []
    },
    {
      "cell_type": "code",
      "source": [],
      "metadata": {
        "id": "RrgwVRyrd1zI"
      },
      "id": "RrgwVRyrd1zI",
      "execution_count": null,
      "outputs": []
    },
    {
      "cell_type": "code",
      "source": [],
      "metadata": {
        "id": "UXoJJYhJd6AS"
      },
      "id": "UXoJJYhJd6AS",
      "execution_count": null,
      "outputs": []
    },
    {
      "cell_type": "code",
      "source": [],
      "metadata": {
        "id": "DQyiuv26d6Fc"
      },
      "id": "DQyiuv26d6Fc",
      "execution_count": null,
      "outputs": []
    },
    {
      "cell_type": "code",
      "source": [],
      "metadata": {
        "id": "-f0OALxQd6Kj"
      },
      "id": "-f0OALxQd6Kj",
      "execution_count": null,
      "outputs": []
    },
    {
      "cell_type": "code",
      "source": [],
      "metadata": {
        "id": "5pRT8pAld6Py"
      },
      "id": "5pRT8pAld6Py",
      "execution_count": null,
      "outputs": []
    },
    {
      "cell_type": "code",
      "source": [],
      "metadata": {
        "id": "Ei7qvgNFd6Ux"
      },
      "id": "Ei7qvgNFd6Ux",
      "execution_count": null,
      "outputs": []
    },
    {
      "cell_type": "code",
      "source": [],
      "metadata": {
        "id": "wdxo_RLBd6Zu"
      },
      "id": "wdxo_RLBd6Zu",
      "execution_count": null,
      "outputs": []
    },
    {
      "cell_type": "code",
      "source": [],
      "metadata": {
        "id": "GDJLi5htd6eq"
      },
      "id": "GDJLi5htd6eq",
      "execution_count": null,
      "outputs": []
    },
    {
      "cell_type": "code",
      "source": [],
      "metadata": {
        "id": "hxaovEqgd6jg"
      },
      "id": "hxaovEqgd6jg",
      "execution_count": null,
      "outputs": []
    },
    {
      "cell_type": "code",
      "source": [],
      "metadata": {
        "id": "toEDozBWd6oU"
      },
      "id": "toEDozBWd6oU",
      "execution_count": null,
      "outputs": []
    },
    {
      "cell_type": "code",
      "source": [],
      "metadata": {
        "id": "l2AMSwQTd6tB"
      },
      "id": "l2AMSwQTd6tB",
      "execution_count": null,
      "outputs": []
    },
    {
      "cell_type": "code",
      "source": [],
      "metadata": {
        "id": "x-0k-zXld6xI"
      },
      "id": "x-0k-zXld6xI",
      "execution_count": null,
      "outputs": []
    },
    {
      "cell_type": "code",
      "source": [],
      "metadata": {
        "id": "9WC7ds-ed62a"
      },
      "id": "9WC7ds-ed62a",
      "execution_count": null,
      "outputs": []
    },
    {
      "cell_type": "code",
      "source": [],
      "metadata": {
        "id": "BVf8FbPqd66t"
      },
      "id": "BVf8FbPqd66t",
      "execution_count": null,
      "outputs": []
    },
    {
      "cell_type": "code",
      "source": [],
      "metadata": {
        "id": "yHp-A7XWd6_x"
      },
      "id": "yHp-A7XWd6_x",
      "execution_count": null,
      "outputs": []
    },
    {
      "cell_type": "code",
      "source": [],
      "metadata": {
        "id": "F00jaKB1d7EW"
      },
      "id": "F00jaKB1d7EW",
      "execution_count": null,
      "outputs": []
    },
    {
      "cell_type": "code",
      "source": [],
      "metadata": {
        "id": "Pn31oFD-d7I2"
      },
      "id": "Pn31oFD-d7I2",
      "execution_count": null,
      "outputs": []
    },
    {
      "cell_type": "code",
      "source": [],
      "metadata": {
        "id": "AWoRADKVd7Ny"
      },
      "id": "AWoRADKVd7Ny",
      "execution_count": null,
      "outputs": []
    },
    {
      "cell_type": "code",
      "source": [],
      "metadata": {
        "id": "LMLW1s2ad7Sd"
      },
      "id": "LMLW1s2ad7Sd",
      "execution_count": null,
      "outputs": []
    },
    {
      "cell_type": "code",
      "source": [],
      "metadata": {
        "id": "OlQlpjord7XZ"
      },
      "id": "OlQlpjord7XZ",
      "execution_count": null,
      "outputs": []
    },
    {
      "cell_type": "code",
      "source": [],
      "metadata": {
        "id": "-7wtP-rBd7cF"
      },
      "id": "-7wtP-rBd7cF",
      "execution_count": null,
      "outputs": []
    },
    {
      "cell_type": "code",
      "source": [],
      "metadata": {
        "id": "OEY_sAfnd7ge"
      },
      "id": "OEY_sAfnd7ge",
      "execution_count": null,
      "outputs": []
    },
    {
      "cell_type": "code",
      "source": [],
      "metadata": {
        "id": "I6CNYnkMd_vV"
      },
      "id": "I6CNYnkMd_vV",
      "execution_count": null,
      "outputs": []
    },
    {
      "cell_type": "code",
      "source": [],
      "metadata": {
        "id": "lt_zq3psd_z2"
      },
      "id": "lt_zq3psd_z2",
      "execution_count": null,
      "outputs": []
    },
    {
      "cell_type": "code",
      "source": [],
      "metadata": {
        "id": "Q_34SRz_d_4w"
      },
      "id": "Q_34SRz_d_4w",
      "execution_count": null,
      "outputs": []
    },
    {
      "cell_type": "code",
      "source": [],
      "metadata": {
        "id": "IN2QUhHtd_9r"
      },
      "id": "IN2QUhHtd_9r",
      "execution_count": null,
      "outputs": []
    },
    {
      "cell_type": "code",
      "source": [],
      "metadata": {
        "id": "S_glzpK6eAC-"
      },
      "id": "S_glzpK6eAC-",
      "execution_count": null,
      "outputs": []
    },
    {
      "cell_type": "code",
      "source": [],
      "metadata": {
        "id": "wr5bebYgeAH9"
      },
      "id": "wr5bebYgeAH9",
      "execution_count": null,
      "outputs": []
    },
    {
      "cell_type": "code",
      "source": [],
      "metadata": {
        "id": "BgR_Wv4EefuO"
      },
      "id": "BgR_Wv4EefuO",
      "execution_count": null,
      "outputs": []
    },
    {
      "cell_type": "code",
      "source": [],
      "metadata": {
        "id": "Wgm94Bj8efy4"
      },
      "id": "Wgm94Bj8efy4",
      "execution_count": null,
      "outputs": []
    },
    {
      "cell_type": "code",
      "source": [],
      "metadata": {
        "id": "my3EwQp6ef3i"
      },
      "id": "my3EwQp6ef3i",
      "execution_count": null,
      "outputs": []
    },
    {
      "cell_type": "code",
      "source": [],
      "metadata": {
        "id": "HD_DxrSnef8N"
      },
      "id": "HD_DxrSnef8N",
      "execution_count": null,
      "outputs": []
    },
    {
      "cell_type": "code",
      "source": [],
      "metadata": {
        "id": "dfYcY6XqegBN"
      },
      "id": "dfYcY6XqegBN",
      "execution_count": null,
      "outputs": []
    },
    {
      "cell_type": "code",
      "source": [],
      "metadata": {
        "id": "044u6xwDegFr"
      },
      "id": "044u6xwDegFr",
      "execution_count": null,
      "outputs": []
    },
    {
      "cell_type": "code",
      "source": [],
      "metadata": {
        "id": "MuLHUCMkegKb"
      },
      "id": "MuLHUCMkegKb",
      "execution_count": null,
      "outputs": []
    },
    {
      "cell_type": "code",
      "source": [],
      "metadata": {
        "id": "YKbYNZ3megPY"
      },
      "id": "YKbYNZ3megPY",
      "execution_count": null,
      "outputs": []
    },
    {
      "cell_type": "code",
      "source": [],
      "metadata": {
        "id": "kJ6H4wFPegUZ"
      },
      "id": "kJ6H4wFPegUZ",
      "execution_count": null,
      "outputs": []
    },
    {
      "cell_type": "code",
      "source": [],
      "metadata": {
        "id": "UaKDcMp2egYp"
      },
      "id": "UaKDcMp2egYp",
      "execution_count": null,
      "outputs": []
    },
    {
      "cell_type": "code",
      "source": [],
      "metadata": {
        "id": "YtfQBj3oegdU"
      },
      "id": "YtfQBj3oegdU",
      "execution_count": null,
      "outputs": []
    },
    {
      "cell_type": "code",
      "source": [],
      "metadata": {
        "id": "SIMMTRnIegiF"
      },
      "id": "SIMMTRnIegiF",
      "execution_count": null,
      "outputs": []
    },
    {
      "cell_type": "code",
      "source": [],
      "metadata": {
        "id": "N7kQ4HK7ejqL"
      },
      "id": "N7kQ4HK7ejqL",
      "execution_count": null,
      "outputs": []
    },
    {
      "cell_type": "code",
      "source": [],
      "metadata": {
        "id": "ZTu6v09keju0"
      },
      "id": "ZTu6v09keju0",
      "execution_count": null,
      "outputs": []
    },
    {
      "cell_type": "code",
      "source": [],
      "metadata": {
        "id": "1F48fy0Aejza"
      },
      "id": "1F48fy0Aejza",
      "execution_count": null,
      "outputs": []
    },
    {
      "cell_type": "code",
      "source": [],
      "metadata": {
        "id": "QdUEf-d3ej4G"
      },
      "id": "QdUEf-d3ej4G",
      "execution_count": null,
      "outputs": []
    },
    {
      "cell_type": "code",
      "source": [],
      "metadata": {
        "id": "QxxF0cl_ej8-"
      },
      "id": "QxxF0cl_ej8-",
      "execution_count": null,
      "outputs": []
    },
    {
      "cell_type": "code",
      "source": [],
      "metadata": {
        "id": "Jlw8Vf9wekBk"
      },
      "id": "Jlw8Vf9wekBk",
      "execution_count": null,
      "outputs": []
    },
    {
      "cell_type": "code",
      "source": [],
      "metadata": {
        "id": "z4a7QrorekGS"
      },
      "id": "z4a7QrorekGS",
      "execution_count": null,
      "outputs": []
    },
    {
      "cell_type": "code",
      "source": [],
      "metadata": {
        "id": "m5aXWq13ekKy"
      },
      "id": "m5aXWq13ekKy",
      "execution_count": null,
      "outputs": []
    },
    {
      "cell_type": "code",
      "source": [],
      "metadata": {
        "id": "LxdFF_sMekPl"
      },
      "id": "LxdFF_sMekPl",
      "execution_count": null,
      "outputs": []
    },
    {
      "cell_type": "code",
      "source": [],
      "metadata": {
        "id": "1DJygHfYekUg"
      },
      "id": "1DJygHfYekUg",
      "execution_count": null,
      "outputs": []
    }
  ],
  "metadata": {
    "kernelspec": {
      "display_name": "R",
      "language": "R",
      "name": "ir"
    },
    "language_info": {
      "codemirror_mode": "r",
      "file_extension": ".r",
      "mimetype": "text/x-r-source",
      "name": "R",
      "pygments_lexer": "r",
      "version": "3.6.1"
    },
    "colab": {
      "provenance": []
    }
  },
  "nbformat": 4,
  "nbformat_minor": 5
}