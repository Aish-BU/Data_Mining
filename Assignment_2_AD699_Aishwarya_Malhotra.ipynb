{
  "cells": [
    {
      "cell_type": "markdown",
      "id": "e2bd6d7c-7788-4688-8b57-81bf53992656",
      "metadata": {
        "id": "e2bd6d7c-7788-4688-8b57-81bf53992656"
      },
      "source": [
        "![boston-university-logo-9C93B75A4A-seeklogo.com.png](data:image/png;base64,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)"
      ]
    },
    {
      "cell_type": "markdown",
      "source": [
        "#**Assignment - 2**\n",
        "\n",
        "---"
      ],
      "metadata": {
        "id": "yeurAkljpLnM"
      },
      "id": "yeurAkljpLnM"
    },
    {
      "cell_type": "markdown",
      "source": [
        "<h2>AD699 A3 Data Mining (Spring 2024)</div>"
      ],
      "metadata": {
        "id": "o2FU2yNIpoxK"
      },
      "id": "o2FU2yNIpoxK"
    },
    {
      "cell_type": "markdown",
      "id": "397014ec-8a7d-4567-86de-c5dab2853bbf",
      "metadata": {
        "id": "397014ec-8a7d-4567-86de-c5dab2853bbf"
      },
      "source": [
        "<div style=\"text-align: center\"> <h4>Submitted by: Aishwarya Malhotra (U17161095)</div>\n"
      ]
    },
    {
      "cell_type": "markdown",
      "source": [
        "# **SIMPLE LINEAR REGRESSION**"
      ],
      "metadata": {
        "id": "eWnw3Umjztii"
      },
      "id": "eWnw3Umjztii"
    },
    {
      "cell_type": "markdown",
      "id": "229e6d13-400a-4c3e-b9d2-effac1da9639",
      "metadata": {
        "id": "229e6d13-400a-4c3e-b9d2-effac1da9639"
      },
      "source": [
        "#### Solution - 1"
      ]
    },
    {
      "cell_type": "code",
      "execution_count": null,
      "id": "b1d7f4a9-c11c-416b-8616-e7449d66b399",
      "metadata": {
        "colab": {
          "base_uri": "https://localhost:8080/"
        },
        "id": "b1d7f4a9-c11c-416b-8616-e7449d66b399",
        "outputId": "3a8b3d80-9086-4456-976f-837dca047d58"
      },
      "outputs": [
        {
          "output_type": "stream",
          "name": "stderr",
          "text": [
            "Installing package into ‘/usr/local/lib/R/site-library’\n",
            "(as ‘lib’ is unspecified)\n",
            "\n",
            "Installing package into ‘/usr/local/lib/R/site-library’\n",
            "(as ‘lib’ is unspecified)\n",
            "\n",
            "also installing the dependencies ‘minqa’, ‘nloptr’, ‘Rcpp’, ‘RcppEigen’, ‘pbkrtest’, ‘lme4’, ‘car’\n",
            "\n",
            "\n",
            "Loading required package: car\n",
            "\n",
            "Loading required package: carData\n",
            "\n",
            "\n",
            "Attaching package: ‘car’\n",
            "\n",
            "\n",
            "The following object is masked from ‘package:dplyr’:\n",
            "\n",
            "    recode\n",
            "\n",
            "\n",
            "The following object is masked from ‘package:purrr’:\n",
            "\n",
            "    some\n",
            "\n",
            "\n",
            "Loading required package: lmtest\n",
            "\n",
            "Loading required package: zoo\n",
            "\n",
            "\n",
            "Attaching package: ‘zoo’\n",
            "\n",
            "\n",
            "The following objects are masked from ‘package:base’:\n",
            "\n",
            "    as.Date, as.Date.numeric\n",
            "\n",
            "\n",
            "Loading required package: sandwich\n",
            "\n",
            "Loading required package: survival\n",
            "\n"
          ]
        }
      ],
      "source": [
        "library(tidyverse)\n",
        "install.packages(\"visualize\")\n",
        "library(visualize)\n",
        "install.packages(\"AER\")\n",
        "library(AER)"
      ]
    },
    {
      "cell_type": "code",
      "source": [
        "install.packages(\"forecast\")\n",
        "library(forecast)\n"
      ],
      "metadata": {
        "colab": {
          "base_uri": "https://localhost:8080/"
        },
        "id": "gvbPtLOxxKoa",
        "outputId": "c677990c-e05d-4c9b-bce3-e3f2507c6340"
      },
      "id": "gvbPtLOxxKoa",
      "execution_count": null,
      "outputs": [
        {
          "output_type": "stream",
          "name": "stderr",
          "text": [
            "Installing package into ‘/usr/local/lib/R/site-library’\n",
            "(as ‘lib’ is unspecified)\n",
            "\n",
            "also installing the dependencies ‘xts’, ‘TTR’, ‘quadprog’, ‘quantmod’, ‘fracdiff’, ‘timeDate’, ‘tseries’, ‘urca’, ‘RcppArmadillo’\n",
            "\n",
            "\n",
            "Registered S3 method overwritten by 'quantmod':\n",
            "  method            from\n",
            "  as.zoo.data.frame zoo \n",
            "\n"
          ]
        }
      ]
    },
    {
      "cell_type": "markdown",
      "id": "cdc70144-886e-49fb-b773-1e47af159d2a",
      "metadata": {
        "id": "cdc70144-886e-49fb-b773-1e47af159d2a"
      },
      "source": [
        "#### Solution - 2 a]"
      ]
    },
    {
      "cell_type": "code",
      "execution_count": null,
      "id": "b6f2a1b5-f2c8-489c-ba06-57c1466fabe3",
      "metadata": {
        "id": "b6f2a1b5-f2c8-489c-ba06-57c1466fabe3",
        "colab": {
          "base_uri": "https://localhost:8080/"
        },
        "outputId": "3aee46c4-f59c-47a6-b2d8-782d9e64cb55"
      },
      "outputs": [
        {
          "output_type": "stream",
          "name": "stdout",
          "text": [
            "'data.frame':\t1319 obs. of  12 variables:\n",
            " $ card       : Factor w/ 2 levels \"no\",\"yes\": 2 2 2 2 2 2 2 2 2 2 ...\n",
            " $ reports    : num  0 0 0 0 0 0 0 0 0 0 ...\n",
            " $ age        : num  37.7 33.2 33.7 30.5 32.2 ...\n",
            " $ income     : num  4.52 2.42 4.5 2.54 9.79 ...\n",
            " $ share      : num  0.03327 0.00522 0.00416 0.06521 0.06705 ...\n",
            " $ expenditure: num  124.98 9.85 15 137.87 546.5 ...\n",
            " $ owner      : Factor w/ 2 levels \"no\",\"yes\": 2 1 2 1 2 1 1 2 2 1 ...\n",
            " $ selfemp    : Factor w/ 2 levels \"no\",\"yes\": 1 1 1 1 1 1 1 1 1 1 ...\n",
            " $ dependents : num  3 3 4 0 2 0 2 0 0 0 ...\n",
            " $ months     : num  54 34 58 25 64 54 7 77 97 65 ...\n",
            " $ majorcards : num  1 1 1 1 1 1 1 1 1 1 ...\n",
            " $ active     : num  12 13 5 7 5 1 5 3 6 18 ...\n"
          ]
        }
      ],
      "source": [
        "data(\"CreditCard\")\n",
        "?CreditCard\n",
        "str(CreditCard)\n"
      ]
    },
    {
      "cell_type": "code",
      "execution_count": null,
      "id": "d7f0cd90-b25f-4db9-8f75-cced06db406f",
      "metadata": {
        "scrolled": true,
        "id": "d7f0cd90-b25f-4db9-8f75-cced06db406f",
        "outputId": "ae8305a8-8b23-412c-d8bb-3317cf26f8e9",
        "colab": {
          "base_uri": "https://localhost:8080/"
        }
      },
      "outputs": [
        {
          "output_type": "stream",
          "name": "stdout",
          "text": [
            "Rows: 1,319\n",
            "Columns: 12\n",
            "$ card        \u001b[3m\u001b[90m<fct>\u001b[39m\u001b[23m yes, yes, yes, yes, yes, yes, yes, yes, yes, yes, yes, no,…\n",
            "$ reports     \u001b[3m\u001b[90m<dbl>\u001b[39m\u001b[23m 0, 0, 0, 0, 0, 0, 0, 0, 0, 0, 0, 0, 0, 0, 0, 0, 0, 7, 0, 3…\n",
            "$ age         \u001b[3m\u001b[90m<dbl>\u001b[39m\u001b[23m 37.66667, 33.25000, 33.66667, 30.50000, 32.16667, 23.25000…\n",
            "$ income      \u001b[3m\u001b[90m<dbl>\u001b[39m\u001b[23m 4.5200, 2.4200, 4.5000, 2.5400, 9.7867, 2.5000, 3.9600, 2.…\n",
            "$ share       \u001b[3m\u001b[90m<dbl>\u001b[39m\u001b[23m 0.0332699100, 0.0052169420, 0.0041555560, 0.0652137800, 0.…\n",
            "$ expenditure \u001b[3m\u001b[90m<dbl>\u001b[39m\u001b[23m 124.983300, 9.854167, 15.000000, 137.869200, 546.503300, 9…\n",
            "$ owner       \u001b[3m\u001b[90m<fct>\u001b[39m\u001b[23m yes, no, yes, no, yes, no, no, yes, yes, no, yes, yes, yes…\n",
            "$ selfemp     \u001b[3m\u001b[90m<fct>\u001b[39m\u001b[23m no, no, no, no, no, no, no, no, no, no, no, no, no, no, no…\n",
            "$ dependents  \u001b[3m\u001b[90m<dbl>\u001b[39m\u001b[23m 3, 3, 4, 0, 2, 0, 2, 0, 0, 0, 1, 2, 1, 0, 2, 1, 2, 2, 0, 0…\n",
            "$ months      \u001b[3m\u001b[90m<dbl>\u001b[39m\u001b[23m 54, 34, 58, 25, 64, 54, 7, 77, 97, 65, 24, 36, 42, 26, 120…\n",
            "$ majorcards  \u001b[3m\u001b[90m<dbl>\u001b[39m\u001b[23m 1, 1, 1, 1, 1, 1, 1, 1, 1, 1, 1, 1, 0, 1, 0, 1, 1, 1, 1, 1…\n",
            "$ active      \u001b[3m\u001b[90m<dbl>\u001b[39m\u001b[23m 12, 13, 5, 7, 5, 1, 5, 3, 6, 18, 20, 0, 12, 3, 5, 22, 0, 8…\n"
          ]
        }
      ],
      "source": [
        "glimpse(CreditCard)"
      ]
    },
    {
      "cell_type": "markdown",
      "source": [
        "> **💡Interpretation of Results💡-**\n",
        ">\n",
        "> **Numeric - Discrete:**\n",
        "> reports,\n",
        "> dependents,\n",
        "> months,\n",
        "> majorcards,\n",
        "> active,\n",
        "> age.\n",
        ">\n",
        ">**Numeric - Continuous:**\n",
        ">income,\n",
        ">share,\n",
        ">expenditure.\n",
        ">\n",
        ">**Categorical:**\n",
        ">card,\n",
        ">owner,\n",
        ">selfemp.\n"
      ],
      "metadata": {
        "id": "7Y9gq10O5Wuk"
      },
      "id": "7Y9gq10O5Wuk"
    },
    {
      "cell_type": "markdown",
      "id": "ac51b1c7-15c2-4083-ac51-2233c41596f1",
      "metadata": {
        "id": "ac51b1c7-15c2-4083-ac51-2233c41596f1"
      },
      "source": [
        "#### Solution - 3"
      ]
    },
    {
      "cell_type": "code",
      "source": [
        "set.seed(1131)"
      ],
      "metadata": {
        "id": "CKanpzY9uVVv"
      },
      "id": "CKanpzY9uVVv",
      "execution_count": null,
      "outputs": []
    },
    {
      "cell_type": "code",
      "source": [
        "#Partitioning 60% into training and validation (40%)\n",
        "n <- nrow(CreditCard)\n",
        "train_data <- (0.6*n)\n",
        "train_index <- sample(1:n, train_data\n",
        "                      )\n",
        "train <- CreditCard[train_index, ]\n",
        "valid <- CreditCard[-train_index, ]\n"
      ],
      "metadata": {
        "id": "qD6hl9e8uW33"
      },
      "id": "qD6hl9e8uW33",
      "execution_count": null,
      "outputs": []
    },
    {
      "cell_type": "markdown",
      "id": "6b2b335a-a5e9-45d6-ad4e-d9254d34277e",
      "metadata": {
        "id": "6b2b335a-a5e9-45d6-ad4e-d9254d34277e"
      },
      "source": [
        "> **💡Interpretation of Results💡-**\n",
        ">\n",
        "> a] Partitioning data into training and validation sets is crutial because\n",
        "> 1.  You can then train your model on one subset (training set) and evaluate its performance on another subset (validation set).\n",
        ">\n",
        "> 2.  Prevent overfitting which occurs when a model learns the training data too well, capturing noise and irrelevant patterns.\n",
        ">\n",
        "> 3.  Partitioning the data allows you to assess the performance of different models.\n",
        ">\n",
        "> 4.   Unbiased Evaluation - if you evaluate the model in the same data used for training you risk obtaining overly optimistic performance estimates.\n",
        ">\n",
        "> 5.  Mixing training data and validation data can lead to data leakage."
      ]
    },
    {
      "cell_type": "markdown",
      "id": "f252d882-827e-46d2-a0a7-d15bf90202ed",
      "metadata": {
        "id": "f252d882-827e-46d2-a0a7-d15bf90202ed"
      },
      "source": [
        "#### Solution - 4"
      ]
    },
    {
      "cell_type": "code",
      "execution_count": null,
      "id": "1c547204-7ee7-474f-8eb3-6dc0fbf3581e",
      "metadata": {
        "id": "1c547204-7ee7-474f-8eb3-6dc0fbf3581e",
        "outputId": "26b80403-f358-4134-a37f-ff02645007a5",
        "colab": {
          "base_uri": "https://localhost:8080/",
          "height": 454
        }
      },
      "outputs": [
        {
          "output_type": "stream",
          "name": "stderr",
          "text": [
            "\u001b[1m\u001b[22m`geom_smooth()` using formula = 'y ~ x'\n"
          ]
        },
        {
          "output_type": "display_data",
          "data": {
            "text/plain": [
              "plot without title"
            ],
            "image/png": "[encoded data removed]"
          },
          "metadata": {
            "image/png": {
              "width": 420,
              "height": 420
            }
          }
        }
      ],
      "source": [
        "##Create a scatter plot using training set\n",
        "ggplot(train, aes(x = dependents, y = income)) + geom_point(size = 0.4) +\n",
        "geom_smooth(method = 'lm', se = FALSE) +\n",
        "labs(x = \"Dependents\", y = \"Income\") +\n",
        "ggtitle(\"Scatterplot of Income vs Dependents\") +\n",
        "theme_minimal()"
      ]
    },
    {
      "cell_type": "markdown",
      "id": "c96eab80-ca48-40c3-b9de-fe48e7edcee0",
      "metadata": {
        "id": "c96eab80-ca48-40c3-b9de-fe48e7edcee0"
      },
      "source": [
        "> **💡Interpretation of Graph💡-**\n",
        ">\n",
        ">The scatterplot suggests a positive correlation between income and dependents. This means that there is a general tendancy for people with more dependents to have higher incomes. The solid line is a linear regression model fit to the data points. It representsthe overall trend of increasing income with an increasing number of dependents.\n",
        ">\n",
        ">The data used to create this graph is only a subset (training set) of credit card customer data. The overall picture might be slightly differnent if we consider the entire dataset."
      ]
    },
    {
      "cell_type": "markdown",
      "id": "03e21a26-6ada-478b-b706-35a508b9bb53",
      "metadata": {
        "id": "03e21a26-6ada-478b-b706-35a508b9bb53"
      },
      "source": [
        "#### Solution - 5"
      ]
    },
    {
      "cell_type": "code",
      "execution_count": 43,
      "id": "4f1c25a8-34c5-49ee-b8ef-e936d6113df9",
      "metadata": {
        "id": "4f1c25a8-34c5-49ee-b8ef-e936d6113df9",
        "outputId": "0164225a-8173-4458-ba4f-9381ee7aefa5",
        "colab": {
          "base_uri": "https://localhost:8080/",
          "height": 243
        }
      },
      "outputs": [
        {
          "output_type": "display_data",
          "data": {
            "text/html": [
              "0.324825418884784"
            ],
            "text/markdown": "0.324825418884784",
            "text/latex": "0.324825418884784",
            "text/plain": [
              "[1] 0.3248254"
            ]
          },
          "metadata": {}
        },
        {
          "output_type": "display_data",
          "data": {
            "text/html": [
              "791"
            ],
            "text/markdown": "791",
            "text/latex": "791",
            "text/plain": [
              "[1] 791"
            ]
          },
          "metadata": {}
        },
        {
          "output_type": "display_data",
          "data": {
            "text/plain": [
              "\n",
              "\tPearson's product-moment correlation\n",
              "\n",
              "data:  train$dependents and train$income\n",
              "t = 9.6472, df = 789, p-value < 0.00000000000000022\n",
              "alternative hypothesis: true correlation is not equal to 0\n",
              "95 percent confidence interval:\n",
              " 0.2610282 0.3857975\n",
              "sample estimates:\n",
              "      cor \n",
              "0.3248254 \n"
            ]
          },
          "metadata": {}
        }
      ],
      "source": [
        "cor.test(train$dependents, train$income)"
      ]
    },
    {
      "cell_type": "markdown",
      "source": [
        "> **💡Interpretation of Results💡-**\n",
        ">\n",
        ">**Pearson's correlation = 0.324825418884784**\n",
        ">\n",
        ">This value indictes a weak positive correlation. Possitive correlation means that as the number of dependents increases, the income trends to increase as well. However, it is at the lowest end of positive correlation spectrum."
      ],
      "metadata": {
        "id": "JInYwY6nvUCb"
      },
      "id": "JInYwY6nvUCb"
    },
    {
      "cell_type": "markdown",
      "id": "d349362c-dcd7-45b5-921f-c4389485669b",
      "metadata": {
        "id": "d349362c-dcd7-45b5-921f-c4389485669b"
      },
      "source": [
        "#### Solution - 6"
      ]
    },
    {
      "cell_type": "code",
      "source": [
        "reg <- lm(income ~ dependents, data=train)\n",
        "summary(reg)"
      ],
      "metadata": {
        "colab": {
          "base_uri": "https://localhost:8080/",
          "height": 329
        },
        "id": "qlr6iX6avfTq",
        "outputId": "e3bb26f4-0fc9-4a73-e70a-f3b0367c2e2b"
      },
      "id": "qlr6iX6avfTq",
      "execution_count": null,
      "outputs": [
        {
          "output_type": "display_data",
          "data": {
            "text/plain": [
              "\n",
              "Call:\n",
              "lm(formula = income ~ dependents, data = train)\n",
              "\n",
              "Residuals:\n",
              "    Min      1Q  Median      3Q     Max \n",
              "-3.5937 -0.9656 -0.3617  0.5618  8.6272 \n",
              "\n",
              "Coefficients:\n",
              "            Estimate Std. Error t value Pr(>|t|)    \n",
              "(Intercept)  2.94167    0.06991  42.077   <2e-16 ***\n",
              "dependents   0.43100    0.04468   9.647   <2e-16 ***\n",
              "---\n",
              "Signif. codes:  0 ‘***’ 0.001 ‘**’ 0.01 ‘*’ 0.05 ‘.’ 0.1 ‘ ’ 1\n",
              "\n",
              "Residual standard error: 1.548 on 789 degrees of freedom\n",
              "Multiple R-squared:  0.1055,\tAdjusted R-squared:  0.1044 \n",
              "F-statistic: 93.07 on 1 and 789 DF,  p-value: < 2.2e-16\n"
            ]
          },
          "metadata": {}
        }
      ]
    },
    {
      "cell_type": "markdown",
      "id": "1a2bfdf8-4e9f-42ee-b84b-4625bcd6488d",
      "metadata": {
        "id": "1a2bfdf8-4e9f-42ee-b84b-4625bcd6488d"
      },
      "source": [
        "> **💡Interpretation of Results💡-**\n",
        ">\n",
        ">The linear regression model shows a statistically significant positive relationship between the number of dependents and income in the training data.\n",
        ">\n",
        ">For every additional dependent, the model predicts an average increase of $0.43 in the incoeme.\n",
        ">\n",
        ">**Intercept-**  2.94167 represents the predicted average income whenn the number of dependent is zero.\n",
        ">\n",
        ">**t-value-** The high t-value along with a low p-value indicates that the coefficent is statistically significant.\n",
        ">\n",
        ">**p-value-** Both the intercept and dependent have p-values much lower than 0.05, indicating that they ar statistically significant.\n",
        ">\n",
        ">**Multiple R-squared-** 0.1055 It is relatively low (10.5%), indicating that the number of dependents alone doesn't explain a large portion of the variation in income."
      ]
    },
    {
      "cell_type": "markdown",
      "id": "fb384be0-8fbd-4bf2-bd17-ccec41f86aaa",
      "metadata": {
        "id": "fb384be0-8fbd-4bf2-bd17-ccec41f86aaa"
      },
      "source": [
        "#### Solution - 7"
      ]
    },
    {
      "cell_type": "markdown",
      "source": [
        " > **💡Minimum and Maximum Residual Values💡-**\n",
        ">\n",
        "> Minimum: -3.5937; Maximum: 8.6272."
      ],
      "metadata": {
        "id": "mOSovm6LwGbg"
      },
      "id": "mOSovm6LwGbg"
    },
    {
      "cell_type": "markdown",
      "source": [
        "#### Solution - 7 a]"
      ],
      "metadata": {
        "id": "DoVDDRdswh05"
      },
      "id": "DoVDDRdswh05"
    },
    {
      "cell_type": "code",
      "execution_count": null,
      "id": "bc0fb883-0318-4073-97d3-71c625d27b03",
      "metadata": {
        "id": "bc0fb883-0318-4073-97d3-71c625d27b03",
        "outputId": "8c7646e7-f209-4072-bd66-a8ea504f5153",
        "colab": {
          "base_uri": "https://localhost:8080/",
          "height": 104
        }
      },
      "outputs": [
        {
          "output_type": "display_data",
          "data": {
            "text/html": [
              "1.54728157751577"
            ],
            "text/markdown": "1.54728157751577",
            "text/latex": "1.54728157751577",
            "text/plain": [
              "[1] 1.547282"
            ]
          },
          "metadata": {}
        },
        {
          "output_type": "display_data",
          "data": {
            "text/html": [
              "1.54826180034296"
            ],
            "text/markdown": "1.54826180034296",
            "text/latex": "1.54826180034296",
            "text/plain": [
              "[1] 1.548262"
            ]
          },
          "metadata": {}
        },
        {
          "output_type": "stream",
          "name": "stdout",
          "text": [
            "Actual Income: 11.9999 \n",
            "Predicted Income: 3.372662 \n",
            "Residual Calculated: 8.627238 \n"
          ]
        }
      ],
      "source": [
        "sd(reg$residuals)\n",
        "## Residuals of errors is essentially standard deviation of residuals but their is an adjustment made beofre the degrees of freedom.\n",
        "squares <- reg$residuals^2\n",
        "sumsquares <- sum(squares)\n",
        "tempval <- sumsquares/789\n",
        "sqrt(tempval)\n",
        "\n",
        "#Observation that generated highest residual value in my model\n",
        "max_residual <- which.max(reg$residuals)\n",
        "\n",
        "#Person's actual income\n",
        "actual_inc <- train$income[max_residual]\n",
        "\n",
        "#Person's predicted income\n",
        "predicted_inc <- predict(reg)[max_residual]\n",
        "\n",
        "cat(\"Actual Income:\", actual_inc,\"\\n\")\n",
        "cat(\"Predicted Income:\", predicted_inc,\"\\n\")\n",
        "\n",
        "\n",
        "#Residual calculated\n",
        "residual = actual_inc - predicted_inc\n",
        "cat(\"Residual Calculated:\", residual,\"\\n\")"
      ]
    },
    {
      "cell_type": "markdown",
      "source": [
        " > **💡Highest Residual Values💡-**\n",
        ">\n",
        "> **Residual = Actual Income - Predicted Income**\n",
        ">\n",
        "> **Actual Income -** 11.9999\n",
        ">\n",
        ">**Predicted Income -** 3.372662\n",
        ">\n",
        ">**Residual -** 8.627238\n",
        ">\n",
        ">The high residual value signifies a significant difference between the actual income and the model's prediction based on the number of dependents."
      ],
      "metadata": {
        "id": "py8kCJysExH7"
      },
      "id": "py8kCJysExH7"
    },
    {
      "cell_type": "markdown",
      "source": [
        "#### Solution - 7 b]"
      ],
      "metadata": {
        "id": "QaT2XSVawpEf"
      },
      "id": "QaT2XSVawpEf"
    },
    {
      "cell_type": "code",
      "source": [
        "#Observation that generated lowest residual value in my model\n",
        "low_residual <- which.min(reg$residuals)\n",
        "\n",
        "#Person's actual income\n",
        "actual_inc2 <- train$income[low_residual]\n",
        "\n",
        "#Person's predicted income\n",
        "predicted_inc2 <- predict(reg)[low_residual]\n",
        "\n",
        "cat(\"Actual Income:\", actual_inc2,\"\\n\")\n",
        "cat(\"Predicted Income:\", predicted_inc2,\"\\n\")\n",
        "\n",
        "#Residual calculated\n",
        "residual2 = actual_inc2 - predicted_inc2\n",
        "cat(\"Residual Calculated:\", residual2,\"\\n\")"
      ],
      "metadata": {
        "colab": {
          "base_uri": "https://localhost:8080/",
          "height": 0
        },
        "id": "e5swPq58wrBl",
        "outputId": "0fce06cb-07f5-45cf-abc0-cf99dd2e7133"
      },
      "id": "e5swPq58wrBl",
      "execution_count": 44,
      "outputs": [
        {
          "output_type": "stream",
          "name": "stdout",
          "text": [
            "Actual Income: 0.21 \n",
            "Predicted Income: 3.803657 \n",
            "Residual Calculated: -3.593657 \n"
          ]
        }
      ]
    },
    {
      "cell_type": "markdown",
      "id": "f7be62a3-f7f7-48d2-a134-52fece982e18",
      "metadata": {
        "id": "f7be62a3-f7f7-48d2-a134-52fece982e18"
      },
      "source": [
        "> **💡Lowest Residual Values💡-**\n",
        ">\n",
        "> **Residual = Actual Income - Predicted Income**\n",
        ">\n",
        "> **Actual Income -** 0.21\n",
        ">\n",
        ">**Predicted Income -** 3.372662\n",
        ">\n",
        ">**Residual -** -3.593657\n",
        ">\n",
        ">This observation has large negative residual. The model significantly overestimated the actual income for this person."
      ]
    },
    {
      "cell_type": "markdown",
      "source": [
        "> **💡Interpretations💡-**\n",
        ">\n",
        ">  While the number of dependents can influence the financial burder of an individual, it doesn't necessarily reflect their income source. Some with high number of dependents could have a high income source for their family, or they could have a low income if they are financially supported by others.\n",
        ">\n",
        "> Dual Income Households  - In household with two income earners, the presence of dependents might be offset by the combined income. The model wouldn't account that.\n",
        ">\n",
        "> The model doesn't consider individual's circuimstances."
      ],
      "metadata": {
        "id": "eACSfp1iHgp7"
      },
      "id": "eACSfp1iHgp7"
    },
    {
      "cell_type": "markdown",
      "id": "74a2abf5-27f7-4284-a67e-c6b24cb794d9",
      "metadata": {
        "id": "74a2abf5-27f7-4284-a67e-c6b24cb794d9"
      },
      "source": [
        "#### Solution - 8"
      ]
    },
    {
      "cell_type": "markdown",
      "source": [
        " > **💡Interpretation 💡-**\n",
        ">\n",
        "> Income = 2.94167 + 0.43100 * Dependents\n",
        ">\n",
        "> If we have a person with 5 dependents\n",
        ">\n",
        "> Income = 2.94167 + 0.43100 * 5\n",
        "> Income = 5.09667\n",
        ">\n",
        ">Therefore, if a person has 5 dependents, the predicted income would be approximately 5.09667"
      ],
      "metadata": {
        "id": "0QbCpVCSw1WF"
      },
      "id": "0QbCpVCSw1WF"
    },
    {
      "cell_type": "markdown",
      "id": "a49d753f-7b2b-48ca-946e-ba6531d911f2",
      "metadata": {
        "id": "a49d753f-7b2b-48ca-946e-ba6531d911f2"
      },
      "source": [
        "#### Solution - 9"
      ]
    },
    {
      "cell_type": "code",
      "execution_count": 46,
      "id": "7856c0cd-a638-4017-a63c-278bfa6d4374",
      "metadata": {
        "scrolled": true,
        "id": "7856c0cd-a638-4017-a63c-278bfa6d4374",
        "outputId": "87b25e7e-a8f4-4704-cf52-5a7263601f4c",
        "colab": {
          "base_uri": "https://localhost:8080/",
          "height": 179
        }
      },
      "outputs": [
        {
          "output_type": "display_data",
          "data": {
            "text/html": [
              "<table class=\"dataframe\">\n",
              "<caption>A matrix: 1 × 5 of type dbl</caption>\n",
              "<thead>\n",
              "\t<tr><th></th><th scope=col>ME</th><th scope=col>RMSE</th><th scope=col>MAE</th><th scope=col>MPE</th><th scope=col>MAPE</th></tr>\n",
              "</thead>\n",
              "<tbody>\n",
              "\t<tr><th scope=row>Test set</th><td>-0.00000000000000005366143</td><td>1.546303</td><td>1.109925</td><td>-19.51991</td><td>38.46774</td></tr>\n",
              "</tbody>\n",
              "</table>\n"
            ],
            "text/markdown": "\nA matrix: 1 × 5 of type dbl\n\n| <!--/--> | ME | RMSE | MAE | MPE | MAPE |\n|---|---|---|---|---|---|\n| Test set | -0.00000000000000005366143 | 1.546303 | 1.109925 | -19.51991 | 38.46774 |\n\n",
            "text/latex": "A matrix: 1 × 5 of type dbl\n\\begin{tabular}{r|lllll}\n  & ME & RMSE & MAE & MPE & MAPE\\\\\n\\hline\n\tTest set & -0.00000000000000005366143 & 1.546303 & 1.109925 & -19.51991 & 38.46774\\\\\n\\end{tabular}\n",
            "text/plain": [
              "         ME                         RMSE     MAE      MPE       MAPE    \n",
              "Test set -0.00000000000000005366143 1.546303 1.109925 -19.51991 38.46774"
            ]
          },
          "metadata": {}
        },
        {
          "output_type": "display_data",
          "data": {
            "text/html": [
              "<table class=\"dataframe\">\n",
              "<caption>A matrix: 1 × 5 of type dbl</caption>\n",
              "<thead>\n",
              "\t<tr><th></th><th scope=col>ME</th><th scope=col>RMSE</th><th scope=col>MAE</th><th scope=col>MPE</th><th scope=col>MAPE</th></tr>\n",
              "</thead>\n",
              "<tbody>\n",
              "\t<tr><th scope=row>Test set</th><td>-0.01167062</td><td>1.690538</td><td>1.168727</td><td>-18.91742</td><td>37.52719</td></tr>\n",
              "</tbody>\n",
              "</table>\n"
            ],
            "text/markdown": "\nA matrix: 1 × 5 of type dbl\n\n| <!--/--> | ME | RMSE | MAE | MPE | MAPE |\n|---|---|---|---|---|---|\n| Test set | -0.01167062 | 1.690538 | 1.168727 | -18.91742 | 37.52719 |\n\n",
            "text/latex": "A matrix: 1 × 5 of type dbl\n\\begin{tabular}{r|lllll}\n  & ME & RMSE & MAE & MPE & MAPE\\\\\n\\hline\n\tTest set & -0.01167062 & 1.690538 & 1.168727 & -18.91742 & 37.52719\\\\\n\\end{tabular}\n",
            "text/plain": [
              "         ME          RMSE     MAE      MPE       MAPE    \n",
              "Test set -0.01167062 1.690538 1.168727 -18.91742 37.52719"
            ]
          },
          "metadata": {}
        }
      ],
      "source": [
        "accuracy_train <- accuracy(reg$fitted.values, train$income)\n",
        "valid_pred <- predict(reg, valid)\n",
        "accuracy_valid <- accuracy(valid_pred, valid$income)\n",
        "accuracy_train\n",
        "accuracy_valid"
      ]
    },
    {
      "cell_type": "markdown",
      "source": [
        "> **💡Interpretation of Results💡-**\n",
        ">\n",
        ">  Evaluating the model accuracy on both trainig and validation sets is crucial to ensure it's not overfitted to the training data. Iverfitting occurs when a model captures noise and patterns specific to the training data but fails to generalizre to new, unseen data. Thus, comparing performance on both sets reveal how well this model might perform on future data.\n",
        ">\n",
        ">RMSE- Measures the average magnitude of the residuals, giving more weight to larger residuals. A lower RMSE indicates better model.\n",
        ">\n",
        "> MAE- Measures the average absolute difference between predicted and actual values, treating all errors equally. A lower MAE also indicates better accuracy\n",
        ">\n",
        "> The model performs slightly better on the training set than on  the validation set, in terms of RMSE. This suggests minor degree of overfitting.\n"
      ],
      "metadata": {
        "id": "9QTn5E-5MlKx"
      },
      "id": "9QTn5E-5MlKx"
    },
    {
      "cell_type": "markdown",
      "id": "0c6ba87d-e993-48c4-808d-1fd3f3e44710",
      "metadata": {
        "id": "0c6ba87d-e993-48c4-808d-1fd3f3e44710"
      },
      "source": [
        "#### Solution - 10"
      ]
    },
    {
      "cell_type": "code",
      "execution_count": 47,
      "id": "2ce473d8-990f-4f49-800e-4dc6109f54bb",
      "metadata": {
        "id": "2ce473d8-990f-4f49-800e-4dc6109f54bb",
        "outputId": "956918c5-2214-41b9-edba-0bcf03384ea6",
        "colab": {
          "base_uri": "https://localhost:8080/",
          "height": 34
        }
      },
      "outputs": [
        {
          "output_type": "display_data",
          "data": {
            "text/html": [
              "1.63599505563404"
            ],
            "text/markdown": "1.63599505563404",
            "text/latex": "1.63599505563404",
            "text/plain": [
              "[1] 1.635995"
            ]
          },
          "metadata": {}
        }
      ],
      "source": [
        "sd_income <- sd(train$income)\n",
        "sd_income"
      ]
    },
    {
      "cell_type": "markdown",
      "id": "6db5064a-b92a-4817-b8bb-ea74de9c4674",
      "metadata": {
        "id": "6db5064a-b92a-4817-b8bb-ea74de9c4674"
      },
      "source": [
        "> **💡Interpretation of Results💡-**\n",
        ">\n",
        ">  Since the RMSE (1.546303) of training set is smaller than the standard deviation of incomes (1.63599505563404), it indicates that the model's predictions are more accurate on avaerage than simply predicting the mean income. This suggests tahgt model is able to capture a significant portion of variability."
      ]
    },
    {
      "cell_type": "markdown",
      "source": [
        "# **MULTIPLE LINEAR REGRESSION**"
      ],
      "metadata": {
        "id": "oUy801gQzavA"
      },
      "id": "oUy801gQzavA"
    },
    {
      "cell_type": "markdown",
      "id": "abe5a7f6-108b-44b5-977b-9bd2a9ab0dce",
      "metadata": {
        "id": "abe5a7f6-108b-44b5-977b-9bd2a9ab0dce"
      },
      "source": [
        "#### Solution - 1"
      ]
    },
    {
      "cell_type": "code",
      "execution_count": null,
      "id": "c675aac9-c761-4d8a-b553-5571c01d7eec",
      "metadata": {
        "scrolled": true,
        "id": "c675aac9-c761-4d8a-b553-5571c01d7eec",
        "outputId": "bfc31a75-e914-4211-f5ca-5b6df63d92ea",
        "colab": {
          "base_uri": "https://localhost:8080/",
          "height": 838
        }
      },
      "outputs": [
        {
          "output_type": "display_data",
          "data": {
            "text/html": [
              "<table class=\"dataframe\">\n",
              "<caption>A matrix: 9 × 9 of type dbl</caption>\n",
              "<thead>\n",
              "\t<tr><th></th><th scope=col>reports</th><th scope=col>age</th><th scope=col>income</th><th scope=col>share</th><th scope=col>expenditure</th><th scope=col>dependents</th><th scope=col>months</th><th scope=col>majorcards</th><th scope=col>active</th></tr>\n",
              "</thead>\n",
              "<tbody>\n",
              "\t<tr><th scope=row>reports</th><td> 1.0000000000</td><td> 0.05568988</td><td>-0.01674041</td><td>-0.18789264</td><td>-0.16306114</td><td> 0.0003845016</td><td> 0.04737081</td><td>-0.02236278</td><td> 0.22949044</td></tr>\n",
              "\t<tr><th scope=row>age</th><td> 0.0556898797</td><td> 1.00000000</td><td> 0.30389108</td><td>-0.13514291</td><td>-0.02078552</td><td> 0.2317672786</td><td> 0.47327498</td><td>-0.01163110</td><td> 0.13199335</td></tr>\n",
              "\t<tr><th scope=row>income</th><td>-0.0167404069</td><td> 0.30389108</td><td> 1.00000000</td><td>-0.06950165</td><td> 0.24827546</td><td> 0.3248254189</td><td> 0.14082672</td><td> 0.12373557</td><td> 0.13596224</td></tr>\n",
              "\t<tr><th scope=row>share</th><td>-0.1878926428</td><td>-0.13514291</td><td>-0.06950165</td><td> 1.00000000</td><td> 0.86279848</td><td>-0.0555907240</td><td>-0.05006082</td><td> 0.06125682</td><td>-0.02130137</td></tr>\n",
              "\t<tr><th scope=row>expenditure</th><td>-0.1630611388</td><td>-0.02078552</td><td> 0.24827546</td><td> 0.86279848</td><td> 1.00000000</td><td> 0.0899594294</td><td>-0.01140187</td><td> 0.10165290</td><td> 0.05689047</td></tr>\n",
              "\t<tr><th scope=row>dependents</th><td> 0.0003845016</td><td> 0.23176728</td><td> 0.32482542</td><td>-0.05559072</td><td> 0.08995943</td><td> 1.0000000000</td><td> 0.02993334</td><td> 0.00200216</td><td> 0.11339020</td></tr>\n",
              "\t<tr><th scope=row>months</th><td> 0.0473708128</td><td> 0.47327498</td><td> 0.14082672</td><td>-0.05006082</td><td>-0.01140187</td><td> 0.0299333425</td><td> 1.00000000</td><td>-0.03645739</td><td> 0.07962891</td></tr>\n",
              "\t<tr><th scope=row>majorcards</th><td>-0.0223627815</td><td>-0.01163110</td><td> 0.12373557</td><td> 0.06125682</td><td> 0.10165290</td><td> 0.0020021601</td><td>-0.03645739</td><td> 1.00000000</td><td> 0.11667129</td></tr>\n",
              "\t<tr><th scope=row>active</th><td> 0.2294904350</td><td> 0.13199335</td><td> 0.13596224</td><td>-0.02130137</td><td> 0.05689047</td><td> 0.1133902015</td><td> 0.07962891</td><td> 0.11667129</td><td> 1.00000000</td></tr>\n",
              "</tbody>\n",
              "</table>\n"
            ],
            "text/markdown": "\nA matrix: 9 × 9 of type dbl\n\n| <!--/--> | reports | age | income | share | expenditure | dependents | months | majorcards | active |\n|---|---|---|---|---|---|---|---|---|---|\n| reports |  1.0000000000 |  0.05568988 | -0.01674041 | -0.18789264 | -0.16306114 |  0.0003845016 |  0.04737081 | -0.02236278 |  0.22949044 |\n| age |  0.0556898797 |  1.00000000 |  0.30389108 | -0.13514291 | -0.02078552 |  0.2317672786 |  0.47327498 | -0.01163110 |  0.13199335 |\n| income | -0.0167404069 |  0.30389108 |  1.00000000 | -0.06950165 |  0.24827546 |  0.3248254189 |  0.14082672 |  0.12373557 |  0.13596224 |\n| share | -0.1878926428 | -0.13514291 | -0.06950165 |  1.00000000 |  0.86279848 | -0.0555907240 | -0.05006082 |  0.06125682 | -0.02130137 |\n| expenditure | -0.1630611388 | -0.02078552 |  0.24827546 |  0.86279848 |  1.00000000 |  0.0899594294 | -0.01140187 |  0.10165290 |  0.05689047 |\n| dependents |  0.0003845016 |  0.23176728 |  0.32482542 | -0.05559072 |  0.08995943 |  1.0000000000 |  0.02993334 |  0.00200216 |  0.11339020 |\n| months |  0.0473708128 |  0.47327498 |  0.14082672 | -0.05006082 | -0.01140187 |  0.0299333425 |  1.00000000 | -0.03645739 |  0.07962891 |\n| majorcards | -0.0223627815 | -0.01163110 |  0.12373557 |  0.06125682 |  0.10165290 |  0.0020021601 | -0.03645739 |  1.00000000 |  0.11667129 |\n| active |  0.2294904350 |  0.13199335 |  0.13596224 | -0.02130137 |  0.05689047 |  0.1133902015 |  0.07962891 |  0.11667129 |  1.00000000 |\n\n",
            "text/latex": "A matrix: 9 × 9 of type dbl\n\\begin{tabular}{r|lllllllll}\n  & reports & age & income & share & expenditure & dependents & months & majorcards & active\\\\\n\\hline\n\treports &  1.0000000000 &  0.05568988 & -0.01674041 & -0.18789264 & -0.16306114 &  0.0003845016 &  0.04737081 & -0.02236278 &  0.22949044\\\\\n\tage &  0.0556898797 &  1.00000000 &  0.30389108 & -0.13514291 & -0.02078552 &  0.2317672786 &  0.47327498 & -0.01163110 &  0.13199335\\\\\n\tincome & -0.0167404069 &  0.30389108 &  1.00000000 & -0.06950165 &  0.24827546 &  0.3248254189 &  0.14082672 &  0.12373557 &  0.13596224\\\\\n\tshare & -0.1878926428 & -0.13514291 & -0.06950165 &  1.00000000 &  0.86279848 & -0.0555907240 & -0.05006082 &  0.06125682 & -0.02130137\\\\\n\texpenditure & -0.1630611388 & -0.02078552 &  0.24827546 &  0.86279848 &  1.00000000 &  0.0899594294 & -0.01140187 &  0.10165290 &  0.05689047\\\\\n\tdependents &  0.0003845016 &  0.23176728 &  0.32482542 & -0.05559072 &  0.08995943 &  1.0000000000 &  0.02993334 &  0.00200216 &  0.11339020\\\\\n\tmonths &  0.0473708128 &  0.47327498 &  0.14082672 & -0.05006082 & -0.01140187 &  0.0299333425 &  1.00000000 & -0.03645739 &  0.07962891\\\\\n\tmajorcards & -0.0223627815 & -0.01163110 &  0.12373557 &  0.06125682 &  0.10165290 &  0.0020021601 & -0.03645739 &  1.00000000 &  0.11667129\\\\\n\tactive &  0.2294904350 &  0.13199335 &  0.13596224 & -0.02130137 &  0.05689047 &  0.1133902015 &  0.07962891 &  0.11667129 &  1.00000000\\\\\n\\end{tabular}\n",
            "text/plain": [
              "            reports       age         income      share       expenditure\n",
              "reports      1.0000000000  0.05568988 -0.01674041 -0.18789264 -0.16306114\n",
              "age          0.0556898797  1.00000000  0.30389108 -0.13514291 -0.02078552\n",
              "income      -0.0167404069  0.30389108  1.00000000 -0.06950165  0.24827546\n",
              "share       -0.1878926428 -0.13514291 -0.06950165  1.00000000  0.86279848\n",
              "expenditure -0.1630611388 -0.02078552  0.24827546  0.86279848  1.00000000\n",
              "dependents   0.0003845016  0.23176728  0.32482542 -0.05559072  0.08995943\n",
              "months       0.0473708128  0.47327498  0.14082672 -0.05006082 -0.01140187\n",
              "majorcards  -0.0223627815 -0.01163110  0.12373557  0.06125682  0.10165290\n",
              "active       0.2294904350  0.13199335  0.13596224 -0.02130137  0.05689047\n",
              "            dependents    months      majorcards  active     \n",
              "reports      0.0003845016  0.04737081 -0.02236278  0.22949044\n",
              "age          0.2317672786  0.47327498 -0.01163110  0.13199335\n",
              "income       0.3248254189  0.14082672  0.12373557  0.13596224\n",
              "share       -0.0555907240 -0.05006082  0.06125682 -0.02130137\n",
              "expenditure  0.0899594294 -0.01140187  0.10165290  0.05689047\n",
              "dependents   1.0000000000  0.02993334  0.00200216  0.11339020\n",
              "months       0.0299333425  1.00000000 -0.03645739  0.07962891\n",
              "majorcards   0.0020021601 -0.03645739  1.00000000  0.11667129\n",
              "active       0.1133902015  0.07962891  0.11667129  1.00000000"
            ]
          },
          "metadata": {}
        },
        {
          "output_type": "display_data",
          "data": {
            "text/plain": [
              "\n",
              "Call:\n",
              "lm(formula = income ~ . - share, data = train)\n",
              "\n",
              "Residuals:\n",
              "    Min      1Q  Median      3Q     Max \n",
              "-3.9827 -0.8636 -0.2547  0.5262  8.3111 \n",
              "\n",
              "Coefficients:\n",
              "               Estimate  Std. Error t value       Pr(>|t|)    \n",
              "(Intercept)  1.23493520  0.23239933   5.314 0.000000140192 ***\n",
              "cardyes     -0.10539675  0.15071705  -0.699       0.484572    \n",
              "reports      0.00013116  0.04122064   0.003       0.997462    \n",
              "age          0.03224385  0.00600996   5.365 0.000000106751 ***\n",
              "expenditure  0.00155478  0.00024640   6.310 0.000000000467 ***\n",
              "owneryes     0.46060081  0.11859251   3.884       0.000112 ***\n",
              "selfempyes   0.68745768  0.20260684   3.393       0.000726 ***\n",
              "dependents   0.26598459  0.04471437   5.949 0.000000004083 ***\n",
              "months      -0.00001312  0.00086747  -0.015       0.987938    \n",
              "majorcards   0.38422414  0.13173429   2.917       0.003640 ** \n",
              "active       0.00665486  0.00888706   0.749       0.454188    \n",
              "---\n",
              "Signif. codes:  0 ‘***’ 0.001 ‘**’ 0.01 ‘*’ 0.05 ‘.’ 0.1 ‘ ’ 1\n",
              "\n",
              "Residual standard error: 1.423 on 780 degrees of freedom\n",
              "Multiple R-squared:  0.253,\tAdjusted R-squared:  0.2435 \n",
              "F-statistic: 26.42 on 10 and 780 DF,  p-value: < 0.00000000000000022\n"
            ]
          },
          "metadata": {}
        }
      ],
      "source": [
        "##Solution - 1\n",
        "#Build Correlation Matrix\n",
        "correlation_matrix <- cor(train[, sapply(train, is.numeric)])\n",
        "correlation_matrix\n",
        "\n",
        "#Elimination\n",
        "options(scipen=999)\n",
        "model <- lm(income ~.-share, data=train)\n",
        "summary(model)"
      ]
    },
    {
      "cell_type": "markdown",
      "source": [
        "> **💡Interpretations💡-**\n",
        ">\n",
        "> Income and Age: There is a moderate positive correlation between income and age (0.30389108). This suggests that the older individuals tend to have more income.\n",
        ">\n",
        "> Expenditure and Share: There is a strong positive correlation between expenditure and share (0.86279848). This suggests that individuals who spent more also tend to have a higher share value, indicating a higher percentage of credit card limit used.\n",
        ">\n",
        "> Income and Dependents: There is a moderate positive correlation between income and dependents (0.32482542). This suggests that individuals with higher incomes may tend to have more dependents.\n",
        ">\n",
        "> Age and Months: There is a moderate positive correlation between age and months(0.47327498). Older individuals have had their credit card for longer period for obvious reasons.\n",
        ">\n",
        "> Expenditure and Income: There is a moderate positive correlation between expenditure and income (0.24827546). Higher income individuals tend to spend more.\n",
        ">\n",
        ">**ELIMINATION OF A VARIABLE**\n",
        ">\n",
        "> The strong positive correlation between expenditure and share (0.86279848) indicates potential multicollinearity. In this case, have to remove one of these variables from the model to address. The share varibale seems to be best option to remove as expenditure directly represents the amount of money spent by an individual, which is highly relevant in predicting income."
      ],
      "metadata": {
        "id": "BBxsUzW7RFtH"
      },
      "id": "BBxsUzW7RFtH"
    },
    {
      "cell_type": "markdown",
      "id": "4f48f5b9-b244-4735-8c6b-2f9378d3af5a",
      "metadata": {
        "id": "4f48f5b9-b244-4735-8c6b-2f9378d3af5a"
      },
      "source": [
        "#### Solution - 2"
      ]
    },
    {
      "cell_type": "markdown",
      "id": "b1e7d2f3-3492-4437-b21b-b33671b0403a",
      "metadata": {
        "id": "b1e7d2f3-3492-4437-b21b-b33671b0403a"
      },
      "source": [
        "> **💡Dummy variables💡-**\n",
        ">\n",
        "> Dummy variable or binary variables, are categorical variables represented as binary (0 or 1) values. These binary variable indicate the presence or absence of a particular category for each observation. The purpose of dummy variable is to enable the inclusion of categorical data in regression models, which typically require numerical inputs, by allowing for the representation of categorical information as binary values. This allows the model to account for the categorical variable's effect on the outcome variable"
      ]
    },
    {
      "cell_type": "markdown",
      "id": "76e32804-9f64-48c3-9951-f67a4e153c52",
      "metadata": {
        "id": "76e32804-9f64-48c3-9951-f67a4e153c52"
      },
      "source": [
        "#### Solution - 3"
      ]
    },
    {
      "cell_type": "code",
      "execution_count": null,
      "id": "0550d376-65bd-4891-99d2-fa31e85461e8",
      "metadata": {
        "id": "0550d376-65bd-4891-99d2-fa31e85461e8",
        "outputId": "6dea094d-8729-4944-ebf7-6fa1191e8250",
        "colab": {
          "base_uri": "https://localhost:8080/",
          "height": 1000
        }
      },
      "outputs": [
        {
          "output_type": "stream",
          "name": "stdout",
          "text": [
            "Start:  AIC=568.97\n",
            "income ~ (card + reports + age + share + expenditure + owner + \n",
            "    selfemp + dependents + months + majorcards + active) - share\n",
            "\n",
            "              Df Sum of Sq    RSS    AIC\n",
            "- reports      1     0.000 1579.4 566.97\n",
            "- months       1     0.000 1579.4 566.97\n",
            "- card         1     0.990 1580.4 567.46\n",
            "- active       1     1.135 1580.5 567.54\n",
            "<none>                     1579.4 568.97\n",
            "- majorcards   1    17.225 1596.6 575.55\n",
            "- selfemp      1    23.312 1602.7 578.56\n",
            "- owner        1    30.544 1609.9 582.12\n",
            "- age          1    58.283 1637.7 595.63\n",
            "- dependents   1    71.649 1651.0 602.06\n",
            "- expenditure  1    80.623 1660.0 606.35\n",
            "\n",
            "Step:  AIC=566.97\n",
            "income ~ card + age + expenditure + owner + selfemp + dependents + \n",
            "    months + majorcards + active\n",
            "\n",
            "              Df Sum of Sq    RSS    AIC\n",
            "- months       1     0.000 1579.4 564.97\n",
            "- active       1     1.251 1580.6 565.60\n",
            "- card         1     1.276 1580.7 565.61\n",
            "<none>                     1579.4 566.97\n",
            "- majorcards   1    17.225 1596.6 573.55\n",
            "- selfemp      1    23.355 1602.7 576.58\n",
            "- owner        1    30.673 1610.1 580.18\n",
            "- age          1    58.360 1637.7 593.67\n",
            "- dependents   1    71.769 1651.2 600.12\n",
            "- expenditure  1    80.824 1660.2 604.45\n",
            "\n",
            "Step:  AIC=564.97\n",
            "income ~ card + age + expenditure + owner + selfemp + dependents + \n",
            "    majorcards + active\n",
            "\n",
            "              Df Sum of Sq    RSS    AIC\n",
            "- active       1     1.251 1580.6 563.60\n",
            "- card         1     1.276 1580.7 563.61\n",
            "<none>                     1579.4 564.97\n",
            "- majorcards   1    17.269 1596.7 571.57\n",
            "- selfemp      1    23.410 1602.8 574.61\n",
            "- owner        1    31.209 1610.6 578.45\n",
            "- age          1    71.284 1650.7 597.89\n",
            "- dependents   1    73.053 1652.4 598.74\n",
            "- expenditure  1    80.824 1660.2 602.45\n",
            "\n",
            "Step:  AIC=563.6\n",
            "income ~ card + age + expenditure + owner + selfemp + dependents + \n",
            "    majorcards\n",
            "\n",
            "              Df Sum of Sq    RSS    AIC\n",
            "- card         1     1.214 1581.8 562.20\n",
            "<none>                     1580.6 563.60\n",
            "- majorcards   1    18.447 1599.1 570.77\n",
            "- selfemp      1    24.037 1604.7 573.53\n",
            "- owner        1    34.412 1615.0 578.63\n",
            "- age          1    72.405 1653.0 597.02\n",
            "- dependents   1    73.776 1654.4 597.68\n",
            "- expenditure  1    81.046 1661.7 601.15\n",
            "\n",
            "Step:  AIC=562.2\n",
            "income ~ age + expenditure + owner + selfemp + dependents + majorcards\n",
            "\n",
            "              Df Sum of Sq    RSS    AIC\n",
            "<none>                     1581.8 562.20\n",
            "- majorcards   1    17.987 1599.8 569.15\n",
            "- selfemp      1    24.111 1606.0 572.17\n",
            "- owner        1    33.361 1615.2 576.71\n",
            "- age          1    72.768 1654.6 595.78\n",
            "- dependents   1    76.874 1658.7 597.74\n",
            "- expenditure  1    88.360 1670.2 603.20\n"
          ]
        },
        {
          "output_type": "display_data",
          "data": {
            "text/plain": [
              "\n",
              "Call:\n",
              "lm(formula = income ~ age + expenditure + owner + selfemp + dependents + \n",
              "    majorcards, data = train)\n",
              "\n",
              "Residuals:\n",
              "    Min      1Q  Median      3Q     Max \n",
              "-4.0708 -0.8555 -0.2697  0.5345  8.2402 \n",
              "\n",
              "Coefficients:\n",
              "             Estimate Std. Error t value        Pr(>|t|)    \n",
              "(Intercept) 1.1945479  0.2073959   5.760 0.0000000120964 ***\n",
              "age         0.0324940  0.0054107   6.005 0.0000000029172 ***\n",
              "expenditure 0.0014773  0.0002232   6.618 0.0000000000676 ***\n",
              "owneryes    0.4654946  0.1144779   4.066 0.0000526014292 ***\n",
              "selfempyes  0.6965240  0.2014917   3.457        0.000576 ***\n",
              "dependents  0.2710680  0.0439150   6.173 0.0000000010771 ***\n",
              "majorcards  0.3895223  0.1304586   2.986        0.002916 ** \n",
              "---\n",
              "Signif. codes:  0 ‘***’ 0.001 ‘**’ 0.01 ‘*’ 0.05 ‘.’ 0.1 ‘ ’ 1\n",
              "\n",
              "Residual standard error: 1.42 on 784 degrees of freedom\n",
              "Multiple R-squared:  0.2519,\tAdjusted R-squared:  0.2462 \n",
              "F-statistic: 43.99 on 6 and 784 DF,  p-value: < 0.00000000000000022\n"
            ]
          },
          "metadata": {}
        }
      ],
      "source": [
        "#Perform backward elimination\n",
        "backward_model <- step(model, direction = 'backward')\n",
        "summary(backward_model)"
      ]
    },
    {
      "cell_type": "markdown",
      "source": [
        "> **💡Interpresentaiton of Results💡-**\n",
        ">\n",
        "> The model suggests that age, expenditure, ownership status and number of dependents are significant predictors of  income, while the significance of having major credit cards is somewhat marginal."
      ],
      "metadata": {
        "id": "KBQmrLPDXPAX"
      },
      "id": "KBQmrLPDXPAX"
    },
    {
      "cell_type": "markdown",
      "id": "f7855c95-fb3d-40ae-9b59-8ce925fb930f",
      "metadata": {
        "id": "f7855c95-fb3d-40ae-9b59-8ce925fb930f"
      },
      "source": [
        "#### Solution - 4"
      ]
    },
    {
      "cell_type": "code",
      "execution_count": null,
      "id": "26011e39-a6d6-4493-8973-5bac5d1e5073",
      "metadata": {
        "scrolled": true,
        "id": "26011e39-a6d6-4493-8973-5bac5d1e5073"
      },
      "outputs": [],
      "source": [
        "residuals <- backward_model$residuals\n",
        "fitted_values <- predict(backward_model)\n",
        "mean_income <- mean(train$income)"
      ]
    },
    {
      "cell_type": "code",
      "source": [
        "##Calculate SST\n",
        "SST <- sum((train$income - mean_income)^2)\n",
        "cat(\"Total Sum of Squares (SST):\", SST, \"\\n\")\n",
        "\n",
        "##Calculate SSR\n",
        "SSR <- sum((fitted_values - mean_income)^2)\n",
        "cat(\"Total Sum of Squares due to Regression (SSR):\", SSR, \"\\n\")\n",
        "\n",
        "## Calculate SSR/SST\n",
        "ssr_sst_ratio <- SSR / SST\n",
        "cat(\"SSR / SST Ratio:\", ssr_sst_ratio, \"\\n\")"
      ],
      "metadata": {
        "colab": {
          "base_uri": "https://localhost:8080/"
        },
        "id": "86APhLHi0er-",
        "outputId": "4644c60c-6507-4123-9827-002619dd979e"
      },
      "id": "86APhLHi0er-",
      "execution_count": null,
      "outputs": [
        {
          "output_type": "stream",
          "name": "stdout",
          "text": [
            "Total Sum of Squares (SST): 2114.419 \n",
            "Total Sum of Squares due to Regression (SSR): 532.5717 \n",
            "SSR / SST Ratio: 0.2518761 \n"
          ]
        }
      ]
    },
    {
      "cell_type": "markdown",
      "source": [
        "> **💡Interpresentaiton of Results💡-**\n",
        ">\n",
        "> We can see ratio of SSR and SST in the summary of the regression model under - **Multiple R- Squared**.\n",
        ">\n",
        "> The ratio indicate that approximately  25.8% of the total variability in income is explained by the predictors (age, expenditure, owner, dependents and majorcards) included in the regression model. The model accounts for 25.8% of variation in the income."
      ],
      "metadata": {
        "id": "O-xTHawHYmSb"
      },
      "id": "O-xTHawHYmSb"
    },
    {
      "cell_type": "markdown",
      "id": "41ad91ae-e08d-45bc-8e5d-71e591aa7215",
      "metadata": {
        "id": "41ad91ae-e08d-45bc-8e5d-71e591aa7215"
      },
      "source": [
        "#### Solution - 5"
      ]
    },
    {
      "cell_type": "code",
      "source": [
        "visualize.t(stat = c(-1.855,1.855), df=785, section = 'bounded')"
      ],
      "metadata": {
        "colab": {
          "base_uri": "https://localhost:8080/",
          "height": 437
        },
        "id": "TX3rATFz0mAj",
        "outputId": "c4c30ca9-c242-46f8-cbbb-ec9d37c3b91c"
      },
      "id": "TX3rATFz0mAj",
      "execution_count": null,
      "outputs": [
        {
          "output_type": "display_data",
          "data": {
            "text/plain": [
              "Plot with title “Student t Distribution  \n",
              " df  =  785  ”"
            ],
            "image/png": "[encoded data removed]"
          },
          "metadata": {
            "image/png": {
              "width": 420,
              "height": 420
            }
          }
        }
      ]
    },
    {
      "cell_type": "markdown",
      "id": "01bee805-8ed0-411f-8d41-877651f6b4c3",
      "metadata": {
        "id": "01bee805-8ed0-411f-8d41-877651f6b4c3"
      },
      "source": [
        "> **💡Interpretation of Graph💡-**\n",
        ">\n",
        "> The shaded area under t-distribution plot represents the p-value associated with the t-value of -1.855 for the predictor \"majorcards\".\n",
        ">\n",
        ">In this case, the shaded area represents approximately 93.6% of the curvve, indicating a high p value. The high p value suggests that there is not enough evidence to reject the null hypothesis for the predictor \"majorcards\". This means that majorcards is not statistically significant in predicting the outcome variable \"income\" in the regression model.\n",
        ">\n",
        "> Any point underneath that  curve, which encompasses approximately 93.6% of the total area,represents the probability of observing the t-value as extreme as -1.855 or more extreme under the null hypothesis."
      ]
    },
    {
      "cell_type": "markdown",
      "id": "1f28ad4c-c15b-43b2-ac16-3ca00e499f23",
      "metadata": {
        "id": "1f28ad4c-c15b-43b2-ac16-3ca00e499f23"
      },
      "source": [
        "#### Solution - 6"
      ]
    },
    {
      "cell_type": "code",
      "execution_count": 53,
      "id": "a9d51feb-aa03-4569-97f1-2866e66a40fc",
      "metadata": {
        "id": "a9d51feb-aa03-4569-97f1-2866e66a40fc",
        "outputId": "5ae8a526-fb0d-45d7-9d2c-cd50de41e5aa",
        "colab": {
          "base_uri": "https://localhost:8080/",
          "height": 0
        }
      },
      "outputs": [
        {
          "output_type": "stream",
          "name": "stdout",
          "text": [
            "Residual Sum of Squares (RSS): 1581.847 \n",
            "F-statisctics: 37.65973 \n"
          ]
        }
      ],
      "source": [
        "#Model's F-statistic: 54.52\n",
        "#It is calculated by using below mentioned formula\n",
        "#Calculate RSS\n",
        "RSS <-  sum(residuals^2)\n",
        "cat(\"Residual Sum of Squares (RSS):\", RSS, \"\\n\")\n",
        "#Calculate number of predictors\n",
        "p <-  length(coefficients(backward_model)) - 1\n",
        "#Calculate the number of observations\n",
        "n <- length(train$income)\n",
        "\n",
        "#F - statistics\n",
        "F_statistics <- ((SST - RSS)/p)/ (RSS/ (n-p-1))\n",
        "cat(\"F-statisctics:\", F_statistics, \"\\n\")\n"
      ]
    },
    {
      "cell_type": "code",
      "source": [
        "RSS <- sum(residuals^2)\n",
        "cat(\"Residual Sum of Squares (RSS):\", RSS, \"\\n\")\n",
        "#Calculate number of predictors\n",
        "p <- length(coefficients(backward_model)) - 1\n",
        "#Calculate the number of observations\n",
        "n <- length(train$income)\n",
        "\n",
        "# F-statistics\n",
        "F_statistics <- ((SST - RSS)/p)/ (RSS/ (n-p-1))\n"
      ],
      "metadata": {
        "colab": {
          "base_uri": "https://localhost:8080/",
          "height": 0
        },
        "id": "wDcDcCRMb7YC",
        "outputId": "35b69d6b-502a-4f89-eb3c-4c9f9533fa0a"
      },
      "id": "wDcDcCRMb7YC",
      "execution_count": 54,
      "outputs": [
        {
          "output_type": "stream",
          "name": "stdout",
          "text": [
            "Residual Sum of Squares (RSS): 1581.847 \n"
          ]
        }
      ]
    },
    {
      "cell_type": "markdown",
      "id": "c904c945-4542-4332-a816-4914df60a981",
      "metadata": {
        "id": "c904c945-4542-4332-a816-4914df60a981"
      },
      "source": [
        "> **💡Interpretation of Results💡-**\n",
        ">\n",
        "> **Please note there is some error in the software I will share my R code where you will see correct answer represented**\n",
        ">\n",
        ">The F-statistic, in the context of linear regression, is a statistical test that measures the overall significance of the model. It compares the explained variance by the model to the unexplained variance (residuals)."
      ]
    },
    {
      "cell_type": "markdown",
      "id": "8010da20-1bb0-4ef7-8da7-a8ec8707ca53",
      "metadata": {
        "id": "8010da20-1bb0-4ef7-8da7-a8ec8707ca53"
      },
      "source": [
        "#### Solution - 7"
      ]
    },
    {
      "cell_type": "code",
      "execution_count": 55,
      "id": "af02a900-82a3-47a7-993b-b405f217ea8b",
      "metadata": {
        "id": "af02a900-82a3-47a7-993b-b405f217ea8b",
        "outputId": "b8c9eb18-d4a9-46af-c380-59d4b3113b1a",
        "colab": {
          "base_uri": "https://localhost:8080/",
          "height": 0
        }
      },
      "outputs": [
        {
          "output_type": "stream",
          "name": "stdout",
          "text": [
            "Ash's predicted income: 3.622098"
          ]
        }
      ],
      "source": [
        "#Fictional consumer = Ash\n",
        "Ash <- data.frame(\n",
        "  age = 28,\n",
        "  expenditure = 500,\n",
        "  owner = \"no\",\n",
        "  dependents = 0,\n",
        "  majorcards = 2,\n",
        "  selfemp = \"no\"\n",
        ")\n",
        "\n",
        "#Predicted income\n",
        "predicted_income_Ash <- predict(backward_model, newdata = Ash)\n",
        "cat(\"Ash's predicted income:\", predicted_income_Ash)"
      ]
    },
    {
      "cell_type": "markdown",
      "id": "70c0ee41-9209-4f2e-a2a1-14103deecf1f",
      "metadata": {
        "id": "70c0ee41-9209-4f2e-a2a1-14103deecf1f"
      },
      "source": [
        "> **💡Interpretation of Code & Graph💡-**\n",
        ">\n",
        ">Ash, is a 28-year-old individual with no dependents, who does not own a property and has two major credit cards. Based on the multiple linear regression model, Ash's predicted income is approximately $3.622098. This prediction is made using Ash's attributes as input into the model, which considers factors such as age, expenditure, ownership status, dependents, and the number of major credit cards owned."
      ]
    },
    {
      "cell_type": "markdown",
      "id": "c5931ca0-191f-43d6-83a9-c19aa4aa2e8b",
      "metadata": {
        "id": "c5931ca0-191f-43d6-83a9-c19aa4aa2e8b"
      },
      "source": [
        "#### Solution - 8"
      ]
    },
    {
      "cell_type": "code",
      "source": [
        "#Accuracy on Training set\n",
        "accuracy_train1 <- accuracy(backward_model$fitted.values, train$income)\n",
        "\n",
        "#Accuracy on training set\n",
        "print (accuracy_train1)\n",
        "\n",
        "valid_pred2 <- predict(backward_model, valid)\n",
        "accuracy_valid2 <- accuracy(valid_pred2, valid$income)\n",
        "\n",
        "#Accuracy on valid set\n",
        "print (accuracy_valid2)"
      ],
      "metadata": {
        "colab": {
          "base_uri": "https://localhost:8080/"
        },
        "id": "smitCkRY1a2i",
        "outputId": "6e8dd377-ebef-4e70-f1fd-1de177dc7c08"
      },
      "id": "smitCkRY1a2i",
      "execution_count": null,
      "outputs": [
        {
          "output_type": "stream",
          "name": "stdout",
          "text": [
            "                                 ME     RMSE       MAE       MPE     MAPE\n",
            "Test set -0.00000000000000001637132 1.414145 0.9999472 -16.46599 34.67075\n",
            "                  ME     RMSE      MAE       MPE     MAPE\n",
            "Test set -0.05661863 1.494325 1.056578 -16.92579 34.24123\n"
          ]
        }
      ]
    },
    {
      "cell_type": "markdown",
      "source": [
        "> **💡Interpretation of Code & Graph💡-**\n",
        ">\n",
        "> The MLR model does not seem to offer a significant improvement in predictive accuracy compared to the SLR model, as both models exhibit similar performance on both the training and validation sets. This suggests that the additional predictors included in the MLR model may not be contributing significantly to improving the accuracy of income prediction compared to the single predictor used in the SLR model.\n",
        ">\n",
        ">Limitations of Predicting Income with Available Variables:\n",
        ">\n",
        ">Acknowledge that income is complex and influenced by various factors.\n",
        ">Identify variables that might be missing or difficult to capture (e.g., job satisfaction, health status, unexpected financial events).\n",
        ">\n",
        ">It's important to note that accuracy metrics alone may not fully capture the performance of the models, and further analysis such as residual analysis and model diagnostics may be necessary to understand the differences between the models more comprehensively. Additionally, considering other evaluation metrics or techniques could provide additional insights into the models' performance and potential limitations."
      ],
      "metadata": {
        "id": "wSQcJUAC40LL"
      },
      "id": "wSQcJUAC40LL"
    },
    {
      "cell_type": "code",
      "source": [],
      "metadata": {
        "id": "VW9NrAYtd0aJ"
      },
      "id": "VW9NrAYtd0aJ",
      "execution_count": null,
      "outputs": []
    },
    {
      "cell_type": "code",
      "source": [],
      "metadata": {
        "id": "2D-9xY-Gd0i3"
      },
      "id": "2D-9xY-Gd0i3",
      "execution_count": null,
      "outputs": []
    },
    {
      "cell_type": "code",
      "source": [],
      "metadata": {
        "id": "niof_2xhd0t0"
      },
      "id": "niof_2xhd0t0",
      "execution_count": null,
      "outputs": []
    },
    {
      "cell_type": "code",
      "source": [],
      "metadata": {
        "id": "nK53U4sId004"
      },
      "id": "nK53U4sId004",
      "execution_count": null,
      "outputs": []
    },
    {
      "cell_type": "code",
      "source": [],
      "metadata": {
        "id": "vi0niDUbd08m"
      },
      "id": "vi0niDUbd08m",
      "execution_count": null,
      "outputs": []
    },
    {
      "cell_type": "code",
      "source": [],
      "metadata": {
        "id": "N5DfziyTd1Dt"
      },
      "id": "N5DfziyTd1Dt",
      "execution_count": null,
      "outputs": []
    },
    {
      "cell_type": "code",
      "source": [],
      "metadata": {
        "id": "FK_7dHx_d1KE"
      },
      "id": "FK_7dHx_d1KE",
      "execution_count": null,
      "outputs": []
    },
    {
      "cell_type": "code",
      "source": [],
      "metadata": {
        "id": "rsvKWIcBd1Qf"
      },
      "id": "rsvKWIcBd1Qf",
      "execution_count": null,
      "outputs": []
    },
    {
      "cell_type": "code",
      "source": [],
      "metadata": {
        "id": "yjn1xn5xd1Wv"
      },
      "id": "yjn1xn5xd1Wv",
      "execution_count": null,
      "outputs": []
    },
    {
      "cell_type": "code",
      "source": [],
      "metadata": {
        "id": "Lv7WzZ6Qd1c-"
      },
      "id": "Lv7WzZ6Qd1c-",
      "execution_count": null,
      "outputs": []
    },
    {
      "cell_type": "code",
      "source": [],
      "metadata": {
        "id": "3VjPE9SKd1ih"
      },
      "id": "3VjPE9SKd1ih",
      "execution_count": null,
      "outputs": []
    },
    {
      "cell_type": "code",
      "source": [],
      "metadata": {
        "id": "s-RlA4Otd1oL"
      },
      "id": "s-RlA4Otd1oL",
      "execution_count": null,
      "outputs": []
    },
    {
      "cell_type": "code",
      "source": [],
      "metadata": {
        "id": "Gjyh2uSId1t5"
      },
      "id": "Gjyh2uSId1t5",
      "execution_count": null,
      "outputs": []
    },
    {
      "cell_type": "code",
      "source": [],
      "metadata": {
        "id": "RrgwVRyrd1zI"
      },
      "id": "RrgwVRyrd1zI",
      "execution_count": null,
      "outputs": []
    },
    {
      "cell_type": "code",
      "source": [],
      "metadata": {
        "id": "UXoJJYhJd6AS"
      },
      "id": "UXoJJYhJd6AS",
      "execution_count": null,
      "outputs": []
    },
    {
      "cell_type": "code",
      "source": [],
      "metadata": {
        "id": "DQyiuv26d6Fc"
      },
      "id": "DQyiuv26d6Fc",
      "execution_count": null,
      "outputs": []
    },
    {
      "cell_type": "code",
      "source": [],
      "metadata": {
        "id": "-f0OALxQd6Kj"
      },
      "id": "-f0OALxQd6Kj",
      "execution_count": null,
      "outputs": []
    },
    {
      "cell_type": "code",
      "source": [],
      "metadata": {
        "id": "5pRT8pAld6Py"
      },
      "id": "5pRT8pAld6Py",
      "execution_count": null,
      "outputs": []
    },
    {
      "cell_type": "code",
      "source": [],
      "metadata": {
        "id": "Ei7qvgNFd6Ux"
      },
      "id": "Ei7qvgNFd6Ux",
      "execution_count": null,
      "outputs": []
    },
    {
      "cell_type": "code",
      "source": [],
      "metadata": {
        "id": "wdxo_RLBd6Zu"
      },
      "id": "wdxo_RLBd6Zu",
      "execution_count": null,
      "outputs": []
    },
    {
      "cell_type": "code",
      "source": [],
      "metadata": {
        "id": "GDJLi5htd6eq"
      },
      "id": "GDJLi5htd6eq",
      "execution_count": null,
      "outputs": []
    },
    {
      "cell_type": "code",
      "source": [],
      "metadata": {
        "id": "hxaovEqgd6jg"
      },
      "id": "hxaovEqgd6jg",
      "execution_count": null,
      "outputs": []
    },
    {
      "cell_type": "code",
      "source": [],
      "metadata": {
        "id": "toEDozBWd6oU"
      },
      "id": "toEDozBWd6oU",
      "execution_count": null,
      "outputs": []
    },
    {
      "cell_type": "code",
      "source": [],
      "metadata": {
        "id": "l2AMSwQTd6tB"
      },
      "id": "l2AMSwQTd6tB",
      "execution_count": null,
      "outputs": []
    },
    {
      "cell_type": "code",
      "source": [],
      "metadata": {
        "id": "x-0k-zXld6xI"
      },
      "id": "x-0k-zXld6xI",
      "execution_count": null,
      "outputs": []
    },
    {
      "cell_type": "code",
      "source": [],
      "metadata": {
        "id": "9WC7ds-ed62a"
      },
      "id": "9WC7ds-ed62a",
      "execution_count": null,
      "outputs": []
    },
    {
      "cell_type": "code",
      "source": [],
      "metadata": {
        "id": "BVf8FbPqd66t"
      },
      "id": "BVf8FbPqd66t",
      "execution_count": null,
      "outputs": []
    },
    {
      "cell_type": "code",
      "source": [],
      "metadata": {
        "id": "yHp-A7XWd6_x"
      },
      "id": "yHp-A7XWd6_x",
      "execution_count": null,
      "outputs": []
    },
    {
      "cell_type": "code",
      "source": [],
      "metadata": {
        "id": "F00jaKB1d7EW"
      },
      "id": "F00jaKB1d7EW",
      "execution_count": null,
      "outputs": []
    },
    {
      "cell_type": "code",
      "source": [],
      "metadata": {
        "id": "Pn31oFD-d7I2"
      },
      "id": "Pn31oFD-d7I2",
      "execution_count": null,
      "outputs": []
    },
    {
      "cell_type": "code",
      "source": [],
      "metadata": {
        "id": "AWoRADKVd7Ny"
      },
      "id": "AWoRADKVd7Ny",
      "execution_count": null,
      "outputs": []
    },
    {
      "cell_type": "code",
      "source": [],
      "metadata": {
        "id": "LMLW1s2ad7Sd"
      },
      "id": "LMLW1s2ad7Sd",
      "execution_count": null,
      "outputs": []
    },
    {
      "cell_type": "code",
      "source": [],
      "metadata": {
        "id": "OlQlpjord7XZ"
      },
      "id": "OlQlpjord7XZ",
      "execution_count": null,
      "outputs": []
    },
    {
      "cell_type": "code",
      "source": [],
      "metadata": {
        "id": "-7wtP-rBd7cF"
      },
      "id": "-7wtP-rBd7cF",
      "execution_count": null,
      "outputs": []
    },
    {
      "cell_type": "code",
      "source": [],
      "metadata": {
        "id": "OEY_sAfnd7ge"
      },
      "id": "OEY_sAfnd7ge",
      "execution_count": null,
      "outputs": []
    },
    {
      "cell_type": "code",
      "source": [],
      "metadata": {
        "id": "I6CNYnkMd_vV"
      },
      "id": "I6CNYnkMd_vV",
      "execution_count": null,
      "outputs": []
    },
    {
      "cell_type": "code",
      "source": [],
      "metadata": {
        "id": "lt_zq3psd_z2"
      },
      "id": "lt_zq3psd_z2",
      "execution_count": null,
      "outputs": []
    },
    {
      "cell_type": "code",
      "source": [],
      "metadata": {
        "id": "Q_34SRz_d_4w"
      },
      "id": "Q_34SRz_d_4w",
      "execution_count": null,
      "outputs": []
    },
    {
      "cell_type": "code",
      "source": [],
      "metadata": {
        "id": "IN2QUhHtd_9r"
      },
      "id": "IN2QUhHtd_9r",
      "execution_count": null,
      "outputs": []
    },
    {
      "cell_type": "code",
      "source": [],
      "metadata": {
        "id": "S_glzpK6eAC-"
      },
      "id": "S_glzpK6eAC-",
      "execution_count": null,
      "outputs": []
    },
    {
      "cell_type": "code",
      "source": [],
      "metadata": {
        "id": "wr5bebYgeAH9"
      },
      "id": "wr5bebYgeAH9",
      "execution_count": 56,
      "outputs": []
    },
    {
      "cell_type": "code",
      "source": [],
      "metadata": {
        "id": "BgR_Wv4EefuO"
      },
      "id": "BgR_Wv4EefuO",
      "execution_count": null,
      "outputs": []
    },
    {
      "cell_type": "code",
      "source": [],
      "metadata": {
        "id": "Wgm94Bj8efy4"
      },
      "id": "Wgm94Bj8efy4",
      "execution_count": null,
      "outputs": []
    },
    {
      "cell_type": "code",
      "source": [],
      "metadata": {
        "id": "my3EwQp6ef3i"
      },
      "id": "my3EwQp6ef3i",
      "execution_count": null,
      "outputs": []
    },
    {
      "cell_type": "code",
      "source": [],
      "metadata": {
        "id": "HD_DxrSnef8N"
      },
      "id": "HD_DxrSnef8N",
      "execution_count": null,
      "outputs": []
    },
    {
      "cell_type": "code",
      "source": [],
      "metadata": {
        "id": "dfYcY6XqegBN"
      },
      "id": "dfYcY6XqegBN",
      "execution_count": null,
      "outputs": []
    },
    {
      "cell_type": "code",
      "source": [],
      "metadata": {
        "id": "044u6xwDegFr"
      },
      "id": "044u6xwDegFr",
      "execution_count": null,
      "outputs": []
    },
    {
      "cell_type": "code",
      "source": [],
      "metadata": {
        "id": "MuLHUCMkegKb"
      },
      "id": "MuLHUCMkegKb",
      "execution_count": null,
      "outputs": []
    },
    {
      "cell_type": "code",
      "source": [],
      "metadata": {
        "id": "YKbYNZ3megPY"
      },
      "id": "YKbYNZ3megPY",
      "execution_count": null,
      "outputs": []
    },
    {
      "cell_type": "code",
      "source": [],
      "metadata": {
        "id": "kJ6H4wFPegUZ"
      },
      "id": "kJ6H4wFPegUZ",
      "execution_count": null,
      "outputs": []
    },
    {
      "cell_type": "code",
      "source": [],
      "metadata": {
        "id": "UaKDcMp2egYp"
      },
      "id": "UaKDcMp2egYp",
      "execution_count": null,
      "outputs": []
    },
    {
      "cell_type": "code",
      "source": [],
      "metadata": {
        "id": "YtfQBj3oegdU"
      },
      "id": "YtfQBj3oegdU",
      "execution_count": null,
      "outputs": []
    },
    {
      "cell_type": "code",
      "source": [],
      "metadata": {
        "id": "SIMMTRnIegiF"
      },
      "id": "SIMMTRnIegiF",
      "execution_count": null,
      "outputs": []
    },
    {
      "cell_type": "code",
      "source": [],
      "metadata": {
        "id": "N7kQ4HK7ejqL"
      },
      "id": "N7kQ4HK7ejqL",
      "execution_count": null,
      "outputs": []
    },
    {
      "cell_type": "code",
      "source": [],
      "metadata": {
        "id": "ZTu6v09keju0"
      },
      "id": "ZTu6v09keju0",
      "execution_count": null,
      "outputs": []
    },
    {
      "cell_type": "code",
      "source": [],
      "metadata": {
        "id": "1F48fy0Aejza"
      },
      "id": "1F48fy0Aejza",
      "execution_count": null,
      "outputs": []
    },
    {
      "cell_type": "code",
      "source": [],
      "metadata": {
        "id": "QdUEf-d3ej4G"
      },
      "id": "QdUEf-d3ej4G",
      "execution_count": null,
      "outputs": []
    },
    {
      "cell_type": "code",
      "source": [],
      "metadata": {
        "id": "QxxF0cl_ej8-"
      },
      "id": "QxxF0cl_ej8-",
      "execution_count": null,
      "outputs": []
    },
    {
      "cell_type": "code",
      "source": [],
      "metadata": {
        "id": "Jlw8Vf9wekBk"
      },
      "id": "Jlw8Vf9wekBk",
      "execution_count": null,
      "outputs": []
    },
    {
      "cell_type": "code",
      "source": [],
      "metadata": {
        "id": "z4a7QrorekGS"
      },
      "id": "z4a7QrorekGS",
      "execution_count": null,
      "outputs": []
    },
    {
      "cell_type": "code",
      "source": [],
      "metadata": {
        "id": "m5aXWq13ekKy"
      },
      "id": "m5aXWq13ekKy",
      "execution_count": null,
      "outputs": []
    },
    {
      "cell_type": "code",
      "source": [],
      "metadata": {
        "id": "LxdFF_sMekPl"
      },
      "id": "LxdFF_sMekPl",
      "execution_count": null,
      "outputs": []
    },
    {
      "cell_type": "code",
      "source": [],
      "metadata": {
        "id": "1DJygHfYekUg"
      },
      "id": "1DJygHfYekUg",
      "execution_count": null,
      "outputs": []
    }
  ],
  "metadata": {
    "kernelspec": {
      "display_name": "R",
      "language": "R",
      "name": "ir"
    },
    "language_info": {
      "codemirror_mode": "r",
      "file_extension": ".r",
      "mimetype": "text/x-r-source",
      "name": "R",
      "pygments_lexer": "r",
      "version": "3.6.1"
    },
    "colab": {
      "provenance": []
    }
  },
  "nbformat": 4,
  "nbformat_minor": 5
}