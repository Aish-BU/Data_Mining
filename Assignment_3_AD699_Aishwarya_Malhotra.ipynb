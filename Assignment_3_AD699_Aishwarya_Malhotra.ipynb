{
  "cells": [
    {
      "cell_type": "markdown",
      "id": "e2bd6d7c-7788-4688-8b57-81bf53992656",
      "metadata": {
        "id": "e2bd6d7c-7788-4688-8b57-81bf53992656"
      },
      "source": [
        "![boston-university-logo-9C93B75A4A-seeklogo.com.png](data:image/png;base64,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)"
      ]
    },
    {
      "cell_type": "markdown",
      "source": [
        "#**Assignment - 2: Classification**\n",
        "\n",
        "---"
      ],
      "metadata": {
        "id": "yeurAkljpLnM"
      },
      "id": "yeurAkljpLnM"
    },
    {
      "cell_type": "markdown",
      "source": [
        "<h2>AD699 A3 Data Mining (Spring 2024)</div>"
      ],
      "metadata": {
        "id": "o2FU2yNIpoxK"
      },
      "id": "o2FU2yNIpoxK"
    },
    {
      "cell_type": "markdown",
      "id": "397014ec-8a7d-4567-86de-c5dab2853bbf",
      "metadata": {
        "id": "397014ec-8a7d-4567-86de-c5dab2853bbf"
      },
      "source": [
        "<div style=\"text-align: center\"> <h4>Submitted by: Aishwarya Malhotra (U17161095)</div>\n"
      ]
    },
    {
      "cell_type": "markdown",
      "source": [
        "# **K-Nearest Neighbors**"
      ],
      "metadata": {
        "id": "eWnw3Umjztii"
      },
      "id": "eWnw3Umjztii"
    },
    {
      "cell_type": "code",
      "execution_count": 41,
      "id": "b1d7f4a9-c11c-416b-8616-e7449d66b399",
      "metadata": {
        "id": "b1d7f4a9-c11c-416b-8616-e7449d66b399",
        "colab": {
          "base_uri": "https://localhost:8080/"
        },
        "outputId": "e7ccc8ca-84d6-4566-daf1-9ed9fbf6e3a3"
      },
      "outputs": [
        {
          "output_type": "stream",
          "name": "stderr",
          "text": [
            "Installing package into ‘/usr/local/lib/R/site-library’\n",
            "(as ‘lib’ is unspecified)\n",
            "\n",
            "── \u001b[1mAttaching core tidyverse packages\u001b[22m ──────────────────────── tidyverse 2.0.0 ──\n",
            "\u001b[32m✔\u001b[39m \u001b[34mdplyr    \u001b[39m 1.1.4     \u001b[32m✔\u001b[39m \u001b[34mreadr    \u001b[39m 2.1.5\n",
            "\u001b[32m✔\u001b[39m \u001b[34mforcats  \u001b[39m 1.0.0     \u001b[32m✔\u001b[39m \u001b[34mstringr  \u001b[39m 1.5.1\n",
            "\u001b[32m✔\u001b[39m \u001b[34mlubridate\u001b[39m 1.9.3     \u001b[32m✔\u001b[39m \u001b[34mtibble   \u001b[39m 3.2.1\n",
            "\u001b[32m✔\u001b[39m \u001b[34mpurrr    \u001b[39m 1.0.2     \u001b[32m✔\u001b[39m \u001b[34mtidyr    \u001b[39m 1.3.1\n",
            "── \u001b[1mConflicts\u001b[22m ────────────────────────────────────────── tidyverse_conflicts() ──\n",
            "\u001b[31m✖\u001b[39m \u001b[34mtidyr\u001b[39m::\u001b[32mexpand()\u001b[39m masks \u001b[34mMatrix\u001b[39m::expand()\n",
            "\u001b[31m✖\u001b[39m \u001b[34mdplyr\u001b[39m::\u001b[32mfilter()\u001b[39m masks \u001b[34mstats\u001b[39m::filter()\n",
            "\u001b[31m✖\u001b[39m \u001b[34mdplyr\u001b[39m::\u001b[32mlag()\u001b[39m    masks \u001b[34mstats\u001b[39m::lag()\n",
            "\u001b[31m✖\u001b[39m \u001b[34mpurrr\u001b[39m::\u001b[32mlift()\u001b[39m   masks \u001b[34mcaret\u001b[39m::lift()\n",
            "\u001b[31m✖\u001b[39m \u001b[34mtidyr\u001b[39m::\u001b[32mpack()\u001b[39m   masks \u001b[34mMatrix\u001b[39m::pack()\n",
            "\u001b[31m✖\u001b[39m \u001b[34mdplyr\u001b[39m::\u001b[32mrecode()\u001b[39m masks \u001b[34marules\u001b[39m::recode(), \u001b[34mcar\u001b[39m::recode()\n",
            "\u001b[31m✖\u001b[39m \u001b[34mpurrr\u001b[39m::\u001b[32msome()\u001b[39m   masks \u001b[34mcar\u001b[39m::some()\n",
            "\u001b[31m✖\u001b[39m \u001b[34mtidyr\u001b[39m::\u001b[32munpack()\u001b[39m masks \u001b[34mMatrix\u001b[39m::unpack()\n",
            "\u001b[36mℹ\u001b[39m Use the conflicted package (\u001b[3m\u001b[34m<http://conflicted.r-lib.org/>\u001b[39m\u001b[23m) to force all conflicts to become errors\n",
            "Installing package into ‘/usr/local/lib/R/site-library’\n",
            "(as ‘lib’ is unspecified)\n",
            "\n"
          ]
        }
      ],
      "source": [
        "install.packages(\"tidyverse\")\n",
        "library(tidyverse)\n",
        "install.packages(\"visualize\")\n",
        "library(visualize)\n"
      ]
    },
    {
      "cell_type": "markdown",
      "id": "cdc70144-886e-49fb-b773-1e47af159d2a",
      "metadata": {
        "id": "cdc70144-886e-49fb-b773-1e47af159d2a"
      },
      "source": [
        "#### Solution - 1"
      ]
    },
    {
      "cell_type": "code",
      "execution_count": 42,
      "id": "b6f2a1b5-f2c8-489c-ba06-57c1466fabe3",
      "metadata": {
        "id": "b6f2a1b5-f2c8-489c-ba06-57c1466fabe3"
      },
      "outputs": [],
      "source": [
        "spotify_2023 <- read.csv(\"spotify-2023.csv\")"
      ]
    },
    {
      "cell_type": "code",
      "execution_count": 43,
      "id": "d7f0cd90-b25f-4db9-8f75-cced06db406f",
      "metadata": {
        "scrolled": true,
        "id": "d7f0cd90-b25f-4db9-8f75-cced06db406f",
        "colab": {
          "base_uri": "https://localhost:8080/",
          "height": 410
        },
        "outputId": "e1fa9b23-5a8f-4886-fc49-8dfca55ca845"
      },
      "outputs": [
        {
          "output_type": "display_data",
          "data": {
            "text/html": [
              "<table class=\"dataframe\">\n",
              "<caption>A data.frame: 6 × 24</caption>\n",
              "<thead>\n",
              "\t<tr><th></th><th scope=col>track_name</th><th scope=col>artist.s._name</th><th scope=col>artist_count</th><th scope=col>released_year</th><th scope=col>released_month</th><th scope=col>released_day</th><th scope=col>in_spotify_playlists</th><th scope=col>in_spotify_charts</th><th scope=col>streams</th><th scope=col>in_apple_playlists</th><th scope=col>⋯</th><th scope=col>bpm</th><th scope=col>key</th><th scope=col>mode</th><th scope=col>danceability_.</th><th scope=col>valence_.</th><th scope=col>energy_.</th><th scope=col>acousticness_.</th><th scope=col>instrumentalness_.</th><th scope=col>liveness_.</th><th scope=col>speechiness_.</th></tr>\n",
              "\t<tr><th></th><th scope=col>&lt;chr&gt;</th><th scope=col>&lt;chr&gt;</th><th scope=col>&lt;int&gt;</th><th scope=col>&lt;int&gt;</th><th scope=col>&lt;int&gt;</th><th scope=col>&lt;int&gt;</th><th scope=col>&lt;int&gt;</th><th scope=col>&lt;int&gt;</th><th scope=col>&lt;chr&gt;</th><th scope=col>&lt;int&gt;</th><th scope=col>⋯</th><th scope=col>&lt;int&gt;</th><th scope=col>&lt;chr&gt;</th><th scope=col>&lt;chr&gt;</th><th scope=col>&lt;int&gt;</th><th scope=col>&lt;int&gt;</th><th scope=col>&lt;int&gt;</th><th scope=col>&lt;int&gt;</th><th scope=col>&lt;int&gt;</th><th scope=col>&lt;int&gt;</th><th scope=col>&lt;int&gt;</th></tr>\n",
              "</thead>\n",
              "<tbody>\n",
              "\t<tr><th scope=row>1</th><td>Seven (feat. Latto) (Explicit Ver.)</td><td>Latto, Jung Kook </td><td>2</td><td>2023</td><td>7</td><td>14</td><td> 553</td><td>147</td><td>141381703</td><td> 43</td><td>⋯</td><td>125</td><td>B </td><td>Major</td><td>80</td><td>89</td><td>83</td><td>31</td><td> 0</td><td> 8</td><td> 4</td></tr>\n",
              "\t<tr><th scope=row>2</th><td>LALA                               </td><td>Myke Towers      </td><td>1</td><td>2023</td><td>3</td><td>23</td><td>1474</td><td> 48</td><td>133716286</td><td> 48</td><td>⋯</td><td> 92</td><td>C#</td><td>Major</td><td>71</td><td>61</td><td>74</td><td> 7</td><td> 0</td><td>10</td><td> 4</td></tr>\n",
              "\t<tr><th scope=row>3</th><td>vampire                            </td><td>Olivia Rodrigo   </td><td>1</td><td>2023</td><td>6</td><td>30</td><td>1397</td><td>113</td><td>140003974</td><td> 94</td><td>⋯</td><td>138</td><td>F </td><td>Major</td><td>51</td><td>32</td><td>53</td><td>17</td><td> 0</td><td>31</td><td> 6</td></tr>\n",
              "\t<tr><th scope=row>4</th><td>Cruel Summer                       </td><td>Taylor Swift     </td><td>1</td><td>2019</td><td>8</td><td>23</td><td>7858</td><td>100</td><td>800840817</td><td>116</td><td>⋯</td><td>170</td><td>A </td><td>Major</td><td>55</td><td>58</td><td>72</td><td>11</td><td> 0</td><td>11</td><td>15</td></tr>\n",
              "\t<tr><th scope=row>5</th><td>WHERE SHE GOES                     </td><td>Bad Bunny        </td><td>1</td><td>2023</td><td>5</td><td>18</td><td>3133</td><td> 50</td><td>303236322</td><td> 84</td><td>⋯</td><td>144</td><td>A </td><td>Minor</td><td>65</td><td>23</td><td>80</td><td>14</td><td>63</td><td>11</td><td> 6</td></tr>\n",
              "\t<tr><th scope=row>6</th><td>Sprinter                           </td><td>Dave, Central Cee</td><td>2</td><td>2023</td><td>6</td><td> 1</td><td>2186</td><td> 91</td><td>183706234</td><td> 67</td><td>⋯</td><td>141</td><td>C#</td><td>Major</td><td>92</td><td>66</td><td>58</td><td>19</td><td> 0</td><td> 8</td><td>24</td></tr>\n",
              "</tbody>\n",
              "</table>\n"
            ],
            "text/markdown": "\nA data.frame: 6 × 24\n\n| <!--/--> | track_name &lt;chr&gt; | artist.s._name &lt;chr&gt; | artist_count &lt;int&gt; | released_year &lt;int&gt; | released_month &lt;int&gt; | released_day &lt;int&gt; | in_spotify_playlists &lt;int&gt; | in_spotify_charts &lt;int&gt; | streams &lt;chr&gt; | in_apple_playlists &lt;int&gt; | ⋯ ⋯ | bpm &lt;int&gt; | key &lt;chr&gt; | mode &lt;chr&gt; | danceability_. &lt;int&gt; | valence_. &lt;int&gt; | energy_. &lt;int&gt; | acousticness_. &lt;int&gt; | instrumentalness_. &lt;int&gt; | liveness_. &lt;int&gt; | speechiness_. &lt;int&gt; |\n|---|---|---|---|---|---|---|---|---|---|---|---|---|---|---|---|---|---|---|---|---|---|\n| 1 | Seven (feat. Latto) (Explicit Ver.) | Latto, Jung Kook  | 2 | 2023 | 7 | 14 |  553 | 147 | 141381703 |  43 | ⋯ | 125 | B  | Major | 80 | 89 | 83 | 31 |  0 |  8 |  4 |\n| 2 | LALA                                | Myke Towers       | 1 | 2023 | 3 | 23 | 1474 |  48 | 133716286 |  48 | ⋯ |  92 | C# | Major | 71 | 61 | 74 |  7 |  0 | 10 |  4 |\n| 3 | vampire                             | Olivia Rodrigo    | 1 | 2023 | 6 | 30 | 1397 | 113 | 140003974 |  94 | ⋯ | 138 | F  | Major | 51 | 32 | 53 | 17 |  0 | 31 |  6 |\n| 4 | Cruel Summer                        | Taylor Swift      | 1 | 2019 | 8 | 23 | 7858 | 100 | 800840817 | 116 | ⋯ | 170 | A  | Major | 55 | 58 | 72 | 11 |  0 | 11 | 15 |\n| 5 | WHERE SHE GOES                      | Bad Bunny         | 1 | 2023 | 5 | 18 | 3133 |  50 | 303236322 |  84 | ⋯ | 144 | A  | Minor | 65 | 23 | 80 | 14 | 63 | 11 |  6 |\n| 6 | Sprinter                            | Dave, Central Cee | 2 | 2023 | 6 |  1 | 2186 |  91 | 183706234 |  67 | ⋯ | 141 | C# | Major | 92 | 66 | 58 | 19 |  0 |  8 | 24 |\n\n",
            "text/latex": "A data.frame: 6 × 24\n\\begin{tabular}{r|lllllllllllllllllllll}\n  & track\\_name & artist.s.\\_name & artist\\_count & released\\_year & released\\_month & released\\_day & in\\_spotify\\_playlists & in\\_spotify\\_charts & streams & in\\_apple\\_playlists & ⋯ & bpm & key & mode & danceability\\_. & valence\\_. & energy\\_. & acousticness\\_. & instrumentalness\\_. & liveness\\_. & speechiness\\_.\\\\\n  & <chr> & <chr> & <int> & <int> & <int> & <int> & <int> & <int> & <chr> & <int> & ⋯ & <int> & <chr> & <chr> & <int> & <int> & <int> & <int> & <int> & <int> & <int>\\\\\n\\hline\n\t1 & Seven (feat. Latto) (Explicit Ver.) & Latto, Jung Kook  & 2 & 2023 & 7 & 14 &  553 & 147 & 141381703 &  43 & ⋯ & 125 & B  & Major & 80 & 89 & 83 & 31 &  0 &  8 &  4\\\\\n\t2 & LALA                                & Myke Towers       & 1 & 2023 & 3 & 23 & 1474 &  48 & 133716286 &  48 & ⋯ &  92 & C\\# & Major & 71 & 61 & 74 &  7 &  0 & 10 &  4\\\\\n\t3 & vampire                             & Olivia Rodrigo    & 1 & 2023 & 6 & 30 & 1397 & 113 & 140003974 &  94 & ⋯ & 138 & F  & Major & 51 & 32 & 53 & 17 &  0 & 31 &  6\\\\\n\t4 & Cruel Summer                        & Taylor Swift      & 1 & 2019 & 8 & 23 & 7858 & 100 & 800840817 & 116 & ⋯ & 170 & A  & Major & 55 & 58 & 72 & 11 &  0 & 11 & 15\\\\\n\t5 & WHERE SHE GOES                      & Bad Bunny         & 1 & 2023 & 5 & 18 & 3133 &  50 & 303236322 &  84 & ⋯ & 144 & A  & Minor & 65 & 23 & 80 & 14 & 63 & 11 &  6\\\\\n\t6 & Sprinter                            & Dave, Central Cee & 2 & 2023 & 6 &  1 & 2186 &  91 & 183706234 &  67 & ⋯ & 141 & C\\# & Major & 92 & 66 & 58 & 19 &  0 &  8 & 24\\\\\n\\end{tabular}\n",
            "text/plain": [
              "  track_name                          artist.s._name    artist_count\n",
              "1 Seven (feat. Latto) (Explicit Ver.) Latto, Jung Kook  2           \n",
              "2 LALA                                Myke Towers       1           \n",
              "3 vampire                             Olivia Rodrigo    1           \n",
              "4 Cruel Summer                        Taylor Swift      1           \n",
              "5 WHERE SHE GOES                      Bad Bunny         1           \n",
              "6 Sprinter                            Dave, Central Cee 2           \n",
              "  released_year released_month released_day in_spotify_playlists\n",
              "1 2023          7              14            553                \n",
              "2 2023          3              23           1474                \n",
              "3 2023          6              30           1397                \n",
              "4 2019          8              23           7858                \n",
              "5 2023          5              18           3133                \n",
              "6 2023          6               1           2186                \n",
              "  in_spotify_charts streams   in_apple_playlists ⋯ bpm key mode  danceability_.\n",
              "1 147               141381703  43                ⋯ 125 B   Major 80            \n",
              "2  48               133716286  48                ⋯  92 C#  Major 71            \n",
              "3 113               140003974  94                ⋯ 138 F   Major 51            \n",
              "4 100               800840817 116                ⋯ 170 A   Major 55            \n",
              "5  50               303236322  84                ⋯ 144 A   Minor 65            \n",
              "6  91               183706234  67                ⋯ 141 C#  Major 92            \n",
              "  valence_. energy_. acousticness_. instrumentalness_. liveness_. speechiness_.\n",
              "1 89        83       31              0                  8          4           \n",
              "2 61        74        7              0                 10          4           \n",
              "3 32        53       17              0                 31          6           \n",
              "4 58        72       11              0                 11         15           \n",
              "5 23        80       14             63                 11          6           \n",
              "6 66        58       19              0                  8         24           "
            ]
          },
          "metadata": {}
        }
      ],
      "source": [
        "head(spotify_2023)"
      ]
    },
    {
      "cell_type": "code",
      "source": [
        "song <-spotify_2023[grepl(\"Imagine Dragons\", spotify_2023$artist.s._name),]\n",
        "song"
      ],
      "metadata": {
        "id": "ATgDEuWF0iYR",
        "colab": {
          "base_uri": "https://localhost:8080/",
          "height": 1000
        },
        "outputId": "bb9ca9d1-f6cc-4b09-ae16-f37d3a2bc187"
      },
      "id": "ATgDEuWF0iYR",
      "execution_count": 44,
      "outputs": [
        {
          "output_type": "stream",
          "name": "stderr",
          "text": [
            "Warning message in grepl(\"Imagine Dragons\", spotify_2023$artist.s._name):\n",
            "“unable to translate 'Sebastian Yatra, Manuel Turizo, Be�<ef>' to a wide string”\n",
            "Warning message in grepl(\"Imagine Dragons\", spotify_2023$artist.s._name):\n",
            "“input string 119 is invalid”\n",
            "Warning message in grepl(\"Imagine Dragons\", spotify_2023$artist.s._name):\n",
            "“unable to translate 'Junior H, Eden Mu�<ef>' to a wide string”\n",
            "Warning message in grepl(\"Imagine Dragons\", spotify_2023$artist.s._name):\n",
            "“input string 211 is invalid”\n",
            "Warning message in grepl(\"Imagine Dragons\", spotify_2023$artist.s._name):\n",
            "“unable to translate 'Beyonc<ef><bf>' to a wide string”\n",
            "Warning message in grepl(\"Imagine Dragons\", spotify_2023$artist.s._name):\n",
            "“input string 232 is invalid”\n",
            "Warning message in grepl(\"Imagine Dragons\", spotify_2023$artist.s._name):\n",
            "“unable to translate 'Kendrick Lamar, Beyonc<ef><bf>' to a wide string”\n",
            "Warning message in grepl(\"Imagine Dragons\", spotify_2023$artist.s._name):\n",
            "“input string 237 is invalid”\n",
            "Warning message in grepl(\"Imagine Dragons\", spotify_2023$artist.s._name):\n",
            "“unable to translate 'Rich The Kid, Matu<ef><bf>' to a wide string”\n",
            "Warning message in grepl(\"Imagine Dragons\", spotify_2023$artist.s._name):\n",
            "“input string 259 is invalid”\n",
            "Warning message in grepl(\"Imagine Dragons\", spotify_2023$artist.s._name):\n",
            "“unable to translate 'R�<ef>' to a wide string”\n",
            "Warning message in grepl(\"Imagine Dragons\", spotify_2023$artist.s._name):\n",
            "“unable to translate 'Elley Duh<ef><bf>' to a wide string”\n",
            "Warning message in grepl(\"Imagine Dragons\", spotify_2023$artist.s._name):\n",
            "“unable to translate 'Michael Bubl<ef><bf>' to a wide string”\n",
            "Warning message in grepl(\"Imagine Dragons\", spotify_2023$artist.s._name):\n",
            "“unable to translate 'Michael Bubl<ef><bf>' to a wide string”\n",
            "Warning message in grepl(\"Imagine Dragons\", spotify_2023$artist.s._name):\n",
            "“unable to translate 'Ti�<ef><bf>' to a wide string”\n",
            "Warning message in grepl(\"Imagine Dragons\", spotify_2023$artist.s._name):\n",
            "“unable to translate 'Eden Mu�<ef>' to a wide string”\n",
            "Warning message in grepl(\"Imagine Dragons\", spotify_2023$artist.s._name):\n",
            "“unable to translate 'Bad Bunny, The Mar�<ef>' to a wide string”\n",
            "Warning message in grepl(\"Imagine Dragons\", spotify_2023$artist.s._name):\n",
            "“unable to translate 'Beyonc<ef><bf>' to a wide string”\n",
            "Warning message in grepl(\"Imagine Dragons\", spotify_2023$artist.s._name):\n",
            "“unable to translate 'Beyonc<ef><bf>' to a wide string”\n"
          ]
        },
        {
          "output_type": "display_data",
          "data": {
            "text/html": [
              "<table class=\"dataframe\">\n",
              "<caption>A data.frame: 5 × 24</caption>\n",
              "<thead>\n",
              "\t<tr><th></th><th scope=col>track_name</th><th scope=col>artist.s._name</th><th scope=col>artist_count</th><th scope=col>released_year</th><th scope=col>released_month</th><th scope=col>released_day</th><th scope=col>in_spotify_playlists</th><th scope=col>in_spotify_charts</th><th scope=col>streams</th><th scope=col>in_apple_playlists</th><th scope=col>⋯</th><th scope=col>bpm</th><th scope=col>key</th><th scope=col>mode</th><th scope=col>danceability_.</th><th scope=col>valence_.</th><th scope=col>energy_.</th><th scope=col>acousticness_.</th><th scope=col>instrumentalness_.</th><th scope=col>liveness_.</th><th scope=col>speechiness_.</th></tr>\n",
              "\t<tr><th></th><th scope=col>&lt;chr&gt;</th><th scope=col>&lt;chr&gt;</th><th scope=col>&lt;int&gt;</th><th scope=col>&lt;int&gt;</th><th scope=col>&lt;int&gt;</th><th scope=col>&lt;int&gt;</th><th scope=col>&lt;int&gt;</th><th scope=col>&lt;int&gt;</th><th scope=col>&lt;chr&gt;</th><th scope=col>&lt;int&gt;</th><th scope=col>⋯</th><th scope=col>&lt;int&gt;</th><th scope=col>&lt;chr&gt;</th><th scope=col>&lt;chr&gt;</th><th scope=col>&lt;int&gt;</th><th scope=col>&lt;int&gt;</th><th scope=col>&lt;int&gt;</th><th scope=col>&lt;int&gt;</th><th scope=col>&lt;int&gt;</th><th scope=col>&lt;int&gt;</th><th scope=col>&lt;int&gt;</th></tr>\n",
              "</thead>\n",
              "<tbody>\n",
              "\t<tr><th scope=row>109</th><td>Bones                                                      </td><td>Imagine Dragons                                </td><td>1</td><td>2021</td><td> 3</td><td>11</td><td> 4198</td><td>44</td><td>838079900 </td><td> 98</td><td>⋯</td><td>114</td><td>F </td><td>Minor</td><td>77</td><td>65</td><td>72</td><td> 2</td><td>0</td><td> 7</td><td> 5</td></tr>\n",
              "\t<tr><th scope=row>141</th><td>Believer                                                   </td><td>Imagine Dragons                                </td><td>1</td><td>2017</td><td> 1</td><td>31</td><td>18986</td><td>23</td><td>2594040133</td><td>250</td><td>⋯</td><td>125</td><td>A#</td><td>Minor</td><td>77</td><td>74</td><td>78</td><td> 4</td><td>0</td><td>23</td><td>11</td></tr>\n",
              "\t<tr><th scope=row>174</th><td>Demons                                                     </td><td>Imagine Dragons                                </td><td>1</td><td>2012</td><td> 1</td><td> 1</td><td>26694</td><td>13</td><td>1840364617</td><td> 65</td><td>⋯</td><td>180</td><td>D#</td><td>Major</td><td>33</td><td>38</td><td>71</td><td>20</td><td>0</td><td>28</td><td> 5</td></tr>\n",
              "\t<tr><th scope=row>366</th><td>Enemy (with JID) - from the series Arcane League of Legends</td><td>Imagine Dragons, League of Legends, JID, Arcane</td><td>4</td><td>2021</td><td> 9</td><td> 3</td><td> 6180</td><td> 7</td><td>1223481149</td><td>122</td><td>⋯</td><td> 77</td><td>B </td><td>Minor</td><td>72</td><td>59</td><td>76</td><td>24</td><td>0</td><td>42</td><td>28</td></tr>\n",
              "\t<tr><th scope=row>620</th><td>Enemy - from the series Arcane League of Legends           </td><td>Imagine Dragons, League of Legends, Arcane     </td><td>3</td><td>2021</td><td>10</td><td>27</td><td>  824</td><td> 0</td><td>1223481149</td><td>  8</td><td>⋯</td><td> 77</td><td>G </td><td>Major</td><td>73</td><td>54</td><td>74</td><td>23</td><td>0</td><td>41</td><td>23</td></tr>\n",
              "</tbody>\n",
              "</table>\n"
            ],
            "text/markdown": "\nA data.frame: 5 × 24\n\n| <!--/--> | track_name &lt;chr&gt; | artist.s._name &lt;chr&gt; | artist_count &lt;int&gt; | released_year &lt;int&gt; | released_month &lt;int&gt; | released_day &lt;int&gt; | in_spotify_playlists &lt;int&gt; | in_spotify_charts &lt;int&gt; | streams &lt;chr&gt; | in_apple_playlists &lt;int&gt; | ⋯ ⋯ | bpm &lt;int&gt; | key &lt;chr&gt; | mode &lt;chr&gt; | danceability_. &lt;int&gt; | valence_. &lt;int&gt; | energy_. &lt;int&gt; | acousticness_. &lt;int&gt; | instrumentalness_. &lt;int&gt; | liveness_. &lt;int&gt; | speechiness_. &lt;int&gt; |\n|---|---|---|---|---|---|---|---|---|---|---|---|---|---|---|---|---|---|---|---|---|---|\n| 109 | Bones                                                       | Imagine Dragons                                 | 1 | 2021 |  3 | 11 |  4198 | 44 | 838079900  |  98 | ⋯ | 114 | F  | Minor | 77 | 65 | 72 |  2 | 0 |  7 |  5 |\n| 141 | Believer                                                    | Imagine Dragons                                 | 1 | 2017 |  1 | 31 | 18986 | 23 | 2594040133 | 250 | ⋯ | 125 | A# | Minor | 77 | 74 | 78 |  4 | 0 | 23 | 11 |\n| 174 | Demons                                                      | Imagine Dragons                                 | 1 | 2012 |  1 |  1 | 26694 | 13 | 1840364617 |  65 | ⋯ | 180 | D# | Major | 33 | 38 | 71 | 20 | 0 | 28 |  5 |\n| 366 | Enemy (with JID) - from the series Arcane League of Legends | Imagine Dragons, League of Legends, JID, Arcane | 4 | 2021 |  9 |  3 |  6180 |  7 | 1223481149 | 122 | ⋯ |  77 | B  | Minor | 72 | 59 | 76 | 24 | 0 | 42 | 28 |\n| 620 | Enemy - from the series Arcane League of Legends            | Imagine Dragons, League of Legends, Arcane      | 3 | 2021 | 10 | 27 |   824 |  0 | 1223481149 |   8 | ⋯ |  77 | G  | Major | 73 | 54 | 74 | 23 | 0 | 41 | 23 |\n\n",
            "text/latex": "A data.frame: 5 × 24\n\\begin{tabular}{r|lllllllllllllllllllll}\n  & track\\_name & artist.s.\\_name & artist\\_count & released\\_year & released\\_month & released\\_day & in\\_spotify\\_playlists & in\\_spotify\\_charts & streams & in\\_apple\\_playlists & ⋯ & bpm & key & mode & danceability\\_. & valence\\_. & energy\\_. & acousticness\\_. & instrumentalness\\_. & liveness\\_. & speechiness\\_.\\\\\n  & <chr> & <chr> & <int> & <int> & <int> & <int> & <int> & <int> & <chr> & <int> & ⋯ & <int> & <chr> & <chr> & <int> & <int> & <int> & <int> & <int> & <int> & <int>\\\\\n\\hline\n\t109 & Bones                                                       & Imagine Dragons                                 & 1 & 2021 &  3 & 11 &  4198 & 44 & 838079900  &  98 & ⋯ & 114 & F  & Minor & 77 & 65 & 72 &  2 & 0 &  7 &  5\\\\\n\t141 & Believer                                                    & Imagine Dragons                                 & 1 & 2017 &  1 & 31 & 18986 & 23 & 2594040133 & 250 & ⋯ & 125 & A\\# & Minor & 77 & 74 & 78 &  4 & 0 & 23 & 11\\\\\n\t174 & Demons                                                      & Imagine Dragons                                 & 1 & 2012 &  1 &  1 & 26694 & 13 & 1840364617 &  65 & ⋯ & 180 & D\\# & Major & 33 & 38 & 71 & 20 & 0 & 28 &  5\\\\\n\t366 & Enemy (with JID) - from the series Arcane League of Legends & Imagine Dragons, League of Legends, JID, Arcane & 4 & 2021 &  9 &  3 &  6180 &  7 & 1223481149 & 122 & ⋯ &  77 & B  & Minor & 72 & 59 & 76 & 24 & 0 & 42 & 28\\\\\n\t620 & Enemy - from the series Arcane League of Legends            & Imagine Dragons, League of Legends, Arcane      & 3 & 2021 & 10 & 27 &   824 &  0 & 1223481149 &   8 & ⋯ &  77 & G  & Major & 73 & 54 & 74 & 23 & 0 & 41 & 23\\\\\n\\end{tabular}\n",
            "text/plain": [
              "    track_name                                                 \n",
              "109 Bones                                                      \n",
              "141 Believer                                                   \n",
              "174 Demons                                                     \n",
              "366 Enemy (with JID) - from the series Arcane League of Legends\n",
              "620 Enemy - from the series Arcane League of Legends           \n",
              "    artist.s._name                                  artist_count released_year\n",
              "109 Imagine Dragons                                 1            2021         \n",
              "141 Imagine Dragons                                 1            2017         \n",
              "174 Imagine Dragons                                 1            2012         \n",
              "366 Imagine Dragons, League of Legends, JID, Arcane 4            2021         \n",
              "620 Imagine Dragons, League of Legends, Arcane      3            2021         \n",
              "    released_month released_day in_spotify_playlists in_spotify_charts\n",
              "109  3             11            4198                44               \n",
              "141  1             31           18986                23               \n",
              "174  1              1           26694                13               \n",
              "366  9              3            6180                 7               \n",
              "620 10             27             824                 0               \n",
              "    streams    in_apple_playlists ⋯ bpm key mode  danceability_. valence_.\n",
              "109 838079900   98                ⋯ 114 F   Minor 77             65       \n",
              "141 2594040133 250                ⋯ 125 A#  Minor 77             74       \n",
              "174 1840364617  65                ⋯ 180 D#  Major 33             38       \n",
              "366 1223481149 122                ⋯  77 B   Minor 72             59       \n",
              "620 1223481149   8                ⋯  77 G   Major 73             54       \n",
              "    energy_. acousticness_. instrumentalness_. liveness_. speechiness_.\n",
              "109 72        2             0                   7          5           \n",
              "141 78        4             0                  23         11           \n",
              "174 71       20             0                  28          5           \n",
              "366 76       24             0                  42         28           \n",
              "620 74       23             0                  41         23           "
            ]
          },
          "metadata": {}
        }
      ]
    },
    {
      "cell_type": "markdown",
      "source": [
        "**💡Solution 1💡-**\n",
        "\n",
        ">a. **Song-** Enemy - from the series Arcane League of Legends\tImagine Dragons, League of Legends, Arcane\n",
        "\n",
        ">b. This song perfectly captures the themes of rivalry and conflict within the show Arcane.  The driving rock beat and intense lyrics resonate with the characters' struggles and determination.  \n",
        "\n",
        ">c. Rankings\n",
        "* Danceability: 73\n",
        "* Energy: 74\n",
        "* Speechiness: 23\n",
        "* Acousticness: 23\n",
        "* Liveness: 41\n",
        "* Valence: \t54\n",
        "* BPM: 77"
      ],
      "metadata": {
        "id": "7Y9gq10O5Wuk"
      },
      "id": "7Y9gq10O5Wuk"
    },
    {
      "cell_type": "markdown",
      "source": [
        "#### Solution - 2"
      ],
      "metadata": {
        "id": "9W9_8JuVzNDc"
      },
      "id": "9W9_8JuVzNDc"
    },
    {
      "cell_type": "code",
      "source": [
        "enemy <- subset(spotify_2023, track_name ==\"Enemy - from the series Arcane League of Legends\")"
      ],
      "metadata": {
        "id": "hVHCdDbnzQo1"
      },
      "id": "hVHCdDbnzQo1",
      "execution_count": 45,
      "outputs": []
    },
    {
      "cell_type": "code",
      "source": [
        "class(enemy)"
      ],
      "metadata": {
        "id": "E5_I4qw42hE7",
        "colab": {
          "base_uri": "https://localhost:8080/",
          "height": 34
        },
        "outputId": "e8a8b6c3-841b-426d-91d1-b1e05e15baa7"
      },
      "id": "E5_I4qw42hE7",
      "execution_count": 46,
      "outputs": [
        {
          "output_type": "display_data",
          "data": {
            "text/html": [
              "'data.frame'"
            ],
            "text/markdown": "'data.frame'",
            "text/latex": "'data.frame'",
            "text/plain": [
              "[1] \"data.frame\""
            ]
          },
          "metadata": {}
        }
      ]
    },
    {
      "cell_type": "markdown",
      "id": "ac51b1c7-15c2-4083-ac51-2233c41596f1",
      "metadata": {
        "id": "ac51b1c7-15c2-4083-ac51-2233c41596f1"
      },
      "source": [
        "#### Solution - 3"
      ]
    },
    {
      "cell_type": "code",
      "source": [
        "spotify <- read.csv(\"spotify.csv\")"
      ],
      "metadata": {
        "id": "QJf5-14w3UrX"
      },
      "id": "QJf5-14w3UrX",
      "execution_count": 47,
      "outputs": []
    },
    {
      "cell_type": "code",
      "source": [
        "str(spotify)"
      ],
      "metadata": {
        "id": "CKanpzY9uVVv",
        "colab": {
          "base_uri": "https://localhost:8080/"
        },
        "outputId": "f353e246-e86c-4265-a777-d93e3e8948e7"
      },
      "id": "CKanpzY9uVVv",
      "execution_count": 48,
      "outputs": [
        {
          "output_type": "stream",
          "name": "stdout",
          "text": [
            "'data.frame':\t2017 obs. of  17 variables:\n",
            " $ X               : int  0 1 2 3 4 5 6 7 8 9 ...\n",
            " $ acousticness    : num  0.0102 0.199 0.0344 0.604 0.18 0.00479 0.0145 0.0202 0.0481 0.00208 ...\n",
            " $ danceability    : num  0.833 0.743 0.838 0.494 0.678 0.804 0.739 0.266 0.603 0.836 ...\n",
            " $ duration_ms     : int  204600 326933 185707 199413 392893 251333 241400 349667 202853 226840 ...\n",
            " $ energy          : num  0.434 0.359 0.412 0.338 0.561 0.56 0.472 0.348 0.944 0.603 ...\n",
            " $ instrumentalness: num  2.19e-02 6.11e-03 2.34e-04 5.10e-01 5.12e-01 0.00 7.27e-06 6.64e-01 0.00 0.00 ...\n",
            " $ key             : int  2 1 2 5 5 8 1 10 11 7 ...\n",
            " $ liveness        : num  0.165 0.137 0.159 0.0922 0.439 0.164 0.207 0.16 0.342 0.571 ...\n",
            " $ loudness        : num  -8.79 -10.4 -7.15 -15.24 -11.65 ...\n",
            " $ mode            : int  1 1 1 1 0 1 1 0 0 1 ...\n",
            " $ speechiness     : num  0.431 0.0794 0.289 0.0261 0.0694 0.185 0.156 0.0371 0.347 0.237 ...\n",
            " $ tempo           : num  150.1 160.1 75 86.5 174 ...\n",
            " $ time_signature  : num  4 4 4 4 4 4 4 4 4 4 ...\n",
            " $ valence         : num  0.286 0.588 0.173 0.23 0.904 0.264 0.308 0.393 0.398 0.386 ...\n",
            " $ target          : int  1 1 1 1 1 1 1 1 1 1 ...\n",
            " $ song_title      : chr  \"Mask Off\" \"Redbone\" \"Xanny Family\" \"Master Of None\" ...\n",
            " $ artist          : chr  \"Future\" \"Childish Gambino\" \"Future\" \"Beach House\" ...\n"
          ]
        }
      ]
    },
    {
      "cell_type": "code",
      "source": [
        "if(!is.factor(spotify$target)) {\n",
        "  spotify$target <- as.factor(spotify$target)\n",
        "}"
      ],
      "metadata": {
        "id": "sLCAvOs93Csf"
      },
      "id": "sLCAvOs93Csf",
      "execution_count": 49,
      "outputs": []
    },
    {
      "cell_type": "code",
      "source": [
        "unique_values <- unique(spotify$target)\n",
        "unique_values"
      ],
      "metadata": {
        "id": "qD6hl9e8uW33",
        "colab": {
          "base_uri": "https://localhost:8080/",
          "height": 52
        },
        "outputId": "c912739a-097a-403c-c7ba-c8fcc8dde811"
      },
      "id": "qD6hl9e8uW33",
      "execution_count": 50,
      "outputs": [
        {
          "output_type": "display_data",
          "data": {
            "text/html": [
              "<style>\n",
              ".list-inline {list-style: none; margin:0; padding: 0}\n",
              ".list-inline>li {display: inline-block}\n",
              ".list-inline>li:not(:last-child)::after {content: \"\\00b7\"; padding: 0 .5ex}\n",
              "</style>\n",
              "<ol class=list-inline><li>1</li><li>0</li></ol>\n",
              "\n",
              "<details>\n",
              "\t<summary style=display:list-item;cursor:pointer>\n",
              "\t\t<strong>Levels</strong>:\n",
              "\t</summary>\n",
              "\t<style>\n",
              "\t.list-inline {list-style: none; margin:0; padding: 0}\n",
              "\t.list-inline>li {display: inline-block}\n",
              "\t.list-inline>li:not(:last-child)::after {content: \"\\00b7\"; padding: 0 .5ex}\n",
              "\t</style>\n",
              "\t<ol class=list-inline><li>'0'</li><li>'1'</li></ol>\n",
              "</details>"
            ],
            "text/markdown": "1. 1\n2. 0\n\n\n\n**Levels**: 1. '0'\n2. '1'\n\n\n",
            "text/latex": "\\begin{enumerate*}\n\\item 1\n\\item 0\n\\end{enumerate*}\n\n\\emph{Levels}: \\begin{enumerate*}\n\\item '0'\n\\item '1'\n\\end{enumerate*}\n",
            "text/plain": [
              "[1] 1 0\n",
              "Levels: 0 1"
            ]
          },
          "metadata": {}
        }
      ]
    },
    {
      "cell_type": "code",
      "source": [
        "for(value in unique_values) {\n",
        "  records <- sum(spotify$target == value)\n",
        "  cat(\"Number of records with target value\", value, \":\", records, \"\\n\")\n",
        "}"
      ],
      "metadata": {
        "id": "hFL2kvaS7tjm",
        "colab": {
          "base_uri": "https://localhost:8080/"
        },
        "outputId": "fa7a25fb-bcf3-4012-aec7-e260fe298530"
      },
      "id": "hFL2kvaS7tjm",
      "execution_count": 51,
      "outputs": [
        {
          "output_type": "stream",
          "name": "stdout",
          "text": [
            "Number of records with target value 1 : 1020 \n",
            "Number of records with target value 0 : 997 \n"
          ]
        }
      ]
    },
    {
      "cell_type": "markdown",
      "id": "6b2b335a-a5e9-45d6-ad4e-d9254d34277e",
      "metadata": {
        "id": "6b2b335a-a5e9-45d6-ad4e-d9254d34277e"
      },
      "source": [
        "> **💡Interpretation of Results💡-**\n",
        ">\n",
        ">The variable \"Target\" was in integer format. It is then converted into Factor.\n",
        ">\n",
        ">The variable \"Target\" indicates wheather a user named george liked the song with 1 = liked it & 0 = did not like it.\n",
        ">\n",
        ">Number of records with target value 1 : 1020\n",
        ">\n",
        ">Number of records with target value 0 : 997  "
      ]
    },
    {
      "cell_type": "markdown",
      "id": "f252d882-827e-46d2-a0a7-d15bf90202ed",
      "metadata": {
        "id": "f252d882-827e-46d2-a0a7-d15bf90202ed"
      },
      "source": [
        "#### Solution - 4"
      ]
    },
    {
      "cell_type": "code",
      "execution_count": 52,
      "id": "1c547204-7ee7-474f-8eb3-6dc0fbf3581e",
      "metadata": {
        "id": "1c547204-7ee7-474f-8eb3-6dc0fbf3581e",
        "colab": {
          "base_uri": "https://localhost:8080/",
          "height": 52
        },
        "outputId": "7e171939-016e-4331-d016-d972bb09c8ca"
      },
      "outputs": [
        {
          "output_type": "display_data",
          "data": {
            "text/html": [
              "<style>\n",
              ".dl-inline {width: auto; margin:0; padding: 0}\n",
              ".dl-inline>dt, .dl-inline>dd {float: none; width: auto; display: inline-block}\n",
              ".dl-inline>dt::after {content: \":\\0020\"; padding-right: .5ex}\n",
              ".dl-inline>dt:not(:first-of-type) {padding-left: .5ex}\n",
              "</style><dl class=dl-inline><dt>X</dt><dd>0</dd><dt>acousticness</dt><dd>0</dd><dt>danceability</dt><dd>0</dd><dt>duration_ms</dt><dd>0</dd><dt>energy</dt><dd>0</dd><dt>instrumentalness</dt><dd>0</dd><dt>key</dt><dd>0</dd><dt>liveness</dt><dd>0</dd><dt>loudness</dt><dd>0</dd><dt>mode</dt><dd>0</dd><dt>speechiness</dt><dd>0</dd><dt>tempo</dt><dd>0</dd><dt>time_signature</dt><dd>0</dd><dt>valence</dt><dd>0</dd><dt>target</dt><dd>0</dd><dt>song_title</dt><dd>0</dd><dt>artist</dt><dd>0</dd></dl>\n"
            ],
            "text/markdown": "X\n:   0acousticness\n:   0danceability\n:   0duration_ms\n:   0energy\n:   0instrumentalness\n:   0key\n:   0liveness\n:   0loudness\n:   0mode\n:   0speechiness\n:   0tempo\n:   0time_signature\n:   0valence\n:   0target\n:   0song_title\n:   0artist\n:   0\n\n",
            "text/latex": "\\begin{description*}\n\\item[X] 0\n\\item[acousticness] 0\n\\item[danceability] 0\n\\item[duration\\textbackslash{}\\_ms] 0\n\\item[energy] 0\n\\item[instrumentalness] 0\n\\item[key] 0\n\\item[liveness] 0\n\\item[loudness] 0\n\\item[mode] 0\n\\item[speechiness] 0\n\\item[tempo] 0\n\\item[time\\textbackslash{}\\_signature] 0\n\\item[valence] 0\n\\item[target] 0\n\\item[song\\textbackslash{}\\_title] 0\n\\item[artist] 0\n\\end{description*}\n",
            "text/plain": [
              "               X     acousticness     danceability      duration_ms \n",
              "               0                0                0                0 \n",
              "          energy instrumentalness              key         liveness \n",
              "               0                0                0                0 \n",
              "        loudness             mode      speechiness            tempo \n",
              "               0                0                0                0 \n",
              "  time_signature          valence           target       song_title \n",
              "               0                0                0                0 \n",
              "          artist \n",
              "               0 "
            ]
          },
          "metadata": {}
        }
      ],
      "source": [
        "na_count <- colSums(is.na(spotify))\n",
        "na_count"
      ]
    },
    {
      "cell_type": "code",
      "source": [
        "na_count <- colSums(is.na(spotify_2023))\n",
        "na_count"
      ],
      "metadata": {
        "id": "YfNp-bB6YrLO",
        "colab": {
          "base_uri": "https://localhost:8080/",
          "height": 69
        },
        "outputId": "72f58180-dc35-454d-90bf-dfb496f54144"
      },
      "id": "YfNp-bB6YrLO",
      "execution_count": 53,
      "outputs": [
        {
          "output_type": "display_data",
          "data": {
            "text/html": [
              "<style>\n",
              ".dl-inline {width: auto; margin:0; padding: 0}\n",
              ".dl-inline>dt, .dl-inline>dd {float: none; width: auto; display: inline-block}\n",
              ".dl-inline>dt::after {content: \":\\0020\"; padding-right: .5ex}\n",
              ".dl-inline>dt:not(:first-of-type) {padding-left: .5ex}\n",
              "</style><dl class=dl-inline><dt>track_name</dt><dd>0</dd><dt>artist.s._name</dt><dd>0</dd><dt>artist_count</dt><dd>0</dd><dt>released_year</dt><dd>0</dd><dt>released_month</dt><dd>0</dd><dt>released_day</dt><dd>0</dd><dt>in_spotify_playlists</dt><dd>0</dd><dt>in_spotify_charts</dt><dd>0</dd><dt>streams</dt><dd>0</dd><dt>in_apple_playlists</dt><dd>0</dd><dt>in_apple_charts</dt><dd>0</dd><dt>in_deezer_playlists</dt><dd>0</dd><dt>in_deezer_charts</dt><dd>0</dd><dt>in_shazam_charts</dt><dd>0</dd><dt>bpm</dt><dd>0</dd><dt>key</dt><dd>0</dd><dt>mode</dt><dd>0</dd><dt>danceability_.</dt><dd>0</dd><dt>valence_.</dt><dd>0</dd><dt>energy_.</dt><dd>0</dd><dt>acousticness_.</dt><dd>0</dd><dt>instrumentalness_.</dt><dd>0</dd><dt>liveness_.</dt><dd>0</dd><dt>speechiness_.</dt><dd>0</dd></dl>\n"
            ],
            "text/markdown": "track_name\n:   0artist.s._name\n:   0artist_count\n:   0released_year\n:   0released_month\n:   0released_day\n:   0in_spotify_playlists\n:   0in_spotify_charts\n:   0streams\n:   0in_apple_playlists\n:   0in_apple_charts\n:   0in_deezer_playlists\n:   0in_deezer_charts\n:   0in_shazam_charts\n:   0bpm\n:   0key\n:   0mode\n:   0danceability_.\n:   0valence_.\n:   0energy_.\n:   0acousticness_.\n:   0instrumentalness_.\n:   0liveness_.\n:   0speechiness_.\n:   0\n\n",
            "text/latex": "\\begin{description*}\n\\item[track\\textbackslash{}\\_name] 0\n\\item[artist.s.\\textbackslash{}\\_name] 0\n\\item[artist\\textbackslash{}\\_count] 0\n\\item[released\\textbackslash{}\\_year] 0\n\\item[released\\textbackslash{}\\_month] 0\n\\item[released\\textbackslash{}\\_day] 0\n\\item[in\\textbackslash{}\\_spotify\\textbackslash{}\\_playlists] 0\n\\item[in\\textbackslash{}\\_spotify\\textbackslash{}\\_charts] 0\n\\item[streams] 0\n\\item[in\\textbackslash{}\\_apple\\textbackslash{}\\_playlists] 0\n\\item[in\\textbackslash{}\\_apple\\textbackslash{}\\_charts] 0\n\\item[in\\textbackslash{}\\_deezer\\textbackslash{}\\_playlists] 0\n\\item[in\\textbackslash{}\\_deezer\\textbackslash{}\\_charts] 0\n\\item[in\\textbackslash{}\\_shazam\\textbackslash{}\\_charts] 0\n\\item[bpm] 0\n\\item[key] 0\n\\item[mode] 0\n\\item[danceability\\textbackslash{}\\_.] 0\n\\item[valence\\textbackslash{}\\_.] 0\n\\item[energy\\textbackslash{}\\_.] 0\n\\item[acousticness\\textbackslash{}\\_.] 0\n\\item[instrumentalness\\textbackslash{}\\_.] 0\n\\item[liveness\\textbackslash{}\\_.] 0\n\\item[speechiness\\textbackslash{}\\_.] 0\n\\end{description*}\n",
            "text/plain": [
              "          track_name       artist.s._name         artist_count \n",
              "                   0                    0                    0 \n",
              "       released_year       released_month         released_day \n",
              "                   0                    0                    0 \n",
              "in_spotify_playlists    in_spotify_charts              streams \n",
              "                   0                    0                    0 \n",
              "  in_apple_playlists      in_apple_charts  in_deezer_playlists \n",
              "                   0                    0                    0 \n",
              "    in_deezer_charts     in_shazam_charts                  bpm \n",
              "                   0                    0                    0 \n",
              "                 key                 mode       danceability_. \n",
              "                   0                    0                    0 \n",
              "           valence_.             energy_.       acousticness_. \n",
              "                   0                    0                    0 \n",
              "  instrumentalness_.           liveness_.        speechiness_. \n",
              "                   0                    0                    0 "
            ]
          },
          "metadata": {}
        }
      ]
    },
    {
      "cell_type": "markdown",
      "id": "c96eab80-ca48-40c3-b9de-fe48e7edcee0",
      "metadata": {
        "id": "c96eab80-ca48-40c3-b9de-fe48e7edcee0"
      },
      "source": [
        "> **💡Interpretation💡-**\n",
        ">\n",
        ">No there are no NAs in the data set"
      ]
    },
    {
      "cell_type": "markdown",
      "id": "03e21a26-6ada-478b-b706-35a508b9bb53",
      "metadata": {
        "id": "03e21a26-6ada-478b-b706-35a508b9bb53"
      },
      "source": [
        "#### Solution - 5"
      ]
    },
    {
      "cell_type": "code",
      "source": [
        "head(spotify_2023)"
      ],
      "metadata": {
        "colab": {
          "base_uri": "https://localhost:8080/",
          "height": 410
        },
        "id": "KXovg6VxNr4F",
        "outputId": "a293873f-14ef-44c7-9f91-67b3ce9ab915"
      },
      "id": "KXovg6VxNr4F",
      "execution_count": 54,
      "outputs": [
        {
          "output_type": "display_data",
          "data": {
            "text/html": [
              "<table class=\"dataframe\">\n",
              "<caption>A data.frame: 6 × 24</caption>\n",
              "<thead>\n",
              "\t<tr><th></th><th scope=col>track_name</th><th scope=col>artist.s._name</th><th scope=col>artist_count</th><th scope=col>released_year</th><th scope=col>released_month</th><th scope=col>released_day</th><th scope=col>in_spotify_playlists</th><th scope=col>in_spotify_charts</th><th scope=col>streams</th><th scope=col>in_apple_playlists</th><th scope=col>⋯</th><th scope=col>bpm</th><th scope=col>key</th><th scope=col>mode</th><th scope=col>danceability_.</th><th scope=col>valence_.</th><th scope=col>energy_.</th><th scope=col>acousticness_.</th><th scope=col>instrumentalness_.</th><th scope=col>liveness_.</th><th scope=col>speechiness_.</th></tr>\n",
              "\t<tr><th></th><th scope=col>&lt;chr&gt;</th><th scope=col>&lt;chr&gt;</th><th scope=col>&lt;int&gt;</th><th scope=col>&lt;int&gt;</th><th scope=col>&lt;int&gt;</th><th scope=col>&lt;int&gt;</th><th scope=col>&lt;int&gt;</th><th scope=col>&lt;int&gt;</th><th scope=col>&lt;chr&gt;</th><th scope=col>&lt;int&gt;</th><th scope=col>⋯</th><th scope=col>&lt;int&gt;</th><th scope=col>&lt;chr&gt;</th><th scope=col>&lt;chr&gt;</th><th scope=col>&lt;int&gt;</th><th scope=col>&lt;int&gt;</th><th scope=col>&lt;int&gt;</th><th scope=col>&lt;int&gt;</th><th scope=col>&lt;int&gt;</th><th scope=col>&lt;int&gt;</th><th scope=col>&lt;int&gt;</th></tr>\n",
              "</thead>\n",
              "<tbody>\n",
              "\t<tr><th scope=row>1</th><td>Seven (feat. Latto) (Explicit Ver.)</td><td>Latto, Jung Kook </td><td>2</td><td>2023</td><td>7</td><td>14</td><td> 553</td><td>147</td><td>141381703</td><td> 43</td><td>⋯</td><td>125</td><td>B </td><td>Major</td><td>80</td><td>89</td><td>83</td><td>31</td><td> 0</td><td> 8</td><td> 4</td></tr>\n",
              "\t<tr><th scope=row>2</th><td>LALA                               </td><td>Myke Towers      </td><td>1</td><td>2023</td><td>3</td><td>23</td><td>1474</td><td> 48</td><td>133716286</td><td> 48</td><td>⋯</td><td> 92</td><td>C#</td><td>Major</td><td>71</td><td>61</td><td>74</td><td> 7</td><td> 0</td><td>10</td><td> 4</td></tr>\n",
              "\t<tr><th scope=row>3</th><td>vampire                            </td><td>Olivia Rodrigo   </td><td>1</td><td>2023</td><td>6</td><td>30</td><td>1397</td><td>113</td><td>140003974</td><td> 94</td><td>⋯</td><td>138</td><td>F </td><td>Major</td><td>51</td><td>32</td><td>53</td><td>17</td><td> 0</td><td>31</td><td> 6</td></tr>\n",
              "\t<tr><th scope=row>4</th><td>Cruel Summer                       </td><td>Taylor Swift     </td><td>1</td><td>2019</td><td>8</td><td>23</td><td>7858</td><td>100</td><td>800840817</td><td>116</td><td>⋯</td><td>170</td><td>A </td><td>Major</td><td>55</td><td>58</td><td>72</td><td>11</td><td> 0</td><td>11</td><td>15</td></tr>\n",
              "\t<tr><th scope=row>5</th><td>WHERE SHE GOES                     </td><td>Bad Bunny        </td><td>1</td><td>2023</td><td>5</td><td>18</td><td>3133</td><td> 50</td><td>303236322</td><td> 84</td><td>⋯</td><td>144</td><td>A </td><td>Minor</td><td>65</td><td>23</td><td>80</td><td>14</td><td>63</td><td>11</td><td> 6</td></tr>\n",
              "\t<tr><th scope=row>6</th><td>Sprinter                           </td><td>Dave, Central Cee</td><td>2</td><td>2023</td><td>6</td><td> 1</td><td>2186</td><td> 91</td><td>183706234</td><td> 67</td><td>⋯</td><td>141</td><td>C#</td><td>Major</td><td>92</td><td>66</td><td>58</td><td>19</td><td> 0</td><td> 8</td><td>24</td></tr>\n",
              "</tbody>\n",
              "</table>\n"
            ],
            "text/markdown": "\nA data.frame: 6 × 24\n\n| <!--/--> | track_name &lt;chr&gt; | artist.s._name &lt;chr&gt; | artist_count &lt;int&gt; | released_year &lt;int&gt; | released_month &lt;int&gt; | released_day &lt;int&gt; | in_spotify_playlists &lt;int&gt; | in_spotify_charts &lt;int&gt; | streams &lt;chr&gt; | in_apple_playlists &lt;int&gt; | ⋯ ⋯ | bpm &lt;int&gt; | key &lt;chr&gt; | mode &lt;chr&gt; | danceability_. &lt;int&gt; | valence_. &lt;int&gt; | energy_. &lt;int&gt; | acousticness_. &lt;int&gt; | instrumentalness_. &lt;int&gt; | liveness_. &lt;int&gt; | speechiness_. &lt;int&gt; |\n|---|---|---|---|---|---|---|---|---|---|---|---|---|---|---|---|---|---|---|---|---|---|\n| 1 | Seven (feat. Latto) (Explicit Ver.) | Latto, Jung Kook  | 2 | 2023 | 7 | 14 |  553 | 147 | 141381703 |  43 | ⋯ | 125 | B  | Major | 80 | 89 | 83 | 31 |  0 |  8 |  4 |\n| 2 | LALA                                | Myke Towers       | 1 | 2023 | 3 | 23 | 1474 |  48 | 133716286 |  48 | ⋯ |  92 | C# | Major | 71 | 61 | 74 |  7 |  0 | 10 |  4 |\n| 3 | vampire                             | Olivia Rodrigo    | 1 | 2023 | 6 | 30 | 1397 | 113 | 140003974 |  94 | ⋯ | 138 | F  | Major | 51 | 32 | 53 | 17 |  0 | 31 |  6 |\n| 4 | Cruel Summer                        | Taylor Swift      | 1 | 2019 | 8 | 23 | 7858 | 100 | 800840817 | 116 | ⋯ | 170 | A  | Major | 55 | 58 | 72 | 11 |  0 | 11 | 15 |\n| 5 | WHERE SHE GOES                      | Bad Bunny         | 1 | 2023 | 5 | 18 | 3133 |  50 | 303236322 |  84 | ⋯ | 144 | A  | Minor | 65 | 23 | 80 | 14 | 63 | 11 |  6 |\n| 6 | Sprinter                            | Dave, Central Cee | 2 | 2023 | 6 |  1 | 2186 |  91 | 183706234 |  67 | ⋯ | 141 | C# | Major | 92 | 66 | 58 | 19 |  0 |  8 | 24 |\n\n",
            "text/latex": "A data.frame: 6 × 24\n\\begin{tabular}{r|lllllllllllllllllllll}\n  & track\\_name & artist.s.\\_name & artist\\_count & released\\_year & released\\_month & released\\_day & in\\_spotify\\_playlists & in\\_spotify\\_charts & streams & in\\_apple\\_playlists & ⋯ & bpm & key & mode & danceability\\_. & valence\\_. & energy\\_. & acousticness\\_. & instrumentalness\\_. & liveness\\_. & speechiness\\_.\\\\\n  & <chr> & <chr> & <int> & <int> & <int> & <int> & <int> & <int> & <chr> & <int> & ⋯ & <int> & <chr> & <chr> & <int> & <int> & <int> & <int> & <int> & <int> & <int>\\\\\n\\hline\n\t1 & Seven (feat. Latto) (Explicit Ver.) & Latto, Jung Kook  & 2 & 2023 & 7 & 14 &  553 & 147 & 141381703 &  43 & ⋯ & 125 & B  & Major & 80 & 89 & 83 & 31 &  0 &  8 &  4\\\\\n\t2 & LALA                                & Myke Towers       & 1 & 2023 & 3 & 23 & 1474 &  48 & 133716286 &  48 & ⋯ &  92 & C\\# & Major & 71 & 61 & 74 &  7 &  0 & 10 &  4\\\\\n\t3 & vampire                             & Olivia Rodrigo    & 1 & 2023 & 6 & 30 & 1397 & 113 & 140003974 &  94 & ⋯ & 138 & F  & Major & 51 & 32 & 53 & 17 &  0 & 31 &  6\\\\\n\t4 & Cruel Summer                        & Taylor Swift      & 1 & 2019 & 8 & 23 & 7858 & 100 & 800840817 & 116 & ⋯ & 170 & A  & Major & 55 & 58 & 72 & 11 &  0 & 11 & 15\\\\\n\t5 & WHERE SHE GOES                      & Bad Bunny         & 1 & 2023 & 5 & 18 & 3133 &  50 & 303236322 &  84 & ⋯ & 144 & A  & Minor & 65 & 23 & 80 & 14 & 63 & 11 &  6\\\\\n\t6 & Sprinter                            & Dave, Central Cee & 2 & 2023 & 6 &  1 & 2186 &  91 & 183706234 &  67 & ⋯ & 141 & C\\# & Major & 92 & 66 & 58 & 19 &  0 &  8 & 24\\\\\n\\end{tabular}\n",
            "text/plain": [
              "  track_name                          artist.s._name    artist_count\n",
              "1 Seven (feat. Latto) (Explicit Ver.) Latto, Jung Kook  2           \n",
              "2 LALA                                Myke Towers       1           \n",
              "3 vampire                             Olivia Rodrigo    1           \n",
              "4 Cruel Summer                        Taylor Swift      1           \n",
              "5 WHERE SHE GOES                      Bad Bunny         1           \n",
              "6 Sprinter                            Dave, Central Cee 2           \n",
              "  released_year released_month released_day in_spotify_playlists\n",
              "1 2023          7              14            553                \n",
              "2 2023          3              23           1474                \n",
              "3 2023          6              30           1397                \n",
              "4 2019          8              23           7858                \n",
              "5 2023          5              18           3133                \n",
              "6 2023          6               1           2186                \n",
              "  in_spotify_charts streams   in_apple_playlists ⋯ bpm key mode  danceability_.\n",
              "1 147               141381703  43                ⋯ 125 B   Major 80            \n",
              "2  48               133716286  48                ⋯  92 C#  Major 71            \n",
              "3 113               140003974  94                ⋯ 138 F   Major 51            \n",
              "4 100               800840817 116                ⋯ 170 A   Major 55            \n",
              "5  50               303236322  84                ⋯ 144 A   Minor 65            \n",
              "6  91               183706234  67                ⋯ 141 C#  Major 92            \n",
              "  valence_. energy_. acousticness_. instrumentalness_. liveness_. speechiness_.\n",
              "1 89        83       31              0                  8          4           \n",
              "2 61        74        7              0                 10          4           \n",
              "3 32        53       17              0                 31          6           \n",
              "4 58        72       11              0                 11         15           \n",
              "5 23        80       14             63                 11          6           \n",
              "6 66        58       19              0                  8         24           "
            ]
          },
          "metadata": {}
        }
      ]
    },
    {
      "cell_type": "code",
      "source": [
        "head(spotify)"
      ],
      "metadata": {
        "colab": {
          "base_uri": "https://localhost:8080/",
          "height": 375
        },
        "id": "1gRpOE8JODv1",
        "outputId": "057acb96-8260-40dc-e2d2-7ab5425970cd"
      },
      "id": "1gRpOE8JODv1",
      "execution_count": 55,
      "outputs": [
        {
          "output_type": "display_data",
          "data": {
            "text/html": [
              "<table class=\"dataframe\">\n",
              "<caption>A data.frame: 6 × 17</caption>\n",
              "<thead>\n",
              "\t<tr><th></th><th scope=col>X</th><th scope=col>acousticness</th><th scope=col>danceability</th><th scope=col>duration_ms</th><th scope=col>energy</th><th scope=col>instrumentalness</th><th scope=col>key</th><th scope=col>liveness</th><th scope=col>loudness</th><th scope=col>mode</th><th scope=col>speechiness</th><th scope=col>tempo</th><th scope=col>time_signature</th><th scope=col>valence</th><th scope=col>target</th><th scope=col>song_title</th><th scope=col>artist</th></tr>\n",
              "\t<tr><th></th><th scope=col>&lt;int&gt;</th><th scope=col>&lt;dbl&gt;</th><th scope=col>&lt;dbl&gt;</th><th scope=col>&lt;int&gt;</th><th scope=col>&lt;dbl&gt;</th><th scope=col>&lt;dbl&gt;</th><th scope=col>&lt;int&gt;</th><th scope=col>&lt;dbl&gt;</th><th scope=col>&lt;dbl&gt;</th><th scope=col>&lt;int&gt;</th><th scope=col>&lt;dbl&gt;</th><th scope=col>&lt;dbl&gt;</th><th scope=col>&lt;dbl&gt;</th><th scope=col>&lt;dbl&gt;</th><th scope=col>&lt;fct&gt;</th><th scope=col>&lt;chr&gt;</th><th scope=col>&lt;chr&gt;</th></tr>\n",
              "</thead>\n",
              "<tbody>\n",
              "\t<tr><th scope=row>1</th><td>0</td><td>0.01020</td><td>0.833</td><td>204600</td><td>0.434</td><td>0.021900</td><td>2</td><td>0.1650</td><td> -8.795</td><td>1</td><td>0.4310</td><td>150.062</td><td>4</td><td>0.286</td><td>1</td><td>Mask Off      </td><td>Future          </td></tr>\n",
              "\t<tr><th scope=row>2</th><td>1</td><td>0.19900</td><td>0.743</td><td>326933</td><td>0.359</td><td>0.006110</td><td>1</td><td>0.1370</td><td>-10.401</td><td>1</td><td>0.0794</td><td>160.083</td><td>4</td><td>0.588</td><td>1</td><td>Redbone       </td><td>Childish Gambino</td></tr>\n",
              "\t<tr><th scope=row>3</th><td>2</td><td>0.03440</td><td>0.838</td><td>185707</td><td>0.412</td><td>0.000234</td><td>2</td><td>0.1590</td><td> -7.148</td><td>1</td><td>0.2890</td><td> 75.044</td><td>4</td><td>0.173</td><td>1</td><td>Xanny Family  </td><td>Future          </td></tr>\n",
              "\t<tr><th scope=row>4</th><td>3</td><td>0.60400</td><td>0.494</td><td>199413</td><td>0.338</td><td>0.510000</td><td>5</td><td>0.0922</td><td>-15.236</td><td>1</td><td>0.0261</td><td> 86.468</td><td>4</td><td>0.230</td><td>1</td><td>Master Of None</td><td>Beach House     </td></tr>\n",
              "\t<tr><th scope=row>5</th><td>4</td><td>0.18000</td><td>0.678</td><td>392893</td><td>0.561</td><td>0.512000</td><td>5</td><td>0.4390</td><td>-11.648</td><td>0</td><td>0.0694</td><td>174.004</td><td>4</td><td>0.904</td><td>1</td><td>Parallel Lines</td><td>Junior Boys     </td></tr>\n",
              "\t<tr><th scope=row>6</th><td>5</td><td>0.00479</td><td>0.804</td><td>251333</td><td>0.560</td><td>0.000000</td><td>8</td><td>0.1640</td><td> -6.682</td><td>1</td><td>0.1850</td><td> 85.023</td><td>4</td><td>0.264</td><td>1</td><td>Sneakin’      </td><td>Drake           </td></tr>\n",
              "</tbody>\n",
              "</table>\n"
            ],
            "text/markdown": "\nA data.frame: 6 × 17\n\n| <!--/--> | X &lt;int&gt; | acousticness &lt;dbl&gt; | danceability &lt;dbl&gt; | duration_ms &lt;int&gt; | energy &lt;dbl&gt; | instrumentalness &lt;dbl&gt; | key &lt;int&gt; | liveness &lt;dbl&gt; | loudness &lt;dbl&gt; | mode &lt;int&gt; | speechiness &lt;dbl&gt; | tempo &lt;dbl&gt; | time_signature &lt;dbl&gt; | valence &lt;dbl&gt; | target &lt;fct&gt; | song_title &lt;chr&gt; | artist &lt;chr&gt; |\n|---|---|---|---|---|---|---|---|---|---|---|---|---|---|---|---|---|---|\n| 1 | 0 | 0.01020 | 0.833 | 204600 | 0.434 | 0.021900 | 2 | 0.1650 |  -8.795 | 1 | 0.4310 | 150.062 | 4 | 0.286 | 1 | Mask Off       | Future           |\n| 2 | 1 | 0.19900 | 0.743 | 326933 | 0.359 | 0.006110 | 1 | 0.1370 | -10.401 | 1 | 0.0794 | 160.083 | 4 | 0.588 | 1 | Redbone        | Childish Gambino |\n| 3 | 2 | 0.03440 | 0.838 | 185707 | 0.412 | 0.000234 | 2 | 0.1590 |  -7.148 | 1 | 0.2890 |  75.044 | 4 | 0.173 | 1 | Xanny Family   | Future           |\n| 4 | 3 | 0.60400 | 0.494 | 199413 | 0.338 | 0.510000 | 5 | 0.0922 | -15.236 | 1 | 0.0261 |  86.468 | 4 | 0.230 | 1 | Master Of None | Beach House      |\n| 5 | 4 | 0.18000 | 0.678 | 392893 | 0.561 | 0.512000 | 5 | 0.4390 | -11.648 | 0 | 0.0694 | 174.004 | 4 | 0.904 | 1 | Parallel Lines | Junior Boys      |\n| 6 | 5 | 0.00479 | 0.804 | 251333 | 0.560 | 0.000000 | 8 | 0.1640 |  -6.682 | 1 | 0.1850 |  85.023 | 4 | 0.264 | 1 | Sneakin’       | Drake            |\n\n",
            "text/latex": "A data.frame: 6 × 17\n\\begin{tabular}{r|lllllllllllllllll}\n  & X & acousticness & danceability & duration\\_ms & energy & instrumentalness & key & liveness & loudness & mode & speechiness & tempo & time\\_signature & valence & target & song\\_title & artist\\\\\n  & <int> & <dbl> & <dbl> & <int> & <dbl> & <dbl> & <int> & <dbl> & <dbl> & <int> & <dbl> & <dbl> & <dbl> & <dbl> & <fct> & <chr> & <chr>\\\\\n\\hline\n\t1 & 0 & 0.01020 & 0.833 & 204600 & 0.434 & 0.021900 & 2 & 0.1650 &  -8.795 & 1 & 0.4310 & 150.062 & 4 & 0.286 & 1 & Mask Off       & Future          \\\\\n\t2 & 1 & 0.19900 & 0.743 & 326933 & 0.359 & 0.006110 & 1 & 0.1370 & -10.401 & 1 & 0.0794 & 160.083 & 4 & 0.588 & 1 & Redbone        & Childish Gambino\\\\\n\t3 & 2 & 0.03440 & 0.838 & 185707 & 0.412 & 0.000234 & 2 & 0.1590 &  -7.148 & 1 & 0.2890 &  75.044 & 4 & 0.173 & 1 & Xanny Family   & Future          \\\\\n\t4 & 3 & 0.60400 & 0.494 & 199413 & 0.338 & 0.510000 & 5 & 0.0922 & -15.236 & 1 & 0.0261 &  86.468 & 4 & 0.230 & 1 & Master Of None & Beach House     \\\\\n\t5 & 4 & 0.18000 & 0.678 & 392893 & 0.561 & 0.512000 & 5 & 0.4390 & -11.648 & 0 & 0.0694 & 174.004 & 4 & 0.904 & 1 & Parallel Lines & Junior Boys     \\\\\n\t6 & 5 & 0.00479 & 0.804 & 251333 & 0.560 & 0.000000 & 8 & 0.1640 &  -6.682 & 1 & 0.1850 &  85.023 & 4 & 0.264 & 1 & Sneakin’       & Drake           \\\\\n\\end{tabular}\n",
            "text/plain": [
              "  X acousticness danceability duration_ms energy instrumentalness key liveness\n",
              "1 0 0.01020      0.833        204600      0.434  0.021900         2   0.1650  \n",
              "2 1 0.19900      0.743        326933      0.359  0.006110         1   0.1370  \n",
              "3 2 0.03440      0.838        185707      0.412  0.000234         2   0.1590  \n",
              "4 3 0.60400      0.494        199413      0.338  0.510000         5   0.0922  \n",
              "5 4 0.18000      0.678        392893      0.561  0.512000         5   0.4390  \n",
              "6 5 0.00479      0.804        251333      0.560  0.000000         8   0.1640  \n",
              "  loudness mode speechiness tempo   time_signature valence target\n",
              "1  -8.795  1    0.4310      150.062 4              0.286   1     \n",
              "2 -10.401  1    0.0794      160.083 4              0.588   1     \n",
              "3  -7.148  1    0.2890       75.044 4              0.173   1     \n",
              "4 -15.236  1    0.0261       86.468 4              0.230   1     \n",
              "5 -11.648  0    0.0694      174.004 4              0.904   1     \n",
              "6  -6.682  1    0.1850       85.023 4              0.264   1     \n",
              "  song_title     artist          \n",
              "1 Mask Off       Future          \n",
              "2 Redbone        Childish Gambino\n",
              "3 Xanny Family   Future          \n",
              "4 Master Of None Beach House     \n",
              "5 Parallel Lines Junior Boys     \n",
              "6 Sneakin’       Drake           "
            ]
          },
          "metadata": {}
        }
      ]
    },
    {
      "cell_type": "code",
      "source": [
        "enemy$danceability <- enemy$danceability/100\n",
        "enemy$energy <- enemy$energy/100\n",
        "enemy$speechiness <- enemy$speechiness/100\n",
        "enemy$valence <- enemy$valence/100\n",
        "enemy$acousticness <- enemy$acousticness/100\n",
        "enemy$liveness <- enemy$liveness/100"
      ],
      "metadata": {
        "id": "UYy-6FuPPQXY"
      },
      "id": "UYy-6FuPPQXY",
      "execution_count": 56,
      "outputs": []
    },
    {
      "cell_type": "code",
      "source": [
        "str(enemy)"
      ],
      "metadata": {
        "id": "X8nYOg5Bj5sy",
        "colab": {
          "base_uri": "https://localhost:8080/"
        },
        "outputId": "3b17a745-8ce4-4f00-a1fe-995eb8f07b0d"
      },
      "id": "X8nYOg5Bj5sy",
      "execution_count": 57,
      "outputs": [
        {
          "output_type": "stream",
          "name": "stdout",
          "text": [
            "'data.frame':\t1 obs. of  30 variables:\n",
            " $ track_name          : chr \"Enemy - from the series Arcane League of Legends\"\n",
            " $ artist.s._name      : chr \"Imagine Dragons, League of Legends, Arcane\"\n",
            " $ artist_count        : int 3\n",
            " $ released_year       : int 2021\n",
            " $ released_month      : int 10\n",
            " $ released_day        : int 27\n",
            " $ in_spotify_playlists: int 824\n",
            " $ in_spotify_charts   : int 0\n",
            " $ streams             : chr \"1223481149\"\n",
            " $ in_apple_playlists  : int 8\n",
            " $ in_apple_charts     : int 8\n",
            " $ in_deezer_playlists : chr \"8\"\n",
            " $ in_deezer_charts    : int 2\n",
            " $ in_shazam_charts    : chr \"0\"\n",
            " $ bpm                 : int 77\n",
            " $ key                 : chr \"G\"\n",
            " $ mode                : chr \"Major\"\n",
            " $ danceability_.      : int 73\n",
            " $ valence_.           : int 54\n",
            " $ energy_.            : int 74\n",
            " $ acousticness_.      : int 23\n",
            " $ instrumentalness_.  : int 0\n",
            " $ liveness_.          : int 41\n",
            " $ speechiness_.       : int 23\n",
            " $ danceability        : num 0.73\n",
            " $ energy              : num 0.74\n",
            " $ speechiness         : num 0.23\n",
            " $ valence             : num 0.54\n",
            " $ acousticness        : num 0.23\n",
            " $ liveness            : num 0.41\n"
          ]
        }
      ]
    },
    {
      "cell_type": "code",
      "source": [
        "# Rename columns in spotify_2023 dataframe to match spotify dataframe\n",
        "colnames(spotify_2023)[which(colnames(spotify_2023) == \"danceability_.\")] <- \"danceability\"\n",
        "colnames(spotify_2023)[which(colnames(spotify_2023) == \"energy_.\")] <- \"energy\"\n",
        "colnames(spotify_2023)[which(colnames(spotify_2023) == \"speechiness_.\")] <- \"speechiness\"\n",
        "colnames(spotify_2023)[which(colnames(spotify_2023) == \"valence_.\")] <- \"valence\"\n",
        "colnames(spotify_2023)[which(colnames(spotify_2023) == \"acousticness_.\")] <- \"acousticness\"\n",
        "colnames(spotify_2023)[which(colnames(spotify_2023) == \"liveness_.\")] <- \"liveness\"\n",
        "colnames(spotify_2023)[which(colnames(spotify_2023) == \"bpm\")] <- \"tempo\"\n",
        "\n",
        "# Confirm the updated column names\n",
        "colnames(spotify_2023)\n"
      ],
      "metadata": {
        "colab": {
          "base_uri": "https://localhost:8080/",
          "height": 52
        },
        "id": "3CKe1U_oOucv",
        "outputId": "0fc8a664-f094-4ed3-9704-f5a1a3c370ea"
      },
      "id": "3CKe1U_oOucv",
      "execution_count": 58,
      "outputs": [
        {
          "output_type": "display_data",
          "data": {
            "text/html": [
              "<style>\n",
              ".list-inline {list-style: none; margin:0; padding: 0}\n",
              ".list-inline>li {display: inline-block}\n",
              ".list-inline>li:not(:last-child)::after {content: \"\\00b7\"; padding: 0 .5ex}\n",
              "</style>\n",
              "<ol class=list-inline><li>'track_name'</li><li>'artist.s._name'</li><li>'artist_count'</li><li>'released_year'</li><li>'released_month'</li><li>'released_day'</li><li>'in_spotify_playlists'</li><li>'in_spotify_charts'</li><li>'streams'</li><li>'in_apple_playlists'</li><li>'in_apple_charts'</li><li>'in_deezer_playlists'</li><li>'in_deezer_charts'</li><li>'in_shazam_charts'</li><li>'tempo'</li><li>'key'</li><li>'mode'</li><li>'danceability'</li><li>'valence'</li><li>'energy'</li><li>'acousticness'</li><li>'instrumentalness_.'</li><li>'liveness'</li><li>'speechiness'</li></ol>\n"
            ],
            "text/markdown": "1. 'track_name'\n2. 'artist.s._name'\n3. 'artist_count'\n4. 'released_year'\n5. 'released_month'\n6. 'released_day'\n7. 'in_spotify_playlists'\n8. 'in_spotify_charts'\n9. 'streams'\n10. 'in_apple_playlists'\n11. 'in_apple_charts'\n12. 'in_deezer_playlists'\n13. 'in_deezer_charts'\n14. 'in_shazam_charts'\n15. 'tempo'\n16. 'key'\n17. 'mode'\n18. 'danceability'\n19. 'valence'\n20. 'energy'\n21. 'acousticness'\n22. 'instrumentalness_.'\n23. 'liveness'\n24. 'speechiness'\n\n\n",
            "text/latex": "\\begin{enumerate*}\n\\item 'track\\_name'\n\\item 'artist.s.\\_name'\n\\item 'artist\\_count'\n\\item 'released\\_year'\n\\item 'released\\_month'\n\\item 'released\\_day'\n\\item 'in\\_spotify\\_playlists'\n\\item 'in\\_spotify\\_charts'\n\\item 'streams'\n\\item 'in\\_apple\\_playlists'\n\\item 'in\\_apple\\_charts'\n\\item 'in\\_deezer\\_playlists'\n\\item 'in\\_deezer\\_charts'\n\\item 'in\\_shazam\\_charts'\n\\item 'tempo'\n\\item 'key'\n\\item 'mode'\n\\item 'danceability'\n\\item 'valence'\n\\item 'energy'\n\\item 'acousticness'\n\\item 'instrumentalness\\_.'\n\\item 'liveness'\n\\item 'speechiness'\n\\end{enumerate*}\n",
            "text/plain": [
              " [1] \"track_name\"           \"artist.s._name\"       \"artist_count\"        \n",
              " [4] \"released_year\"        \"released_month\"       \"released_day\"        \n",
              " [7] \"in_spotify_playlists\" \"in_spotify_charts\"    \"streams\"             \n",
              "[10] \"in_apple_playlists\"   \"in_apple_charts\"      \"in_deezer_playlists\" \n",
              "[13] \"in_deezer_charts\"     \"in_shazam_charts\"     \"tempo\"               \n",
              "[16] \"key\"                  \"mode\"                 \"danceability\"        \n",
              "[19] \"valence\"              \"energy\"               \"acousticness\"        \n",
              "[22] \"instrumentalness_.\"   \"liveness\"             \"speechiness\"         "
            ]
          },
          "metadata": {}
        }
      ]
    },
    {
      "cell_type": "markdown",
      "id": "d349362c-dcd7-45b5-921f-c4389485669b",
      "metadata": {
        "id": "d349362c-dcd7-45b5-921f-c4389485669b"
      },
      "source": [
        "#### Solution - 6"
      ]
    },
    {
      "cell_type": "code",
      "source": [
        "install.packages(\"caret\")\n",
        "library(caret)"
      ],
      "metadata": {
        "id": "qlr6iX6avfTq",
        "colab": {
          "base_uri": "https://localhost:8080/"
        },
        "outputId": "4f468041-003a-4db7-dfc6-14c719c32af0"
      },
      "id": "qlr6iX6avfTq",
      "execution_count": 59,
      "outputs": [
        {
          "output_type": "stream",
          "name": "stderr",
          "text": [
            "Installing package into ‘/usr/local/lib/R/site-library’\n",
            "(as ‘lib’ is unspecified)\n",
            "\n"
          ]
        }
      ]
    },
    {
      "cell_type": "code",
      "source": [
        "# Set the seed for reproducibility\n",
        "set.seed(1131)"
      ],
      "metadata": {
        "id": "Noh0pZDESIc9"
      },
      "id": "Noh0pZDESIc9",
      "execution_count": 24,
      "outputs": []
    },
    {
      "cell_type": "code",
      "source": [
        "# Create an index for partitioning the data\n",
        "index <- createDataPartition(spotify$target, p = 0.6, list = FALSE)\n",
        "\n",
        "# Partition the data into training and validation sets\n",
        "spotify_train <- spotify[index, ]\n",
        "spotify_valid <- spotify[-index, ]\n",
        "\n",
        "# Check the dimensions of the training and validation sets\n",
        "dim(spotify_train)\n",
        "dim(spotify_valid)\n"
      ],
      "metadata": {
        "colab": {
          "base_uri": "https://localhost:8080/",
          "height": 52
        },
        "id": "Ym_P1eR5SAq1",
        "outputId": "20c72ff5-d490-410b-bf84-0ba2a01ee28e"
      },
      "id": "Ym_P1eR5SAq1",
      "execution_count": 60,
      "outputs": [
        {
          "output_type": "display_data",
          "data": {
            "text/html": [
              "<style>\n",
              ".list-inline {list-style: none; margin:0; padding: 0}\n",
              ".list-inline>li {display: inline-block}\n",
              ".list-inline>li:not(:last-child)::after {content: \"\\00b7\"; padding: 0 .5ex}\n",
              "</style>\n",
              "<ol class=list-inline><li>1211</li><li>17</li></ol>\n"
            ],
            "text/markdown": "1. 1211\n2. 17\n\n\n",
            "text/latex": "\\begin{enumerate*}\n\\item 1211\n\\item 17\n\\end{enumerate*}\n",
            "text/plain": [
              "[1] 1211   17"
            ]
          },
          "metadata": {}
        },
        {
          "output_type": "display_data",
          "data": {
            "text/html": [
              "<style>\n",
              ".list-inline {list-style: none; margin:0; padding: 0}\n",
              ".list-inline>li {display: inline-block}\n",
              ".list-inline>li:not(:last-child)::after {content: \"\\00b7\"; padding: 0 .5ex}\n",
              "</style>\n",
              "<ol class=list-inline><li>806</li><li>17</li></ol>\n"
            ],
            "text/markdown": "1. 806\n2. 17\n\n\n",
            "text/latex": "\\begin{enumerate*}\n\\item 806\n\\item 17\n\\end{enumerate*}\n",
            "text/plain": [
              "[1] 806  17"
            ]
          },
          "metadata": {}
        }
      ]
    },
    {
      "cell_type": "markdown",
      "id": "fb384be0-8fbd-4bf2-bd17-ccec41f86aaa",
      "metadata": {
        "id": "fb384be0-8fbd-4bf2-bd17-ccec41f86aaa"
      },
      "source": [
        "#### Solution - 7"
      ]
    },
    {
      "cell_type": "code",
      "source": [
        "# Subset the training set into songs George liked and did not like\n",
        "liked <- spotify_train[spotify_train$target == 1, c(\"danceability\", \"tempo\", \"energy\", \"speechiness\",\n",
        "                                                    \"valence\", \"acousticness\", \"liveness\")]\n",
        "disliked <- spotify_train[spotify_train$target == 0, c(\"danceability\", \"tempo\", \"energy\", \"speechiness\",\n",
        "                                                       \"valence\", \"acousticness\", \"liveness\")]\n"
      ],
      "metadata": {
        "id": "ySQCEmk1YfeE"
      },
      "id": "ySQCEmk1YfeE",
      "execution_count": 61,
      "outputs": []
    },
    {
      "cell_type": "code",
      "source": [
        "# Perform t-tests for each variable\n",
        "t_tests_results <- lapply(names(liked), function(var) {\n",
        "  t_test_result <- t.test(liked[[var]], disliked[[var]])\n",
        "  return(t_test_result)\n",
        "})"
      ],
      "metadata": {
        "id": "xKB934Q5mHt8"
      },
      "id": "xKB934Q5mHt8",
      "execution_count": 62,
      "outputs": []
    },
    {
      "cell_type": "code",
      "source": [
        "# Print the results\n",
        "for (i in seq_along(t_tests_results)) {\n",
        "  cat(\"Variable:\", names(liked)[i], \"\\n\")\n",
        "  print(t_tests_results[[i]])\n",
        "  cat(\"\\n\")\n",
        "}"
      ],
      "metadata": {
        "colab": {
          "base_uri": "https://localhost:8080/"
        },
        "id": "vbl1cKxdpj9i",
        "outputId": "655496d9-7f0b-4a64-ca30-a21b62e3da45"
      },
      "id": "vbl1cKxdpj9i",
      "execution_count": 63,
      "outputs": [
        {
          "output_type": "stream",
          "name": "stdout",
          "text": [
            "Variable: danceability \n",
            "\n",
            "\tWelch Two Sample t-test\n",
            "\n",
            "data:  liked[[var]] and disliked[[var]]\n",
            "t = 6.3938, df = 1207.7, p-value = 2.308e-10\n",
            "alternative hypothesis: true difference in means is not equal to 0\n",
            "95 percent confidence interval:\n",
            " 0.04005654 0.07552172\n",
            "sample estimates:\n",
            "mean of x mean of y \n",
            "0.6434853 0.5856962 \n",
            "\n",
            "\n",
            "Variable: tempo \n",
            "\n",
            "\tWelch Two Sample t-test\n",
            "\n",
            "data:  liked[[var]] and disliked[[var]]\n",
            "t = 0.8782, df = 1190.5, p-value = 0.38\n",
            "alternative hypothesis: true difference in means is not equal to 0\n",
            "95 percent confidence interval:\n",
            " -1.655917  4.339609\n",
            "sample estimates:\n",
            "mean of x mean of y \n",
            " 121.3618  120.0199 \n",
            "\n",
            "\n",
            "Variable: energy \n",
            "\n",
            "\tWelch Two Sample t-test\n",
            "\n",
            "data:  liked[[var]] and disliked[[var]]\n",
            "t = 1.5206, df = 1075.2, p-value = 0.1287\n",
            "alternative hypothesis: true difference in means is not equal to 0\n",
            "95 percent confidence interval:\n",
            " -0.005347589  0.042172693\n",
            "sample estimates:\n",
            "mean of x mean of y \n",
            "0.6929755 0.6745629 \n",
            "\n",
            "\n",
            "Variable: speechiness \n",
            "\n",
            "\tWelch Two Sample t-test\n",
            "\n",
            "data:  liked[[var]] and disliked[[var]]\n",
            "t = 5.4119, df = 1080.8, p-value = 7.677e-08\n",
            "alternative hypothesis: true difference in means is not equal to 0\n",
            "95 percent confidence interval:\n",
            " 0.01726420 0.03690323\n",
            "sample estimates:\n",
            " mean of x  mean of y \n",
            "0.10428105 0.07719733 \n",
            "\n",
            "\n",
            "Variable: valence \n",
            "\n",
            "\tWelch Two Sample t-test\n",
            "\n",
            "data:  liked[[var]] and disliked[[var]]\n",
            "t = 3.987, df = 1209, p-value = 7.092e-05\n",
            "alternative hypothesis: true difference in means is not equal to 0\n",
            "95 percent confidence interval:\n",
            " 0.02841892 0.08348371\n",
            "sample estimates:\n",
            "mean of x mean of y \n",
            "0.5268124 0.4708611 \n",
            "\n",
            "\n",
            "Variable: acousticness \n",
            "\n",
            "\tWelch Two Sample t-test\n",
            "\n",
            "data:  liked[[var]] and disliked[[var]]\n",
            "t = -5.1143, df = 1081.4, p-value = 3.723e-07\n",
            "alternative hypothesis: true difference in means is not equal to 0\n",
            "95 percent confidence interval:\n",
            " -0.10417999 -0.04640584\n",
            "sample estimates:\n",
            "mean of x mean of y \n",
            "0.1456630 0.2209559 \n",
            "\n",
            "\n",
            "Variable: liveness \n",
            "\n",
            "\tWelch Two Sample t-test\n",
            "\n",
            "data:  liked[[var]] and disliked[[var]]\n",
            "t = 0.8249, df = 1204.3, p-value = 0.4096\n",
            "alternative hypothesis: true difference in means is not equal to 0\n",
            "95 percent confidence interval:\n",
            " -0.01055852  0.02587842\n",
            "sample estimates:\n",
            "mean of x mean of y \n",
            "0.1997685 0.1921085 \n",
            "\n",
            "\n"
          ]
        }
      ]
    },
    {
      "cell_type": "markdown",
      "source": [
        "#### Solution -7 b]"
      ],
      "metadata": {
        "id": "DoVDDRdswh05"
      },
      "id": "DoVDDRdswh05"
    },
    {
      "cell_type": "markdown",
      "source": [
        " > **💡Variables that show a significant difference💡-**\n",
        ">\n",
        ">Variables that show a significant difference between songs that George liked and disliked (p-value < 0.05):\n",
        ">\n",
        ">*   Danceability\n",
        "*   Speechiness\n",
        "*   Valence\n",
        "*   Acousticness\n",
        "\n",
        "> **💡Variables that do not show a significant difference💡-**\n",
        ">\n",
        "> Variables that do not show a significant difference between songs that George liked and disliked (p-value > 0.05):\n",
        ">\n",
        ">*   Tempo\n",
        "*   Energy\n",
        "*   Liveness\n",
        ">\n",
        ">Since there is not a significant difference in tempo, energy, and liveness between songs that George liked and disliked, we can remove these variables entirely from the data.\n"
      ],
      "metadata": {
        "id": "mOSovm6LwGbg"
      },
      "id": "mOSovm6LwGbg"
    },
    {
      "cell_type": "code",
      "execution_count": 64,
      "id": "bc0fb883-0318-4073-97d3-71c625d27b03",
      "metadata": {
        "id": "bc0fb883-0318-4073-97d3-71c625d27b03",
        "colab": {
          "base_uri": "https://localhost:8080/"
        },
        "outputId": "d75fafac-4b2f-4488-9526-aea0024a1044"
      },
      "outputs": [
        {
          "output_type": "stream",
          "name": "stdout",
          "text": [
            "'data.frame':\t1211 obs. of  14 variables:\n",
            " $ X               : int  1 3 5 7 9 10 11 13 17 18 ...\n",
            " $ acousticness    : num  0.199 0.604 0.00479 0.0202 0.00208 0.0572 0.0915 0.366 0.233 0.314 ...\n",
            " $ danceability    : num  0.743 0.494 0.804 0.266 0.836 0.525 0.753 0.762 0.789 0.713 ...\n",
            " $ duration_ms     : int  326933 199413 251333 349667 226840 358187 324880 243270 447907 195429 ...\n",
            " $ instrumentalness: num  0.00611 0.51 0 0.664 0 0.0143 0.00348 0 0.00049 0 ...\n",
            " $ key             : int  1 5 8 10 7 5 10 0 4 1 ...\n",
            " $ loudness        : num  -10.4 -15.24 -6.68 -11.61 -7.79 ...\n",
            " $ mode            : int  1 1 1 0 1 0 1 1 0 0 ...\n",
            " $ speechiness     : num  0.0794 0.0261 0.185 0.0371 0.237 0.0548 0.0494 0.114 0.0429 0.241 ...\n",
            " $ time_signature  : num  4 4 4 4 4 3 4 4 4 4 ...\n",
            " $ valence         : num  0.588 0.23 0.264 0.393 0.386 0.524 0.642 0.367 0.842 0.783 ...\n",
            " $ target          : Factor w/ 2 levels \"0\",\"1\": 2 2 2 2 2 2 2 2 2 2 ...\n",
            " $ song_title      : chr  \"Redbone\" \"Master Of None\" \"Sneakin’\" \"Gyöngyhajú lány\" ...\n",
            " $ artist          : chr  \"Childish Gambino\" \"Beach House\" \"Drake\" \"Omega\" ...\n"
          ]
        }
      ],
      "source": [
        "# Remove variables with no significant difference\n",
        "spotify_train_filtered <- spotify_train[, !(names(spotify_train) %in% c(\"tempo\", \"energy\", \"liveness\"))]\n",
        "spotify_valid_filtered <- spotify_valid[, !(names(spotify_valid) %in% c(\"tempo\", \"energy\", \"liveness\"))]\n",
        "# Check the structure of the filtered dataset\n",
        "str(spotify_train_filtered)\n"
      ]
    },
    {
      "cell_type": "markdown",
      "source": [
        "#### Solution - 7 c]"
      ],
      "metadata": {
        "id": "QaT2XSVawpEf"
      },
      "id": "QaT2XSVawpEf"
    },
    {
      "cell_type": "markdown",
      "id": "f7be62a3-f7f7-48d2-a134-52fece982e18",
      "metadata": {
        "id": "f7be62a3-f7f7-48d2-a134-52fece982e18"
      },
      "source": [
        "> **💡Removing Variables💡-**\n",
        ">\n",
        "> It makes sense to remove variables from a k-nn model when their values are very similar for both outcome classes because these variables are not contributing significantly to the classification process, and including them may introduce noise or unnecessary complexity to the model without providing meaningful discrimination between the classes. This can help improve the model's performance by focusing on the most informative features for classification."
      ]
    },
    {
      "cell_type": "markdown",
      "id": "74a2abf5-27f7-4284-a67e-c6b24cb794d9",
      "metadata": {
        "id": "74a2abf5-27f7-4284-a67e-c6b24cb794d9"
      },
      "source": [
        "#### Solution - 8"
      ]
    },
    {
      "cell_type": "code",
      "source": [
        "library(caret)"
      ],
      "metadata": {
        "id": "GRk5Vjc_u28t"
      },
      "id": "GRk5Vjc_u28t",
      "execution_count": 66,
      "outputs": []
    },
    {
      "cell_type": "code",
      "source": [
        "# Initialize normalized training dataframe to original\n",
        "spotify_train_norm <- spotify_train_filtered\n",
        "spotify_valid_norm <- spotify_valid_filtered"
      ],
      "metadata": {
        "id": "Q59kGjKQu5kC"
      },
      "id": "Q59kGjKQu5kC",
      "execution_count": 67,
      "outputs": []
    },
    {
      "cell_type": "code",
      "source": [
        "head(enemy)\n",
        "head(spotify_train_filtered)\n",
        "View(enemy)"
      ],
      "metadata": {
        "colab": {
          "base_uri": "https://localhost:8080/",
          "height": 739
        },
        "id": "s2ZbygzMRh6E",
        "outputId": "8256b93c-694a-41ea-c311-88a7ab081b54"
      },
      "id": "s2ZbygzMRh6E",
      "execution_count": 68,
      "outputs": [
        {
          "output_type": "display_data",
          "data": {
            "text/html": [
              "<table class=\"dataframe\">\n",
              "<caption>A data.frame: 1 × 30</caption>\n",
              "<thead>\n",
              "\t<tr><th></th><th scope=col>track_name</th><th scope=col>artist.s._name</th><th scope=col>artist_count</th><th scope=col>released_year</th><th scope=col>released_month</th><th scope=col>released_day</th><th scope=col>in_spotify_playlists</th><th scope=col>in_spotify_charts</th><th scope=col>streams</th><th scope=col>in_apple_playlists</th><th scope=col>⋯</th><th scope=col>acousticness_.</th><th scope=col>instrumentalness_.</th><th scope=col>liveness_.</th><th scope=col>speechiness_.</th><th scope=col>danceability</th><th scope=col>energy</th><th scope=col>speechiness</th><th scope=col>valence</th><th scope=col>acousticness</th><th scope=col>liveness</th></tr>\n",
              "\t<tr><th></th><th scope=col>&lt;chr&gt;</th><th scope=col>&lt;chr&gt;</th><th scope=col>&lt;int&gt;</th><th scope=col>&lt;int&gt;</th><th scope=col>&lt;int&gt;</th><th scope=col>&lt;int&gt;</th><th scope=col>&lt;int&gt;</th><th scope=col>&lt;int&gt;</th><th scope=col>&lt;chr&gt;</th><th scope=col>&lt;int&gt;</th><th scope=col>⋯</th><th scope=col>&lt;int&gt;</th><th scope=col>&lt;int&gt;</th><th scope=col>&lt;int&gt;</th><th scope=col>&lt;int&gt;</th><th scope=col>&lt;dbl&gt;</th><th scope=col>&lt;dbl&gt;</th><th scope=col>&lt;dbl&gt;</th><th scope=col>&lt;dbl&gt;</th><th scope=col>&lt;dbl&gt;</th><th scope=col>&lt;dbl&gt;</th></tr>\n",
              "</thead>\n",
              "<tbody>\n",
              "\t<tr><th scope=row>620</th><td>Enemy - from the series Arcane League of Legends</td><td>Imagine Dragons, League of Legends, Arcane</td><td>3</td><td>2021</td><td>10</td><td>27</td><td>824</td><td>0</td><td>1223481149</td><td>8</td><td>⋯</td><td>23</td><td>0</td><td>41</td><td>23</td><td>0.73</td><td>0.74</td><td>0.23</td><td>0.54</td><td>0.23</td><td>0.41</td></tr>\n",
              "</tbody>\n",
              "</table>\n"
            ],
            "text/markdown": "\nA data.frame: 1 × 30\n\n| <!--/--> | track_name &lt;chr&gt; | artist.s._name &lt;chr&gt; | artist_count &lt;int&gt; | released_year &lt;int&gt; | released_month &lt;int&gt; | released_day &lt;int&gt; | in_spotify_playlists &lt;int&gt; | in_spotify_charts &lt;int&gt; | streams &lt;chr&gt; | in_apple_playlists &lt;int&gt; | ⋯ ⋯ | acousticness_. &lt;int&gt; | instrumentalness_. &lt;int&gt; | liveness_. &lt;int&gt; | speechiness_. &lt;int&gt; | danceability &lt;dbl&gt; | energy &lt;dbl&gt; | speechiness &lt;dbl&gt; | valence &lt;dbl&gt; | acousticness &lt;dbl&gt; | liveness &lt;dbl&gt; |\n|---|---|---|---|---|---|---|---|---|---|---|---|---|---|---|---|---|---|---|---|---|---|\n| 620 | Enemy - from the series Arcane League of Legends | Imagine Dragons, League of Legends, Arcane | 3 | 2021 | 10 | 27 | 824 | 0 | 1223481149 | 8 | ⋯ | 23 | 0 | 41 | 23 | 0.73 | 0.74 | 0.23 | 0.54 | 0.23 | 0.41 |\n\n",
            "text/latex": "A data.frame: 1 × 30\n\\begin{tabular}{r|lllllllllllllllllllll}\n  & track\\_name & artist.s.\\_name & artist\\_count & released\\_year & released\\_month & released\\_day & in\\_spotify\\_playlists & in\\_spotify\\_charts & streams & in\\_apple\\_playlists & ⋯ & acousticness\\_. & instrumentalness\\_. & liveness\\_. & speechiness\\_. & danceability & energy & speechiness & valence & acousticness & liveness\\\\\n  & <chr> & <chr> & <int> & <int> & <int> & <int> & <int> & <int> & <chr> & <int> & ⋯ & <int> & <int> & <int> & <int> & <dbl> & <dbl> & <dbl> & <dbl> & <dbl> & <dbl>\\\\\n\\hline\n\t620 & Enemy - from the series Arcane League of Legends & Imagine Dragons, League of Legends, Arcane & 3 & 2021 & 10 & 27 & 824 & 0 & 1223481149 & 8 & ⋯ & 23 & 0 & 41 & 23 & 0.73 & 0.74 & 0.23 & 0.54 & 0.23 & 0.41\\\\\n\\end{tabular}\n",
            "text/plain": [
              "    track_name                                      \n",
              "620 Enemy - from the series Arcane League of Legends\n",
              "    artist.s._name                             artist_count released_year\n",
              "620 Imagine Dragons, League of Legends, Arcane 3            2021         \n",
              "    released_month released_day in_spotify_playlists in_spotify_charts\n",
              "620 10             27           824                  0                \n",
              "    streams    in_apple_playlists ⋯ acousticness_. instrumentalness_.\n",
              "620 1223481149 8                  ⋯ 23             0                 \n",
              "    liveness_. speechiness_. danceability energy speechiness valence\n",
              "620 41         23            0.73         0.74   0.23        0.54   \n",
              "    acousticness liveness\n",
              "620 0.23         0.41    "
            ]
          },
          "metadata": {}
        },
        {
          "output_type": "display_data",
          "data": {
            "text/html": [
              "<table class=\"dataframe\">\n",
              "<caption>A data.frame: 6 × 14</caption>\n",
              "<thead>\n",
              "\t<tr><th></th><th scope=col>X</th><th scope=col>acousticness</th><th scope=col>danceability</th><th scope=col>duration_ms</th><th scope=col>instrumentalness</th><th scope=col>key</th><th scope=col>loudness</th><th scope=col>mode</th><th scope=col>speechiness</th><th scope=col>time_signature</th><th scope=col>valence</th><th scope=col>target</th><th scope=col>song_title</th><th scope=col>artist</th></tr>\n",
              "\t<tr><th></th><th scope=col>&lt;int&gt;</th><th scope=col>&lt;dbl&gt;</th><th scope=col>&lt;dbl&gt;</th><th scope=col>&lt;int&gt;</th><th scope=col>&lt;dbl&gt;</th><th scope=col>&lt;int&gt;</th><th scope=col>&lt;dbl&gt;</th><th scope=col>&lt;int&gt;</th><th scope=col>&lt;dbl&gt;</th><th scope=col>&lt;dbl&gt;</th><th scope=col>&lt;dbl&gt;</th><th scope=col>&lt;fct&gt;</th><th scope=col>&lt;chr&gt;</th><th scope=col>&lt;chr&gt;</th></tr>\n",
              "</thead>\n",
              "<tbody>\n",
              "\t<tr><th scope=row>2</th><td> 1</td><td>0.19900</td><td>0.743</td><td>326933</td><td>0.00611</td><td> 1</td><td>-10.401</td><td>1</td><td>0.0794</td><td>4</td><td>0.588</td><td>1</td><td>Redbone                             </td><td>Childish Gambino</td></tr>\n",
              "\t<tr><th scope=row>4</th><td> 3</td><td>0.60400</td><td>0.494</td><td>199413</td><td>0.51000</td><td> 5</td><td>-15.236</td><td>1</td><td>0.0261</td><td>4</td><td>0.230</td><td>1</td><td>Master Of None                      </td><td>Beach House     </td></tr>\n",
              "\t<tr><th scope=row>6</th><td> 5</td><td>0.00479</td><td>0.804</td><td>251333</td><td>0.00000</td><td> 8</td><td> -6.682</td><td>1</td><td>0.1850</td><td>4</td><td>0.264</td><td>1</td><td>Sneakin’                            </td><td>Drake           </td></tr>\n",
              "\t<tr><th scope=row>8</th><td> 7</td><td>0.02020</td><td>0.266</td><td>349667</td><td>0.66400</td><td>10</td><td>-11.609</td><td>0</td><td>0.0371</td><td>4</td><td>0.393</td><td>1</td><td>Gyöngyhajú lány                     </td><td>Omega           </td></tr>\n",
              "\t<tr><th scope=row>10</th><td> 9</td><td>0.00208</td><td>0.836</td><td>226840</td><td>0.00000</td><td> 7</td><td> -7.792</td><td>1</td><td>0.2370</td><td>4</td><td>0.386</td><td>1</td><td>Digital Animal                      </td><td>Honey Claws     </td></tr>\n",
              "\t<tr><th scope=row>11</th><td>10</td><td>0.05720</td><td>0.525</td><td>358187</td><td>0.01430</td><td> 5</td><td> -7.372</td><td>0</td><td>0.0548</td><td>3</td><td>0.524</td><td>1</td><td>Subways - In Flagranti Extended Edit</td><td>The Avalanches  </td></tr>\n",
              "</tbody>\n",
              "</table>\n"
            ],
            "text/markdown": "\nA data.frame: 6 × 14\n\n| <!--/--> | X &lt;int&gt; | acousticness &lt;dbl&gt; | danceability &lt;dbl&gt; | duration_ms &lt;int&gt; | instrumentalness &lt;dbl&gt; | key &lt;int&gt; | loudness &lt;dbl&gt; | mode &lt;int&gt; | speechiness &lt;dbl&gt; | time_signature &lt;dbl&gt; | valence &lt;dbl&gt; | target &lt;fct&gt; | song_title &lt;chr&gt; | artist &lt;chr&gt; |\n|---|---|---|---|---|---|---|---|---|---|---|---|---|---|---|\n| 2 |  1 | 0.19900 | 0.743 | 326933 | 0.00611 |  1 | -10.401 | 1 | 0.0794 | 4 | 0.588 | 1 | Redbone                              | Childish Gambino |\n| 4 |  3 | 0.60400 | 0.494 | 199413 | 0.51000 |  5 | -15.236 | 1 | 0.0261 | 4 | 0.230 | 1 | Master Of None                       | Beach House      |\n| 6 |  5 | 0.00479 | 0.804 | 251333 | 0.00000 |  8 |  -6.682 | 1 | 0.1850 | 4 | 0.264 | 1 | Sneakin’                             | Drake            |\n| 8 |  7 | 0.02020 | 0.266 | 349667 | 0.66400 | 10 | -11.609 | 0 | 0.0371 | 4 | 0.393 | 1 | Gyöngyhajú lány                      | Omega            |\n| 10 |  9 | 0.00208 | 0.836 | 226840 | 0.00000 |  7 |  -7.792 | 1 | 0.2370 | 4 | 0.386 | 1 | Digital Animal                       | Honey Claws      |\n| 11 | 10 | 0.05720 | 0.525 | 358187 | 0.01430 |  5 |  -7.372 | 0 | 0.0548 | 3 | 0.524 | 1 | Subways - In Flagranti Extended Edit | The Avalanches   |\n\n",
            "text/latex": "A data.frame: 6 × 14\n\\begin{tabular}{r|llllllllllllll}\n  & X & acousticness & danceability & duration\\_ms & instrumentalness & key & loudness & mode & speechiness & time\\_signature & valence & target & song\\_title & artist\\\\\n  & <int> & <dbl> & <dbl> & <int> & <dbl> & <int> & <dbl> & <int> & <dbl> & <dbl> & <dbl> & <fct> & <chr> & <chr>\\\\\n\\hline\n\t2 &  1 & 0.19900 & 0.743 & 326933 & 0.00611 &  1 & -10.401 & 1 & 0.0794 & 4 & 0.588 & 1 & Redbone                              & Childish Gambino\\\\\n\t4 &  3 & 0.60400 & 0.494 & 199413 & 0.51000 &  5 & -15.236 & 1 & 0.0261 & 4 & 0.230 & 1 & Master Of None                       & Beach House     \\\\\n\t6 &  5 & 0.00479 & 0.804 & 251333 & 0.00000 &  8 &  -6.682 & 1 & 0.1850 & 4 & 0.264 & 1 & Sneakin’                             & Drake           \\\\\n\t8 &  7 & 0.02020 & 0.266 & 349667 & 0.66400 & 10 & -11.609 & 0 & 0.0371 & 4 & 0.393 & 1 & Gyöngyhajú lány                      & Omega           \\\\\n\t10 &  9 & 0.00208 & 0.836 & 226840 & 0.00000 &  7 &  -7.792 & 1 & 0.2370 & 4 & 0.386 & 1 & Digital Animal                       & Honey Claws     \\\\\n\t11 & 10 & 0.05720 & 0.525 & 358187 & 0.01430 &  5 &  -7.372 & 0 & 0.0548 & 3 & 0.524 & 1 & Subways - In Flagranti Extended Edit & The Avalanches  \\\\\n\\end{tabular}\n",
            "text/plain": [
              "   X  acousticness danceability duration_ms instrumentalness key loudness mode\n",
              "2   1 0.19900      0.743        326933      0.00611           1  -10.401  1   \n",
              "4   3 0.60400      0.494        199413      0.51000           5  -15.236  1   \n",
              "6   5 0.00479      0.804        251333      0.00000           8   -6.682  1   \n",
              "8   7 0.02020      0.266        349667      0.66400          10  -11.609  0   \n",
              "10  9 0.00208      0.836        226840      0.00000           7   -7.792  1   \n",
              "11 10 0.05720      0.525        358187      0.01430           5   -7.372  0   \n",
              "   speechiness time_signature valence target\n",
              "2  0.0794      4              0.588   1     \n",
              "4  0.0261      4              0.230   1     \n",
              "6  0.1850      4              0.264   1     \n",
              "8  0.0371      4              0.393   1     \n",
              "10 0.2370      4              0.386   1     \n",
              "11 0.0548      3              0.524   1     \n",
              "   song_title                           artist          \n",
              "2  Redbone                              Childish Gambino\n",
              "4  Master Of None                       Beach House     \n",
              "6  Sneakin’                             Drake           \n",
              "8  Gyöngyhajú lány                      Omega           \n",
              "10 Digital Animal                       Honey Claws     \n",
              "11 Subways - In Flagranti Extended Edit The Avalanches  "
            ]
          },
          "metadata": {}
        },
        {
          "output_type": "display_data",
          "data": {
            "text/plain": [
              "    track_name                                      \n",
              "620 Enemy - from the series Arcane League of Legends\n",
              "    artist.s._name                             artist_count released_year\n",
              "620 Imagine Dragons, League of Legends, Arcane 3            2021         \n",
              "    released_month released_day in_spotify_playlists in_spotify_charts\n",
              "620 10             27           824                  0                \n",
              "    streams    in_apple_playlists ⋯ acousticness_. instrumentalness_.\n",
              "620 1223481149 8                  ⋯ 23             0                 \n",
              "    liveness_. speechiness_. danceability energy speechiness valence\n",
              "620 41         23            0.73         0.74   0.23        0.54   \n",
              "    acousticness liveness\n",
              "620 0.23         0.41    "
            ],
            "text/html": [
              "<table class=\"dataframe\">\n",
              "<caption>A data.frame: 1 × 30</caption>\n",
              "<thead>\n",
              "\t<tr><th></th><th scope=col>track_name</th><th scope=col>artist.s._name</th><th scope=col>artist_count</th><th scope=col>released_year</th><th scope=col>released_month</th><th scope=col>released_day</th><th scope=col>in_spotify_playlists</th><th scope=col>in_spotify_charts</th><th scope=col>streams</th><th scope=col>in_apple_playlists</th><th scope=col>⋯</th><th scope=col>acousticness_.</th><th scope=col>instrumentalness_.</th><th scope=col>liveness_.</th><th scope=col>speechiness_.</th><th scope=col>danceability</th><th scope=col>energy</th><th scope=col>speechiness</th><th scope=col>valence</th><th scope=col>acousticness</th><th scope=col>liveness</th></tr>\n",
              "\t<tr><th></th><th scope=col>&lt;chr&gt;</th><th scope=col>&lt;chr&gt;</th><th scope=col>&lt;int&gt;</th><th scope=col>&lt;int&gt;</th><th scope=col>&lt;int&gt;</th><th scope=col>&lt;int&gt;</th><th scope=col>&lt;int&gt;</th><th scope=col>&lt;int&gt;</th><th scope=col>&lt;chr&gt;</th><th scope=col>&lt;int&gt;</th><th scope=col>⋯</th><th scope=col>&lt;int&gt;</th><th scope=col>&lt;int&gt;</th><th scope=col>&lt;int&gt;</th><th scope=col>&lt;int&gt;</th><th scope=col>&lt;dbl&gt;</th><th scope=col>&lt;dbl&gt;</th><th scope=col>&lt;dbl&gt;</th><th scope=col>&lt;dbl&gt;</th><th scope=col>&lt;dbl&gt;</th><th scope=col>&lt;dbl&gt;</th></tr>\n",
              "</thead>\n",
              "<tbody>\n",
              "\t<tr><th scope=row>620</th><td>Enemy - from the series Arcane League of Legends</td><td>Imagine Dragons, League of Legends, Arcane</td><td>3</td><td>2021</td><td>10</td><td>27</td><td>824</td><td>0</td><td>1223481149</td><td>8</td><td>⋯</td><td>23</td><td>0</td><td>41</td><td>23</td><td>0.73</td><td>0.74</td><td>0.23</td><td>0.54</td><td>0.23</td><td>0.41</td></tr>\n",
              "</tbody>\n",
              "</table>\n"
            ],
            "text/markdown": "\nA data.frame: 1 × 30\n\n| <!--/--> | track_name &lt;chr&gt; | artist.s._name &lt;chr&gt; | artist_count &lt;int&gt; | released_year &lt;int&gt; | released_month &lt;int&gt; | released_day &lt;int&gt; | in_spotify_playlists &lt;int&gt; | in_spotify_charts &lt;int&gt; | streams &lt;chr&gt; | in_apple_playlists &lt;int&gt; | ⋯ ⋯ | acousticness_. &lt;int&gt; | instrumentalness_. &lt;int&gt; | liveness_. &lt;int&gt; | speechiness_. &lt;int&gt; | danceability &lt;dbl&gt; | energy &lt;dbl&gt; | speechiness &lt;dbl&gt; | valence &lt;dbl&gt; | acousticness &lt;dbl&gt; | liveness &lt;dbl&gt; |\n|---|---|---|---|---|---|---|---|---|---|---|---|---|---|---|---|---|---|---|---|---|---|\n| 620 | Enemy - from the series Arcane League of Legends | Imagine Dragons, League of Legends, Arcane | 3 | 2021 | 10 | 27 | 824 | 0 | 1223481149 | 8 | ⋯ | 23 | 0 | 41 | 23 | 0.73 | 0.74 | 0.23 | 0.54 | 0.23 | 0.41 |\n\n",
            "text/latex": "A data.frame: 1 × 30\n\\begin{tabular}{r|lllllllllllllllllllll}\n  & track\\_name & artist.s.\\_name & artist\\_count & released\\_year & released\\_month & released\\_day & in\\_spotify\\_playlists & in\\_spotify\\_charts & streams & in\\_apple\\_playlists & ⋯ & acousticness\\_. & instrumentalness\\_. & liveness\\_. & speechiness\\_. & danceability & energy & speechiness & valence & acousticness & liveness\\\\\n  & <chr> & <chr> & <int> & <int> & <int> & <int> & <int> & <int> & <chr> & <int> & ⋯ & <int> & <int> & <int> & <int> & <dbl> & <dbl> & <dbl> & <dbl> & <dbl> & <dbl>\\\\\n\\hline\n\t620 & Enemy - from the series Arcane League of Legends & Imagine Dragons, League of Legends, Arcane & 3 & 2021 & 10 & 27 & 824 & 0 & 1223481149 & 8 & ⋯ & 23 & 0 & 41 & 23 & 0.73 & 0.74 & 0.23 & 0.54 & 0.23 & 0.41\\\\\n\\end{tabular}\n"
          },
          "metadata": {}
        }
      ]
    },
    {
      "cell_type": "code",
      "source": [
        "# Use preProcess() to normalize selected variables\n",
        "norm_values <- preProcess(spotify_train_filtered[, c(\"danceability\", \"speechiness\", \"valence\", \"acousticness\")], method = c(\"center\", \"scale\"))\n",
        "spotify_train_norm[, c(\"danceability\", \"speechiness\", \"valence\", \"acousticness\")] <- predict(norm_values, spotify_train_filtered[, c(\"danceability\", \"speechiness\", \"valence\", \"acousticness\")])\n",
        "spotify_valid_norm[, c(\"danceability\", \"speechiness\", \"valence\", \"acousticness\")] <- predict(norm_values, spotify_valid_filtered[, c(\"danceability\", \"speechiness\", \"valence\", \"acousticness\")])\n",
        "enemy_norm <- predict(norm_values, enemy[, c(25, 27, 28, 29)])\n"
      ],
      "metadata": {
        "id": "TBgiTi_du8M9"
      },
      "id": "TBgiTi_du8M9",
      "execution_count": 73,
      "outputs": []
    },
    {
      "cell_type": "markdown",
      "source": [
        " > **💡Interpretation 💡-**\n",
        ">**Normalization Process**:\n",
        "   - **preProcess() Function**: The `preProcess()` function from the `caret` package is used to perform normalization on the selected variables (`danceability`, `speechiness`, `valence`, `acousticness`) in the `spotify_train` dataset.\n",
        "   - **Method**: The normalization method used here is \"centering\" and \"scaling\", which centers the variables at their means and scales them to have unit variance.\n",
        "\n",
        ">**Applying Normalization**:\n",
        "   - **predict() Function**: The `predict()` function applies the normalization transformation (`norm_values`) obtained from `preProcess()` to the selected variables in the `spotify_train` dataset.\n",
        "   - **Updating Dataframe**: The normalized values are then assigned to the corresponding columns in the `spotify_train_norm` dataframe.\n",
        "\n",
        ">**Interpretation of Results**:\n",
        "   - After normalization, the selected variables (`danceability`, `speechiness`, `valence`, `acousticness`) in the `spotify_train_norm` dataframe are now centered around their means and scaled to have unit variance.\n",
        "   - This process ensures that all variables are on the same scale, which can help in improving the performance of machine learning algorithms, particularly those sensitive to the scale of the input features.\n",
        "   - Normalization is essential for models like k-nearest neighbors (k-NN), where the distance between data points is a crucial factor in determining the outcome. Normalizing the data ensures that each feature contributes equally to the distance computation.\n",
        "   "
      ],
      "metadata": {
        "id": "0QbCpVCSw1WF"
      },
      "id": "0QbCpVCSw1WF"
    },
    {
      "cell_type": "markdown",
      "id": "a49d753f-7b2b-48ca-946e-ba6531d911f2",
      "metadata": {
        "id": "a49d753f-7b2b-48ca-946e-ba6531d911f2"
      },
      "source": [
        "#### Solution - 9"
      ]
    },
    {
      "cell_type": "code",
      "execution_count": 70,
      "id": "7856c0cd-a638-4017-a63c-278bfa6d4374",
      "metadata": {
        "scrolled": true,
        "id": "7856c0cd-a638-4017-a63c-278bfa6d4374",
        "colab": {
          "base_uri": "https://localhost:8080/"
        },
        "outputId": "36b6cd40-d4ed-46cf-b0fd-ce6dd4694b5a"
      },
      "outputs": [
        {
          "output_type": "stream",
          "name": "stderr",
          "text": [
            "Installing package into ‘/usr/local/lib/R/site-library’\n",
            "(as ‘lib’ is unspecified)\n",
            "\n"
          ]
        }
      ],
      "source": [
        "install.packages(\"FNN\")\n",
        "library(FNN)"
      ]
    },
    {
      "cell_type": "code",
      "source": [
        "# Using knn() to compute knn with k = 7\n",
        "nn <- knn(train = spotify_train_norm[, c(\"danceability\", \"speechiness\", \"valence\", \"acousticness\")],\n",
        "          test = enemy[, c(\"danceability\", \"speechiness\", \"valence\", \"acousticness\")],\n",
        "          cl = spotify_train_norm$target, k = 7)\n",
        "nn"
      ],
      "metadata": {
        "id": "kEZ2x26p9pLq",
        "colab": {
          "base_uri": "https://localhost:8080/",
          "height": 69
        },
        "outputId": "8876eeed-ae74-4c01-91b1-e70bab2a3f2b"
      },
      "id": "kEZ2x26p9pLq",
      "execution_count": 71,
      "outputs": [
        {
          "output_type": "display_data",
          "data": {
            "text/html": [
              "1\n",
              "<details>\n",
              "\t<summary style=display:list-item;cursor:pointer>\n",
              "\t\t<strong>Levels</strong>:\n",
              "\t</summary>\n",
              "\t'1'\n",
              "</details>"
            ],
            "text/markdown": "1\n**Levels**: '1'",
            "text/latex": "1\n\\emph{Levels}: '1'",
            "text/plain": [
              "[1] 1\n",
              "attr(,\"nn.index\")\n",
              "     [,1] [,2] [,3] [,4] [,5] [,6] [,7]\n",
              "[1,]  965    1  555 1063  441  396  181\n",
              "attr(,\"nn.dist\")\n",
              "          [,1]      [,2]     [,3]      [,4]      [,5]      [,6]      [,7]\n",
              "[1,] 0.2869804 0.4409715 0.450412 0.4533732 0.5053775 0.5406662 0.5676911\n",
              "Levels: 1"
            ]
          },
          "metadata": {}
        }
      ]
    },
    {
      "cell_type": "code",
      "source": [
        "spotify_train_norm[c(1,  554, 1069,  192,  839,  406,  337), c(\"song_title\", \"artist\", \"target\")]\n"
      ],
      "metadata": {
        "id": "CmefoAnQ3Cfb",
        "colab": {
          "base_uri": "https://localhost:8080/",
          "height": 317
        },
        "outputId": "4af3cf35-e45b-4835-ee0d-311b333d798a"
      },
      "id": "CmefoAnQ3Cfb",
      "execution_count": 74,
      "outputs": [
        {
          "output_type": "display_data",
          "data": {
            "text/html": [
              "<table class=\"dataframe\">\n",
              "<caption>A data.frame: 7 × 3</caption>\n",
              "<thead>\n",
              "\t<tr><th></th><th scope=col>song_title</th><th scope=col>artist</th><th scope=col>target</th></tr>\n",
              "\t<tr><th></th><th scope=col>&lt;chr&gt;</th><th scope=col>&lt;chr&gt;</th><th scope=col>&lt;fct&gt;</th></tr>\n",
              "</thead>\n",
              "<tbody>\n",
              "\t<tr><th scope=row>2</th><td>Redbone                       </td><td>Childish Gambino   </td><td>1</td></tr>\n",
              "\t<tr><th scope=row>911</th><td>Ohye Atar Gyan                </td><td>Ebo Taylor         </td><td>1</td></tr>\n",
              "\t<tr><th scope=row>1781</th><td>Beautiful Disaster            </td><td>Jon McLaughlin     </td><td>0</td></tr>\n",
              "\t<tr><th scope=row>326</th><td>Swords                        </td><td>M.I.A.             </td><td>1</td></tr>\n",
              "\t<tr><th scope=row>1405</th><td>Morning Call - Remix Version  </td><td>Ibadi              </td><td>0</td></tr>\n",
              "\t<tr><th scope=row>665</th><td>Pu$$y Magnet (feat. Keayshawn)</td><td>Roach Gigz         </td><td>1</td></tr>\n",
              "\t<tr><th scope=row>547</th><td><span style=white-space:pre-wrap>Louie Louie                   </span></td><td>Toots &amp; The Maytals</td><td>1</td></tr>\n",
              "</tbody>\n",
              "</table>\n"
            ],
            "text/markdown": "\nA data.frame: 7 × 3\n\n| <!--/--> | song_title &lt;chr&gt; | artist &lt;chr&gt; | target &lt;fct&gt; |\n|---|---|---|---|\n| 2 | Redbone                        | Childish Gambino    | 1 |\n| 911 | Ohye Atar Gyan                 | Ebo Taylor          | 1 |\n| 1781 | Beautiful Disaster             | Jon McLaughlin      | 0 |\n| 326 | Swords                         | M.I.A.              | 1 |\n| 1405 | Morning Call - Remix Version   | Ibadi               | 0 |\n| 665 | Pu$$y Magnet (feat. Keayshawn) | Roach Gigz          | 1 |\n| 547 | Louie Louie                    | Toots &amp; The Maytals | 1 |\n\n",
            "text/latex": "A data.frame: 7 × 3\n\\begin{tabular}{r|lll}\n  & song\\_title & artist & target\\\\\n  & <chr> & <chr> & <fct>\\\\\n\\hline\n\t2 & Redbone                        & Childish Gambino    & 1\\\\\n\t911 & Ohye Atar Gyan                 & Ebo Taylor          & 1\\\\\n\t1781 & Beautiful Disaster             & Jon McLaughlin      & 0\\\\\n\t326 & Swords                         & M.I.A.              & 1\\\\\n\t1405 & Morning Call - Remix Version   & Ibadi               & 0\\\\\n\t665 & Pu\\$\\$y Magnet (feat. Keayshawn) & Roach Gigz          & 1\\\\\n\t547 & Louie Louie                    & Toots \\& The Maytals & 1\\\\\n\\end{tabular}\n",
            "text/plain": [
              "     song_title                     artist              target\n",
              "2    Redbone                        Childish Gambino    1     \n",
              "911  Ohye Atar Gyan                 Ebo Taylor          1     \n",
              "1781 Beautiful Disaster             Jon McLaughlin      0     \n",
              "326  Swords                         M.I.A.              1     \n",
              "1405 Morning Call - Remix Version   Ibadi               0     \n",
              "665  Pu$$y Magnet (feat. Keayshawn) Roach Gigz          1     \n",
              "547  Louie Louie                    Toots & The Maytals 1     "
            ]
          },
          "metadata": {}
        }
      ]
    },
    {
      "cell_type": "code",
      "source": [
        "row.names(spotify_train_norm)[attr(nn, \"nn.index\")]"
      ],
      "metadata": {
        "colab": {
          "base_uri": "https://localhost:8080/",
          "height": 34
        },
        "id": "3M33UdIUD9Rq",
        "outputId": "7ad2003b-fc0b-404f-8d8c-4b6407730677"
      },
      "id": "3M33UdIUD9Rq",
      "execution_count": 76,
      "outputs": [
        {
          "output_type": "display_data",
          "data": {
            "text/html": [
              "<style>\n",
              ".list-inline {list-style: none; margin:0; padding: 0}\n",
              ".list-inline>li {display: inline-block}\n",
              ".list-inline>li:not(:last-child)::after {content: \"\\00b7\"; padding: 0 .5ex}\n",
              "</style>\n",
              "<ol class=list-inline><li>'1633'</li><li>'2'</li><li>'912'</li><li>'1771'</li><li>'725'</li><li>'649'</li><li>'307'</li></ol>\n"
            ],
            "text/markdown": "1. '1633'\n2. '2'\n3. '912'\n4. '1771'\n5. '725'\n6. '649'\n7. '307'\n\n\n",
            "text/latex": "\\begin{enumerate*}\n\\item '1633'\n\\item '2'\n\\item '912'\n\\item '1771'\n\\item '725'\n\\item '649'\n\\item '307'\n\\end{enumerate*}\n",
            "text/plain": [
              "[1] \"1633\" \"2\"    \"912\"  \"1771\" \"725\"  \"649\"  \"307\" "
            ]
          },
          "metadata": {}
        }
      ]
    },
    {
      "cell_type": "markdown",
      "source": [
        "> **💡Interpretation of Results💡-**\n",
        ">"
      ],
      "metadata": {
        "id": "9QTn5E-5MlKx"
      },
      "id": "9QTn5E-5MlKx"
    },
    {
      "cell_type": "markdown",
      "id": "0c6ba87d-e993-48c4-808d-1fd3f3e44710",
      "metadata": {
        "id": "0c6ba87d-e993-48c4-808d-1fd3f3e44710"
      },
      "source": [
        "#### Solution - 10, 11, 12"
      ]
    },
    {
      "cell_type": "code",
      "execution_count": 77,
      "id": "2ce473d8-990f-4f49-800e-4dc6109f54bb",
      "metadata": {
        "id": "2ce473d8-990f-4f49-800e-4dc6109f54bb",
        "colab": {
          "base_uri": "https://localhost:8080/",
          "height": 1000
        },
        "outputId": "78c27e2f-cce5-48e7-a711-c17a73f43b19"
      },
      "outputs": [
        {
          "output_type": "display_data",
          "data": {
            "text/html": [
              "<table class=\"dataframe\">\n",
              "<caption>A data.frame: 35 × 2</caption>\n",
              "<thead>\n",
              "\t<tr><th scope=col>k</th><th scope=col>accuracy</th></tr>\n",
              "\t<tr><th scope=col>&lt;dbl&gt;</th><th scope=col>&lt;dbl&gt;</th></tr>\n",
              "</thead>\n",
              "<tbody>\n",
              "\t<tr><td> 1</td><td>0.5595533</td></tr>\n",
              "\t<tr><td> 2</td><td>0.5732010</td></tr>\n",
              "\t<tr><td> 3</td><td>0.5781638</td></tr>\n",
              "\t<tr><td> 4</td><td>0.5781638</td></tr>\n",
              "\t<tr><td> 5</td><td>0.5893300</td></tr>\n",
              "\t<tr><td> 6</td><td>0.5955335</td></tr>\n",
              "\t<tr><td> 7</td><td>0.5992556</td></tr>\n",
              "\t<tr><td> 8</td><td>0.6079404</td></tr>\n",
              "\t<tr><td> 9</td><td>0.5942928</td></tr>\n",
              "\t<tr><td>10</td><td>0.6079404</td></tr>\n",
              "\t<tr><td>11</td><td>0.6104218</td></tr>\n",
              "\t<tr><td>12</td><td>0.6228288</td></tr>\n",
              "\t<tr><td>13</td><td>0.6277916</td></tr>\n",
              "\t<tr><td>14</td><td>0.6253102</td></tr>\n",
              "\t<tr><td>15</td><td>0.6290323</td></tr>\n",
              "\t<tr><td>16</td><td>0.6178660</td></tr>\n",
              "\t<tr><td>17</td><td>0.6277916</td></tr>\n",
              "\t<tr><td>18</td><td>0.6253102</td></tr>\n",
              "\t<tr><td>19</td><td>0.6315136</td></tr>\n",
              "\t<tr><td>20</td><td>0.6290323</td></tr>\n",
              "\t<tr><td>21</td><td>0.6290323</td></tr>\n",
              "\t<tr><td>22</td><td>0.6302730</td></tr>\n",
              "\t<tr><td>23</td><td>0.6265509</td></tr>\n",
              "\t<tr><td>24</td><td>0.6253102</td></tr>\n",
              "\t<tr><td>25</td><td>0.6352357</td></tr>\n",
              "\t<tr><td>26</td><td>0.6364764</td></tr>\n",
              "\t<tr><td>27</td><td>0.6426799</td></tr>\n",
              "\t<tr><td>28</td><td>0.6377171</td></tr>\n",
              "\t<tr><td>29</td><td>0.6451613</td></tr>\n",
              "\t<tr><td>30</td><td>0.6501241</td></tr>\n",
              "\t<tr><td>31</td><td>0.6563275</td></tr>\n",
              "\t<tr><td>32</td><td>0.6488834</td></tr>\n",
              "\t<tr><td>33</td><td>0.6526055</td></tr>\n",
              "\t<tr><td>34</td><td>0.6464020</td></tr>\n",
              "\t<tr><td>35</td><td>0.6513648</td></tr>\n",
              "</tbody>\n",
              "</table>\n"
            ],
            "text/markdown": "\nA data.frame: 35 × 2\n\n| k &lt;dbl&gt; | accuracy &lt;dbl&gt; |\n|---|---|\n|  1 | 0.5595533 |\n|  2 | 0.5732010 |\n|  3 | 0.5781638 |\n|  4 | 0.5781638 |\n|  5 | 0.5893300 |\n|  6 | 0.5955335 |\n|  7 | 0.5992556 |\n|  8 | 0.6079404 |\n|  9 | 0.5942928 |\n| 10 | 0.6079404 |\n| 11 | 0.6104218 |\n| 12 | 0.6228288 |\n| 13 | 0.6277916 |\n| 14 | 0.6253102 |\n| 15 | 0.6290323 |\n| 16 | 0.6178660 |\n| 17 | 0.6277916 |\n| 18 | 0.6253102 |\n| 19 | 0.6315136 |\n| 20 | 0.6290323 |\n| 21 | 0.6290323 |\n| 22 | 0.6302730 |\n| 23 | 0.6265509 |\n| 24 | 0.6253102 |\n| 25 | 0.6352357 |\n| 26 | 0.6364764 |\n| 27 | 0.6426799 |\n| 28 | 0.6377171 |\n| 29 | 0.6451613 |\n| 30 | 0.6501241 |\n| 31 | 0.6563275 |\n| 32 | 0.6488834 |\n| 33 | 0.6526055 |\n| 34 | 0.6464020 |\n| 35 | 0.6513648 |\n\n",
            "text/latex": "A data.frame: 35 × 2\n\\begin{tabular}{ll}\n k & accuracy\\\\\n <dbl> & <dbl>\\\\\n\\hline\n\t  1 & 0.5595533\\\\\n\t  2 & 0.5732010\\\\\n\t  3 & 0.5781638\\\\\n\t  4 & 0.5781638\\\\\n\t  5 & 0.5893300\\\\\n\t  6 & 0.5955335\\\\\n\t  7 & 0.5992556\\\\\n\t  8 & 0.6079404\\\\\n\t  9 & 0.5942928\\\\\n\t 10 & 0.6079404\\\\\n\t 11 & 0.6104218\\\\\n\t 12 & 0.6228288\\\\\n\t 13 & 0.6277916\\\\\n\t 14 & 0.6253102\\\\\n\t 15 & 0.6290323\\\\\n\t 16 & 0.6178660\\\\\n\t 17 & 0.6277916\\\\\n\t 18 & 0.6253102\\\\\n\t 19 & 0.6315136\\\\\n\t 20 & 0.6290323\\\\\n\t 21 & 0.6290323\\\\\n\t 22 & 0.6302730\\\\\n\t 23 & 0.6265509\\\\\n\t 24 & 0.6253102\\\\\n\t 25 & 0.6352357\\\\\n\t 26 & 0.6364764\\\\\n\t 27 & 0.6426799\\\\\n\t 28 & 0.6377171\\\\\n\t 29 & 0.6451613\\\\\n\t 30 & 0.6501241\\\\\n\t 31 & 0.6563275\\\\\n\t 32 & 0.6488834\\\\\n\t 33 & 0.6526055\\\\\n\t 34 & 0.6464020\\\\\n\t 35 & 0.6513648\\\\\n\\end{tabular}\n",
            "text/plain": [
              "   k  accuracy \n",
              "1   1 0.5595533\n",
              "2   2 0.5732010\n",
              "3   3 0.5781638\n",
              "4   4 0.5781638\n",
              "5   5 0.5893300\n",
              "6   6 0.5955335\n",
              "7   7 0.5992556\n",
              "8   8 0.6079404\n",
              "9   9 0.5942928\n",
              "10 10 0.6079404\n",
              "11 11 0.6104218\n",
              "12 12 0.6228288\n",
              "13 13 0.6277916\n",
              "14 14 0.6253102\n",
              "15 15 0.6290323\n",
              "16 16 0.6178660\n",
              "17 17 0.6277916\n",
              "18 18 0.6253102\n",
              "19 19 0.6315136\n",
              "20 20 0.6290323\n",
              "21 21 0.6290323\n",
              "22 22 0.6302730\n",
              "23 23 0.6265509\n",
              "24 24 0.6253102\n",
              "25 25 0.6352357\n",
              "26 26 0.6364764\n",
              "27 27 0.6426799\n",
              "28 28 0.6377171\n",
              "29 29 0.6451613\n",
              "30 30 0.6501241\n",
              "31 31 0.6563275\n",
              "32 32 0.6488834\n",
              "33 33 0.6526055\n",
              "34 34 0.6464020\n",
              "35 35 0.6513648"
            ]
          },
          "metadata": {}
        }
      ],
      "source": [
        "# initialize a data frame with two columns: k, and accuracy.\n",
        "accuracy.df <- data.frame(k = seq(1, 35, 1), accuracy = rep(0, 35))\n",
        "# compute knn for different k on validation.\n",
        "for(i in 1:35) {\n",
        "  knn.pred <- knn(spotify_train_norm[, c(\"danceability\", \"speechiness\", \"valence\", \"acousticness\")], spotify_valid_norm[, c(\"danceability\", \"speechiness\", \"valence\", \"acousticness\")],\n",
        "                  cl = spotify_train_norm$target, k = i)\n",
        "  accuracy.df[i, 2] <- confusionMatrix(knn.pred, spotify_valid_norm$target)$overall[1]\n",
        "}\n",
        "\n",
        "accuracy.df\n"
      ]
    },
    {
      "cell_type": "code",
      "source": [
        "# Using knn() to compute knn with k = 27\n",
        "nn <- knn(train = spotify_train_norm[, c(\"danceability\", \"speechiness\", \"valence\", \"acousticness\")],\n",
        "          test = enemy[, c(\"danceability\", \"speechiness\", \"valence\", \"acousticness\")],\n",
        "          cl = spotify_train_norm$target, k = 27)\n",
        "nn\n",
        "\n",
        "\n",
        "neighbors <- spotify_train_norm[c(1,  554, 1069, 192, 839, 406, 337, 656, 699, 884, 686,  891, 495, 659, 206, 397, 657, 1064, 432,  719,  564, 1081, 444, 668,  664,  1109, 366), c(\"song_title\", \"artist\", \"target\")]\n",
        "table(neighbors$target)\n"
      ],
      "metadata": {
        "colab": {
          "base_uri": "https://localhost:8080/",
          "height": 121
        },
        "id": "-TWaGXkC1cs7",
        "outputId": "1f8b0796-0b67-4964-9aa5-d3907b16a5e8"
      },
      "id": "-TWaGXkC1cs7",
      "execution_count": 79,
      "outputs": [
        {
          "output_type": "display_data",
          "data": {
            "text/html": [
              "0\n",
              "<details>\n",
              "\t<summary style=display:list-item;cursor:pointer>\n",
              "\t\t<strong>Levels</strong>:\n",
              "\t</summary>\n",
              "\t'0'\n",
              "</details>"
            ],
            "text/markdown": "0\n**Levels**: '0'",
            "text/latex": "0\n\\emph{Levels}: '0'",
            "text/plain": [
              "[1] 0\n",
              "attr(,\"nn.index\")\n",
              "     [,1] [,2] [,3] [,4] [,5] [,6] [,7] [,8] [,9] [,10] [,11] [,12] [,13] [,14]\n",
              "[1,]  965    1  555 1063  441  396  181  652  835   337   692   662   663   191\n",
              "     [,15] [,16] [,17] [,18] [,19] [,20] [,21] [,22] [,23] [,24] [,25] [,26]\n",
              "[1,]   666   414   496   665   290   226   726  1104   564  1058  1060   671\n",
              "     [,27]\n",
              "[1,]   675\n",
              "attr(,\"nn.dist\")\n",
              "          [,1]      [,2]     [,3]      [,4]      [,5]      [,6]      [,7]\n",
              "[1,] 0.2869804 0.4409715 0.450412 0.4533732 0.5053775 0.5406662 0.5676911\n",
              "         [,8]      [,9]     [,10]     [,11]     [,12]    [,13]    [,14]\n",
              "[1,] 0.592367 0.5946083 0.6110773 0.6429359 0.6846926 0.698025 0.698512\n",
              "         [,15]     [,16]     [,17]     [,18]     [,19]     [,20]    [,21]\n",
              "[1,] 0.7027415 0.7135157 0.7198236 0.7203632 0.7301566 0.7442198 0.756679\n",
              "         [,22]     [,23]     [,24]     [,25]     [,26]     [,27]\n",
              "[1,] 0.7609112 0.7649451 0.7694038 0.7714996 0.7716761 0.7722255\n",
              "Levels: 0"
            ]
          },
          "metadata": {}
        },
        {
          "output_type": "display_data",
          "data": {
            "text/plain": [
              "\n",
              " 0  1 \n",
              "15 12 "
            ]
          },
          "metadata": {}
        }
      ]
    },
    {
      "cell_type": "code",
      "source": [
        "# Load the ggplot2 library\n",
        "install.packages(\"ggplot2\")\n",
        "library(ggplot2)\n",
        "\n",
        "# Create a scatterplot\n",
        "ggplot(data = accuracy.df, aes(x = k, y = accuracy)) +\n",
        "  geom_point() +\n",
        "  geom_line() +\n",
        "  labs(x = \"k values\", y = \"Accuracy\") +\n",
        "  ggtitle(\"Accuracy vs k values\")\n"
      ],
      "metadata": {
        "colab": {
          "base_uri": "https://localhost:8080/",
          "height": 489
        },
        "id": "6sUjgm7J1V5l",
        "outputId": "9d923887-c3ad-4006-f269-2fa9364bf75f"
      },
      "id": "6sUjgm7J1V5l",
      "execution_count": 81,
      "outputs": [
        {
          "output_type": "stream",
          "name": "stderr",
          "text": [
            "Installing package into ‘/usr/local/lib/R/site-library’\n",
            "(as ‘lib’ is unspecified)\n",
            "\n"
          ]
        },
        {
          "output_type": "display_data",
          "data": {
            "text/plain": [
              "plot without title"
            ],
            "image/png": "[encoded data removed]"
          },
          "metadata": {
            "image/png": {
              "width": 420,
              "height": 420
            }
          }
        }
      ]
    },
    {
      "cell_type": "markdown",
      "metadata": {
        "id": "dcSRWnIA1t9t"
      },
      "source": [
        "#### Solution - 13"
      ],
      "id": "dcSRWnIA1t9t"
    },
    {
      "cell_type": "markdown",
      "source": [
        "One limitation associated with using numeric attributes to predict whether someone will like a particular song is the inherent complexity and subjectivity of individual preferences. While numeric attributes like danceability, speechiness, valence, and acousticness provide quantitative measures of certain musical characteristics, they may not fully capture the nuances of personal taste, cultural background, mood, or context in which the music is listened to. Additionally, relying solely on numeric attributes may overlook other important factors influencing music preference, such as lyrics, genre, artist reputation, and personal experiences, which can vary widely among individuals and cannot be easily quantified. Therefore, while numeric attributes can provide useful insights, they may not always accurately predict individual song preferences."
      ],
      "metadata": {
        "id": "Qy7jr_fi1wXP"
      },
      "id": "Qy7jr_fi1wXP"
    },
    {
      "cell_type": "markdown",
      "source": [
        "# **NAIVE BAYES**"
      ],
      "metadata": {
        "id": "oUy801gQzavA"
      },
      "id": "oUy801gQzavA"
    },
    {
      "cell_type": "code",
      "source": [
        "install.packages(\"AER\")\n",
        "library(AER)"
      ],
      "metadata": {
        "colab": {
          "base_uri": "https://localhost:8080/"
        },
        "id": "YKAS-H4AtVX6",
        "outputId": "0ad25385-bf69-4d24-a656-125c0e425931"
      },
      "id": "YKAS-H4AtVX6",
      "execution_count": 1,
      "outputs": [
        {
          "output_type": "stream",
          "name": "stderr",
          "text": [
            "Installing package into ‘/usr/local/lib/R/site-library’\n",
            "(as ‘lib’ is unspecified)\n",
            "\n",
            "also installing the dependencies ‘numDeriv’, ‘SparseM’, ‘MatrixModels’, ‘minqa’, ‘nloptr’, ‘Rcpp’, ‘RcppEigen’, ‘carData’, ‘abind’, ‘pbkrtest’, ‘quantreg’, ‘lme4’, ‘car’, ‘lmtest’, ‘sandwich’, ‘zoo’, ‘Formula’\n",
            "\n",
            "\n",
            "Loading required package: car\n",
            "\n",
            "Loading required package: carData\n",
            "\n",
            "Loading required package: lmtest\n",
            "\n",
            "Loading required package: zoo\n",
            "\n",
            "\n",
            "Attaching package: ‘zoo’\n",
            "\n",
            "\n",
            "The following objects are masked from ‘package:base’:\n",
            "\n",
            "    as.Date, as.Date.numeric\n",
            "\n",
            "\n",
            "Loading required package: sandwich\n",
            "\n",
            "Loading required package: survival\n",
            "\n"
          ]
        }
      ]
    },
    {
      "cell_type": "code",
      "source": [
        "install.packages(\"arules\")\n",
        "library(arules)\n"
      ],
      "metadata": {
        "colab": {
          "base_uri": "https://localhost:8080/"
        },
        "id": "gQKZXx6lmz3I",
        "outputId": "6f86ef8a-f3a6-4289-c64f-2ca712bd98c0"
      },
      "id": "gQKZXx6lmz3I",
      "execution_count": 2,
      "outputs": [
        {
          "output_type": "stream",
          "name": "stderr",
          "text": [
            "Installing package into ‘/usr/local/lib/R/site-library’\n",
            "(as ‘lib’ is unspecified)\n",
            "\n",
            "Loading required package: Matrix\n",
            "\n",
            "\n",
            "Attaching package: ‘arules’\n",
            "\n",
            "\n",
            "The following object is masked from ‘package:car’:\n",
            "\n",
            "    recode\n",
            "\n",
            "\n",
            "The following objects are masked from ‘package:base’:\n",
            "\n",
            "    abbreviate, write\n",
            "\n",
            "\n"
          ]
        }
      ]
    },
    {
      "cell_type": "markdown",
      "id": "abe5a7f6-108b-44b5-977b-9bd2a9ab0dce",
      "metadata": {
        "id": "abe5a7f6-108b-44b5-977b-9bd2a9ab0dce"
      },
      "source": [
        "#### Solution - 1"
      ]
    },
    {
      "cell_type": "code",
      "execution_count": 3,
      "id": "c675aac9-c761-4d8a-b553-5571c01d7eec",
      "metadata": {
        "scrolled": true,
        "id": "c675aac9-c761-4d8a-b553-5571c01d7eec"
      },
      "outputs": [],
      "source": [
        "##Solution - 1\n",
        "#Bring the CreditCards dataset int0 your local environment.\n",
        "data(CreditCard)"
      ]
    },
    {
      "cell_type": "markdown",
      "source": [
        "#### Solution - 2"
      ],
      "metadata": {
        "id": "3EPgU-uZxqzg"
      },
      "id": "3EPgU-uZxqzg"
    },
    {
      "cell_type": "code",
      "source": [
        "head(CreditCard)"
      ],
      "metadata": {
        "colab": {
          "base_uri": "https://localhost:8080/",
          "height": 286
        },
        "id": "1Z20YnXvtz63",
        "outputId": "4a31ba87-c93f-4cc3-fea5-25f85fbce7f2"
      },
      "id": "1Z20YnXvtz63",
      "execution_count": 4,
      "outputs": [
        {
          "output_type": "display_data",
          "data": {
            "text/html": [
              "<table class=\"dataframe\">\n",
              "<caption>A data.frame: 6 × 12</caption>\n",
              "<thead>\n",
              "\t<tr><th></th><th scope=col>card</th><th scope=col>reports</th><th scope=col>age</th><th scope=col>income</th><th scope=col>share</th><th scope=col>expenditure</th><th scope=col>owner</th><th scope=col>selfemp</th><th scope=col>dependents</th><th scope=col>months</th><th scope=col>majorcards</th><th scope=col>active</th></tr>\n",
              "\t<tr><th></th><th scope=col>&lt;fct&gt;</th><th scope=col>&lt;dbl&gt;</th><th scope=col>&lt;dbl&gt;</th><th scope=col>&lt;dbl&gt;</th><th scope=col>&lt;dbl&gt;</th><th scope=col>&lt;dbl&gt;</th><th scope=col>&lt;fct&gt;</th><th scope=col>&lt;fct&gt;</th><th scope=col>&lt;dbl&gt;</th><th scope=col>&lt;dbl&gt;</th><th scope=col>&lt;dbl&gt;</th><th scope=col>&lt;dbl&gt;</th></tr>\n",
              "</thead>\n",
              "<tbody>\n",
              "\t<tr><th scope=row>1</th><td>yes</td><td>0</td><td>37.66667</td><td>4.5200</td><td>0.033269910</td><td>124.983300</td><td>yes</td><td>no</td><td>3</td><td>54</td><td>1</td><td>12</td></tr>\n",
              "\t<tr><th scope=row>2</th><td>yes</td><td>0</td><td>33.25000</td><td>2.4200</td><td>0.005216942</td><td>  9.854167</td><td>no </td><td>no</td><td>3</td><td>34</td><td>1</td><td>13</td></tr>\n",
              "\t<tr><th scope=row>3</th><td>yes</td><td>0</td><td>33.66667</td><td>4.5000</td><td>0.004155556</td><td> 15.000000</td><td>yes</td><td>no</td><td>4</td><td>58</td><td>1</td><td> 5</td></tr>\n",
              "\t<tr><th scope=row>4</th><td>yes</td><td>0</td><td>30.50000</td><td>2.5400</td><td>0.065213780</td><td>137.869200</td><td>no </td><td>no</td><td>0</td><td>25</td><td>1</td><td> 7</td></tr>\n",
              "\t<tr><th scope=row>5</th><td>yes</td><td>0</td><td>32.16667</td><td>9.7867</td><td>0.067050590</td><td>546.503300</td><td>yes</td><td>no</td><td>2</td><td>64</td><td>1</td><td> 5</td></tr>\n",
              "\t<tr><th scope=row>6</th><td>yes</td><td>0</td><td>23.25000</td><td>2.5000</td><td>0.044438400</td><td> 91.996670</td><td>no </td><td>no</td><td>0</td><td>54</td><td>1</td><td> 1</td></tr>\n",
              "</tbody>\n",
              "</table>\n"
            ],
            "text/markdown": "\nA data.frame: 6 × 12\n\n| <!--/--> | card &lt;fct&gt; | reports &lt;dbl&gt; | age &lt;dbl&gt; | income &lt;dbl&gt; | share &lt;dbl&gt; | expenditure &lt;dbl&gt; | owner &lt;fct&gt; | selfemp &lt;fct&gt; | dependents &lt;dbl&gt; | months &lt;dbl&gt; | majorcards &lt;dbl&gt; | active &lt;dbl&gt; |\n|---|---|---|---|---|---|---|---|---|---|---|---|---|\n| 1 | yes | 0 | 37.66667 | 4.5200 | 0.033269910 | 124.983300 | yes | no | 3 | 54 | 1 | 12 |\n| 2 | yes | 0 | 33.25000 | 2.4200 | 0.005216942 |   9.854167 | no  | no | 3 | 34 | 1 | 13 |\n| 3 | yes | 0 | 33.66667 | 4.5000 | 0.004155556 |  15.000000 | yes | no | 4 | 58 | 1 |  5 |\n| 4 | yes | 0 | 30.50000 | 2.5400 | 0.065213780 | 137.869200 | no  | no | 0 | 25 | 1 |  7 |\n| 5 | yes | 0 | 32.16667 | 9.7867 | 0.067050590 | 546.503300 | yes | no | 2 | 64 | 1 |  5 |\n| 6 | yes | 0 | 23.25000 | 2.5000 | 0.044438400 |  91.996670 | no  | no | 0 | 54 | 1 |  1 |\n\n",
            "text/latex": "A data.frame: 6 × 12\n\\begin{tabular}{r|llllllllllll}\n  & card & reports & age & income & share & expenditure & owner & selfemp & dependents & months & majorcards & active\\\\\n  & <fct> & <dbl> & <dbl> & <dbl> & <dbl> & <dbl> & <fct> & <fct> & <dbl> & <dbl> & <dbl> & <dbl>\\\\\n\\hline\n\t1 & yes & 0 & 37.66667 & 4.5200 & 0.033269910 & 124.983300 & yes & no & 3 & 54 & 1 & 12\\\\\n\t2 & yes & 0 & 33.25000 & 2.4200 & 0.005216942 &   9.854167 & no  & no & 3 & 34 & 1 & 13\\\\\n\t3 & yes & 0 & 33.66667 & 4.5000 & 0.004155556 &  15.000000 & yes & no & 4 & 58 & 1 &  5\\\\\n\t4 & yes & 0 & 30.50000 & 2.5400 & 0.065213780 & 137.869200 & no  & no & 0 & 25 & 1 &  7\\\\\n\t5 & yes & 0 & 32.16667 & 9.7867 & 0.067050590 & 546.503300 & yes & no & 2 & 64 & 1 &  5\\\\\n\t6 & yes & 0 & 23.25000 & 2.5000 & 0.044438400 &  91.996670 & no  & no & 0 & 54 & 1 &  1\\\\\n\\end{tabular}\n",
            "text/plain": [
              "  card reports age      income share       expenditure owner selfemp dependents\n",
              "1 yes  0       37.66667 4.5200 0.033269910 124.983300  yes   no      3         \n",
              "2 yes  0       33.25000 2.4200 0.005216942   9.854167  no    no      3         \n",
              "3 yes  0       33.66667 4.5000 0.004155556  15.000000  yes   no      4         \n",
              "4 yes  0       30.50000 2.5400 0.065213780 137.869200  no    no      0         \n",
              "5 yes  0       32.16667 9.7867 0.067050590 546.503300  yes   no      2         \n",
              "6 yes  0       23.25000 2.5000 0.044438400  91.996670  no    no      0         \n",
              "  months majorcards active\n",
              "1 54     1          12    \n",
              "2 34     1          13    \n",
              "3 58     1           5    \n",
              "4 25     1           7    \n",
              "5 64     1           5    \n",
              "6 54     1           1    "
            ]
          },
          "metadata": {}
        }
      ]
    },
    {
      "cell_type": "code",
      "source": [
        "tail(CreditCard)"
      ],
      "metadata": {
        "colab": {
          "base_uri": "https://localhost:8080/",
          "height": 286
        },
        "id": "9g_49LNHad4w",
        "outputId": "98b9c346-3680-47f8-86e6-dd1384829739"
      },
      "id": "9g_49LNHad4w",
      "execution_count": 5,
      "outputs": [
        {
          "output_type": "display_data",
          "data": {
            "text/html": [
              "<table class=\"dataframe\">\n",
              "<caption>A data.frame: 6 × 12</caption>\n",
              "<thead>\n",
              "\t<tr><th></th><th scope=col>card</th><th scope=col>reports</th><th scope=col>age</th><th scope=col>income</th><th scope=col>share</th><th scope=col>expenditure</th><th scope=col>owner</th><th scope=col>selfemp</th><th scope=col>dependents</th><th scope=col>months</th><th scope=col>majorcards</th><th scope=col>active</th></tr>\n",
              "\t<tr><th></th><th scope=col>&lt;fct&gt;</th><th scope=col>&lt;dbl&gt;</th><th scope=col>&lt;dbl&gt;</th><th scope=col>&lt;dbl&gt;</th><th scope=col>&lt;dbl&gt;</th><th scope=col>&lt;dbl&gt;</th><th scope=col>&lt;fct&gt;</th><th scope=col>&lt;fct&gt;</th><th scope=col>&lt;dbl&gt;</th><th scope=col>&lt;dbl&gt;</th><th scope=col>&lt;dbl&gt;</th><th scope=col>&lt;dbl&gt;</th></tr>\n",
              "</thead>\n",
              "<tbody>\n",
              "\t<tr><th scope=row>1314</th><td>no </td><td>1</td><td>30.33333</td><td>2.180</td><td>0.0005504587</td><td>  0.000000</td><td>no </td><td>yes</td><td>0</td><td>13</td><td>1</td><td> 1</td></tr>\n",
              "\t<tr><th scope=row>1315</th><td>yes</td><td>0</td><td>33.58333</td><td>4.566</td><td>0.0021462990</td><td>  7.333333</td><td>yes</td><td>no </td><td>0</td><td>94</td><td>1</td><td>19</td></tr>\n",
              "\t<tr><th scope=row>1316</th><td>no </td><td>5</td><td>23.91667</td><td>3.192</td><td>0.0003759399</td><td>  0.000000</td><td>no </td><td>no </td><td>3</td><td>12</td><td>1</td><td> 5</td></tr>\n",
              "\t<tr><th scope=row>1317</th><td>yes</td><td>0</td><td>40.58333</td><td>4.600</td><td>0.0265126100</td><td>101.298300</td><td>yes</td><td>no </td><td>2</td><td> 1</td><td>1</td><td> 2</td></tr>\n",
              "\t<tr><th scope=row>1318</th><td>yes</td><td>0</td><td>32.83333</td><td>3.700</td><td>0.0089989190</td><td> 26.996670</td><td>no </td><td>yes</td><td>0</td><td>60</td><td>1</td><td> 7</td></tr>\n",
              "\t<tr><th scope=row>1319</th><td>yes</td><td>0</td><td>48.25000</td><td>3.700</td><td>0.1116186000</td><td>344.157500</td><td>yes</td><td>no </td><td>2</td><td> 2</td><td>1</td><td> 0</td></tr>\n",
              "</tbody>\n",
              "</table>\n"
            ],
            "text/markdown": "\nA data.frame: 6 × 12\n\n| <!--/--> | card &lt;fct&gt; | reports &lt;dbl&gt; | age &lt;dbl&gt; | income &lt;dbl&gt; | share &lt;dbl&gt; | expenditure &lt;dbl&gt; | owner &lt;fct&gt; | selfemp &lt;fct&gt; | dependents &lt;dbl&gt; | months &lt;dbl&gt; | majorcards &lt;dbl&gt; | active &lt;dbl&gt; |\n|---|---|---|---|---|---|---|---|---|---|---|---|---|\n| 1314 | no  | 1 | 30.33333 | 2.180 | 0.0005504587 |   0.000000 | no  | yes | 0 | 13 | 1 |  1 |\n| 1315 | yes | 0 | 33.58333 | 4.566 | 0.0021462990 |   7.333333 | yes | no  | 0 | 94 | 1 | 19 |\n| 1316 | no  | 5 | 23.91667 | 3.192 | 0.0003759399 |   0.000000 | no  | no  | 3 | 12 | 1 |  5 |\n| 1317 | yes | 0 | 40.58333 | 4.600 | 0.0265126100 | 101.298300 | yes | no  | 2 |  1 | 1 |  2 |\n| 1318 | yes | 0 | 32.83333 | 3.700 | 0.0089989190 |  26.996670 | no  | yes | 0 | 60 | 1 |  7 |\n| 1319 | yes | 0 | 48.25000 | 3.700 | 0.1116186000 | 344.157500 | yes | no  | 2 |  2 | 1 |  0 |\n\n",
            "text/latex": "A data.frame: 6 × 12\n\\begin{tabular}{r|llllllllllll}\n  & card & reports & age & income & share & expenditure & owner & selfemp & dependents & months & majorcards & active\\\\\n  & <fct> & <dbl> & <dbl> & <dbl> & <dbl> & <dbl> & <fct> & <fct> & <dbl> & <dbl> & <dbl> & <dbl>\\\\\n\\hline\n\t1314 & no  & 1 & 30.33333 & 2.180 & 0.0005504587 &   0.000000 & no  & yes & 0 & 13 & 1 &  1\\\\\n\t1315 & yes & 0 & 33.58333 & 4.566 & 0.0021462990 &   7.333333 & yes & no  & 0 & 94 & 1 & 19\\\\\n\t1316 & no  & 5 & 23.91667 & 3.192 & 0.0003759399 &   0.000000 & no  & no  & 3 & 12 & 1 &  5\\\\\n\t1317 & yes & 0 & 40.58333 & 4.600 & 0.0265126100 & 101.298300 & yes & no  & 2 &  1 & 1 &  2\\\\\n\t1318 & yes & 0 & 32.83333 & 3.700 & 0.0089989190 &  26.996670 & no  & yes & 0 & 60 & 1 &  7\\\\\n\t1319 & yes & 0 & 48.25000 & 3.700 & 0.1116186000 & 344.157500 & yes & no  & 2 &  2 & 1 &  0\\\\\n\\end{tabular}\n",
            "text/plain": [
              "     card reports age      income share        expenditure owner selfemp\n",
              "1314 no   1       30.33333 2.180  0.0005504587   0.000000  no    yes    \n",
              "1315 yes  0       33.58333 4.566  0.0021462990   7.333333  yes   no     \n",
              "1316 no   5       23.91667 3.192  0.0003759399   0.000000  no    no     \n",
              "1317 yes  0       40.58333 4.600  0.0265126100 101.298300  yes   no     \n",
              "1318 yes  0       32.83333 3.700  0.0089989190  26.996670  no    yes    \n",
              "1319 yes  0       48.25000 3.700  0.1116186000 344.157500  yes   no     \n",
              "     dependents months majorcards active\n",
              "1314 0          13     1           1    \n",
              "1315 0          94     1          19    \n",
              "1316 3          12     1           5    \n",
              "1317 2           1     1           2    \n",
              "1318 0          60     1           7    \n",
              "1319 2           2     1           0    "
            ]
          },
          "metadata": {}
        }
      ]
    },
    {
      "cell_type": "code",
      "source": [
        "str(CreditCard)"
      ],
      "metadata": {
        "colab": {
          "base_uri": "https://localhost:8080/"
        },
        "id": "itgcKke1M0_0",
        "outputId": "f47bdb38-f940-47f2-a3ab-818fd9518103"
      },
      "id": "itgcKke1M0_0",
      "execution_count": 6,
      "outputs": [
        {
          "output_type": "stream",
          "name": "stdout",
          "text": [
            "'data.frame':\t1319 obs. of  12 variables:\n",
            " $ card       : Factor w/ 2 levels \"no\",\"yes\": 2 2 2 2 2 2 2 2 2 2 ...\n",
            " $ reports    : num  0 0 0 0 0 0 0 0 0 0 ...\n",
            " $ age        : num  37.7 33.2 33.7 30.5 32.2 ...\n",
            " $ income     : num  4.52 2.42 4.5 2.54 9.79 ...\n",
            " $ share      : num  0.03327 0.00522 0.00416 0.06521 0.06705 ...\n",
            " $ expenditure: num  124.98 9.85 15 137.87 546.5 ...\n",
            " $ owner      : Factor w/ 2 levels \"no\",\"yes\": 2 1 2 1 2 1 1 2 2 1 ...\n",
            " $ selfemp    : Factor w/ 2 levels \"no\",\"yes\": 1 1 1 1 1 1 1 1 1 1 ...\n",
            " $ dependents : num  3 3 4 0 2 0 2 0 0 0 ...\n",
            " $ months     : num  54 34 58 25 64 54 7 77 97 65 ...\n",
            " $ majorcards : num  1 1 1 1 1 1 1 1 1 1 ...\n",
            " $ active     : num  12 13 5 7 5 1 5 3 6 18 ...\n"
          ]
        }
      ]
    },
    {
      "cell_type": "markdown",
      "source": [
        "> **💡Interpretations💡-**\n",
        ">\n",
        "> All the word based variables are already in factor format, so we don't need to convert them."
      ],
      "metadata": {
        "id": "BBxsUzW7RFtH"
      },
      "id": "BBxsUzW7RFtH"
    },
    {
      "cell_type": "markdown",
      "id": "4f48f5b9-b244-4735-8c6b-2f9378d3af5a",
      "metadata": {
        "id": "4f48f5b9-b244-4735-8c6b-2f9378d3af5a"
      },
      "source": [
        "#### Solution - 3 a]"
      ]
    },
    {
      "cell_type": "code",
      "source": [
        "summary(CreditCard$income)"
      ],
      "metadata": {
        "colab": {
          "base_uri": "https://localhost:8080/",
          "height": 52
        },
        "id": "Gk4XaxYnNkLx",
        "outputId": "975e394a-5772-48e9-80a5-9a09d0d34aaf"
      },
      "id": "Gk4XaxYnNkLx",
      "execution_count": 7,
      "outputs": [
        {
          "output_type": "display_data",
          "data": {
            "text/plain": [
              "   Min. 1st Qu.  Median    Mean 3rd Qu.    Max. \n",
              "  0.210   2.244   2.900   3.365   4.000  13.500 "
            ]
          },
          "metadata": {}
        }
      ]
    },
    {
      "cell_type": "code",
      "source": [
        "CreditCard$income <- discretize(CreditCard$income, method = \"frequency\", breaks = 3, labels= c(\"low\", \"medium\", \"high\"), include.lowest = TRUE)\n",
        "table(CreditCard$income)\n",
        "\n",
        "View(CreditCard)\n"
      ],
      "metadata": {
        "id": "HMcFCRJMpXPx",
        "colab": {
          "base_uri": "https://localhost:8080/",
          "height": 1000
        },
        "outputId": "c8fce997-e4a8-48db-8a8b-7b294eaf7d22"
      },
      "id": "HMcFCRJMpXPx",
      "execution_count": 8,
      "outputs": [
        {
          "output_type": "display_data",
          "data": {
            "text/plain": [
              "\n",
              "   low medium   high \n",
              "   440    410    469 "
            ]
          },
          "metadata": {}
        },
        {
          "output_type": "display_data",
          "data": {
            "text/plain": [
              "     card reports age      income share        expenditure owner selfemp\n",
              "1    yes  0       37.66667 high   0.0332699100  124.983300 yes   no     \n",
              "2    yes  0       33.25000 low    0.0052169420    9.854167 no    no     \n",
              "3    yes  0       33.66667 high   0.0041555560   15.000000 yes   no     \n",
              "4    yes  0       30.50000 medium 0.0652137800  137.869200 no    no     \n",
              "5    yes  0       32.16667 high   0.0670505900  546.503300 yes   no     \n",
              "6    yes  0       23.25000 medium 0.0444384000   91.996670 no    no     \n",
              "7    yes  0       27.91667 high   0.0125757600   40.833330 no    no     \n",
              "8    yes  0       29.16667 low    0.0764337600  150.790000 yes   no     \n",
              "9    yes  0       37.00000 high   0.2456279000  777.821700 yes   no     \n",
              "10   yes  0       28.41667 medium 0.0197800000   52.580000 no    no     \n",
              "11   yes  0       30.50000 high   0.0780245600  256.664200 yes   no     \n",
              "12   no   0       42.00000 low    0.0006060606    0.000000 yes   no     \n",
              "13   no   0       30.00000 low    0.0006936416    0.000000 yes   no     \n",
              "14   yes  0       28.83333 low    0.0387955100   78.874170 yes   no     \n",
              "15   yes  0       35.33333 low    0.0269067100   42.615000 yes   no     \n",
              "16   yes  0       41.16667 medium 0.1258194000  335.435000 yes   no     \n",
              "17   yes  0       40.08333 high   0.0748157500  248.719200 yes   no     \n",
              "18   no   7       29.50000 medium 0.0004000000    0.000000 yes   no     \n",
              "19   yes  0       39.50000 high   0.0657948600  548.035000 yes   yes    \n",
              "20   no   3       45.75000 medium 0.0003529412    0.000000 no    no     \n",
              "21   yes  0       35.25000 low    0.0223859600   43.339170 yes   no     \n",
              "22   no   1       25.16667 low    0.0006400000    0.000000 no    no     \n",
              "23   yes  0       34.25000 low    0.1311120000  218.520000 yes   no     \n",
              "24   yes  1       35.75000 high   0.0511922500  170.640800 no    no     \n",
              "25   yes  0       42.66667 high   0.0089494170   37.583330 yes   no     \n",
              "26   yes  0       30.25000 high   0.1337421000  502.201700 no    no     \n",
              "27   no   0       21.66667 high   0.0003125000    0.000000 no    yes    \n",
              "28   yes  0       22.25000 low    0.0586080000   73.176670 no    no     \n",
              "29   no   0       34.25000 medium 0.0004800000    0.000000 yes   no     \n",
              "30   yes  0       40.00000 high   0.3344596000 1532.773000 yes   no     \n",
              "⋮    ⋮    ⋮       ⋮        ⋮      ⋮            ⋮           ⋮     ⋮      \n",
              "1290 yes  0       41.41667 medium 0.0102356300  26.878330  no    no     \n",
              "1291 yes  0       40.91667 high   0.0789643300 394.571700  yes   no     \n",
              "1292 yes  0       22.00000 low    0.6214691000 906.309200  no    no     \n",
              "1293 no   0       36.00000 high   0.0002666667   0.000000  yes   no     \n",
              "1294 yes  0       39.58333 medium 0.1922148000 400.447500  no    no     \n",
              "1295 yes  0       31.58333 medium 0.1429055000 303.674200  no    no     \n",
              "1296 yes  0       33.08333 medium 0.0527358900 143.015800  no    no     \n",
              "1297 yes  1       22.83333 high   0.0488416700 146.441700  no    no     \n",
              "1298 no   0       35.41667 medium 0.0004316547   0.000000  no    no     \n",
              "1299 yes  0       58.08333 high   0.0265956800  97.184170  yes   yes    \n",
              "1300 yes  0       38.75000 medium 0.0147803100  38.997500  yes   no     \n",
              "1301 no   0       27.41667 low    0.0007500000   0.000000  yes   no     \n",
              "1302 no   0       23.91667 low    0.0007334963   0.000000  no    no     \n",
              "1303 yes  0       30.08333 medium 0.0124814800  27.416670  no    no     \n",
              "1304 yes  0       34.08333 high   0.0616742900 179.716700  yes   no     \n",
              "1305 yes  1       39.08333 medium 0.0290997500  82.659160  yes   no     \n",
              "1306 yes  0       38.41667 high   0.0292173800 157.844200  yes   no     \n",
              "1307 yes  0       20.50000 low    0.0384310000  63.551670  no    no     \n",
              "1308 yes  0       35.58333 high   0.0519919000 154.859200  yes   no     \n",
              "1309 yes  0       25.91667 medium 0.0212500000  44.020830  no    no     \n",
              "1310 yes  1       40.16667 low    0.2548275000 424.629200  yes   no     \n",
              "1311 yes  0       30.58333 medium 0.0026273890   4.583333  no    yes    \n",
              "1312 no   0       39.33333 low    0.0005216484   0.000000  no    yes    \n",
              "1313 no   0       22.58333 high   0.0003108808   0.000000  no    no     \n",
              "1314 no   1       30.33333 low    0.0005504587   0.000000  no    yes    \n",
              "1315 yes  0       33.58333 high   0.0021462990   7.333333  yes   no     \n",
              "1316 no   5       23.91667 medium 0.0003759399   0.000000  no    no     \n",
              "1317 yes  0       40.58333 high   0.0265126100 101.298300  yes   no     \n",
              "1318 yes  0       32.83333 high   0.0089989190  26.996670  no    yes    \n",
              "1319 yes  0       48.25000 high   0.1116186000 344.157500  yes   no     \n",
              "     dependents months majorcards active\n",
              "1    3           54    1          12    \n",
              "2    3           34    1          13    \n",
              "3    4           58    1           5    \n",
              "4    0           25    1           7    \n",
              "5    2           64    1           5    \n",
              "6    0           54    1           1    \n",
              "7    2            7    1           5    \n",
              "8    0           77    1           3    \n",
              "9    0           97    1           6    \n",
              "10   0           65    1          18    \n",
              "11   1           24    1          20    \n",
              "12   2           36    1           0    \n",
              "13   1           42    0          12    \n",
              "14   0           26    1           3    \n",
              "15   2          120    0           5    \n",
              "16   1          168    1          22    \n",
              "17   2           96    1           0    \n",
              "18   2           60    1           8    \n",
              "19   0           28    1           0    \n",
              "20   0           28    1          10    \n",
              "21   2          115    1           1    \n",
              "22   2            7    0           2    \n",
              "23   0           12    1           0    \n",
              "24   2           18    1          22    \n",
              "25   2           13    1          17    \n",
              "26   2           38    1           7    \n",
              "27   1           12    0           1    \n",
              "28   0           64    1           6    \n",
              "29   1           12    1           0    \n",
              "30   4           74    1          19    \n",
              "⋮    ⋮          ⋮      ⋮          ⋮     \n",
              "1290 1           16    1           2    \n",
              "1291 0           42    1           5    \n",
              "1292 0            2    1           0    \n",
              "1293 2          228    1           0    \n",
              "1294 0           12    1           4    \n",
              "1295 1           60    1           7    \n",
              "1296 0           37    1          18    \n",
              "1297 0           30    1          20    \n",
              "1298 0            6    1           0    \n",
              "1299 1          132    1          12    \n",
              "1300 2           24    1          19    \n",
              "1301 1           30    0           0    \n",
              "1302 1           13    1           0    \n",
              "1303 2            1    1           8    \n",
              "1304 0           24    0          10    \n",
              "1305 0           41    1          12    \n",
              "1306 3           60    1           9    \n",
              "1307 0          111    1           6    \n",
              "1308 2          123    1           7    \n",
              "1309 0           25    1          10    \n",
              "1310 1          121    1          10    \n",
              "1311 3           36    0           4    \n",
              "1312 0           46    1           3    \n",
              "1313 1           36    0           4    \n",
              "1314 0           13    1           1    \n",
              "1315 0           94    1          19    \n",
              "1316 3           12    1           5    \n",
              "1317 2            1    1           2    \n",
              "1318 0           60    1           7    \n",
              "1319 2            2    1           0    "
            ],
            "text/html": [
              "<table class=\"dataframe\">\n",
              "<caption>A data.frame: 1319 × 12</caption>\n",
              "<thead>\n",
              "\t<tr><th></th><th scope=col>card</th><th scope=col>reports</th><th scope=col>age</th><th scope=col>income</th><th scope=col>share</th><th scope=col>expenditure</th><th scope=col>owner</th><th scope=col>selfemp</th><th scope=col>dependents</th><th scope=col>months</th><th scope=col>majorcards</th><th scope=col>active</th></tr>\n",
              "\t<tr><th></th><th scope=col>&lt;fct&gt;</th><th scope=col>&lt;dbl&gt;</th><th scope=col>&lt;dbl&gt;</th><th scope=col>&lt;fct&gt;</th><th scope=col>&lt;dbl&gt;</th><th scope=col>&lt;dbl&gt;</th><th scope=col>&lt;fct&gt;</th><th scope=col>&lt;fct&gt;</th><th scope=col>&lt;dbl&gt;</th><th scope=col>&lt;dbl&gt;</th><th scope=col>&lt;dbl&gt;</th><th scope=col>&lt;dbl&gt;</th></tr>\n",
              "</thead>\n",
              "<tbody>\n",
              "\t<tr><th scope=row>1</th><td>yes</td><td>0</td><td>37.66667</td><td>high  </td><td>0.0332699100</td><td> 124.983300</td><td>yes</td><td>no </td><td>3</td><td> 54</td><td>1</td><td>12</td></tr>\n",
              "\t<tr><th scope=row>2</th><td>yes</td><td>0</td><td>33.25000</td><td>low   </td><td>0.0052169420</td><td>   9.854167</td><td>no </td><td>no </td><td>3</td><td> 34</td><td>1</td><td>13</td></tr>\n",
              "\t<tr><th scope=row>3</th><td>yes</td><td>0</td><td>33.66667</td><td>high  </td><td>0.0041555560</td><td>  15.000000</td><td>yes</td><td>no </td><td>4</td><td> 58</td><td>1</td><td> 5</td></tr>\n",
              "\t<tr><th scope=row>4</th><td>yes</td><td>0</td><td>30.50000</td><td>medium</td><td>0.0652137800</td><td> 137.869200</td><td>no </td><td>no </td><td>0</td><td> 25</td><td>1</td><td> 7</td></tr>\n",
              "\t<tr><th scope=row>5</th><td>yes</td><td>0</td><td>32.16667</td><td>high  </td><td>0.0670505900</td><td> 546.503300</td><td>yes</td><td>no </td><td>2</td><td> 64</td><td>1</td><td> 5</td></tr>\n",
              "\t<tr><th scope=row>6</th><td>yes</td><td>0</td><td>23.25000</td><td>medium</td><td>0.0444384000</td><td>  91.996670</td><td>no </td><td>no </td><td>0</td><td> 54</td><td>1</td><td> 1</td></tr>\n",
              "\t<tr><th scope=row>7</th><td>yes</td><td>0</td><td>27.91667</td><td>high  </td><td>0.0125757600</td><td>  40.833330</td><td>no </td><td>no </td><td>2</td><td>  7</td><td>1</td><td> 5</td></tr>\n",
              "\t<tr><th scope=row>8</th><td>yes</td><td>0</td><td>29.16667</td><td>low   </td><td>0.0764337600</td><td> 150.790000</td><td>yes</td><td>no </td><td>0</td><td> 77</td><td>1</td><td> 3</td></tr>\n",
              "\t<tr><th scope=row>9</th><td>yes</td><td>0</td><td>37.00000</td><td>high  </td><td>0.2456279000</td><td> 777.821700</td><td>yes</td><td>no </td><td>0</td><td> 97</td><td>1</td><td> 6</td></tr>\n",
              "\t<tr><th scope=row>10</th><td>yes</td><td>0</td><td>28.41667</td><td>medium</td><td>0.0197800000</td><td>  52.580000</td><td>no </td><td>no </td><td>0</td><td> 65</td><td>1</td><td>18</td></tr>\n",
              "\t<tr><th scope=row>11</th><td>yes</td><td>0</td><td>30.50000</td><td>high  </td><td>0.0780245600</td><td> 256.664200</td><td>yes</td><td>no </td><td>1</td><td> 24</td><td>1</td><td>20</td></tr>\n",
              "\t<tr><th scope=row>12</th><td>no </td><td>0</td><td>42.00000</td><td>low   </td><td>0.0006060606</td><td>   0.000000</td><td>yes</td><td>no </td><td>2</td><td> 36</td><td>1</td><td> 0</td></tr>\n",
              "\t<tr><th scope=row>13</th><td>no </td><td>0</td><td>30.00000</td><td>low   </td><td>0.0006936416</td><td>   0.000000</td><td>yes</td><td>no </td><td>1</td><td> 42</td><td>0</td><td>12</td></tr>\n",
              "\t<tr><th scope=row>14</th><td>yes</td><td>0</td><td>28.83333</td><td>low   </td><td>0.0387955100</td><td>  78.874170</td><td>yes</td><td>no </td><td>0</td><td> 26</td><td>1</td><td> 3</td></tr>\n",
              "\t<tr><th scope=row>15</th><td>yes</td><td>0</td><td>35.33333</td><td>low   </td><td>0.0269067100</td><td>  42.615000</td><td>yes</td><td>no </td><td>2</td><td>120</td><td>0</td><td> 5</td></tr>\n",
              "\t<tr><th scope=row>16</th><td>yes</td><td>0</td><td>41.16667</td><td>medium</td><td>0.1258194000</td><td> 335.435000</td><td>yes</td><td>no </td><td>1</td><td>168</td><td>1</td><td>22</td></tr>\n",
              "\t<tr><th scope=row>17</th><td>yes</td><td>0</td><td>40.08333</td><td>high  </td><td>0.0748157500</td><td> 248.719200</td><td>yes</td><td>no </td><td>2</td><td> 96</td><td>1</td><td> 0</td></tr>\n",
              "\t<tr><th scope=row>18</th><td>no </td><td>7</td><td>29.50000</td><td>medium</td><td>0.0004000000</td><td>   0.000000</td><td>yes</td><td>no </td><td>2</td><td> 60</td><td>1</td><td> 8</td></tr>\n",
              "\t<tr><th scope=row>19</th><td>yes</td><td>0</td><td>39.50000</td><td>high  </td><td>0.0657948600</td><td> 548.035000</td><td>yes</td><td>yes</td><td>0</td><td> 28</td><td>1</td><td> 0</td></tr>\n",
              "\t<tr><th scope=row>20</th><td>no </td><td>3</td><td>45.75000</td><td>medium</td><td>0.0003529412</td><td>   0.000000</td><td>no </td><td>no </td><td>0</td><td> 28</td><td>1</td><td>10</td></tr>\n",
              "\t<tr><th scope=row>21</th><td>yes</td><td>0</td><td>35.25000</td><td>low   </td><td>0.0223859600</td><td>  43.339170</td><td>yes</td><td>no </td><td>2</td><td>115</td><td>1</td><td> 1</td></tr>\n",
              "\t<tr><th scope=row>22</th><td>no </td><td>1</td><td>25.16667</td><td>low   </td><td>0.0006400000</td><td>   0.000000</td><td>no </td><td>no </td><td>2</td><td>  7</td><td>0</td><td> 2</td></tr>\n",
              "\t<tr><th scope=row>23</th><td>yes</td><td>0</td><td>34.25000</td><td>low   </td><td>0.1311120000</td><td> 218.520000</td><td>yes</td><td>no </td><td>0</td><td> 12</td><td>1</td><td> 0</td></tr>\n",
              "\t<tr><th scope=row>24</th><td>yes</td><td>1</td><td>35.75000</td><td>high  </td><td>0.0511922500</td><td> 170.640800</td><td>no </td><td>no </td><td>2</td><td> 18</td><td>1</td><td>22</td></tr>\n",
              "\t<tr><th scope=row>25</th><td>yes</td><td>0</td><td>42.66667</td><td>high  </td><td>0.0089494170</td><td>  37.583330</td><td>yes</td><td>no </td><td>2</td><td> 13</td><td>1</td><td>17</td></tr>\n",
              "\t<tr><th scope=row>26</th><td>yes</td><td>0</td><td>30.25000</td><td>high  </td><td>0.1337421000</td><td> 502.201700</td><td>no </td><td>no </td><td>2</td><td> 38</td><td>1</td><td> 7</td></tr>\n",
              "\t<tr><th scope=row>27</th><td>no </td><td>0</td><td>21.66667</td><td>high  </td><td>0.0003125000</td><td>   0.000000</td><td>no </td><td>yes</td><td>1</td><td> 12</td><td>0</td><td> 1</td></tr>\n",
              "\t<tr><th scope=row>28</th><td>yes</td><td>0</td><td>22.25000</td><td>low   </td><td>0.0586080000</td><td>  73.176670</td><td>no </td><td>no </td><td>0</td><td> 64</td><td>1</td><td> 6</td></tr>\n",
              "\t<tr><th scope=row>29</th><td>no </td><td>0</td><td>34.25000</td><td>medium</td><td>0.0004800000</td><td>   0.000000</td><td>yes</td><td>no </td><td>1</td><td> 12</td><td>1</td><td> 0</td></tr>\n",
              "\t<tr><th scope=row>30</th><td>yes</td><td>0</td><td>40.00000</td><td>high  </td><td>0.3344596000</td><td>1532.773000</td><td>yes</td><td>no </td><td>4</td><td> 74</td><td>1</td><td>19</td></tr>\n",
              "\t<tr><th scope=row>⋮</th><td>⋮</td><td>⋮</td><td>⋮</td><td>⋮</td><td>⋮</td><td>⋮</td><td>⋮</td><td>⋮</td><td>⋮</td><td>⋮</td><td>⋮</td><td>⋮</td></tr>\n",
              "\t<tr><th scope=row>1290</th><td>yes</td><td>0</td><td>41.41667</td><td>medium</td><td>0.0102356300</td><td> 26.878330</td><td>no </td><td>no </td><td>1</td><td> 16</td><td>1</td><td> 2</td></tr>\n",
              "\t<tr><th scope=row>1291</th><td>yes</td><td>0</td><td>40.91667</td><td>high  </td><td>0.0789643300</td><td>394.571700</td><td>yes</td><td>no </td><td>0</td><td> 42</td><td>1</td><td> 5</td></tr>\n",
              "\t<tr><th scope=row>1292</th><td>yes</td><td>0</td><td>22.00000</td><td>low   </td><td>0.6214691000</td><td>906.309200</td><td>no </td><td>no </td><td>0</td><td>  2</td><td>1</td><td> 0</td></tr>\n",
              "\t<tr><th scope=row>1293</th><td>no </td><td>0</td><td>36.00000</td><td>high  </td><td>0.0002666667</td><td>  0.000000</td><td>yes</td><td>no </td><td>2</td><td>228</td><td>1</td><td> 0</td></tr>\n",
              "\t<tr><th scope=row>1294</th><td>yes</td><td>0</td><td>39.58333</td><td>medium</td><td>0.1922148000</td><td>400.447500</td><td>no </td><td>no </td><td>0</td><td> 12</td><td>1</td><td> 4</td></tr>\n",
              "\t<tr><th scope=row>1295</th><td>yes</td><td>0</td><td>31.58333</td><td>medium</td><td>0.1429055000</td><td>303.674200</td><td>no </td><td>no </td><td>1</td><td> 60</td><td>1</td><td> 7</td></tr>\n",
              "\t<tr><th scope=row>1296</th><td>yes</td><td>0</td><td>33.08333</td><td>medium</td><td>0.0527358900</td><td>143.015800</td><td>no </td><td>no </td><td>0</td><td> 37</td><td>1</td><td>18</td></tr>\n",
              "\t<tr><th scope=row>1297</th><td>yes</td><td>1</td><td>22.83333</td><td>high  </td><td>0.0488416700</td><td>146.441700</td><td>no </td><td>no </td><td>0</td><td> 30</td><td>1</td><td>20</td></tr>\n",
              "\t<tr><th scope=row>1298</th><td>no </td><td>0</td><td>35.41667</td><td>medium</td><td>0.0004316547</td><td>  0.000000</td><td>no </td><td>no </td><td>0</td><td>  6</td><td>1</td><td> 0</td></tr>\n",
              "\t<tr><th scope=row>1299</th><td>yes</td><td>0</td><td>58.08333</td><td>high  </td><td>0.0265956800</td><td> 97.184170</td><td>yes</td><td>yes</td><td>1</td><td>132</td><td>1</td><td>12</td></tr>\n",
              "\t<tr><th scope=row>1300</th><td>yes</td><td>0</td><td>38.75000</td><td>medium</td><td>0.0147803100</td><td> 38.997500</td><td>yes</td><td>no </td><td>2</td><td> 24</td><td>1</td><td>19</td></tr>\n",
              "\t<tr><th scope=row>1301</th><td>no </td><td>0</td><td>27.41667</td><td>low   </td><td>0.0007500000</td><td>  0.000000</td><td>yes</td><td>no </td><td>1</td><td> 30</td><td>0</td><td> 0</td></tr>\n",
              "\t<tr><th scope=row>1302</th><td>no </td><td>0</td><td>23.91667</td><td>low   </td><td>0.0007334963</td><td>  0.000000</td><td>no </td><td>no </td><td>1</td><td> 13</td><td>1</td><td> 0</td></tr>\n",
              "\t<tr><th scope=row>1303</th><td>yes</td><td>0</td><td>30.08333</td><td>medium</td><td>0.0124814800</td><td> 27.416670</td><td>no </td><td>no </td><td>2</td><td>  1</td><td>1</td><td> 8</td></tr>\n",
              "\t<tr><th scope=row>1304</th><td>yes</td><td>0</td><td>34.08333</td><td>high  </td><td>0.0616742900</td><td>179.716700</td><td>yes</td><td>no </td><td>0</td><td> 24</td><td>0</td><td>10</td></tr>\n",
              "\t<tr><th scope=row>1305</th><td>yes</td><td>1</td><td>39.08333</td><td>medium</td><td>0.0290997500</td><td> 82.659160</td><td>yes</td><td>no </td><td>0</td><td> 41</td><td>1</td><td>12</td></tr>\n",
              "\t<tr><th scope=row>1306</th><td>yes</td><td>0</td><td>38.41667</td><td>high  </td><td>0.0292173800</td><td>157.844200</td><td>yes</td><td>no </td><td>3</td><td> 60</td><td>1</td><td> 9</td></tr>\n",
              "\t<tr><th scope=row>1307</th><td>yes</td><td>0</td><td>20.50000</td><td>low   </td><td>0.0384310000</td><td> 63.551670</td><td>no </td><td>no </td><td>0</td><td>111</td><td>1</td><td> 6</td></tr>\n",
              "\t<tr><th scope=row>1308</th><td>yes</td><td>0</td><td>35.58333</td><td>high  </td><td>0.0519919000</td><td>154.859200</td><td>yes</td><td>no </td><td>2</td><td>123</td><td>1</td><td> 7</td></tr>\n",
              "\t<tr><th scope=row>1309</th><td>yes</td><td>0</td><td>25.91667</td><td>medium</td><td>0.0212500000</td><td> 44.020830</td><td>no </td><td>no </td><td>0</td><td> 25</td><td>1</td><td>10</td></tr>\n",
              "\t<tr><th scope=row>1310</th><td>yes</td><td>1</td><td>40.16667</td><td>low   </td><td>0.2548275000</td><td>424.629200</td><td>yes</td><td>no </td><td>1</td><td>121</td><td>1</td><td>10</td></tr>\n",
              "\t<tr><th scope=row>1311</th><td>yes</td><td>0</td><td>30.58333</td><td>medium</td><td>0.0026273890</td><td>  4.583333</td><td>no </td><td>yes</td><td>3</td><td> 36</td><td>0</td><td> 4</td></tr>\n",
              "\t<tr><th scope=row>1312</th><td>no </td><td>0</td><td>39.33333</td><td>low   </td><td>0.0005216484</td><td>  0.000000</td><td>no </td><td>yes</td><td>0</td><td> 46</td><td>1</td><td> 3</td></tr>\n",
              "\t<tr><th scope=row>1313</th><td>no </td><td>0</td><td>22.58333</td><td>high  </td><td>0.0003108808</td><td>  0.000000</td><td>no </td><td>no </td><td>1</td><td> 36</td><td>0</td><td> 4</td></tr>\n",
              "\t<tr><th scope=row>1314</th><td>no </td><td>1</td><td>30.33333</td><td>low   </td><td>0.0005504587</td><td>  0.000000</td><td>no </td><td>yes</td><td>0</td><td> 13</td><td>1</td><td> 1</td></tr>\n",
              "\t<tr><th scope=row>1315</th><td>yes</td><td>0</td><td>33.58333</td><td>high  </td><td>0.0021462990</td><td>  7.333333</td><td>yes</td><td>no </td><td>0</td><td> 94</td><td>1</td><td>19</td></tr>\n",
              "\t<tr><th scope=row>1316</th><td>no </td><td>5</td><td>23.91667</td><td>medium</td><td>0.0003759399</td><td>  0.000000</td><td>no </td><td>no </td><td>3</td><td> 12</td><td>1</td><td> 5</td></tr>\n",
              "\t<tr><th scope=row>1317</th><td>yes</td><td>0</td><td>40.58333</td><td>high  </td><td>0.0265126100</td><td>101.298300</td><td>yes</td><td>no </td><td>2</td><td>  1</td><td>1</td><td> 2</td></tr>\n",
              "\t<tr><th scope=row>1318</th><td>yes</td><td>0</td><td>32.83333</td><td>high  </td><td>0.0089989190</td><td> 26.996670</td><td>no </td><td>yes</td><td>0</td><td> 60</td><td>1</td><td> 7</td></tr>\n",
              "\t<tr><th scope=row>1319</th><td>yes</td><td>0</td><td>48.25000</td><td>high  </td><td>0.1116186000</td><td>344.157500</td><td>yes</td><td>no </td><td>2</td><td>  2</td><td>1</td><td> 0</td></tr>\n",
              "</tbody>\n",
              "</table>\n"
            ],
            "text/markdown": "\nA data.frame: 1319 × 12\n\n| <!--/--> | card &lt;fct&gt; | reports &lt;dbl&gt; | age &lt;dbl&gt; | income &lt;fct&gt; | share &lt;dbl&gt; | expenditure &lt;dbl&gt; | owner &lt;fct&gt; | selfemp &lt;fct&gt; | dependents &lt;dbl&gt; | months &lt;dbl&gt; | majorcards &lt;dbl&gt; | active &lt;dbl&gt; |\n|---|---|---|---|---|---|---|---|---|---|---|---|---|\n| 1 | yes | 0 | 37.66667 | high   | 0.0332699100 |  124.983300 | yes | no  | 3 |  54 | 1 | 12 |\n| 2 | yes | 0 | 33.25000 | low    | 0.0052169420 |    9.854167 | no  | no  | 3 |  34 | 1 | 13 |\n| 3 | yes | 0 | 33.66667 | high   | 0.0041555560 |   15.000000 | yes | no  | 4 |  58 | 1 |  5 |\n| 4 | yes | 0 | 30.50000 | medium | 0.0652137800 |  137.869200 | no  | no  | 0 |  25 | 1 |  7 |\n| 5 | yes | 0 | 32.16667 | high   | 0.0670505900 |  546.503300 | yes | no  | 2 |  64 | 1 |  5 |\n| 6 | yes | 0 | 23.25000 | medium | 0.0444384000 |   91.996670 | no  | no  | 0 |  54 | 1 |  1 |\n| 7 | yes | 0 | 27.91667 | high   | 0.0125757600 |   40.833330 | no  | no  | 2 |   7 | 1 |  5 |\n| 8 | yes | 0 | 29.16667 | low    | 0.0764337600 |  150.790000 | yes | no  | 0 |  77 | 1 |  3 |\n| 9 | yes | 0 | 37.00000 | high   | 0.2456279000 |  777.821700 | yes | no  | 0 |  97 | 1 |  6 |\n| 10 | yes | 0 | 28.41667 | medium | 0.0197800000 |   52.580000 | no  | no  | 0 |  65 | 1 | 18 |\n| 11 | yes | 0 | 30.50000 | high   | 0.0780245600 |  256.664200 | yes | no  | 1 |  24 | 1 | 20 |\n| 12 | no  | 0 | 42.00000 | low    | 0.0006060606 |    0.000000 | yes | no  | 2 |  36 | 1 |  0 |\n| 13 | no  | 0 | 30.00000 | low    | 0.0006936416 |    0.000000 | yes | no  | 1 |  42 | 0 | 12 |\n| 14 | yes | 0 | 28.83333 | low    | 0.0387955100 |   78.874170 | yes | no  | 0 |  26 | 1 |  3 |\n| 15 | yes | 0 | 35.33333 | low    | 0.0269067100 |   42.615000 | yes | no  | 2 | 120 | 0 |  5 |\n| 16 | yes | 0 | 41.16667 | medium | 0.1258194000 |  335.435000 | yes | no  | 1 | 168 | 1 | 22 |\n| 17 | yes | 0 | 40.08333 | high   | 0.0748157500 |  248.719200 | yes | no  | 2 |  96 | 1 |  0 |\n| 18 | no  | 7 | 29.50000 | medium | 0.0004000000 |    0.000000 | yes | no  | 2 |  60 | 1 |  8 |\n| 19 | yes | 0 | 39.50000 | high   | 0.0657948600 |  548.035000 | yes | yes | 0 |  28 | 1 |  0 |\n| 20 | no  | 3 | 45.75000 | medium | 0.0003529412 |    0.000000 | no  | no  | 0 |  28 | 1 | 10 |\n| 21 | yes | 0 | 35.25000 | low    | 0.0223859600 |   43.339170 | yes | no  | 2 | 115 | 1 |  1 |\n| 22 | no  | 1 | 25.16667 | low    | 0.0006400000 |    0.000000 | no  | no  | 2 |   7 | 0 |  2 |\n| 23 | yes | 0 | 34.25000 | low    | 0.1311120000 |  218.520000 | yes | no  | 0 |  12 | 1 |  0 |\n| 24 | yes | 1 | 35.75000 | high   | 0.0511922500 |  170.640800 | no  | no  | 2 |  18 | 1 | 22 |\n| 25 | yes | 0 | 42.66667 | high   | 0.0089494170 |   37.583330 | yes | no  | 2 |  13 | 1 | 17 |\n| 26 | yes | 0 | 30.25000 | high   | 0.1337421000 |  502.201700 | no  | no  | 2 |  38 | 1 |  7 |\n| 27 | no  | 0 | 21.66667 | high   | 0.0003125000 |    0.000000 | no  | yes | 1 |  12 | 0 |  1 |\n| 28 | yes | 0 | 22.25000 | low    | 0.0586080000 |   73.176670 | no  | no  | 0 |  64 | 1 |  6 |\n| 29 | no  | 0 | 34.25000 | medium | 0.0004800000 |    0.000000 | yes | no  | 1 |  12 | 1 |  0 |\n| 30 | yes | 0 | 40.00000 | high   | 0.3344596000 | 1532.773000 | yes | no  | 4 |  74 | 1 | 19 |\n| ⋮ | ⋮ | ⋮ | ⋮ | ⋮ | ⋮ | ⋮ | ⋮ | ⋮ | ⋮ | ⋮ | ⋮ | ⋮ |\n| 1290 | yes | 0 | 41.41667 | medium | 0.0102356300 |  26.878330 | no  | no  | 1 |  16 | 1 |  2 |\n| 1291 | yes | 0 | 40.91667 | high   | 0.0789643300 | 394.571700 | yes | no  | 0 |  42 | 1 |  5 |\n| 1292 | yes | 0 | 22.00000 | low    | 0.6214691000 | 906.309200 | no  | no  | 0 |   2 | 1 |  0 |\n| 1293 | no  | 0 | 36.00000 | high   | 0.0002666667 |   0.000000 | yes | no  | 2 | 228 | 1 |  0 |\n| 1294 | yes | 0 | 39.58333 | medium | 0.1922148000 | 400.447500 | no  | no  | 0 |  12 | 1 |  4 |\n| 1295 | yes | 0 | 31.58333 | medium | 0.1429055000 | 303.674200 | no  | no  | 1 |  60 | 1 |  7 |\n| 1296 | yes | 0 | 33.08333 | medium | 0.0527358900 | 143.015800 | no  | no  | 0 |  37 | 1 | 18 |\n| 1297 | yes | 1 | 22.83333 | high   | 0.0488416700 | 146.441700 | no  | no  | 0 |  30 | 1 | 20 |\n| 1298 | no  | 0 | 35.41667 | medium | 0.0004316547 |   0.000000 | no  | no  | 0 |   6 | 1 |  0 |\n| 1299 | yes | 0 | 58.08333 | high   | 0.0265956800 |  97.184170 | yes | yes | 1 | 132 | 1 | 12 |\n| 1300 | yes | 0 | 38.75000 | medium | 0.0147803100 |  38.997500 | yes | no  | 2 |  24 | 1 | 19 |\n| 1301 | no  | 0 | 27.41667 | low    | 0.0007500000 |   0.000000 | yes | no  | 1 |  30 | 0 |  0 |\n| 1302 | no  | 0 | 23.91667 | low    | 0.0007334963 |   0.000000 | no  | no  | 1 |  13 | 1 |  0 |\n| 1303 | yes | 0 | 30.08333 | medium | 0.0124814800 |  27.416670 | no  | no  | 2 |   1 | 1 |  8 |\n| 1304 | yes | 0 | 34.08333 | high   | 0.0616742900 | 179.716700 | yes | no  | 0 |  24 | 0 | 10 |\n| 1305 | yes | 1 | 39.08333 | medium | 0.0290997500 |  82.659160 | yes | no  | 0 |  41 | 1 | 12 |\n| 1306 | yes | 0 | 38.41667 | high   | 0.0292173800 | 157.844200 | yes | no  | 3 |  60 | 1 |  9 |\n| 1307 | yes | 0 | 20.50000 | low    | 0.0384310000 |  63.551670 | no  | no  | 0 | 111 | 1 |  6 |\n| 1308 | yes | 0 | 35.58333 | high   | 0.0519919000 | 154.859200 | yes | no  | 2 | 123 | 1 |  7 |\n| 1309 | yes | 0 | 25.91667 | medium | 0.0212500000 |  44.020830 | no  | no  | 0 |  25 | 1 | 10 |\n| 1310 | yes | 1 | 40.16667 | low    | 0.2548275000 | 424.629200 | yes | no  | 1 | 121 | 1 | 10 |\n| 1311 | yes | 0 | 30.58333 | medium | 0.0026273890 |   4.583333 | no  | yes | 3 |  36 | 0 |  4 |\n| 1312 | no  | 0 | 39.33333 | low    | 0.0005216484 |   0.000000 | no  | yes | 0 |  46 | 1 |  3 |\n| 1313 | no  | 0 | 22.58333 | high   | 0.0003108808 |   0.000000 | no  | no  | 1 |  36 | 0 |  4 |\n| 1314 | no  | 1 | 30.33333 | low    | 0.0005504587 |   0.000000 | no  | yes | 0 |  13 | 1 |  1 |\n| 1315 | yes | 0 | 33.58333 | high   | 0.0021462990 |   7.333333 | yes | no  | 0 |  94 | 1 | 19 |\n| 1316 | no  | 5 | 23.91667 | medium | 0.0003759399 |   0.000000 | no  | no  | 3 |  12 | 1 |  5 |\n| 1317 | yes | 0 | 40.58333 | high   | 0.0265126100 | 101.298300 | yes | no  | 2 |   1 | 1 |  2 |\n| 1318 | yes | 0 | 32.83333 | high   | 0.0089989190 |  26.996670 | no  | yes | 0 |  60 | 1 |  7 |\n| 1319 | yes | 0 | 48.25000 | high   | 0.1116186000 | 344.157500 | yes | no  | 2 |   2 | 1 |  0 |\n\n",
            "text/latex": "A data.frame: 1319 × 12\n\\begin{tabular}{r|llllllllllll}\n  & card & reports & age & income & share & expenditure & owner & selfemp & dependents & months & majorcards & active\\\\\n  & <fct> & <dbl> & <dbl> & <fct> & <dbl> & <dbl> & <fct> & <fct> & <dbl> & <dbl> & <dbl> & <dbl>\\\\\n\\hline\n\t1 & yes & 0 & 37.66667 & high   & 0.0332699100 &  124.983300 & yes & no  & 3 &  54 & 1 & 12\\\\\n\t2 & yes & 0 & 33.25000 & low    & 0.0052169420 &    9.854167 & no  & no  & 3 &  34 & 1 & 13\\\\\n\t3 & yes & 0 & 33.66667 & high   & 0.0041555560 &   15.000000 & yes & no  & 4 &  58 & 1 &  5\\\\\n\t4 & yes & 0 & 30.50000 & medium & 0.0652137800 &  137.869200 & no  & no  & 0 &  25 & 1 &  7\\\\\n\t5 & yes & 0 & 32.16667 & high   & 0.0670505900 &  546.503300 & yes & no  & 2 &  64 & 1 &  5\\\\\n\t6 & yes & 0 & 23.25000 & medium & 0.0444384000 &   91.996670 & no  & no  & 0 &  54 & 1 &  1\\\\\n\t7 & yes & 0 & 27.91667 & high   & 0.0125757600 &   40.833330 & no  & no  & 2 &   7 & 1 &  5\\\\\n\t8 & yes & 0 & 29.16667 & low    & 0.0764337600 &  150.790000 & yes & no  & 0 &  77 & 1 &  3\\\\\n\t9 & yes & 0 & 37.00000 & high   & 0.2456279000 &  777.821700 & yes & no  & 0 &  97 & 1 &  6\\\\\n\t10 & yes & 0 & 28.41667 & medium & 0.0197800000 &   52.580000 & no  & no  & 0 &  65 & 1 & 18\\\\\n\t11 & yes & 0 & 30.50000 & high   & 0.0780245600 &  256.664200 & yes & no  & 1 &  24 & 1 & 20\\\\\n\t12 & no  & 0 & 42.00000 & low    & 0.0006060606 &    0.000000 & yes & no  & 2 &  36 & 1 &  0\\\\\n\t13 & no  & 0 & 30.00000 & low    & 0.0006936416 &    0.000000 & yes & no  & 1 &  42 & 0 & 12\\\\\n\t14 & yes & 0 & 28.83333 & low    & 0.0387955100 &   78.874170 & yes & no  & 0 &  26 & 1 &  3\\\\\n\t15 & yes & 0 & 35.33333 & low    & 0.0269067100 &   42.615000 & yes & no  & 2 & 120 & 0 &  5\\\\\n\t16 & yes & 0 & 41.16667 & medium & 0.1258194000 &  335.435000 & yes & no  & 1 & 168 & 1 & 22\\\\\n\t17 & yes & 0 & 40.08333 & high   & 0.0748157500 &  248.719200 & yes & no  & 2 &  96 & 1 &  0\\\\\n\t18 & no  & 7 & 29.50000 & medium & 0.0004000000 &    0.000000 & yes & no  & 2 &  60 & 1 &  8\\\\\n\t19 & yes & 0 & 39.50000 & high   & 0.0657948600 &  548.035000 & yes & yes & 0 &  28 & 1 &  0\\\\\n\t20 & no  & 3 & 45.75000 & medium & 0.0003529412 &    0.000000 & no  & no  & 0 &  28 & 1 & 10\\\\\n\t21 & yes & 0 & 35.25000 & low    & 0.0223859600 &   43.339170 & yes & no  & 2 & 115 & 1 &  1\\\\\n\t22 & no  & 1 & 25.16667 & low    & 0.0006400000 &    0.000000 & no  & no  & 2 &   7 & 0 &  2\\\\\n\t23 & yes & 0 & 34.25000 & low    & 0.1311120000 &  218.520000 & yes & no  & 0 &  12 & 1 &  0\\\\\n\t24 & yes & 1 & 35.75000 & high   & 0.0511922500 &  170.640800 & no  & no  & 2 &  18 & 1 & 22\\\\\n\t25 & yes & 0 & 42.66667 & high   & 0.0089494170 &   37.583330 & yes & no  & 2 &  13 & 1 & 17\\\\\n\t26 & yes & 0 & 30.25000 & high   & 0.1337421000 &  502.201700 & no  & no  & 2 &  38 & 1 &  7\\\\\n\t27 & no  & 0 & 21.66667 & high   & 0.0003125000 &    0.000000 & no  & yes & 1 &  12 & 0 &  1\\\\\n\t28 & yes & 0 & 22.25000 & low    & 0.0586080000 &   73.176670 & no  & no  & 0 &  64 & 1 &  6\\\\\n\t29 & no  & 0 & 34.25000 & medium & 0.0004800000 &    0.000000 & yes & no  & 1 &  12 & 1 &  0\\\\\n\t30 & yes & 0 & 40.00000 & high   & 0.3344596000 & 1532.773000 & yes & no  & 4 &  74 & 1 & 19\\\\\n\t⋮ & ⋮ & ⋮ & ⋮ & ⋮ & ⋮ & ⋮ & ⋮ & ⋮ & ⋮ & ⋮ & ⋮ & ⋮\\\\\n\t1290 & yes & 0 & 41.41667 & medium & 0.0102356300 &  26.878330 & no  & no  & 1 &  16 & 1 &  2\\\\\n\t1291 & yes & 0 & 40.91667 & high   & 0.0789643300 & 394.571700 & yes & no  & 0 &  42 & 1 &  5\\\\\n\t1292 & yes & 0 & 22.00000 & low    & 0.6214691000 & 906.309200 & no  & no  & 0 &   2 & 1 &  0\\\\\n\t1293 & no  & 0 & 36.00000 & high   & 0.0002666667 &   0.000000 & yes & no  & 2 & 228 & 1 &  0\\\\\n\t1294 & yes & 0 & 39.58333 & medium & 0.1922148000 & 400.447500 & no  & no  & 0 &  12 & 1 &  4\\\\\n\t1295 & yes & 0 & 31.58333 & medium & 0.1429055000 & 303.674200 & no  & no  & 1 &  60 & 1 &  7\\\\\n\t1296 & yes & 0 & 33.08333 & medium & 0.0527358900 & 143.015800 & no  & no  & 0 &  37 & 1 & 18\\\\\n\t1297 & yes & 1 & 22.83333 & high   & 0.0488416700 & 146.441700 & no  & no  & 0 &  30 & 1 & 20\\\\\n\t1298 & no  & 0 & 35.41667 & medium & 0.0004316547 &   0.000000 & no  & no  & 0 &   6 & 1 &  0\\\\\n\t1299 & yes & 0 & 58.08333 & high   & 0.0265956800 &  97.184170 & yes & yes & 1 & 132 & 1 & 12\\\\\n\t1300 & yes & 0 & 38.75000 & medium & 0.0147803100 &  38.997500 & yes & no  & 2 &  24 & 1 & 19\\\\\n\t1301 & no  & 0 & 27.41667 & low    & 0.0007500000 &   0.000000 & yes & no  & 1 &  30 & 0 &  0\\\\\n\t1302 & no  & 0 & 23.91667 & low    & 0.0007334963 &   0.000000 & no  & no  & 1 &  13 & 1 &  0\\\\\n\t1303 & yes & 0 & 30.08333 & medium & 0.0124814800 &  27.416670 & no  & no  & 2 &   1 & 1 &  8\\\\\n\t1304 & yes & 0 & 34.08333 & high   & 0.0616742900 & 179.716700 & yes & no  & 0 &  24 & 0 & 10\\\\\n\t1305 & yes & 1 & 39.08333 & medium & 0.0290997500 &  82.659160 & yes & no  & 0 &  41 & 1 & 12\\\\\n\t1306 & yes & 0 & 38.41667 & high   & 0.0292173800 & 157.844200 & yes & no  & 3 &  60 & 1 &  9\\\\\n\t1307 & yes & 0 & 20.50000 & low    & 0.0384310000 &  63.551670 & no  & no  & 0 & 111 & 1 &  6\\\\\n\t1308 & yes & 0 & 35.58333 & high   & 0.0519919000 & 154.859200 & yes & no  & 2 & 123 & 1 &  7\\\\\n\t1309 & yes & 0 & 25.91667 & medium & 0.0212500000 &  44.020830 & no  & no  & 0 &  25 & 1 & 10\\\\\n\t1310 & yes & 1 & 40.16667 & low    & 0.2548275000 & 424.629200 & yes & no  & 1 & 121 & 1 & 10\\\\\n\t1311 & yes & 0 & 30.58333 & medium & 0.0026273890 &   4.583333 & no  & yes & 3 &  36 & 0 &  4\\\\\n\t1312 & no  & 0 & 39.33333 & low    & 0.0005216484 &   0.000000 & no  & yes & 0 &  46 & 1 &  3\\\\\n\t1313 & no  & 0 & 22.58333 & high   & 0.0003108808 &   0.000000 & no  & no  & 1 &  36 & 0 &  4\\\\\n\t1314 & no  & 1 & 30.33333 & low    & 0.0005504587 &   0.000000 & no  & yes & 0 &  13 & 1 &  1\\\\\n\t1315 & yes & 0 & 33.58333 & high   & 0.0021462990 &   7.333333 & yes & no  & 0 &  94 & 1 & 19\\\\\n\t1316 & no  & 5 & 23.91667 & medium & 0.0003759399 &   0.000000 & no  & no  & 3 &  12 & 1 &  5\\\\\n\t1317 & yes & 0 & 40.58333 & high   & 0.0265126100 & 101.298300 & yes & no  & 2 &   1 & 1 &  2\\\\\n\t1318 & yes & 0 & 32.83333 & high   & 0.0089989190 &  26.996670 & no  & yes & 0 &  60 & 1 &  7\\\\\n\t1319 & yes & 0 & 48.25000 & high   & 0.1116186000 & 344.157500 & yes & no  & 2 &   2 & 1 &  0\\\\\n\\end{tabular}\n"
          },
          "metadata": {}
        }
      ]
    },
    {
      "cell_type": "markdown",
      "id": "b1e7d2f3-3492-4437-b21b-b33671b0403a",
      "metadata": {
        "id": "b1e7d2f3-3492-4437-b21b-b33671b0403a"
      },
      "source": [
        "> **💡Dummy variables💡-**\n",
        ">\n",
        "> write"
      ]
    },
    {
      "cell_type": "markdown",
      "id": "76e32804-9f64-48c3-9951-f67a4e153c52",
      "metadata": {
        "id": "76e32804-9f64-48c3-9951-f67a4e153c52"
      },
      "source": [
        "#### Solution - 3 b]"
      ]
    },
    {
      "cell_type": "code",
      "execution_count": 15,
      "id": "0550d376-65bd-4891-99d2-fa31e85461e8",
      "metadata": {
        "id": "0550d376-65bd-4891-99d2-fa31e85461e8",
        "colab": {
          "base_uri": "https://localhost:8080/",
          "height": 69
        },
        "outputId": "a2749208-e203-410d-ccf7-e5e61dc8578c"
      },
      "outputs": [
        {
          "output_type": "display_data",
          "data": {
            "text/plain": [
              "\n",
              "   low medium   high \n",
              "   440    410    469 "
            ]
          },
          "metadata": {}
        }
      ],
      "source": [
        "table(CreditCard$income)"
      ]
    },
    {
      "cell_type": "markdown",
      "source": [
        "> **💡Interpresentaiton of Results💡-**\n",
        ">\n",
        ">write"
      ],
      "metadata": {
        "id": "KBQmrLPDXPAX"
      },
      "id": "KBQmrLPDXPAX"
    },
    {
      "cell_type": "markdown",
      "id": "f7855c95-fb3d-40ae-9b59-8ce925fb930f",
      "metadata": {
        "id": "f7855c95-fb3d-40ae-9b59-8ce925fb930f"
      },
      "source": [
        "#### Solution - 4"
      ]
    },
    {
      "cell_type": "code",
      "execution_count": 16,
      "id": "26011e39-a6d6-4493-8973-5bac5d1e5073",
      "metadata": {
        "scrolled": true,
        "id": "26011e39-a6d6-4493-8973-5bac5d1e5073"
      },
      "outputs": [],
      "source": [
        "CreditCard$age <- factor(ifelse(CreditCard$age <= median(CreditCard$age), \"young\", \"old\"))\n",
        "CreditCard$share <- factor(ifelse(CreditCard$share <= median(CreditCard$share), \"Large\", \"Small\"))\n",
        "CreditCard$expenditure <- factor(ifelse(CreditCard$expenditure <= median(CreditCard$expenditure), \"Large\", \"Small\"))\n",
        "CreditCard$dependents <- factor(ifelse(CreditCard$dependents <= median(CreditCard$dependents), \"Large\", \"Small\"))\n"
      ]
    },
    {
      "cell_type": "code",
      "source": [
        "# Display the results\n",
        "table(CreditCard$age)\n",
        "table(CreditCard$share)\n",
        "table(CreditCard$expenditure)\n",
        "table(CreditCard$dependents)\n"
      ],
      "metadata": {
        "colab": {
          "base_uri": "https://localhost:8080/",
          "height": 225
        },
        "id": "GLtHBxPhnQ0K",
        "outputId": "60ef83af-82d3-4dfd-9939-1ec0e9c77323"
      },
      "id": "GLtHBxPhnQ0K",
      "execution_count": 17,
      "outputs": [
        {
          "output_type": "display_data",
          "data": {
            "text/plain": [
              "\n",
              "  old young \n",
              "  656   663 "
            ]
          },
          "metadata": {}
        },
        {
          "output_type": "display_data",
          "data": {
            "text/plain": [
              "\n",
              "Large Small \n",
              "  660   659 "
            ]
          },
          "metadata": {}
        },
        {
          "output_type": "display_data",
          "data": {
            "text/plain": [
              "\n",
              "Large Small \n",
              "  660   659 "
            ]
          },
          "metadata": {}
        },
        {
          "output_type": "display_data",
          "data": {
            "text/plain": [
              "\n",
              "Large Small \n",
              "  926   393 "
            ]
          },
          "metadata": {}
        }
      ]
    },
    {
      "cell_type": "markdown",
      "source": [
        "> **💡Interpresentaiton of Results💡-**\n",
        ">\n",
        "> write"
      ],
      "metadata": {
        "id": "O-xTHawHYmSb"
      },
      "id": "O-xTHawHYmSb"
    },
    {
      "cell_type": "markdown",
      "id": "41ad91ae-e08d-45bc-8e5d-71e591aa7215",
      "metadata": {
        "id": "41ad91ae-e08d-45bc-8e5d-71e591aa7215"
      },
      "source": [
        "#### Solution - 5"
      ]
    },
    {
      "cell_type": "code",
      "source": [
        "selected.var <- c(3, 4, 5, 6, 7, 8, 9)"
      ],
      "metadata": {
        "id": "DSAwjWtsnX4n"
      },
      "id": "DSAwjWtsnX4n",
      "execution_count": 18,
      "outputs": []
    },
    {
      "cell_type": "code",
      "source": [
        "set.seed(1131)"
      ],
      "metadata": {
        "id": "TX3rATFz0mAj"
      },
      "id": "TX3rATFz0mAj",
      "execution_count": 19,
      "outputs": []
    },
    {
      "cell_type": "code",
      "source": [
        "#Partitioning 60% into training and validation 40%\n",
        "train.index <- sample(c(1:dim(CreditCard)[1]), dim(CreditCard)[1]*0.6)\n",
        "train.df <- CreditCard[train.index, selected.var]\n",
        "valid.df <- CreditCard[-train.index, selected.var]\n"
      ],
      "metadata": {
        "id": "ZfbZxLo066eQ"
      },
      "id": "ZfbZxLo066eQ",
      "execution_count": 20,
      "outputs": []
    },
    {
      "cell_type": "markdown",
      "id": "01bee805-8ed0-411f-8d41-877651f6b4c3",
      "metadata": {
        "id": "01bee805-8ed0-411f-8d41-877651f6b4c3"
      },
      "source": [
        "> **💡Interpretation of Graph💡-**\n",
        ">\n",
        "> The data is partitioned into training & validation set this will help us train our model on one sebset (train) and evaluate its performance on another subset (valid)."
      ]
    },
    {
      "cell_type": "markdown",
      "id": "1f28ad4c-c15b-43b2-ac16-3ca00e499f23",
      "metadata": {
        "id": "1f28ad4c-c15b-43b2-ac16-3ca00e499f23"
      },
      "source": [
        "#### Solution - 6"
      ]
    },
    {
      "cell_type": "code",
      "execution_count": 21,
      "id": "a9d51feb-aa03-4569-97f1-2866e66a40fc",
      "metadata": {
        "id": "a9d51feb-aa03-4569-97f1-2866e66a40fc",
        "colab": {
          "base_uri": "https://localhost:8080/"
        },
        "outputId": "c421e00c-f19f-42e1-8df5-9a444c77075e"
      },
      "outputs": [
        {
          "output_type": "stream",
          "name": "stderr",
          "text": [
            "Installing package into ‘/usr/local/lib/R/site-library’\n",
            "(as ‘lib’ is unspecified)\n",
            "\n"
          ]
        }
      ],
      "source": [
        "install.packages(\"ggplot2\")\n",
        "library(ggplot2)\n"
      ]
    },
    {
      "cell_type": "code",
      "source": [
        "# Function to create proportional barplot for a given variable\n",
        "create_proportional_barplot <- function(data, variable) {\n",
        "  ggplot(data, aes(x = factor(.data[[variable]]), fill = income)) +\n",
        "    geom_bar(position = \"fill\") +\n",
        "    labs(title = paste(\"Proportional Barplot of Income by\", variable))\n",
        "}\n",
        "\n",
        "# List of prospective input variables\n",
        "prospective_variables <- names(train.df)\n",
        "\n",
        "# Create proportional barplots for each input variable\n",
        "for (var in prospective_variables) {\n",
        "  print(create_proportional_barplot(train.df, var))\n",
        "}\n"
      ],
      "metadata": {
        "id": "wDcDcCRMb7YC",
        "colab": {
          "base_uri": "https://localhost:8080/",
          "height": 1000
        },
        "outputId": "b5d322b7-42ce-4702-b5dc-ad1a8bc8637b"
      },
      "id": "wDcDcCRMb7YC",
      "execution_count": 22,
      "outputs": [
        {
          "output_type": "display_data",
          "data": {
            "text/plain": [
              "plot without title"
            ],
            "image/png": "[encoded data removed]"
          },
          "metadata": {
            "image/png": {
              "width": 420,
              "height": 420
            }
          }
        },
        {
          "output_type": "display_data",
          "data": {
            "text/plain": [
              "plot without title"
            ],
            "image/png": "[encoded data removed]"
          },
          "metadata": {
            "image/png": {
              "width": 420,
              "height": 420
            }
          }
        },
        {
          "output_type": "display_data",
          "data": {
            "text/plain": [
              "plot without title"
            ],
            "image/png": "[encoded data removed]"
          },
          "metadata": {
            "image/png": {
              "width": 420,
              "height": 420
            }
          }
        },
        {
          "output_type": "display_data",
          "data": {
            "text/plain": [
              "plot without title"
            ],
            "image/png": "[encoded data removed]"
          },
          "metadata": {
            "image/png": {
              "width": 420,
              "height": 420
            }
          }
        },
        {
          "output_type": "display_data",
          "data": {
            "text/plain": [
              "plot without title"
            ],
            "image/png": "[encoded data removed]"
          },
          "metadata": {
            "image/png": {
              "width": 420,
              "height": 420
            }
          }
        },
        {
          "output_type": "display_data",
          "data": {
            "text/plain": [
              "plot without title"
            ],
            "image/png": "[encoded data removed]"
          },
          "metadata": {
            "image/png": {
              "width": 420,
              "height": 420
            }
          }
        },
        {
          "output_type": "display_data",
          "data": {
            "text/plain": [
              "plot without title"
            ],
            "image/png": "[encoded data removed]"
          },
          "metadata": {
            "image/png": {
              "width": 420,
              "height": 420
            }
          }
        }
      ]
    },
    {
      "cell_type": "markdown",
      "id": "8010da20-1bb0-4ef7-8da7-a8ec8707ca53",
      "metadata": {
        "id": "8010da20-1bb0-4ef7-8da7-a8ec8707ca53"
      },
      "source": [
        "#### Solution - 7"
      ]
    },
    {
      "cell_type": "code",
      "source": [
        "install.packages(\"e1071\")\n",
        "library(e1071)"
      ],
      "metadata": {
        "colab": {
          "base_uri": "https://localhost:8080/"
        },
        "id": "3KJ7cq16p8MJ",
        "outputId": "d9b32554-aac8-45da-bd2e-981c643965e6"
      },
      "id": "3KJ7cq16p8MJ",
      "execution_count": 24,
      "outputs": [
        {
          "output_type": "stream",
          "name": "stderr",
          "text": [
            "Installing package into ‘/usr/local/lib/R/site-library’\n",
            "(as ‘lib’ is unspecified)\n",
            "\n",
            "also installing the dependency ‘proxy’\n",
            "\n",
            "\n"
          ]
        }
      ]
    },
    {
      "cell_type": "code",
      "execution_count": 25,
      "id": "af02a900-82a3-47a7-993b-b405f217ea8b",
      "metadata": {
        "id": "af02a900-82a3-47a7-993b-b405f217ea8b",
        "colab": {
          "base_uri": "https://localhost:8080/",
          "height": 832
        },
        "outputId": "5650902c-6833-41a3-f9b5-34e83e112cae"
      },
      "outputs": [
        {
          "output_type": "display_data",
          "data": {
            "text/plain": [
              "\n",
              "Naive Bayes Classifier for Discrete Predictors\n",
              "\n",
              "Call:\n",
              "naiveBayes.default(x = X, y = Y, laplace = laplace)\n",
              "\n",
              "A-priori probabilities:\n",
              "Y\n",
              "      low    medium      high \n",
              "0.3640961 0.3059418 0.3299621 \n",
              "\n",
              "Conditional probabilities:\n",
              "        age\n",
              "Y              old     young\n",
              "  low    0.2986111 0.7013889\n",
              "  medium 0.4710744 0.5289256\n",
              "  high   0.7203065 0.2796935\n",
              "\n",
              "        share\n",
              "Y            Large     Small\n",
              "  low    0.5173611 0.4826389\n",
              "  medium 0.4586777 0.5413223\n",
              "  high   0.5210728 0.4789272\n",
              "\n",
              "        expenditure\n",
              "Y            Large     Small\n",
              "  low    0.6006944 0.3993056\n",
              "  medium 0.4834711 0.5165289\n",
              "  high   0.4099617 0.5900383\n",
              "\n",
              "        owner\n",
              "Y               no       yes\n",
              "  low    0.7187500 0.2812500\n",
              "  medium 0.6074380 0.3925620\n",
              "  high   0.3524904 0.6475096\n",
              "\n",
              "        selfemp\n",
              "Y                no        yes\n",
              "  low    0.94791667 0.05208333\n",
              "  medium 0.95454545 0.04545455\n",
              "  high   0.89272031 0.10727969\n",
              "\n",
              "        dependents\n",
              "Y            Large     Small\n",
              "  low    0.8368056 0.1631944\n",
              "  medium 0.7603306 0.2396694\n",
              "  high   0.5287356 0.4712644\n"
            ]
          },
          "metadata": {}
        }
      ],
      "source": [
        "# Run naive bayes\n",
        "\n",
        "CreditCard.nb <- naiveBayes(income ~ ., data = train.df)\n",
        "CreditCard.nb\n"
      ]
    },
    {
      "cell_type": "markdown",
      "id": "c5931ca0-191f-43d6-83a9-c19aa4aa2e8b",
      "metadata": {
        "id": "c5931ca0-191f-43d6-83a9-c19aa4aa2e8b"
      },
      "source": [
        "#### Solution - 8"
      ]
    },
    {
      "cell_type": "code",
      "source": [
        "install.packages(\"caret\")\n",
        "library(caret)"
      ],
      "metadata": {
        "id": "smitCkRY1a2i",
        "colab": {
          "base_uri": "https://localhost:8080/"
        },
        "outputId": "6a87a84c-4a1c-4ab4-b4e2-4f17c670dfa8"
      },
      "id": "smitCkRY1a2i",
      "execution_count": 27,
      "outputs": [
        {
          "output_type": "stream",
          "name": "stderr",
          "text": [
            "Installing package into ‘/usr/local/lib/R/site-library’\n",
            "(as ‘lib’ is unspecified)\n",
            "\n",
            "also installing the dependencies ‘listenv’, ‘parallelly’, ‘future’, ‘globals’, ‘shape’, ‘future.apply’, ‘progressr’, ‘SQUAREM’, ‘diagram’, ‘lava’, ‘prodlim’, ‘iterators’, ‘clock’, ‘gower’, ‘hardhat’, ‘ipred’, ‘timeDate’, ‘foreach’, ‘ModelMetrics’, ‘plyr’, ‘pROC’, ‘recipes’, ‘reshape2’\n",
            "\n",
            "\n",
            "Loading required package: lattice\n",
            "\n",
            "\n",
            "Attaching package: ‘caret’\n",
            "\n",
            "\n",
            "The following object is masked from ‘package:survival’:\n",
            "\n",
            "    cluster\n",
            "\n",
            "\n"
          ]
        }
      ]
    },
    {
      "cell_type": "code",
      "source": [
        "# Predict income using the Naive Bayes model on the training data\n",
        "train.pred <- predict(CreditCard.nb, newdata = train.df)\n",
        "\n",
        "# Create confusion matrix for training data\n",
        "train_confusion <- confusionMatrix(train.pred, train.df$income)\n",
        "\n",
        "# Calculate accuracy for training data\n",
        "train_accuracy <- train_confusion$overall['Accuracy']\n",
        "\n"
      ],
      "metadata": {
        "id": "JbuzH1lit3c2"
      },
      "id": "JbuzH1lit3c2",
      "execution_count": 40,
      "outputs": []
    },
    {
      "cell_type": "code",
      "source": [
        "# Print confusion matrix and accuracy for training data\n",
        "print(\"Confusion Matrix for Training Data:\")\n",
        "print(train_confusion$table)\n",
        "print(paste(\"Accuracy on Training Data:\", train_accuracy))\n"
      ],
      "metadata": {
        "colab": {
          "base_uri": "https://localhost:8080/"
        },
        "id": "vreiNvIFuCzE",
        "outputId": "ab589d0e-984d-4c92-f457-1aac1d269b1b"
      },
      "id": "vreiNvIFuCzE",
      "execution_count": 29,
      "outputs": [
        {
          "output_type": "stream",
          "name": "stdout",
          "text": [
            "[1] \"Confusion Matrix for Training Data:\"\n",
            "          Reference\n",
            "Prediction low medium high\n",
            "    low    197    112   59\n",
            "    medium  33     45   30\n",
            "    high    58     85  172\n",
            "[1] \"Accuracy on Training Data: 0.52338811630847\"\n"
          ]
        }
      ]
    },
    {
      "cell_type": "code",
      "source": [
        "# Predict income using the Naive Bayes model on the validation data\n",
        "valid.pred <- predict(CreditCard.nb, newdata = valid.df)\n",
        "\n",
        "# Create confusion matrix for validation data\n",
        "valid_confusion <- confusionMatrix(valid.pred, valid.df$income)\n",
        "\n",
        "# Calculate accuracy for validation data\n",
        "valid_accuracy <- valid_confusion$overall['Accuracy']\n"
      ],
      "metadata": {
        "id": "hP-CPgBCuIQW"
      },
      "id": "hP-CPgBCuIQW",
      "execution_count": 31,
      "outputs": []
    },
    {
      "cell_type": "code",
      "source": [
        "# Print confusion matrix and accuracy for validation data\n",
        "print(\"Confusion Matrix for Validation Data:\")\n",
        "print(valid_confusion$table)\n",
        "print(paste(\"Accuracy on Validation Data:\", valid_accuracy))\n"
      ],
      "metadata": {
        "colab": {
          "base_uri": "https://localhost:8080/"
        },
        "id": "EITAx7CGuK03",
        "outputId": "4fd7a06e-0759-476a-a938-a055b117ace3"
      },
      "id": "EITAx7CGuK03",
      "execution_count": 32,
      "outputs": [
        {
          "output_type": "stream",
          "name": "stdout",
          "text": [
            "[1] \"Confusion Matrix for Validation Data:\"\n",
            "          Reference\n",
            "Prediction low medium high\n",
            "    low    106     99   40\n",
            "    medium  16     17   30\n",
            "    high    30     52  138\n",
            "[1] \"Accuracy on Validation Data: 0.494318181818182\"\n"
          ]
        }
      ]
    },
    {
      "cell_type": "markdown",
      "source": [
        "Naive Rule Accuracy = Accuracy achieved by predicting all instances to belong to the majority class.\n",
        "                     = Proportion of majority class in the dataset.\n",
        "\n",
        "Naive Rule Accuracy = max(Proportion of majority class, 1 - Proportion of majority class)\n",
        "\n",
        "Given:\n",
        "Proportion of majority class = max(0.494318181818182, 1 - 0.494318181818182) = 0.505681818181818\n",
        "\n",
        "Percentage Difference = |0.494318181818182 - 0.505681818181818| / 0.505681818181818 * 100\n",
        "                      ≈ 2.25%\n"
      ],
      "metadata": {
        "id": "s7F-aFAoxxrF"
      },
      "id": "s7F-aFAoxxrF"
    },
    {
      "cell_type": "markdown",
      "source": [
        "> **💡Interpretation of Code & Graph💡-**\n",
        ">\n",
        "\n",
        "\n"
      ],
      "metadata": {
        "id": "wSQcJUAC40LL"
      },
      "id": "wSQcJUAC40LL"
    },
    {
      "cell_type": "markdown",
      "metadata": {
        "id": "10nXdAwauW1R"
      },
      "source": [
        "#### Solution - 9"
      ],
      "id": "10nXdAwauW1R"
    },
    {
      "cell_type": "code",
      "source": [
        "# Check if the majority class count is zero\n",
        "# Count the number of records in the training set\n",
        "total_records <- nrow(train.df)\n",
        "\n",
        "# Count the number of records in the majority class (assuming 'income' is the target variable)\n",
        "majority_class_count <- sum(train.df$income == mode(train.df$income))\n",
        "\n",
        "# Calculate the accuracy of the naive rule\n",
        "naive_accuracy <- majority_class_count / total_records\n",
        "\n",
        "# Calculate the percentage difference between the model's accuracy and the naive rule accuracy\n",
        "model_accuracy <- train_accuracy  # Assuming 'train_accuracy' was calculated previously\n",
        "percentage_difference <- abs((model_accuracy - naive_accuracy) / naive_accuracy) * 100\n",
        "\n",
        "# Print the percentage difference\n",
        "print(paste(\"Percentage difference between model's accuracy and naive rule accuracy:\", percentage_difference, \"%\"))\n"
      ],
      "metadata": {
        "colab": {
          "base_uri": "https://localhost:8080/"
        },
        "id": "2YHCBX6xubSH",
        "outputId": "541ac97e-d21f-4710-d5a6-566306e2efb1"
      },
      "id": "2YHCBX6xubSH",
      "execution_count": 33,
      "outputs": [
        {
          "output_type": "stream",
          "name": "stdout",
          "text": [
            "[1] \"Percentage difference between model's accuracy and naive rule accuracy: Inf %\"\n"
          ]
        }
      ]
    },
    {
      "cell_type": "markdown",
      "source": [
        "> **💡Interpretation of results💡-**\n",
        ">\n",
        ">It seems that the majority class count is zero, indicating that all records in the training set belong to the minority class. In this case, the naive rule accuracy cannot be calculated because there are no records in the majority class.\n",
        ">\n",
        ">It suggests that the naive rule, which predicts all records to belong to the majority class, cannot be applied effectively in this scenario. Therefore, it's crucial to consider more sophisticated modeling techniques like the Naive Bayes model to achieve better classification performance.\n",
        "\n",
        "\n",
        "\n"
      ],
      "metadata": {
        "id": "DIottf9zulet"
      },
      "id": "DIottf9zulet"
    },
    {
      "cell_type": "markdown",
      "metadata": {
        "id": "OmO-1b7vu310"
      },
      "source": [
        "#### Solution - 10"
      ],
      "id": "OmO-1b7vu310"
    },
    {
      "cell_type": "code",
      "source": [
        "# Re-run prediction to get class probabilities\n",
        "valid.pred_probs <- predict(CreditCard.nb, newdata = valid.df, type = \"raw\")\n",
        "\n",
        "# Extract the predicted probabilities for the \"High\" income class\n",
        "predicted_prob_high <- valid.pred_probs[, \"high\"]\n",
        "\n",
        "# Combine predicted probabilities with actual income class in the validation set\n",
        "valid_results <- cbind(valid.df, predicted_prob = predicted_prob_high)\n",
        "\n",
        "# Sort the validation set based on predicted probabilities in descending order\n",
        "valid_results <- valid_results[order(-valid_results$predicted_prob), ]\n",
        "\n",
        "# Select the top 100 records\n",
        "top_100_high_income <- head(valid_results, 100)\n",
        "\n",
        "# Calculate the number of records actually in the \"High\" income group among the top 100 predictions\n",
        "actual_high_income_count <- sum(top_100_high_income$income == \"high\")\n",
        "\n",
        "# Calculate the accuracy for these predictions\n",
        "subset_accuracy <- actual_high_income_count / 100\n",
        "\n",
        "# Compare subset accuracy with overall model accuracy\n",
        "accuracy_comparison <- subset_accuracy - valid_accuracy\n",
        "\n",
        "# Print the results\n",
        "print(paste(\"Number of records actually in the 'High' income group among the top 100 predictions:\", actual_high_income_count))\n",
        "print(paste(\"Accuracy for these predictions:\", subset_accuracy))\n",
        "print(paste(\"Difference in accuracy compared to the overall model:\", accuracy_comparison))\n"
      ],
      "metadata": {
        "id": "VW9NrAYtd0aJ",
        "colab": {
          "base_uri": "https://localhost:8080/"
        },
        "outputId": "295e1f36-88a4-4821-a34a-df77dd93dd69"
      },
      "id": "VW9NrAYtd0aJ",
      "execution_count": 34,
      "outputs": [
        {
          "output_type": "stream",
          "name": "stdout",
          "text": [
            "[1] \"Number of records actually in the 'High' income group among the top 100 predictions: 74\"\n",
            "[1] \"Accuracy for these predictions: 0.74\"\n",
            "[1] \"Difference in accuracy compared to the overall model: 0.245681818181818\"\n"
          ]
        }
      ]
    },
    {
      "cell_type": "markdown",
      "source": [
        "Identifying a subset of records predicted to have a high income can be valuable for a financial company in several ways. Firstly, it allows the company to focus its marketing efforts and resources on this subset, tailoring products, services, and promotional offers to better meet the needs and preferences of high-income customers. This targeted approach can lead to increased conversion rates, customer satisfaction, and ultimately, higher revenue generation. Additionally, understanding the characteristics and behaviors of high-income customers within this subset can provide insights for product development, customer segmentation, and strategic decision-making to further enhance the company's competitive advantage in the market."
      ],
      "metadata": {
        "id": "8_BTsfDexRSN"
      },
      "id": "8_BTsfDexRSN"
    },
    {
      "cell_type": "markdown",
      "metadata": {
        "id": "UblXtNM2vNbf"
      },
      "source": [
        "#### Solution - 11 a]"
      ],
      "id": "UblXtNM2vNbf"
    },
    {
      "cell_type": "code",
      "source": [
        "# a. Randomly pick any row from the training set\n",
        "random_row <- sample(1:nrow(train.df), 1)\n",
        "\n",
        "# Get the income group for this person\n",
        "actual_income <- train.df[random_row, \"income\"]\n",
        "print(paste(\"a. Actual income group for this person:\", actual_income))"
      ],
      "metadata": {
        "id": "2D-9xY-Gd0i3",
        "colab": {
          "base_uri": "https://localhost:8080/"
        },
        "outputId": "fcc67d05-17c5-4ac3-d282-9666a9ee6f68"
      },
      "id": "2D-9xY-Gd0i3",
      "execution_count": 35,
      "outputs": [
        {
          "output_type": "stream",
          "name": "stdout",
          "text": [
            "[1] \"a. Actual income group for this person: medium\"\n"
          ]
        }
      ]
    },
    {
      "cell_type": "markdown",
      "metadata": {
        "id": "ZuupUhk5vOgY"
      },
      "source": [
        "#### Solution - 11 b]"
      ],
      "id": "ZuupUhk5vOgY"
    },
    {
      "cell_type": "code",
      "source": [
        "# b. Predict income group for this person\n",
        "predicted_income <- predict(CreditCard.nb, newdata = train.df[random_row, ])\n",
        "print(paste(\"b. Predicted income group for this person:\", predicted_income))\n"
      ],
      "metadata": {
        "colab": {
          "base_uri": "https://localhost:8080/"
        },
        "id": "pPj7KVo3vXDC",
        "outputId": "45f466c7-429c-4ffc-8f12-c555a34cb7dd"
      },
      "id": "pPj7KVo3vXDC",
      "execution_count": 36,
      "outputs": [
        {
          "output_type": "stream",
          "name": "stdout",
          "text": [
            "[1] \"b. Predicted income group for this person: low\"\n"
          ]
        }
      ]
    },
    {
      "cell_type": "markdown",
      "metadata": {
        "id": "VxGthQF-vQNj"
      },
      "source": [
        "#### Solution - 11 c]"
      ],
      "id": "VxGthQF-vQNj"
    },
    {
      "cell_type": "code",
      "source": [
        "# c. Generate the probability for the predicted income class\n",
        "predicted_prob <- predict(CreditCard.nb, newdata = train.df[random_row, ], type = \"raw\")[, predicted_income]\n",
        "print(paste(\"c. Probability for the predicted income group:\", predicted_prob))\n"
      ],
      "metadata": {
        "id": "nK53U4sId004",
        "colab": {
          "base_uri": "https://localhost:8080/"
        },
        "outputId": "4f18bcc3-c610-4e5d-bf4c-c2dc6a80fff8"
      },
      "id": "nK53U4sId004",
      "execution_count": 37,
      "outputs": [
        {
          "output_type": "stream",
          "name": "stdout",
          "text": [
            "[1] \"c. Probability for the predicted income group: 0.460844181894138\"\n"
          ]
        }
      ]
    },
    {
      "cell_type": "markdown",
      "metadata": {
        "id": "ItcM_AOrvRzi"
      },
      "source": [
        "#### Solution - 10 d]"
      ],
      "id": "ItcM_AOrvRzi"
    },
    {
      "cell_type": "code",
      "source": [],
      "metadata": {
        "id": "N5DfziyTd1Dt"
      },
      "id": "N5DfziyTd1Dt",
      "execution_count": null,
      "outputs": []
    },
    {
      "cell_type": "code",
      "source": [],
      "metadata": {
        "id": "FK_7dHx_d1KE"
      },
      "id": "FK_7dHx_d1KE",
      "execution_count": null,
      "outputs": []
    },
    {
      "cell_type": "code",
      "source": [],
      "metadata": {
        "id": "rsvKWIcBd1Qf"
      },
      "id": "rsvKWIcBd1Qf",
      "execution_count": null,
      "outputs": []
    },
    {
      "cell_type": "code",
      "source": [],
      "metadata": {
        "id": "yjn1xn5xd1Wv"
      },
      "id": "yjn1xn5xd1Wv",
      "execution_count": null,
      "outputs": []
    },
    {
      "cell_type": "code",
      "source": [],
      "metadata": {
        "id": "Lv7WzZ6Qd1c-"
      },
      "id": "Lv7WzZ6Qd1c-",
      "execution_count": null,
      "outputs": []
    },
    {
      "cell_type": "code",
      "source": [],
      "metadata": {
        "id": "3VjPE9SKd1ih"
      },
      "id": "3VjPE9SKd1ih",
      "execution_count": null,
      "outputs": []
    },
    {
      "cell_type": "code",
      "source": [],
      "metadata": {
        "id": "s-RlA4Otd1oL"
      },
      "id": "s-RlA4Otd1oL",
      "execution_count": null,
      "outputs": []
    },
    {
      "cell_type": "code",
      "source": [],
      "metadata": {
        "id": "Gjyh2uSId1t5"
      },
      "id": "Gjyh2uSId1t5",
      "execution_count": null,
      "outputs": []
    },
    {
      "cell_type": "code",
      "source": [],
      "metadata": {
        "id": "RrgwVRyrd1zI"
      },
      "id": "RrgwVRyrd1zI",
      "execution_count": null,
      "outputs": []
    },
    {
      "cell_type": "code",
      "source": [],
      "metadata": {
        "id": "UXoJJYhJd6AS"
      },
      "id": "UXoJJYhJd6AS",
      "execution_count": null,
      "outputs": []
    },
    {
      "cell_type": "code",
      "source": [],
      "metadata": {
        "id": "DQyiuv26d6Fc"
      },
      "id": "DQyiuv26d6Fc",
      "execution_count": null,
      "outputs": []
    },
    {
      "cell_type": "code",
      "source": [],
      "metadata": {
        "id": "-f0OALxQd6Kj"
      },
      "id": "-f0OALxQd6Kj",
      "execution_count": null,
      "outputs": []
    },
    {
      "cell_type": "code",
      "source": [],
      "metadata": {
        "id": "5pRT8pAld6Py"
      },
      "id": "5pRT8pAld6Py",
      "execution_count": null,
      "outputs": []
    },
    {
      "cell_type": "code",
      "source": [],
      "metadata": {
        "id": "Ei7qvgNFd6Ux"
      },
      "id": "Ei7qvgNFd6Ux",
      "execution_count": null,
      "outputs": []
    },
    {
      "cell_type": "code",
      "source": [],
      "metadata": {
        "id": "wdxo_RLBd6Zu"
      },
      "id": "wdxo_RLBd6Zu",
      "execution_count": null,
      "outputs": []
    },
    {
      "cell_type": "code",
      "source": [],
      "metadata": {
        "id": "GDJLi5htd6eq"
      },
      "id": "GDJLi5htd6eq",
      "execution_count": null,
      "outputs": []
    },
    {
      "cell_type": "code",
      "source": [],
      "metadata": {
        "id": "hxaovEqgd6jg"
      },
      "id": "hxaovEqgd6jg",
      "execution_count": null,
      "outputs": []
    },
    {
      "cell_type": "code",
      "source": [],
      "metadata": {
        "id": "toEDozBWd6oU"
      },
      "id": "toEDozBWd6oU",
      "execution_count": null,
      "outputs": []
    },
    {
      "cell_type": "code",
      "source": [],
      "metadata": {
        "id": "l2AMSwQTd6tB"
      },
      "id": "l2AMSwQTd6tB",
      "execution_count": null,
      "outputs": []
    },
    {
      "cell_type": "code",
      "source": [],
      "metadata": {
        "id": "x-0k-zXld6xI"
      },
      "id": "x-0k-zXld6xI",
      "execution_count": null,
      "outputs": []
    },
    {
      "cell_type": "code",
      "source": [],
      "metadata": {
        "id": "9WC7ds-ed62a"
      },
      "id": "9WC7ds-ed62a",
      "execution_count": null,
      "outputs": []
    },
    {
      "cell_type": "code",
      "source": [],
      "metadata": {
        "id": "BVf8FbPqd66t"
      },
      "id": "BVf8FbPqd66t",
      "execution_count": null,
      "outputs": []
    },
    {
      "cell_type": "code",
      "source": [],
      "metadata": {
        "id": "yHp-A7XWd6_x"
      },
      "id": "yHp-A7XWd6_x",
      "execution_count": null,
      "outputs": []
    },
    {
      "cell_type": "code",
      "source": [],
      "metadata": {
        "id": "F00jaKB1d7EW"
      },
      "id": "F00jaKB1d7EW",
      "execution_count": null,
      "outputs": []
    },
    {
      "cell_type": "code",
      "source": [],
      "metadata": {
        "id": "Pn31oFD-d7I2"
      },
      "id": "Pn31oFD-d7I2",
      "execution_count": null,
      "outputs": []
    },
    {
      "cell_type": "code",
      "source": [],
      "metadata": {
        "id": "AWoRADKVd7Ny"
      },
      "id": "AWoRADKVd7Ny",
      "execution_count": null,
      "outputs": []
    },
    {
      "cell_type": "code",
      "source": [],
      "metadata": {
        "id": "LMLW1s2ad7Sd"
      },
      "id": "LMLW1s2ad7Sd",
      "execution_count": null,
      "outputs": []
    },
    {
      "cell_type": "code",
      "source": [],
      "metadata": {
        "id": "OlQlpjord7XZ"
      },
      "id": "OlQlpjord7XZ",
      "execution_count": null,
      "outputs": []
    },
    {
      "cell_type": "code",
      "source": [],
      "metadata": {
        "id": "-7wtP-rBd7cF"
      },
      "id": "-7wtP-rBd7cF",
      "execution_count": null,
      "outputs": []
    },
    {
      "cell_type": "code",
      "source": [],
      "metadata": {
        "id": "OEY_sAfnd7ge"
      },
      "id": "OEY_sAfnd7ge",
      "execution_count": null,
      "outputs": []
    },
    {
      "cell_type": "code",
      "source": [],
      "metadata": {
        "id": "I6CNYnkMd_vV"
      },
      "id": "I6CNYnkMd_vV",
      "execution_count": null,
      "outputs": []
    },
    {
      "cell_type": "code",
      "source": [],
      "metadata": {
        "id": "lt_zq3psd_z2"
      },
      "id": "lt_zq3psd_z2",
      "execution_count": null,
      "outputs": []
    },
    {
      "cell_type": "code",
      "source": [],
      "metadata": {
        "id": "Q_34SRz_d_4w"
      },
      "id": "Q_34SRz_d_4w",
      "execution_count": null,
      "outputs": []
    },
    {
      "cell_type": "code",
      "source": [],
      "metadata": {
        "id": "IN2QUhHtd_9r"
      },
      "id": "IN2QUhHtd_9r",
      "execution_count": null,
      "outputs": []
    },
    {
      "cell_type": "code",
      "source": [],
      "metadata": {
        "id": "S_glzpK6eAC-"
      },
      "id": "S_glzpK6eAC-",
      "execution_count": null,
      "outputs": []
    },
    {
      "cell_type": "code",
      "source": [],
      "metadata": {
        "id": "wr5bebYgeAH9"
      },
      "id": "wr5bebYgeAH9",
      "execution_count": null,
      "outputs": []
    },
    {
      "cell_type": "code",
      "source": [],
      "metadata": {
        "id": "BgR_Wv4EefuO"
      },
      "id": "BgR_Wv4EefuO",
      "execution_count": null,
      "outputs": []
    },
    {
      "cell_type": "code",
      "source": [],
      "metadata": {
        "id": "Wgm94Bj8efy4"
      },
      "id": "Wgm94Bj8efy4",
      "execution_count": null,
      "outputs": []
    },
    {
      "cell_type": "code",
      "source": [],
      "metadata": {
        "id": "my3EwQp6ef3i"
      },
      "id": "my3EwQp6ef3i",
      "execution_count": null,
      "outputs": []
    },
    {
      "cell_type": "code",
      "source": [],
      "metadata": {
        "id": "HD_DxrSnef8N"
      },
      "id": "HD_DxrSnef8N",
      "execution_count": null,
      "outputs": []
    },
    {
      "cell_type": "code",
      "source": [],
      "metadata": {
        "id": "dfYcY6XqegBN"
      },
      "id": "dfYcY6XqegBN",
      "execution_count": null,
      "outputs": []
    },
    {
      "cell_type": "code",
      "source": [],
      "metadata": {
        "id": "044u6xwDegFr"
      },
      "id": "044u6xwDegFr",
      "execution_count": null,
      "outputs": []
    },
    {
      "cell_type": "code",
      "source": [],
      "metadata": {
        "id": "MuLHUCMkegKb"
      },
      "id": "MuLHUCMkegKb",
      "execution_count": null,
      "outputs": []
    },
    {
      "cell_type": "code",
      "source": [],
      "metadata": {
        "id": "YKbYNZ3megPY"
      },
      "id": "YKbYNZ3megPY",
      "execution_count": null,
      "outputs": []
    },
    {
      "cell_type": "code",
      "source": [],
      "metadata": {
        "id": "kJ6H4wFPegUZ"
      },
      "id": "kJ6H4wFPegUZ",
      "execution_count": null,
      "outputs": []
    },
    {
      "cell_type": "code",
      "source": [],
      "metadata": {
        "id": "UaKDcMp2egYp"
      },
      "id": "UaKDcMp2egYp",
      "execution_count": null,
      "outputs": []
    },
    {
      "cell_type": "code",
      "source": [],
      "metadata": {
        "id": "YtfQBj3oegdU"
      },
      "id": "YtfQBj3oegdU",
      "execution_count": null,
      "outputs": []
    },
    {
      "cell_type": "code",
      "source": [],
      "metadata": {
        "id": "SIMMTRnIegiF"
      },
      "id": "SIMMTRnIegiF",
      "execution_count": null,
      "outputs": []
    },
    {
      "cell_type": "code",
      "source": [],
      "metadata": {
        "id": "N7kQ4HK7ejqL"
      },
      "id": "N7kQ4HK7ejqL",
      "execution_count": null,
      "outputs": []
    },
    {
      "cell_type": "code",
      "source": [],
      "metadata": {
        "id": "ZTu6v09keju0"
      },
      "id": "ZTu6v09keju0",
      "execution_count": null,
      "outputs": []
    },
    {
      "cell_type": "code",
      "source": [],
      "metadata": {
        "id": "1F48fy0Aejza"
      },
      "id": "1F48fy0Aejza",
      "execution_count": null,
      "outputs": []
    },
    {
      "cell_type": "code",
      "source": [],
      "metadata": {
        "id": "QdUEf-d3ej4G"
      },
      "id": "QdUEf-d3ej4G",
      "execution_count": null,
      "outputs": []
    },
    {
      "cell_type": "code",
      "source": [],
      "metadata": {
        "id": "QxxF0cl_ej8-"
      },
      "id": "QxxF0cl_ej8-",
      "execution_count": null,
      "outputs": []
    },
    {
      "cell_type": "code",
      "source": [],
      "metadata": {
        "id": "Jlw8Vf9wekBk"
      },
      "id": "Jlw8Vf9wekBk",
      "execution_count": null,
      "outputs": []
    },
    {
      "cell_type": "code",
      "source": [],
      "metadata": {
        "id": "z4a7QrorekGS"
      },
      "id": "z4a7QrorekGS",
      "execution_count": null,
      "outputs": []
    },
    {
      "cell_type": "code",
      "source": [],
      "metadata": {
        "id": "m5aXWq13ekKy"
      },
      "id": "m5aXWq13ekKy",
      "execution_count": null,
      "outputs": []
    },
    {
      "cell_type": "code",
      "source": [],
      "metadata": {
        "id": "LxdFF_sMekPl"
      },
      "id": "LxdFF_sMekPl",
      "execution_count": null,
      "outputs": []
    },
    {
      "cell_type": "code",
      "source": [],
      "metadata": {
        "id": "1DJygHfYekUg"
      },
      "id": "1DJygHfYekUg",
      "execution_count": null,
      "outputs": []
    }
  ],
  "metadata": {
    "kernelspec": {
      "display_name": "R",
      "language": "R",
      "name": "ir"
    },
    "language_info": {
      "codemirror_mode": "r",
      "file_extension": ".r",
      "mimetype": "text/x-r-source",
      "name": "R",
      "pygments_lexer": "r",
      "version": "3.6.1"
    },
    "colab": {
      "provenance": []
    }
  },
  "nbformat": 4,
  "nbformat_minor": 5
}